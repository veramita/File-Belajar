{
  "nbformat": 4,
  "nbformat_minor": 0,
  "metadata": {
    "colab": {
      "provenance": [],
      "collapsed_sections": [
        "AkYJUsbtZYVH",
        "kiBvS2S5cT2G",
        "HHye0M2wJgP7"
      ],
      "toc_visible": true,
      "include_colab_link": true
    },
    "kernelspec": {
      "name": "python3",
      "display_name": "Python 3"
    },
    "language_info": {
      "name": "python"
    }
  },
  "cells": [
    {
      "cell_type": "markdown",
      "metadata": {
        "id": "view-in-github",
        "colab_type": "text"
      },
      "source": [
        "<a href=\"https://colab.research.google.com/github/veramita/File-project/blob/main/notebook_pekerjaan_(v1).ipynb\" target=\"_parent\"><img src=\"https://colab.research.google.com/assets/colab-badge.svg\" alt=\"Open In Colab\"/></a>"
      ]
    },
    {
      "cell_type": "markdown",
      "source": [
        "# Tahap 1: Pengumpulan data"
      ],
      "metadata": {
        "id": "AkYJUsbtZYVH"
      }
    },
    {
      "cell_type": "markdown",
      "source": [
        "## Ekstraksi Komentar dari Youtube"
      ],
      "metadata": {
        "id": "LgEmkotfnsUX"
      }
    },
    {
      "cell_type": "markdown",
      "source": [
        "Dengan menggunakan tools [Youtube Comment Downloader](https://github.com/egbertbouman/youtube-comment-downloader), penulis dapat mengambil komentar dari Youtube tanpa perlu memakai API Youtube. Penulis mengambil komentar dari beberapa video berikut:\n",
        "1. [Titik Kritis Kecerdasan Buatan Telah Terlewati! Generative AI Mengancam Peradaban](https://www.youtube.com/watch?v=dWsIA2aOstA)\n",
        "2. [AI Sama Sekali Seperti Yang Kalian Kira!](https://youtu.be/_FcHPrRY5zg)\n",
        "3. [Babak Baru: AI - Kemajuan AI, Kemusnahan Manusia](https://youtu.be/yVrLflh3Ebk)\n",
        "4. [Peluang dan Ancaman Kecerdasan Buatan (AI)](https://youtu.be/qAe8oGKiRbc)\n",
        "5. [Eps 596: BAHAYA ChatGPT: AI ADALAH ANCAMAN BAGI MANUSIA](https://youtu.be/GA6cTuHgT7w)\n",
        "\n",
        "Output dari tools [Youtube Comment Downloader](https://github.com/egbertbouman/youtube-comment-downloader) berbentuk file JSON dan penulis menggunakan [JSON to CSV converter](https://www.convertcsv.com/json-to-csv.htm) untuk mendapatkan menkonversi file tersebut menjadi data-data CSV dari kelima video diatas."
      ],
      "metadata": {
        "id": "gc2dGOEhbcvt"
      }
    },
    {
      "cell_type": "markdown",
      "source": [
        "# Tahap 2: Pelabelan data"
      ],
      "metadata": {
        "id": "kiBvS2S5cT2G"
      }
    },
    {
      "cell_type": "markdown",
      "source": [
        "## Input data mentahan hasil ekstraksi"
      ],
      "metadata": {
        "id": "Kw2e_jQGlJSi"
      }
    },
    {
      "cell_type": "code",
      "execution_count": null,
      "metadata": {
        "colab": {
          "base_uri": "https://localhost:8080/",
          "height": 469
        },
        "id": "-8z1y7I1iSuz",
        "outputId": "72c0b1f0-c72e-499c-89b9-3330bcd7b80b"
      },
      "outputs": [
        {
          "output_type": "error",
          "ename": "FileNotFoundError",
          "evalue": "ignored",
          "traceback": [
            "\u001b[0;31m---------------------------------------------------------------------------\u001b[0m",
            "\u001b[0;31mFileNotFoundError\u001b[0m                         Traceback (most recent call last)",
            "\u001b[0;32m<ipython-input-2-12eb203fda7f>\u001b[0m in \u001b[0;36m<cell line: 3>\u001b[0;34m()\u001b[0m\n\u001b[1;32m      1\u001b[0m \u001b[0;32mimport\u001b[0m \u001b[0mpandas\u001b[0m \u001b[0;32mas\u001b[0m \u001b[0mpd\u001b[0m\u001b[0;34m\u001b[0m\u001b[0;34m\u001b[0m\u001b[0m\n\u001b[1;32m      2\u001b[0m \u001b[0;31m# mengimpor data mentahan\u001b[0m\u001b[0;34m\u001b[0m\u001b[0;34m\u001b[0m\u001b[0m\n\u001b[0;32m----> 3\u001b[0;31m \u001b[0mraw_data_1\u001b[0m \u001b[0;34m=\u001b[0m \u001b[0mpd\u001b[0m\u001b[0;34m.\u001b[0m\u001b[0mread_csv\u001b[0m\u001b[0;34m(\u001b[0m\u001b[0;34m\"/content/drive/MyDrive/Gemastik Data Mining 2023 - We and Techa/Tempat pengolahan/Data Mentah/raw_data_1.csv\"\u001b[0m\u001b[0;34m)\u001b[0m\u001b[0;34m\u001b[0m\u001b[0;34m\u001b[0m\u001b[0m\n\u001b[0m\u001b[1;32m      4\u001b[0m \u001b[0mraw_data_2\u001b[0m \u001b[0;34m=\u001b[0m \u001b[0mpd\u001b[0m\u001b[0;34m.\u001b[0m\u001b[0mread_csv\u001b[0m\u001b[0;34m(\u001b[0m\u001b[0;34m\"/content/drive/MyDrive/Gemastik Data Mining 2023 - We and Techa/Tempat pengolahan/Data Mentah/raw_data_2.csv\"\u001b[0m\u001b[0;34m)\u001b[0m\u001b[0;34m\u001b[0m\u001b[0;34m\u001b[0m\u001b[0m\n\u001b[1;32m      5\u001b[0m \u001b[0mraw_data_3\u001b[0m \u001b[0;34m=\u001b[0m \u001b[0mpd\u001b[0m\u001b[0;34m.\u001b[0m\u001b[0mread_csv\u001b[0m\u001b[0;34m(\u001b[0m\u001b[0;34m\"/content/drive/MyDrive/Gemastik Data Mining 2023 - We and Techa/Tempat pengolahan/Data Mentah/raw_data_3.csv\"\u001b[0m\u001b[0;34m)\u001b[0m\u001b[0;34m\u001b[0m\u001b[0;34m\u001b[0m\u001b[0m\n",
            "\u001b[0;32m/usr/local/lib/python3.10/dist-packages/pandas/util/_decorators.py\u001b[0m in \u001b[0;36mwrapper\u001b[0;34m(*args, **kwargs)\u001b[0m\n\u001b[1;32m    209\u001b[0m                 \u001b[0;32melse\u001b[0m\u001b[0;34m:\u001b[0m\u001b[0;34m\u001b[0m\u001b[0;34m\u001b[0m\u001b[0m\n\u001b[1;32m    210\u001b[0m                     \u001b[0mkwargs\u001b[0m\u001b[0;34m[\u001b[0m\u001b[0mnew_arg_name\u001b[0m\u001b[0;34m]\u001b[0m \u001b[0;34m=\u001b[0m \u001b[0mnew_arg_value\u001b[0m\u001b[0;34m\u001b[0m\u001b[0;34m\u001b[0m\u001b[0m\n\u001b[0;32m--> 211\u001b[0;31m             \u001b[0;32mreturn\u001b[0m \u001b[0mfunc\u001b[0m\u001b[0;34m(\u001b[0m\u001b[0;34m*\u001b[0m\u001b[0margs\u001b[0m\u001b[0;34m,\u001b[0m \u001b[0;34m**\u001b[0m\u001b[0mkwargs\u001b[0m\u001b[0;34m)\u001b[0m\u001b[0;34m\u001b[0m\u001b[0;34m\u001b[0m\u001b[0m\n\u001b[0m\u001b[1;32m    212\u001b[0m \u001b[0;34m\u001b[0m\u001b[0m\n\u001b[1;32m    213\u001b[0m         \u001b[0;32mreturn\u001b[0m \u001b[0mcast\u001b[0m\u001b[0;34m(\u001b[0m\u001b[0mF\u001b[0m\u001b[0;34m,\u001b[0m \u001b[0mwrapper\u001b[0m\u001b[0;34m)\u001b[0m\u001b[0;34m\u001b[0m\u001b[0;34m\u001b[0m\u001b[0m\n",
            "\u001b[0;32m/usr/local/lib/python3.10/dist-packages/pandas/util/_decorators.py\u001b[0m in \u001b[0;36mwrapper\u001b[0;34m(*args, **kwargs)\u001b[0m\n\u001b[1;32m    329\u001b[0m                     \u001b[0mstacklevel\u001b[0m\u001b[0;34m=\u001b[0m\u001b[0mfind_stack_level\u001b[0m\u001b[0;34m(\u001b[0m\u001b[0;34m)\u001b[0m\u001b[0;34m,\u001b[0m\u001b[0;34m\u001b[0m\u001b[0;34m\u001b[0m\u001b[0m\n\u001b[1;32m    330\u001b[0m                 )\n\u001b[0;32m--> 331\u001b[0;31m             \u001b[0;32mreturn\u001b[0m \u001b[0mfunc\u001b[0m\u001b[0;34m(\u001b[0m\u001b[0;34m*\u001b[0m\u001b[0margs\u001b[0m\u001b[0;34m,\u001b[0m \u001b[0;34m**\u001b[0m\u001b[0mkwargs\u001b[0m\u001b[0;34m)\u001b[0m\u001b[0;34m\u001b[0m\u001b[0;34m\u001b[0m\u001b[0m\n\u001b[0m\u001b[1;32m    332\u001b[0m \u001b[0;34m\u001b[0m\u001b[0m\n\u001b[1;32m    333\u001b[0m         \u001b[0;31m# error: \"Callable[[VarArg(Any), KwArg(Any)], Any]\" has no\u001b[0m\u001b[0;34m\u001b[0m\u001b[0;34m\u001b[0m\u001b[0m\n",
            "\u001b[0;32m/usr/local/lib/python3.10/dist-packages/pandas/io/parsers/readers.py\u001b[0m in \u001b[0;36mread_csv\u001b[0;34m(filepath_or_buffer, sep, delimiter, header, names, index_col, usecols, squeeze, prefix, mangle_dupe_cols, dtype, engine, converters, true_values, false_values, skipinitialspace, skiprows, skipfooter, nrows, na_values, keep_default_na, na_filter, verbose, skip_blank_lines, parse_dates, infer_datetime_format, keep_date_col, date_parser, dayfirst, cache_dates, iterator, chunksize, compression, thousands, decimal, lineterminator, quotechar, quoting, doublequote, escapechar, comment, encoding, encoding_errors, dialect, error_bad_lines, warn_bad_lines, on_bad_lines, delim_whitespace, low_memory, memory_map, float_precision, storage_options)\u001b[0m\n\u001b[1;32m    948\u001b[0m     \u001b[0mkwds\u001b[0m\u001b[0;34m.\u001b[0m\u001b[0mupdate\u001b[0m\u001b[0;34m(\u001b[0m\u001b[0mkwds_defaults\u001b[0m\u001b[0;34m)\u001b[0m\u001b[0;34m\u001b[0m\u001b[0;34m\u001b[0m\u001b[0m\n\u001b[1;32m    949\u001b[0m \u001b[0;34m\u001b[0m\u001b[0m\n\u001b[0;32m--> 950\u001b[0;31m     \u001b[0;32mreturn\u001b[0m \u001b[0m_read\u001b[0m\u001b[0;34m(\u001b[0m\u001b[0mfilepath_or_buffer\u001b[0m\u001b[0;34m,\u001b[0m \u001b[0mkwds\u001b[0m\u001b[0;34m)\u001b[0m\u001b[0;34m\u001b[0m\u001b[0;34m\u001b[0m\u001b[0m\n\u001b[0m\u001b[1;32m    951\u001b[0m \u001b[0;34m\u001b[0m\u001b[0m\n\u001b[1;32m    952\u001b[0m \u001b[0;34m\u001b[0m\u001b[0m\n",
            "\u001b[0;32m/usr/local/lib/python3.10/dist-packages/pandas/io/parsers/readers.py\u001b[0m in \u001b[0;36m_read\u001b[0;34m(filepath_or_buffer, kwds)\u001b[0m\n\u001b[1;32m    603\u001b[0m \u001b[0;34m\u001b[0m\u001b[0m\n\u001b[1;32m    604\u001b[0m     \u001b[0;31m# Create the parser.\u001b[0m\u001b[0;34m\u001b[0m\u001b[0;34m\u001b[0m\u001b[0m\n\u001b[0;32m--> 605\u001b[0;31m     \u001b[0mparser\u001b[0m \u001b[0;34m=\u001b[0m \u001b[0mTextFileReader\u001b[0m\u001b[0;34m(\u001b[0m\u001b[0mfilepath_or_buffer\u001b[0m\u001b[0;34m,\u001b[0m \u001b[0;34m**\u001b[0m\u001b[0mkwds\u001b[0m\u001b[0;34m)\u001b[0m\u001b[0;34m\u001b[0m\u001b[0;34m\u001b[0m\u001b[0m\n\u001b[0m\u001b[1;32m    606\u001b[0m \u001b[0;34m\u001b[0m\u001b[0m\n\u001b[1;32m    607\u001b[0m     \u001b[0;32mif\u001b[0m \u001b[0mchunksize\u001b[0m \u001b[0;32mor\u001b[0m \u001b[0miterator\u001b[0m\u001b[0;34m:\u001b[0m\u001b[0;34m\u001b[0m\u001b[0;34m\u001b[0m\u001b[0m\n",
            "\u001b[0;32m/usr/local/lib/python3.10/dist-packages/pandas/io/parsers/readers.py\u001b[0m in \u001b[0;36m__init__\u001b[0;34m(self, f, engine, **kwds)\u001b[0m\n\u001b[1;32m   1440\u001b[0m \u001b[0;34m\u001b[0m\u001b[0m\n\u001b[1;32m   1441\u001b[0m         \u001b[0mself\u001b[0m\u001b[0;34m.\u001b[0m\u001b[0mhandles\u001b[0m\u001b[0;34m:\u001b[0m \u001b[0mIOHandles\u001b[0m \u001b[0;34m|\u001b[0m \u001b[0;32mNone\u001b[0m \u001b[0;34m=\u001b[0m \u001b[0;32mNone\u001b[0m\u001b[0;34m\u001b[0m\u001b[0;34m\u001b[0m\u001b[0m\n\u001b[0;32m-> 1442\u001b[0;31m         \u001b[0mself\u001b[0m\u001b[0;34m.\u001b[0m\u001b[0m_engine\u001b[0m \u001b[0;34m=\u001b[0m \u001b[0mself\u001b[0m\u001b[0;34m.\u001b[0m\u001b[0m_make_engine\u001b[0m\u001b[0;34m(\u001b[0m\u001b[0mf\u001b[0m\u001b[0;34m,\u001b[0m \u001b[0mself\u001b[0m\u001b[0;34m.\u001b[0m\u001b[0mengine\u001b[0m\u001b[0;34m)\u001b[0m\u001b[0;34m\u001b[0m\u001b[0;34m\u001b[0m\u001b[0m\n\u001b[0m\u001b[1;32m   1443\u001b[0m \u001b[0;34m\u001b[0m\u001b[0m\n\u001b[1;32m   1444\u001b[0m     \u001b[0;32mdef\u001b[0m \u001b[0mclose\u001b[0m\u001b[0;34m(\u001b[0m\u001b[0mself\u001b[0m\u001b[0;34m)\u001b[0m \u001b[0;34m->\u001b[0m \u001b[0;32mNone\u001b[0m\u001b[0;34m:\u001b[0m\u001b[0;34m\u001b[0m\u001b[0;34m\u001b[0m\u001b[0m\n",
            "\u001b[0;32m/usr/local/lib/python3.10/dist-packages/pandas/io/parsers/readers.py\u001b[0m in \u001b[0;36m_make_engine\u001b[0;34m(self, f, engine)\u001b[0m\n\u001b[1;32m   1733\u001b[0m                 \u001b[0;32mif\u001b[0m \u001b[0;34m\"b\"\u001b[0m \u001b[0;32mnot\u001b[0m \u001b[0;32min\u001b[0m \u001b[0mmode\u001b[0m\u001b[0;34m:\u001b[0m\u001b[0;34m\u001b[0m\u001b[0;34m\u001b[0m\u001b[0m\n\u001b[1;32m   1734\u001b[0m                     \u001b[0mmode\u001b[0m \u001b[0;34m+=\u001b[0m \u001b[0;34m\"b\"\u001b[0m\u001b[0;34m\u001b[0m\u001b[0;34m\u001b[0m\u001b[0m\n\u001b[0;32m-> 1735\u001b[0;31m             self.handles = get_handle(\n\u001b[0m\u001b[1;32m   1736\u001b[0m                 \u001b[0mf\u001b[0m\u001b[0;34m,\u001b[0m\u001b[0;34m\u001b[0m\u001b[0;34m\u001b[0m\u001b[0m\n\u001b[1;32m   1737\u001b[0m                 \u001b[0mmode\u001b[0m\u001b[0;34m,\u001b[0m\u001b[0;34m\u001b[0m\u001b[0;34m\u001b[0m\u001b[0m\n",
            "\u001b[0;32m/usr/local/lib/python3.10/dist-packages/pandas/io/common.py\u001b[0m in \u001b[0;36mget_handle\u001b[0;34m(path_or_buf, mode, encoding, compression, memory_map, is_text, errors, storage_options)\u001b[0m\n\u001b[1;32m    854\u001b[0m         \u001b[0;32mif\u001b[0m \u001b[0mioargs\u001b[0m\u001b[0;34m.\u001b[0m\u001b[0mencoding\u001b[0m \u001b[0;32mand\u001b[0m \u001b[0;34m\"b\"\u001b[0m \u001b[0;32mnot\u001b[0m \u001b[0;32min\u001b[0m \u001b[0mioargs\u001b[0m\u001b[0;34m.\u001b[0m\u001b[0mmode\u001b[0m\u001b[0;34m:\u001b[0m\u001b[0;34m\u001b[0m\u001b[0;34m\u001b[0m\u001b[0m\n\u001b[1;32m    855\u001b[0m             \u001b[0;31m# Encoding\u001b[0m\u001b[0;34m\u001b[0m\u001b[0;34m\u001b[0m\u001b[0m\n\u001b[0;32m--> 856\u001b[0;31m             handle = open(\n\u001b[0m\u001b[1;32m    857\u001b[0m                 \u001b[0mhandle\u001b[0m\u001b[0;34m,\u001b[0m\u001b[0;34m\u001b[0m\u001b[0;34m\u001b[0m\u001b[0m\n\u001b[1;32m    858\u001b[0m                 \u001b[0mioargs\u001b[0m\u001b[0;34m.\u001b[0m\u001b[0mmode\u001b[0m\u001b[0;34m,\u001b[0m\u001b[0;34m\u001b[0m\u001b[0;34m\u001b[0m\u001b[0m\n",
            "\u001b[0;31mFileNotFoundError\u001b[0m: [Errno 2] No such file or directory: '/content/drive/MyDrive/Gemastik Data Mining 2023 - We and Techa/Tempat pengolahan/Data Mentah/raw_data_1.csv'"
          ]
        }
      ],
      "source": [
        "import pandas as pd\n",
        "# mengimpor data mentahan\n",
        "raw_data_1 = pd.read_csv(\"/content/drive/MyDrive/Gemastik Data Mining 2023 - We and Techa/Tempat pengolahan/Data Mentah/raw_data_1.csv\")\n",
        "raw_data_2 = pd.read_csv(\"/content/drive/MyDrive/Gemastik Data Mining 2023 - We and Techa/Tempat pengolahan/Data Mentah/raw_data_2.csv\")\n",
        "raw_data_3 = pd.read_csv(\"/content/drive/MyDrive/Gemastik Data Mining 2023 - We and Techa/Tempat pengolahan/Data Mentah/raw_data_3.csv\")\n",
        "raw_data_4 = pd.read_csv(\"/content/drive/MyDrive/Gemastik Data Mining 2023 - We and Techa/Tempat pengolahan/Data Mentah/raw_data_4.csv\")\n",
        "raw_data_5 = pd.read_csv(\"/content/drive/MyDrive/Gemastik Data Mining 2023 - We and Techa/Tempat pengolahan/Data Mentah/raw_data_5.csv\")\n",
        "# menggabungkan data mentahan menjadi satu dataset\n",
        "raw_data = pd.concat([raw_data_1, raw_data_2, raw_data_3, raw_data_4, raw_data_5], ignore_index=True)\n",
        "# mengambil teks komen dan jumlah votes (like) untuk dilabeli untuk diolah nantinya\n",
        "comments_votes = raw_data.loc[:, ['text', 'votes']]\n",
        "cv_raw_data = pd.DataFrame(comments_votes)\n",
        "\n",
        "cv_raw_data.sample(5)"
      ]
    },
    {
      "cell_type": "markdown",
      "source": [
        "## Memfilter komen dari:\n",
        "- @\n",
        "- yang mengeshare link (biasanya memakai 'https')\n",
        "- ngasih rekomendasi konten ke Guru Gembul"
      ],
      "metadata": {
        "id": "9iGV9PPWveaV"
      }
    },
    {
      "cell_type": "code",
      "source": [
        "# Membersihkan komentar yang ada \"@\", \"https\", dan ngasih rekomendasi video ke gugem\n",
        "cleaned_1 =  cv_raw_data[~cv_raw_data['text'].str.contains('@') &  # menghapus \"@\"\n",
        "                         ~cv_raw_data['text'].str.contains('https')  & # menghapus yg share link\n",
        "                         ~cv_raw_data['text'].str.contains('guru') & # menghapus yg ngasih rekomendasi ke gugem\n",
        "                         ~cv_raw_data['text'].str.contains('gembul') # menghapus yg ngasih rekomendasi ke gugem\n",
        "                         ]\n",
        "# Menghilangkan data yang sama\n",
        "cleaned_1 = cleaned_1.drop_duplicates()\n",
        "# buat ngecek doang\n",
        "print(f\"Total baris: {cv_raw_data.index.size}\")\n",
        "print(f\"Fitur-fitur di dalam raw_data: \\n{raw_data.columns}\")\n",
        "print(f\"Total baris yg dibersihkan: {cleaned_1.index.size}\")"
      ],
      "metadata": {
        "colab": {
          "base_uri": "https://localhost:8080/"
        },
        "id": "W3xEGX8ZuCS_",
        "outputId": "7c3691f3-8d14-48af-b149-8743275d3a32"
      },
      "execution_count": null,
      "outputs": [
        {
          "output_type": "stream",
          "name": "stdout",
          "text": [
            "Total baris: 3701\n",
            "Fitur-fitur di dalam raw_data: \n",
            "Index(['cid', 'text', 'time', 'author', 'channel', 'votes', 'photo', 'heart',\n",
            "       'reply', 'time_parsed'],\n",
            "      dtype='object')\n",
            "Total baris yg dibersihkan: 1888\n"
          ]
        }
      ]
    },
    {
      "cell_type": "markdown",
      "source": [
        "## Pengambilan sampel data menggunakan rumus slovin dan pembagian tugas untuk melabeli data secara manual"
      ],
      "metadata": {
        "id": "C7-DZmhJQ1aY"
      }
    },
    {
      "cell_type": "code",
      "source": [
        "import math\n",
        "# Rumus Slovin\n",
        "def slovin_minimum_sample(populasi, signifikansi):\n",
        "    return math.ceil((populasi / (1 + (populasi * math.pow(signifikansi, 2)))))\n",
        "populasi = cleaned_1.index.size\n",
        "signifikansi = 0.05 # a = 5%\n",
        "print(f\"Jumlah populasi: {populasi}\")\n",
        "print(f\"Sampel minimum yang harus diambil: {slovin_minimum_sample(populasi, signifikansi)}\")\n",
        "\n",
        "# Pengambilan data secara acak dari cv_raw_data untuk dilabeli nantinya\n",
        "sample_data = cleaned_1.sample(n=900, random_state= 42)\n",
        "sample_data.head()\n",
        "\n",
        "import numpy as np\n",
        "# Pembagian sample data untuk dilakukan pelabelan masing\"\n",
        "bagi_sample_data = np.array_split(sample_data, 3)\n",
        "sample_data_rizqi = bagi_sample_data[0]\n",
        "sample_data_melani = bagi_sample_data[1]\n",
        "sample_data_jo = bagi_sample_data[2]\n",
        "\n",
        "len(sample_data_rizqi)"
      ],
      "metadata": {
        "id": "PGp-nNbYQ74Z",
        "colab": {
          "base_uri": "https://localhost:8080/"
        },
        "outputId": "e584c2e5-346f-41b4-b9f6-e540a60e67eb"
      },
      "execution_count": null,
      "outputs": [
        {
          "output_type": "stream",
          "name": "stdout",
          "text": [
            "Jumlah populasi: 1888\n",
            "Sampel minimum yang harus diambil: 331\n"
          ]
        },
        {
          "output_type": "execute_result",
          "data": {
            "text/plain": [
              "300"
            ]
          },
          "metadata": {},
          "execution_count": 7
        }
      ]
    },
    {
      "cell_type": "markdown",
      "source": [
        "## Output untuk nanti dilakukan pelabelan data"
      ],
      "metadata": {
        "id": "ZJ1QHxutmuAq"
      }
    },
    {
      "cell_type": "code",
      "source": [
        "# Output untuk pelabela\n",
        "nama_file_rizqi = '(rev) pelabelan data rizqi.xlsx'  # Nama file Excel yang diinginkan\n",
        "sample_data_rizqi.to_excel(nama_file_rizqi, index=False)  # index=False agar indeks tidak disimpa\n",
        "nama_file_melani = '(rev) pelabelan data melani.xlsx'  # Nama file Excel yang diinginkan\n",
        "sample_data_melani.to_excel(nama_file_melani, index=False)  # index=False agar indeks tidak disimpa\n",
        "nama_file_jo = '(rev) pelabelan data jo.xlsx'  # Nama file Excel yang diinginkan\n",
        "sample_data_jo.to_excel(nama_file_jo, index=False)  # index=False agar indeks tidak disimpa"
      ],
      "metadata": {
        "id": "lRb9IkPSmsu-"
      },
      "execution_count": null,
      "outputs": []
    },
    {
      "cell_type": "markdown",
      "source": [
        "# Tahap 3: Pra-pemrosesan Data"
      ],
      "metadata": {
        "id": "V7wrs7hVnfZi"
      }
    },
    {
      "cell_type": "markdown",
      "source": [
        "## Input data yang sudah dilabeli"
      ],
      "metadata": {
        "id": "KiQ1_iO2Z4he"
      }
    },
    {
      "cell_type": "code",
      "source": [
        "# input dataset yg udah dilabeli\n",
        "import pandas as pd\n",
        "labeled_data_rizqi = pd.read_excel(\"/content/drive/MyDrive/Gemastik Data Mining 2023 - We and Techa/Tempat pengolahan/pelabelan data/(rev) pelabelan data rizqi.xlsx\")\n",
        "labeled_data_melani = pd.read_excel(\"/content/drive/MyDrive/Gemastik Data Mining 2023 - We and Techa/Tempat pengolahan/pelabelan data/(rev) pelabelan data melani.xlsx\")\n",
        "labeled_data_jo = pd.read_excel(\"/content/drive/MyDrive/Gemastik Data Mining 2023 - We and Techa/Tempat pengolahan/pelabelan data/(rev) pelabelan data jo.xlsx\")\n",
        "\n",
        "# menggabungkan data yang udah dilabeli\n",
        "labeled_data = pd.concat([labeled_data_rizqi, labeled_data_melani, labeled_data_jo], ignore_index=True)\n",
        "labeled_data['label'] = labeled_data['label'].astype(int)\n",
        "\n",
        "# Mengecek doang\n",
        "print(f\"Total data yang sudah dilabeli: {labeled_data.index.size}\")\n",
        "labeled_data.head()\n",
        "jumlah_per_nilai = labeled_data['label'].value_counts()\n",
        "print(f\"Jumlah nilai unik pada masing-masing sentimen: \\n{jumlah_per_nilai}\")\n",
        "labeled_data.sample(5)"
      ],
      "metadata": {
        "colab": {
          "base_uri": "https://localhost:8080/",
          "height": 328
        },
        "id": "5D0w5Lv9aAEV",
        "outputId": "5e08f01a-98c9-4595-9c46-ccc8471431fc"
      },
      "execution_count": null,
      "outputs": [
        {
          "output_type": "stream",
          "name": "stdout",
          "text": [
            "Total data yang sudah dilabeli: 900\n",
            "Jumlah nilai unik pada masing-masing sentimen: \n",
            "3    375\n",
            "0    243\n",
            "2    148\n",
            "1    134\n",
            "Name: label, dtype: int64\n"
          ]
        },
        {
          "output_type": "execute_result",
          "data": {
            "text/plain": [
              "                                                  text  votes  label\n",
              "895  Kalau AI bisa diberi nalar tapi apakah AI puny...      0      2\n",
              "487  gk usah jauh'' kalkulator aja sudah bisa jadi ...      1      3\n",
              "638  Mingkin aja Ai akan hidup.. Lha Boneka mati aj...      0      0\n",
              "735  Berarti kalau datasetnya rasis, AI nya rasis juga      0      0\n",
              "101  Kecuali ada ledakan EMP super massive entah da...      0      0"
            ],
            "text/html": [
              "\n",
              "  <div id=\"df-fa3bb27f-a795-4ea6-bb7f-7e1b097b760a\">\n",
              "    <div class=\"colab-df-container\">\n",
              "      <div>\n",
              "<style scoped>\n",
              "    .dataframe tbody tr th:only-of-type {\n",
              "        vertical-align: middle;\n",
              "    }\n",
              "\n",
              "    .dataframe tbody tr th {\n",
              "        vertical-align: top;\n",
              "    }\n",
              "\n",
              "    .dataframe thead th {\n",
              "        text-align: right;\n",
              "    }\n",
              "</style>\n",
              "<table border=\"1\" class=\"dataframe\">\n",
              "  <thead>\n",
              "    <tr style=\"text-align: right;\">\n",
              "      <th></th>\n",
              "      <th>text</th>\n",
              "      <th>votes</th>\n",
              "      <th>label</th>\n",
              "    </tr>\n",
              "  </thead>\n",
              "  <tbody>\n",
              "    <tr>\n",
              "      <th>895</th>\n",
              "      <td>Kalau AI bisa diberi nalar tapi apakah AI puny...</td>\n",
              "      <td>0</td>\n",
              "      <td>2</td>\n",
              "    </tr>\n",
              "    <tr>\n",
              "      <th>487</th>\n",
              "      <td>gk usah jauh'' kalkulator aja sudah bisa jadi ...</td>\n",
              "      <td>1</td>\n",
              "      <td>3</td>\n",
              "    </tr>\n",
              "    <tr>\n",
              "      <th>638</th>\n",
              "      <td>Mingkin aja Ai akan hidup.. Lha Boneka mati aj...</td>\n",
              "      <td>0</td>\n",
              "      <td>0</td>\n",
              "    </tr>\n",
              "    <tr>\n",
              "      <th>735</th>\n",
              "      <td>Berarti kalau datasetnya rasis, AI nya rasis juga</td>\n",
              "      <td>0</td>\n",
              "      <td>0</td>\n",
              "    </tr>\n",
              "    <tr>\n",
              "      <th>101</th>\n",
              "      <td>Kecuali ada ledakan EMP super massive entah da...</td>\n",
              "      <td>0</td>\n",
              "      <td>0</td>\n",
              "    </tr>\n",
              "  </tbody>\n",
              "</table>\n",
              "</div>\n",
              "      <button class=\"colab-df-convert\" onclick=\"convertToInteractive('df-fa3bb27f-a795-4ea6-bb7f-7e1b097b760a')\"\n",
              "              title=\"Convert this dataframe to an interactive table.\"\n",
              "              style=\"display:none;\">\n",
              "        \n",
              "  <svg xmlns=\"http://www.w3.org/2000/svg\" height=\"24px\"viewBox=\"0 0 24 24\"\n",
              "       width=\"24px\">\n",
              "    <path d=\"M0 0h24v24H0V0z\" fill=\"none\"/>\n",
              "    <path d=\"M18.56 5.44l.94 2.06.94-2.06 2.06-.94-2.06-.94-.94-2.06-.94 2.06-2.06.94zm-11 1L8.5 8.5l.94-2.06 2.06-.94-2.06-.94L8.5 2.5l-.94 2.06-2.06.94zm10 10l.94 2.06.94-2.06 2.06-.94-2.06-.94-.94-2.06-.94 2.06-2.06.94z\"/><path d=\"M17.41 7.96l-1.37-1.37c-.4-.4-.92-.59-1.43-.59-.52 0-1.04.2-1.43.59L10.3 9.45l-7.72 7.72c-.78.78-.78 2.05 0 2.83L4 21.41c.39.39.9.59 1.41.59.51 0 1.02-.2 1.41-.59l7.78-7.78 2.81-2.81c.8-.78.8-2.07 0-2.86zM5.41 20L4 18.59l7.72-7.72 1.47 1.35L5.41 20z\"/>\n",
              "  </svg>\n",
              "      </button>\n",
              "      \n",
              "  <style>\n",
              "    .colab-df-container {\n",
              "      display:flex;\n",
              "      flex-wrap:wrap;\n",
              "      gap: 12px;\n",
              "    }\n",
              "\n",
              "    .colab-df-convert {\n",
              "      background-color: #E8F0FE;\n",
              "      border: none;\n",
              "      border-radius: 50%;\n",
              "      cursor: pointer;\n",
              "      display: none;\n",
              "      fill: #1967D2;\n",
              "      height: 32px;\n",
              "      padding: 0 0 0 0;\n",
              "      width: 32px;\n",
              "    }\n",
              "\n",
              "    .colab-df-convert:hover {\n",
              "      background-color: #E2EBFA;\n",
              "      box-shadow: 0px 1px 2px rgba(60, 64, 67, 0.3), 0px 1px 3px 1px rgba(60, 64, 67, 0.15);\n",
              "      fill: #174EA6;\n",
              "    }\n",
              "\n",
              "    [theme=dark] .colab-df-convert {\n",
              "      background-color: #3B4455;\n",
              "      fill: #D2E3FC;\n",
              "    }\n",
              "\n",
              "    [theme=dark] .colab-df-convert:hover {\n",
              "      background-color: #434B5C;\n",
              "      box-shadow: 0px 1px 3px 1px rgba(0, 0, 0, 0.15);\n",
              "      filter: drop-shadow(0px 1px 2px rgba(0, 0, 0, 0.3));\n",
              "      fill: #FFFFFF;\n",
              "    }\n",
              "  </style>\n",
              "\n",
              "      <script>\n",
              "        const buttonEl =\n",
              "          document.querySelector('#df-fa3bb27f-a795-4ea6-bb7f-7e1b097b760a button.colab-df-convert');\n",
              "        buttonEl.style.display =\n",
              "          google.colab.kernel.accessAllowed ? 'block' : 'none';\n",
              "\n",
              "        async function convertToInteractive(key) {\n",
              "          const element = document.querySelector('#df-fa3bb27f-a795-4ea6-bb7f-7e1b097b760a');\n",
              "          const dataTable =\n",
              "            await google.colab.kernel.invokeFunction('convertToInteractive',\n",
              "                                                     [key], {});\n",
              "          if (!dataTable) return;\n",
              "\n",
              "          const docLinkHtml = 'Like what you see? Visit the ' +\n",
              "            '<a target=\"_blank\" href=https://colab.research.google.com/notebooks/data_table.ipynb>data table notebook</a>'\n",
              "            + ' to learn more about interactive tables.';\n",
              "          element.innerHTML = '';\n",
              "          dataTable['output_type'] = 'display_data';\n",
              "          await google.colab.output.renderOutput(dataTable, element);\n",
              "          const docLink = document.createElement('div');\n",
              "          docLink.innerHTML = docLinkHtml;\n",
              "          element.appendChild(docLink);\n",
              "        }\n",
              "      </script>\n",
              "    </div>\n",
              "  </div>\n",
              "  "
            ]
          },
          "metadata": {},
          "execution_count": 76
        }
      ]
    },
    {
      "cell_type": "markdown",
      "source": [
        "__Penjelasan:__\n",
        "- 0 = Negatif / menolak kehadiran AI\n",
        "- 1 = Positif / menerima kehadiran AI\n",
        "- 2 = Netral\n",
        "- 3 = Tidak nyambung dengan isi video"
      ],
      "metadata": {
        "id": "nRXKVwQXZ1k3"
      }
    },
    {
      "cell_type": "markdown",
      "source": [
        "## Casefolding (menghapus tanda baca)"
      ],
      "metadata": {
        "id": "NQeUYo2DstCS"
      }
    },
    {
      "cell_type": "code",
      "source": [
        "import string\n",
        "col_before = \"text\"\n",
        "col_after = \"text_wo_punct\"\n",
        "\n",
        "# Mengecilkan semua komentar\n",
        "labeled_data[\"text\"] = labeled_data[\"text\"].str.lower()\n",
        "\n",
        "# Menghapus tanda baca\n",
        "def remove_punctuation(text):\n",
        "    text = text.replace('\\n', ' ')\n",
        "    return text.translate(str.maketrans(string.punctuation, ' '*len(string.punctuation)))\n",
        "labeled_data[col_after] = labeled_data[col_before].apply(lambda str(text)): remove_punctuation(text))\n",
        "\n",
        "# Contoh sampel yang di 'col before' mengandung tanda baca\n",
        "labeled_data.loc[labeled_data[col_before].str.contains('['+string.punctuation+']')].sample(5)"
      ],
      "metadata": {
        "colab": {
          "base_uri": "https://localhost:8080/",
          "height": 132
        },
        "id": "dL-4edoQsya5",
        "outputId": "843a768b-d47e-4a9b-db32-150ef5376d26"
      },
      "execution_count": null,
      "outputs": [
        {
          "output_type": "error",
          "ename": "SyntaxError",
          "evalue": "ignored",
          "traceback": [
            "\u001b[0;36m  File \u001b[0;32m\"<ipython-input-1-cb05d4a01fea>\"\u001b[0;36m, line \u001b[0;32m12\u001b[0m\n\u001b[0;31m    labeled_data[col_after] = labeled_data[col_before].apply(lambda str(text)): remove_punctuation(text))\u001b[0m\n\u001b[0m                                                                                                        ^\u001b[0m\n\u001b[0;31mSyntaxError\u001b[0m\u001b[0;31m:\u001b[0m unmatched ')'\n"
          ]
        }
      ]
    },
    {
      "cell_type": "markdown",
      "source": [
        "## Menghapus hal berikut:\n",
        "-  'wkwkw'\n",
        "-  Angka\n",
        "- Newline\n",
        "- Huruf lebih dari 1 di akhir kata\n",
        "- Huruf lebih dari 2 di dalam kata"
      ],
      "metadata": {
        "id": "2feMGephxXPp"
      }
    },
    {
      "cell_type": "code",
      "source": [
        "import re\n",
        "col_before = \"text_wo_punct\"\n",
        "col_after= \"text_custom\"\n",
        "\n",
        "def delete_useless_word(text):\n",
        "    # remove wkwk\n",
        "    text = re.sub(r'\\b(?=\\w*wk)\\w+', '', text)\n",
        "    # remove DIGIT\n",
        "    text = re.sub(r'([0-9])+', '', text)\n",
        "    # Hapus huruf >1 di akhir kata\n",
        "    text = re.sub(r'(.)\\1{1,}\\b', r'\\1', text)\n",
        "    # Hapus huruf >2 di kata\n",
        "    text = re.sub(r'(.)\\1{2,}', r'\\1', text)\n",
        "    # Hapus newline\n",
        "    text = text.replace('\\n', '')\n",
        "    # Hapus r\n",
        "    text = text.replace('\\r', '')\n",
        "    return text\n",
        "labeled_data[col_after] = labeled_data[col_before].apply(lambda text: delete_useless_word(text))\n",
        "\n",
        "# Sampel\n",
        "def has_matching_words(text):\n",
        "    # Mencari kata yang cocok dengan pola wkwk\n",
        "    wkwk_words = re.findall(r'\\b(?=\\w*wk)\\w+', text)\n",
        "    # Mencari angka dalam teks\n",
        "    digit_words = re.findall(r'([0-9])+', text)\n",
        "    # Mencari kata dengan lebih dari satu huruf di akhir kata\n",
        "    multiple_end_words = re.findall(r'(.)\\1{1,}\\b', text)\n",
        "    # Mencari kata dengan lebih dari dua huruf yang berulang\n",
        "    multiple_letters_words = re.findall(r'(.)\\1{2,}', text)\n",
        "    return bool(wkwk_words or digit_words or multiple_end_words or multiple_letters_words)\n",
        "labeled_data.loc[labeled_data[col_before].apply(has_matching_words)].sample(5)"
      ],
      "metadata": {
        "colab": {
          "base_uri": "https://localhost:8080/",
          "height": 337
        },
        "id": "Lws0Qkr9yn5V",
        "outputId": "bc9cb137-3f99-4b83-b562-0197d6d1d3fd"
      },
      "execution_count": null,
      "outputs": [
        {
          "output_type": "execute_result",
          "data": {
            "text/plain": [
              "                                                  text  votes  label  \\\n",
              "883  tidak ada yg baru di dunia ini, bisa jadi ai b...     11      1   \n",
              "892  anime ‌vivy: fluorite eye's song akan jadi ken...      0      3   \n",
              "765  setahu gw chat gpt, dan dall e, udah dibatasi ...      3      2   \n",
              "148    'dajjal' yang sebenarnya adalah ai itu sendiri.      1      0   \n",
              "326  ada banyak isu lain tentang ai yang belum terc...     89      3   \n",
              "\n",
              "                                         text_wo_punct  \\\n",
              "883  tidak ada yg baru di dunia ini  bisa jadi ai b...   \n",
              "892  anime ‌vivy  fluorite eye s song akan jadi ken...   \n",
              "765  setahu gw chat gpt  dan dall e  udah dibatasi ...   \n",
              "148     dajjal  yang sebenarnya adalah ai itu sendiri    \n",
              "326  ada banyak isu lain tentang ai yang belum terc...   \n",
              "\n",
              "                                           text_custom  \n",
              "883  tidak ada yg baru di dunia ini bisa jadi ai be...  \n",
              "892  anime ‌vivy fluorite eye s song akan jadi keny...  \n",
              "765  setahu gw chat gpt dan dal e udah dibatasi kin...  \n",
              "148      dajjal yang sebenarnya adalah ai itu sendiri   \n",
              "326  ada banyak isu lain tentang ai yang belum terc...  "
            ],
            "text/html": [
              "\n",
              "  <div id=\"df-813e3c73-a274-40a6-bf3b-219ad456d2a2\">\n",
              "    <div class=\"colab-df-container\">\n",
              "      <div>\n",
              "<style scoped>\n",
              "    .dataframe tbody tr th:only-of-type {\n",
              "        vertical-align: middle;\n",
              "    }\n",
              "\n",
              "    .dataframe tbody tr th {\n",
              "        vertical-align: top;\n",
              "    }\n",
              "\n",
              "    .dataframe thead th {\n",
              "        text-align: right;\n",
              "    }\n",
              "</style>\n",
              "<table border=\"1\" class=\"dataframe\">\n",
              "  <thead>\n",
              "    <tr style=\"text-align: right;\">\n",
              "      <th></th>\n",
              "      <th>text</th>\n",
              "      <th>votes</th>\n",
              "      <th>label</th>\n",
              "      <th>text_wo_punct</th>\n",
              "      <th>text_custom</th>\n",
              "    </tr>\n",
              "  </thead>\n",
              "  <tbody>\n",
              "    <tr>\n",
              "      <th>883</th>\n",
              "      <td>tidak ada yg baru di dunia ini, bisa jadi ai b...</td>\n",
              "      <td>11</td>\n",
              "      <td>1</td>\n",
              "      <td>tidak ada yg baru di dunia ini  bisa jadi ai b...</td>\n",
              "      <td>tidak ada yg baru di dunia ini bisa jadi ai be...</td>\n",
              "    </tr>\n",
              "    <tr>\n",
              "      <th>892</th>\n",
              "      <td>anime ‌vivy: fluorite eye's song akan jadi ken...</td>\n",
              "      <td>0</td>\n",
              "      <td>3</td>\n",
              "      <td>anime ‌vivy  fluorite eye s song akan jadi ken...</td>\n",
              "      <td>anime ‌vivy fluorite eye s song akan jadi keny...</td>\n",
              "    </tr>\n",
              "    <tr>\n",
              "      <th>765</th>\n",
              "      <td>setahu gw chat gpt, dan dall e, udah dibatasi ...</td>\n",
              "      <td>3</td>\n",
              "      <td>2</td>\n",
              "      <td>setahu gw chat gpt  dan dall e  udah dibatasi ...</td>\n",
              "      <td>setahu gw chat gpt dan dal e udah dibatasi kin...</td>\n",
              "    </tr>\n",
              "    <tr>\n",
              "      <th>148</th>\n",
              "      <td>'dajjal' yang sebenarnya adalah ai itu sendiri.</td>\n",
              "      <td>1</td>\n",
              "      <td>0</td>\n",
              "      <td>dajjal  yang sebenarnya adalah ai itu sendiri</td>\n",
              "      <td>dajjal yang sebenarnya adalah ai itu sendiri</td>\n",
              "    </tr>\n",
              "    <tr>\n",
              "      <th>326</th>\n",
              "      <td>ada banyak isu lain tentang ai yang belum terc...</td>\n",
              "      <td>89</td>\n",
              "      <td>3</td>\n",
              "      <td>ada banyak isu lain tentang ai yang belum terc...</td>\n",
              "      <td>ada banyak isu lain tentang ai yang belum terc...</td>\n",
              "    </tr>\n",
              "  </tbody>\n",
              "</table>\n",
              "</div>\n",
              "      <button class=\"colab-df-convert\" onclick=\"convertToInteractive('df-813e3c73-a274-40a6-bf3b-219ad456d2a2')\"\n",
              "              title=\"Convert this dataframe to an interactive table.\"\n",
              "              style=\"display:none;\">\n",
              "        \n",
              "  <svg xmlns=\"http://www.w3.org/2000/svg\" height=\"24px\"viewBox=\"0 0 24 24\"\n",
              "       width=\"24px\">\n",
              "    <path d=\"M0 0h24v24H0V0z\" fill=\"none\"/>\n",
              "    <path d=\"M18.56 5.44l.94 2.06.94-2.06 2.06-.94-2.06-.94-.94-2.06-.94 2.06-2.06.94zm-11 1L8.5 8.5l.94-2.06 2.06-.94-2.06-.94L8.5 2.5l-.94 2.06-2.06.94zm10 10l.94 2.06.94-2.06 2.06-.94-2.06-.94-.94-2.06-.94 2.06-2.06.94z\"/><path d=\"M17.41 7.96l-1.37-1.37c-.4-.4-.92-.59-1.43-.59-.52 0-1.04.2-1.43.59L10.3 9.45l-7.72 7.72c-.78.78-.78 2.05 0 2.83L4 21.41c.39.39.9.59 1.41.59.51 0 1.02-.2 1.41-.59l7.78-7.78 2.81-2.81c.8-.78.8-2.07 0-2.86zM5.41 20L4 18.59l7.72-7.72 1.47 1.35L5.41 20z\"/>\n",
              "  </svg>\n",
              "      </button>\n",
              "      \n",
              "  <style>\n",
              "    .colab-df-container {\n",
              "      display:flex;\n",
              "      flex-wrap:wrap;\n",
              "      gap: 12px;\n",
              "    }\n",
              "\n",
              "    .colab-df-convert {\n",
              "      background-color: #E8F0FE;\n",
              "      border: none;\n",
              "      border-radius: 50%;\n",
              "      cursor: pointer;\n",
              "      display: none;\n",
              "      fill: #1967D2;\n",
              "      height: 32px;\n",
              "      padding: 0 0 0 0;\n",
              "      width: 32px;\n",
              "    }\n",
              "\n",
              "    .colab-df-convert:hover {\n",
              "      background-color: #E2EBFA;\n",
              "      box-shadow: 0px 1px 2px rgba(60, 64, 67, 0.3), 0px 1px 3px 1px rgba(60, 64, 67, 0.15);\n",
              "      fill: #174EA6;\n",
              "    }\n",
              "\n",
              "    [theme=dark] .colab-df-convert {\n",
              "      background-color: #3B4455;\n",
              "      fill: #D2E3FC;\n",
              "    }\n",
              "\n",
              "    [theme=dark] .colab-df-convert:hover {\n",
              "      background-color: #434B5C;\n",
              "      box-shadow: 0px 1px 3px 1px rgba(0, 0, 0, 0.15);\n",
              "      filter: drop-shadow(0px 1px 2px rgba(0, 0, 0, 0.3));\n",
              "      fill: #FFFFFF;\n",
              "    }\n",
              "  </style>\n",
              "\n",
              "      <script>\n",
              "        const buttonEl =\n",
              "          document.querySelector('#df-813e3c73-a274-40a6-bf3b-219ad456d2a2 button.colab-df-convert');\n",
              "        buttonEl.style.display =\n",
              "          google.colab.kernel.accessAllowed ? 'block' : 'none';\n",
              "\n",
              "        async function convertToInteractive(key) {\n",
              "          const element = document.querySelector('#df-813e3c73-a274-40a6-bf3b-219ad456d2a2');\n",
              "          const dataTable =\n",
              "            await google.colab.kernel.invokeFunction('convertToInteractive',\n",
              "                                                     [key], {});\n",
              "          if (!dataTable) return;\n",
              "\n",
              "          const docLinkHtml = 'Like what you see? Visit the ' +\n",
              "            '<a target=\"_blank\" href=https://colab.research.google.com/notebooks/data_table.ipynb>data table notebook</a>'\n",
              "            + ' to learn more about interactive tables.';\n",
              "          element.innerHTML = '';\n",
              "          dataTable['output_type'] = 'display_data';\n",
              "          await google.colab.output.renderOutput(dataTable, element);\n",
              "          const docLink = document.createElement('div');\n",
              "          docLink.innerHTML = docLinkHtml;\n",
              "          element.appendChild(docLink);\n",
              "        }\n",
              "      </script>\n",
              "    </div>\n",
              "  </div>\n",
              "  "
            ]
          },
          "metadata": {},
          "execution_count": 78
        }
      ]
    },
    {
      "cell_type": "markdown",
      "source": [
        "## Menghapus Emoji\n"
      ],
      "metadata": {
        "id": "mYjQr1CK2QU6"
      }
    },
    {
      "cell_type": "markdown",
      "source": [
        "Instal library ini dulu di Notebook karena tidak bisa diimpor secara langsung"
      ],
      "metadata": {
        "id": "hAPjhmkp0_X2"
      }
    },
    {
      "cell_type": "code",
      "source": [
        "!pip install emoji"
      ],
      "metadata": {
        "colab": {
          "base_uri": "https://localhost:8080/"
        },
        "id": "WBhky0qW1JQP",
        "outputId": "150f4e23-436b-429a-9b53-90b725e3a9ce"
      },
      "execution_count": null,
      "outputs": [
        {
          "output_type": "stream",
          "name": "stdout",
          "text": [
            "Requirement already satisfied: emoji in /usr/local/lib/python3.10/dist-packages (2.6.0)\n"
          ]
        }
      ]
    },
    {
      "cell_type": "code",
      "source": [
        "import emoji\n",
        "\n",
        "col_before = \"text_custom\"\n",
        "col_after= \"text_wo_emoji\"\n",
        "\n",
        "def hapus_emoji(text):\n",
        "    emoji_pattern = re.compile(\"[\"\n",
        "                               u\"\\U0001F600-\\U0001F64F\"  # emoticons\n",
        "                               u\"\\U0001F300-\\U0001F5FF\"  # simbol & piktogram\n",
        "                               u\"\\U0001F680-\\U0001F6FF\"  # transportasi & simbol transportasi\n",
        "                               u\"\\U0001F1E0-\\U0001F1FF\"  # bendera negara\n",
        "                               u\"\\U00002600-\\U000027BF\"  # simbol cuaca\n",
        "                               u\"\\U0001F900-\\U0001F9FF\"  # simbol & piktogram tambahan\n",
        "                               u\"\\U0001F1F2-\\U0001F1F4\"  # bendera negara tambahan\n",
        "                               u\"\\U0001F1E6-\\U0001F1FF\"  # bendera negara tambahan\n",
        "                               u\"\\U0001F600-\\U0001F64F\"  # emotikon tambahan\n",
        "                               u\"\\U000024C2-\\U0001F251\"\n",
        "                               \"]+\", flags=re.UNICODE)\n",
        "    return emoji_pattern.sub(r'', text)\n",
        "labeled_data[col_after] = labeled_data[col_before].apply(lambda text: hapus_emoji(text))\n",
        "\n",
        "# Sampel\n",
        "def cari_emoji(text):\n",
        "  if emoji.emoji_count(text) > 0:\n",
        "    return True\n",
        "  else:\n",
        "    return False\n",
        "labeled_data.loc[labeled_data[col_before].apply(cari_emoji)].sample(5)"
      ],
      "metadata": {
        "colab": {
          "base_uri": "https://localhost:8080/",
          "height": 320
        },
        "id": "yTLuPXm531Ys",
        "outputId": "9968dbda-2ec4-4db7-80ba-e325b3961727"
      },
      "execution_count": null,
      "outputs": [
        {
          "output_type": "execute_result",
          "data": {
            "text/plain": [
              "                                                  text  votes  label  \\\n",
              "766  kalo gg dibatasi belajarnya, ini bisa jadi \\nt...      2      0   \n",
              "124  ai bukan pengahncur. ai diciptakan untuk memba...      0      1   \n",
              "518  nanti kalau udah kena solar flare, jenggot jug...      0      3   \n",
              "612                                   trims pak guru 😊      0      3   \n",
              "516       wow, kutipan terakhir nya plot twist sekali😂      0      3   \n",
              "\n",
              "                                         text_wo_punct  \\\n",
              "766  kalo gg dibatasi belajarnya  ini bisa jadi  th...   \n",
              "124  ai bukan pengahncur  ai diciptakan untuk memba...   \n",
              "518  nanti kalau udah kena solar flare  jenggot jug...   \n",
              "612                                   trims pak guru 😊   \n",
              "516       wow  kutipan terakhir nya plot twist sekali😂   \n",
              "\n",
              "                                           text_custom  \\\n",
              "766  kalo g dibatasi belajarnya ini bisa jadi the r...   \n",
              "124  ai bukan pengahncur ai diciptakan untuk memban...   \n",
              "518  nanti kalau udah kena solar flare jenggot juga...   \n",
              "612                                   trims pak guru 😊   \n",
              "516        wow kutipan terakhir nya plot twist sekali😂   \n",
              "\n",
              "                                         text_wo_emoji  \n",
              "766  kalo g dibatasi belajarnya ini bisa jadi the r...  \n",
              "124  ai bukan pengahncur ai diciptakan untuk memban...  \n",
              "518  nanti kalau udah kena solar flare jenggot juga...  \n",
              "612                                    trims pak guru   \n",
              "516         wow kutipan terakhir nya plot twist sekali  "
            ],
            "text/html": [
              "\n",
              "  <div id=\"df-e39723af-38c8-4523-ac5e-65a917d4c9f2\">\n",
              "    <div class=\"colab-df-container\">\n",
              "      <div>\n",
              "<style scoped>\n",
              "    .dataframe tbody tr th:only-of-type {\n",
              "        vertical-align: middle;\n",
              "    }\n",
              "\n",
              "    .dataframe tbody tr th {\n",
              "        vertical-align: top;\n",
              "    }\n",
              "\n",
              "    .dataframe thead th {\n",
              "        text-align: right;\n",
              "    }\n",
              "</style>\n",
              "<table border=\"1\" class=\"dataframe\">\n",
              "  <thead>\n",
              "    <tr style=\"text-align: right;\">\n",
              "      <th></th>\n",
              "      <th>text</th>\n",
              "      <th>votes</th>\n",
              "      <th>label</th>\n",
              "      <th>text_wo_punct</th>\n",
              "      <th>text_custom</th>\n",
              "      <th>text_wo_emoji</th>\n",
              "    </tr>\n",
              "  </thead>\n",
              "  <tbody>\n",
              "    <tr>\n",
              "      <th>766</th>\n",
              "      <td>kalo gg dibatasi belajarnya, ini bisa jadi \\nt...</td>\n",
              "      <td>2</td>\n",
              "      <td>0</td>\n",
              "      <td>kalo gg dibatasi belajarnya  ini bisa jadi  th...</td>\n",
              "      <td>kalo g dibatasi belajarnya ini bisa jadi the r...</td>\n",
              "      <td>kalo g dibatasi belajarnya ini bisa jadi the r...</td>\n",
              "    </tr>\n",
              "    <tr>\n",
              "      <th>124</th>\n",
              "      <td>ai bukan pengahncur. ai diciptakan untuk memba...</td>\n",
              "      <td>0</td>\n",
              "      <td>1</td>\n",
              "      <td>ai bukan pengahncur  ai diciptakan untuk memba...</td>\n",
              "      <td>ai bukan pengahncur ai diciptakan untuk memban...</td>\n",
              "      <td>ai bukan pengahncur ai diciptakan untuk memban...</td>\n",
              "    </tr>\n",
              "    <tr>\n",
              "      <th>518</th>\n",
              "      <td>nanti kalau udah kena solar flare, jenggot jug...</td>\n",
              "      <td>0</td>\n",
              "      <td>3</td>\n",
              "      <td>nanti kalau udah kena solar flare  jenggot jug...</td>\n",
              "      <td>nanti kalau udah kena solar flare jenggot juga...</td>\n",
              "      <td>nanti kalau udah kena solar flare jenggot juga...</td>\n",
              "    </tr>\n",
              "    <tr>\n",
              "      <th>612</th>\n",
              "      <td>trims pak guru 😊</td>\n",
              "      <td>0</td>\n",
              "      <td>3</td>\n",
              "      <td>trims pak guru 😊</td>\n",
              "      <td>trims pak guru 😊</td>\n",
              "      <td>trims pak guru</td>\n",
              "    </tr>\n",
              "    <tr>\n",
              "      <th>516</th>\n",
              "      <td>wow, kutipan terakhir nya plot twist sekali😂</td>\n",
              "      <td>0</td>\n",
              "      <td>3</td>\n",
              "      <td>wow  kutipan terakhir nya plot twist sekali😂</td>\n",
              "      <td>wow kutipan terakhir nya plot twist sekali😂</td>\n",
              "      <td>wow kutipan terakhir nya plot twist sekali</td>\n",
              "    </tr>\n",
              "  </tbody>\n",
              "</table>\n",
              "</div>\n",
              "      <button class=\"colab-df-convert\" onclick=\"convertToInteractive('df-e39723af-38c8-4523-ac5e-65a917d4c9f2')\"\n",
              "              title=\"Convert this dataframe to an interactive table.\"\n",
              "              style=\"display:none;\">\n",
              "        \n",
              "  <svg xmlns=\"http://www.w3.org/2000/svg\" height=\"24px\"viewBox=\"0 0 24 24\"\n",
              "       width=\"24px\">\n",
              "    <path d=\"M0 0h24v24H0V0z\" fill=\"none\"/>\n",
              "    <path d=\"M18.56 5.44l.94 2.06.94-2.06 2.06-.94-2.06-.94-.94-2.06-.94 2.06-2.06.94zm-11 1L8.5 8.5l.94-2.06 2.06-.94-2.06-.94L8.5 2.5l-.94 2.06-2.06.94zm10 10l.94 2.06.94-2.06 2.06-.94-2.06-.94-.94-2.06-.94 2.06-2.06.94z\"/><path d=\"M17.41 7.96l-1.37-1.37c-.4-.4-.92-.59-1.43-.59-.52 0-1.04.2-1.43.59L10.3 9.45l-7.72 7.72c-.78.78-.78 2.05 0 2.83L4 21.41c.39.39.9.59 1.41.59.51 0 1.02-.2 1.41-.59l7.78-7.78 2.81-2.81c.8-.78.8-2.07 0-2.86zM5.41 20L4 18.59l7.72-7.72 1.47 1.35L5.41 20z\"/>\n",
              "  </svg>\n",
              "      </button>\n",
              "      \n",
              "  <style>\n",
              "    .colab-df-container {\n",
              "      display:flex;\n",
              "      flex-wrap:wrap;\n",
              "      gap: 12px;\n",
              "    }\n",
              "\n",
              "    .colab-df-convert {\n",
              "      background-color: #E8F0FE;\n",
              "      border: none;\n",
              "      border-radius: 50%;\n",
              "      cursor: pointer;\n",
              "      display: none;\n",
              "      fill: #1967D2;\n",
              "      height: 32px;\n",
              "      padding: 0 0 0 0;\n",
              "      width: 32px;\n",
              "    }\n",
              "\n",
              "    .colab-df-convert:hover {\n",
              "      background-color: #E2EBFA;\n",
              "      box-shadow: 0px 1px 2px rgba(60, 64, 67, 0.3), 0px 1px 3px 1px rgba(60, 64, 67, 0.15);\n",
              "      fill: #174EA6;\n",
              "    }\n",
              "\n",
              "    [theme=dark] .colab-df-convert {\n",
              "      background-color: #3B4455;\n",
              "      fill: #D2E3FC;\n",
              "    }\n",
              "\n",
              "    [theme=dark] .colab-df-convert:hover {\n",
              "      background-color: #434B5C;\n",
              "      box-shadow: 0px 1px 3px 1px rgba(0, 0, 0, 0.15);\n",
              "      filter: drop-shadow(0px 1px 2px rgba(0, 0, 0, 0.3));\n",
              "      fill: #FFFFFF;\n",
              "    }\n",
              "  </style>\n",
              "\n",
              "      <script>\n",
              "        const buttonEl =\n",
              "          document.querySelector('#df-e39723af-38c8-4523-ac5e-65a917d4c9f2 button.colab-df-convert');\n",
              "        buttonEl.style.display =\n",
              "          google.colab.kernel.accessAllowed ? 'block' : 'none';\n",
              "\n",
              "        async function convertToInteractive(key) {\n",
              "          const element = document.querySelector('#df-e39723af-38c8-4523-ac5e-65a917d4c9f2');\n",
              "          const dataTable =\n",
              "            await google.colab.kernel.invokeFunction('convertToInteractive',\n",
              "                                                     [key], {});\n",
              "          if (!dataTable) return;\n",
              "\n",
              "          const docLinkHtml = 'Like what you see? Visit the ' +\n",
              "            '<a target=\"_blank\" href=https://colab.research.google.com/notebooks/data_table.ipynb>data table notebook</a>'\n",
              "            + ' to learn more about interactive tables.';\n",
              "          element.innerHTML = '';\n",
              "          dataTable['output_type'] = 'display_data';\n",
              "          await google.colab.output.renderOutput(dataTable, element);\n",
              "          const docLink = document.createElement('div');\n",
              "          docLink.innerHTML = docLinkHtml;\n",
              "          element.appendChild(docLink);\n",
              "        }\n",
              "      </script>\n",
              "    </div>\n",
              "  </div>\n",
              "  "
            ]
          },
          "metadata": {},
          "execution_count": 80
        }
      ]
    },
    {
      "cell_type": "markdown",
      "source": [
        "## Mengganti kata singkatan ke kata aslinya"
      ],
      "metadata": {
        "id": "86a0hOXM5ybk"
      }
    },
    {
      "cell_type": "markdown",
      "source": [
        "### Kamus singkatan"
      ],
      "metadata": {
        "id": "HHye0M2wJgP7"
      }
    },
    {
      "cell_type": "code",
      "source": [
        "# kamus singkatan\n",
        "kamus_singkatan = {\n",
        "    'msh': 'masih',\n",
        "    'yng': 'yang',\n",
        "    'nyimak': 'menyimak',\n",
        "    'dmna': 'dimana',\n",
        "    'drpd': 'daripada',\n",
        "    'bsa': 'bisa',\n",
        "    'gp':'gapapa',\n",
        "    'gpp':'gapapa',\n",
        "    'ja': 'aja',\n",
        "    'jgn': 'jangan',\n",
        "    'sdh': 'sudah',\n",
        "    'udah': 'sudah',\n",
        "    'sdah': 'sudah',\n",
        "    'bgt': 'banget',\n",
        "    'gmn': 'gimana',\n",
        "    'bs': 'bisa',\n",
        "    'smoga': 'semoga',\n",
        "    'smg': 'semoga',\n",
        "    'hadeuh': 'haduh',\n",
        "    'hadeh': 'haduh',\n",
        "    'silahkan': 'silakan',\n",
        "    'tidk': 'tidak',\n",
        "    'tdak': 'tidak',\n",
        "    'tdk': 'tidak',\n",
        "    'enggak': 'tidak',\n",
        "    'engga': 'tidak',\n",
        "    'nggak': 'tidak',\n",
        "    'ngga': 'tidak',\n",
        "    'nggk': 'tidak',\n",
        "    'ngak': 'tidak',\n",
        "    'gak': 'tidak',\n",
        "    'gk': 'tidak',\n",
        "    'ga': 'tidak',\n",
        "    'g': 'tidak',\n",
        "    'kagak': 'tidak',\n",
        "    'kaga': 'tidak',\n",
        "    'ndak': 'tidak',\n",
        "    'enk': 'enak',\n",
        "    'rmh': 'rumah',\n",
        "    'inget': 'ingat',\n",
        "    'dr': 'dari',\n",
        "    'kalo': 'kalau',\n",
        "    'klo': 'kalau',\n",
        "    'kl': 'kalau',\n",
        "    'org': 'orang',\n",
        "    'thn': 'tahun',\n",
        "    'thun': 'tahun',\n",
        "    'prlu': 'perlu',\n",
        "    'muter': 'putar',\n",
        "    'pd': 'pada',\n",
        "    'di siplin': 'disiplin',\n",
        "    'mkn': 'makan',\n",
        "    'utk': 'untuk',\n",
        "    'tuk': 'untuk',\n",
        "    'ap': 'apa',\n",
        "    'liat': 'lihat',\n",
        "    'hnya': 'hanya',\n",
        "    'smua': 'semua',\n",
        "    'ko': 'kok',\n",
        "    'hrus': 'harus',\n",
        "    'hrs': 'harus',\n",
        "    'cth': 'contoh',\n",
        "    'dgn': 'dengan',\n",
        "    'puny': 'punya',\n",
        "    'aku': 'saya',\n",
        "    'gw': 'saya',\n",
        "    'gua': 'saya',\n",
        "    'gue': 'saya',\n",
        "    'w': 'saya',\n",
        "    'sy': 'saya',\n",
        "    'krn': 'karena',\n",
        "    'kumaha': 'gimana',\n",
        "    'lbh': 'lebih',\n",
        "    'kmbali': 'kembali',\n",
        "    'waw': 'wow',\n",
        "    'nyesel': 'nyesal',\n",
        "    'bnr': 'benar',\n",
        "    'bener': 'benar',\n",
        "    'skrg': 'sekarang',\n",
        "    'sekrg': 'sekarang',\n",
        "    'skarang': 'sekarang',\n",
        "    'skrng': 'sekarang',\n",
        "    'pengen': 'ingin',\n",
        "    'pingin': 'ingin',\n",
        "    'inget': 'ingat',\n",
        "    'seneng': 'senang',\n",
        "    'aja': 'saja',\n",
        "    'sja': 'saja',\n",
        "    'aj': 'saja',\n",
        "    'sj': 'saja',\n",
        "    'lu': 'kamu',\n",
        "    'kau': 'kamu',\n",
        "    'mimpin': 'memimpin',\n",
        "    'k': 'ke',\n",
        "    'stiap': 'setiap',\n",
        "    'bln': 'bulan',\n",
        "    'denger': 'dengar',\n",
        "    'males': 'malas',\n",
        "    'serah': 'terserah',\n",
        "    'koq': 'kok',\n",
        "    'tp': 'tapi',\n",
        "    'jgn': 'jangan',\n",
        "    'ttp': 'tetap',\n",
        "    'tetep': 'tetap',\n",
        "    'yg': 'yang',\n",
        "    'jdi': 'jadi',\n",
        "    'mantul': 'mantap',\n",
        "    'btul': 'betul',\n",
        "    'santuy': 'santai',\n",
        "    'rejeki': 'rezeki',\n",
        "    'itung': 'hitung',\n",
        "    'lg': 'lagi'\n",
        "}"
      ],
      "metadata": {
        "id": "3NlCHMJT6ZF5"
      },
      "execution_count": null,
      "outputs": []
    },
    {
      "cell_type": "markdown",
      "source": [
        "### Penggantian kata"
      ],
      "metadata": {
        "id": "By8WpKyAJmkJ"
      }
    },
    {
      "cell_type": "code",
      "source": [
        "col_before = \"text_wo_emoji\"\n",
        "col_after= \"text_wo_abb\"\n",
        "\n",
        "def ganti_kata_singkatan(kalimat, kamus):\n",
        "    kata_kalimat = kalimat.split() # Membagi teks menjadi daftar kata terpisah\n",
        "    hasil = []\n",
        "    for kata in kata_kalimat:\n",
        "        if kata in kamus:\n",
        "            hasil.append(kamus[kata])\n",
        "        else:\n",
        "            hasil.append(kata)\n",
        "    kalimat_baru = ' '.join(hasil)\n",
        "    return kalimat_baru\n",
        "labeled_data[col_after] = labeled_data[col_before].apply(lambda text: ganti_kata_singkatan(text, kamus_singkatan))\n",
        "\n",
        "# Sampel\n",
        "def cari_kata_singkatan(kalimat, kamus):\n",
        "  kata_kalimat = kalimat.split()\n",
        "  for kata in kata_kalimat:\n",
        "    if kata in kamus:\n",
        "      return True\n",
        "  return False\n",
        "labeled_data.loc[labeled_data[col_before].apply(lambda teks: cari_kata_singkatan(teks, kamus_singkatan))].sample(5)"
      ],
      "metadata": {
        "colab": {
          "base_uri": "https://localhost:8080/",
          "height": 441
        },
        "id": "hNRhwMnvJxIV",
        "outputId": "17db3405-7ad3-49de-d2fd-d258f5110246"
      },
      "execution_count": null,
      "outputs": [
        {
          "output_type": "execute_result",
          "data": {
            "text/plain": [
              "                                                  text  votes  label  \\\n",
              "828  satu yg saya percaya dari dulu. film film holl...      3      2   \n",
              "172  semoga ai bisa nemuin obat kangker,   tumor, e...      1      2   \n",
              "255  yg paling di khawatirkan adalah muncul ny fitn...      1      3   \n",
              "640  jadi keingat film iron man, di sana tony stark...      0      0   \n",
              "183  masalahnya kemajuan zaman ditentukan sains, da...      0      1   \n",
              "\n",
              "                                         text_wo_punct  \\\n",
              "828  satu yg saya percaya dari dulu  film film holl...   \n",
              "172  semoga ai bisa nemuin obat kangker    tumor  e...   \n",
              "255  yg paling di khawatirkan adalah muncul ny fitn...   \n",
              "640  jadi keingat film iron man  di sana tony stark...   \n",
              "183  masalahnya kemajuan zaman ditentukan sains  da...   \n",
              "\n",
              "                                           text_custom  \\\n",
              "828  satu yg saya percaya dari dulu film film holly...   \n",
              "172  semoga ai bisa nemuin obat kangker tumor epile...   \n",
              "255  yg paling di khawatirkan adalah muncul ny fitn...   \n",
              "640  jadi keingat film iron man di sana tony stark ...   \n",
              "183  masalahnya kemajuan zaman ditentukan sains dan...   \n",
              "\n",
              "                                         text_wo_emoji  \\\n",
              "828  satu yg saya percaya dari dulu film film holly...   \n",
              "172  semoga ai bisa nemuin obat kangker tumor epile...   \n",
              "255  yg paling di khawatirkan adalah muncul ny fitn...   \n",
              "640  jadi keingat film iron man di sana tony stark ...   \n",
              "183  masalahnya kemajuan zaman ditentukan sains dan...   \n",
              "\n",
              "                                           text_wo_abb  \n",
              "828  satu yang saya percaya dari dulu film film hol...  \n",
              "172  semoga ai bisa nemuin obat kangker tumor epile...  \n",
              "255  yang paling di khawatirkan adalah muncul ny fi...  \n",
              "640  jadi keingat film iron man di sana tony stark ...  \n",
              "183  masalahnya kemajuan zaman ditentukan sains dan...  "
            ],
            "text/html": [
              "\n",
              "  <div id=\"df-62077c39-b4af-49e5-bd44-72a80b05db67\">\n",
              "    <div class=\"colab-df-container\">\n",
              "      <div>\n",
              "<style scoped>\n",
              "    .dataframe tbody tr th:only-of-type {\n",
              "        vertical-align: middle;\n",
              "    }\n",
              "\n",
              "    .dataframe tbody tr th {\n",
              "        vertical-align: top;\n",
              "    }\n",
              "\n",
              "    .dataframe thead th {\n",
              "        text-align: right;\n",
              "    }\n",
              "</style>\n",
              "<table border=\"1\" class=\"dataframe\">\n",
              "  <thead>\n",
              "    <tr style=\"text-align: right;\">\n",
              "      <th></th>\n",
              "      <th>text</th>\n",
              "      <th>votes</th>\n",
              "      <th>label</th>\n",
              "      <th>text_wo_punct</th>\n",
              "      <th>text_custom</th>\n",
              "      <th>text_wo_emoji</th>\n",
              "      <th>text_wo_abb</th>\n",
              "    </tr>\n",
              "  </thead>\n",
              "  <tbody>\n",
              "    <tr>\n",
              "      <th>828</th>\n",
              "      <td>satu yg saya percaya dari dulu. film film holl...</td>\n",
              "      <td>3</td>\n",
              "      <td>2</td>\n",
              "      <td>satu yg saya percaya dari dulu  film film holl...</td>\n",
              "      <td>satu yg saya percaya dari dulu film film holly...</td>\n",
              "      <td>satu yg saya percaya dari dulu film film holly...</td>\n",
              "      <td>satu yang saya percaya dari dulu film film hol...</td>\n",
              "    </tr>\n",
              "    <tr>\n",
              "      <th>172</th>\n",
              "      <td>semoga ai bisa nemuin obat kangker,   tumor, e...</td>\n",
              "      <td>1</td>\n",
              "      <td>2</td>\n",
              "      <td>semoga ai bisa nemuin obat kangker    tumor  e...</td>\n",
              "      <td>semoga ai bisa nemuin obat kangker tumor epile...</td>\n",
              "      <td>semoga ai bisa nemuin obat kangker tumor epile...</td>\n",
              "      <td>semoga ai bisa nemuin obat kangker tumor epile...</td>\n",
              "    </tr>\n",
              "    <tr>\n",
              "      <th>255</th>\n",
              "      <td>yg paling di khawatirkan adalah muncul ny fitn...</td>\n",
              "      <td>1</td>\n",
              "      <td>3</td>\n",
              "      <td>yg paling di khawatirkan adalah muncul ny fitn...</td>\n",
              "      <td>yg paling di khawatirkan adalah muncul ny fitn...</td>\n",
              "      <td>yg paling di khawatirkan adalah muncul ny fitn...</td>\n",
              "      <td>yang paling di khawatirkan adalah muncul ny fi...</td>\n",
              "    </tr>\n",
              "    <tr>\n",
              "      <th>640</th>\n",
              "      <td>jadi keingat film iron man, di sana tony stark...</td>\n",
              "      <td>0</td>\n",
              "      <td>0</td>\n",
              "      <td>jadi keingat film iron man  di sana tony stark...</td>\n",
              "      <td>jadi keingat film iron man di sana tony stark ...</td>\n",
              "      <td>jadi keingat film iron man di sana tony stark ...</td>\n",
              "      <td>jadi keingat film iron man di sana tony stark ...</td>\n",
              "    </tr>\n",
              "    <tr>\n",
              "      <th>183</th>\n",
              "      <td>masalahnya kemajuan zaman ditentukan sains, da...</td>\n",
              "      <td>0</td>\n",
              "      <td>1</td>\n",
              "      <td>masalahnya kemajuan zaman ditentukan sains  da...</td>\n",
              "      <td>masalahnya kemajuan zaman ditentukan sains dan...</td>\n",
              "      <td>masalahnya kemajuan zaman ditentukan sains dan...</td>\n",
              "      <td>masalahnya kemajuan zaman ditentukan sains dan...</td>\n",
              "    </tr>\n",
              "  </tbody>\n",
              "</table>\n",
              "</div>\n",
              "      <button class=\"colab-df-convert\" onclick=\"convertToInteractive('df-62077c39-b4af-49e5-bd44-72a80b05db67')\"\n",
              "              title=\"Convert this dataframe to an interactive table.\"\n",
              "              style=\"display:none;\">\n",
              "        \n",
              "  <svg xmlns=\"http://www.w3.org/2000/svg\" height=\"24px\"viewBox=\"0 0 24 24\"\n",
              "       width=\"24px\">\n",
              "    <path d=\"M0 0h24v24H0V0z\" fill=\"none\"/>\n",
              "    <path d=\"M18.56 5.44l.94 2.06.94-2.06 2.06-.94-2.06-.94-.94-2.06-.94 2.06-2.06.94zm-11 1L8.5 8.5l.94-2.06 2.06-.94-2.06-.94L8.5 2.5l-.94 2.06-2.06.94zm10 10l.94 2.06.94-2.06 2.06-.94-2.06-.94-.94-2.06-.94 2.06-2.06.94z\"/><path d=\"M17.41 7.96l-1.37-1.37c-.4-.4-.92-.59-1.43-.59-.52 0-1.04.2-1.43.59L10.3 9.45l-7.72 7.72c-.78.78-.78 2.05 0 2.83L4 21.41c.39.39.9.59 1.41.59.51 0 1.02-.2 1.41-.59l7.78-7.78 2.81-2.81c.8-.78.8-2.07 0-2.86zM5.41 20L4 18.59l7.72-7.72 1.47 1.35L5.41 20z\"/>\n",
              "  </svg>\n",
              "      </button>\n",
              "      \n",
              "  <style>\n",
              "    .colab-df-container {\n",
              "      display:flex;\n",
              "      flex-wrap:wrap;\n",
              "      gap: 12px;\n",
              "    }\n",
              "\n",
              "    .colab-df-convert {\n",
              "      background-color: #E8F0FE;\n",
              "      border: none;\n",
              "      border-radius: 50%;\n",
              "      cursor: pointer;\n",
              "      display: none;\n",
              "      fill: #1967D2;\n",
              "      height: 32px;\n",
              "      padding: 0 0 0 0;\n",
              "      width: 32px;\n",
              "    }\n",
              "\n",
              "    .colab-df-convert:hover {\n",
              "      background-color: #E2EBFA;\n",
              "      box-shadow: 0px 1px 2px rgba(60, 64, 67, 0.3), 0px 1px 3px 1px rgba(60, 64, 67, 0.15);\n",
              "      fill: #174EA6;\n",
              "    }\n",
              "\n",
              "    [theme=dark] .colab-df-convert {\n",
              "      background-color: #3B4455;\n",
              "      fill: #D2E3FC;\n",
              "    }\n",
              "\n",
              "    [theme=dark] .colab-df-convert:hover {\n",
              "      background-color: #434B5C;\n",
              "      box-shadow: 0px 1px 3px 1px rgba(0, 0, 0, 0.15);\n",
              "      filter: drop-shadow(0px 1px 2px rgba(0, 0, 0, 0.3));\n",
              "      fill: #FFFFFF;\n",
              "    }\n",
              "  </style>\n",
              "\n",
              "      <script>\n",
              "        const buttonEl =\n",
              "          document.querySelector('#df-62077c39-b4af-49e5-bd44-72a80b05db67 button.colab-df-convert');\n",
              "        buttonEl.style.display =\n",
              "          google.colab.kernel.accessAllowed ? 'block' : 'none';\n",
              "\n",
              "        async function convertToInteractive(key) {\n",
              "          const element = document.querySelector('#df-62077c39-b4af-49e5-bd44-72a80b05db67');\n",
              "          const dataTable =\n",
              "            await google.colab.kernel.invokeFunction('convertToInteractive',\n",
              "                                                     [key], {});\n",
              "          if (!dataTable) return;\n",
              "\n",
              "          const docLinkHtml = 'Like what you see? Visit the ' +\n",
              "            '<a target=\"_blank\" href=https://colab.research.google.com/notebooks/data_table.ipynb>data table notebook</a>'\n",
              "            + ' to learn more about interactive tables.';\n",
              "          element.innerHTML = '';\n",
              "          dataTable['output_type'] = 'display_data';\n",
              "          await google.colab.output.renderOutput(dataTable, element);\n",
              "          const docLink = document.createElement('div');\n",
              "          docLink.innerHTML = docLinkHtml;\n",
              "          element.appendChild(docLink);\n",
              "        }\n",
              "      </script>\n",
              "    </div>\n",
              "  </div>\n",
              "  "
            ]
          },
          "metadata": {},
          "execution_count": 82
        }
      ]
    },
    {
      "cell_type": "markdown",
      "source": [
        "## Penghapusan Stopwords"
      ],
      "metadata": {
        "id": "ysy5oMDtW30x"
      }
    },
    {
      "cell_type": "code",
      "source": [
        "!pip install PySastrawi"
      ],
      "metadata": {
        "colab": {
          "base_uri": "https://localhost:8080/"
        },
        "id": "xMencTbVePao",
        "outputId": "cf3e0d66-237c-473c-9e36-020358e407bb"
      },
      "execution_count": null,
      "outputs": [
        {
          "output_type": "stream",
          "name": "stdout",
          "text": [
            "Requirement already satisfied: PySastrawi in /usr/local/lib/python3.10/dist-packages (1.2.0)\n"
          ]
        }
      ]
    },
    {
      "cell_type": "code",
      "source": [
        "from Sastrawi.StopWordRemover.StopWordRemoverFactory import StopWordRemoverFactory\n",
        "\n",
        "factory = StopWordRemoverFactory()\n",
        "STOPWORDS = factory.get_stop_words()\n",
        "stopword_tambahan = ['dengan', 'eh', 'ah', 'jadi', 'psb', 'aku', 'biar', 'lah', 'dr', 'yg', 'nya', 'aja', 'klo', 'kalo', 'kalau', 'dah', 'tuh', 'mah', 'kan', 'nah', 'coy', 'emang', 'emg', 'memang', 'kale', 'kali', 'pa', 'pak', 'bpk', 'pk', 'tah', 'mah', 'd', 'kita', 'dah', 'dih', 'kamu', 'doang', 'ah']\n",
        "STOPWORDS += stopword_tambahan\n",
        "print(STOPWORDS)"
      ],
      "metadata": {
        "colab": {
          "base_uri": "https://localhost:8080/"
        },
        "id": "C8arbgRWXAye",
        "outputId": "8e727ce4-dbe2-4b3b-c8ec-b7eb1e369043"
      },
      "execution_count": null,
      "outputs": [
        {
          "output_type": "stream",
          "name": "stdout",
          "text": [
            "['a', 'ada', 'adalah', 'adanya', 'adapun', 'agak', 'agaknya', 'agar', 'akan', 'akankah', 'akhir', 'akhiri', 'akhirnya', 'aku', 'akulah', 'amat', 'amatlah', 'anda', 'andalah', 'antar', 'antara', 'antaranya', 'apa', 'apaan', 'apabila', 'apakah', 'apalagi', 'apatah', 'arti', 'artinya', 'asal', 'asalkan', 'atas', 'atau', 'ataukah', 'ataupun', 'awal', 'awalnya', 'b', 'bagai', 'bagaikan', 'bagaimana', 'bagaimanakah', 'bagaimanapun', 'bagainamakah', 'bagi', 'bagian', 'bahkan', 'bahwa', 'bahwasannya', 'bahwasanya', 'baik', 'baiklah', 'bakal', 'bakalan', 'balik', 'banyak', 'bapak', 'baru', 'bawah', 'beberapa', 'begini', 'beginian', 'beginikah', 'beginilah', 'begitu', 'begitukah', 'begitulah', 'begitupun', 'bekerja', 'belakang', 'belakangan', 'belum', 'belumlah', 'benar', 'benarkah', 'benarlah', 'berada', 'berakhir', 'berakhirlah', 'berakhirnya', 'berapa', 'berapakah', 'berapalah', 'berapapun', 'berarti', 'berawal', 'berbagai', 'berdatangan', 'beri', 'berikan', 'berikut', 'berikutnya', 'berjumlah', 'berkali-kali', 'berkata', 'berkehendak', 'berkeinginan', 'berkenaan', 'berlainan', 'berlalu', 'berlangsung', 'berlebihan', 'bermacam', 'bermacam-macam', 'bermaksud', 'bermula', 'bersama', 'bersama-sama', 'bersiap', 'bersiap-siap', 'bertanya', 'bertanya-tanya', 'berturut', 'berturut-turut', 'bertutur', 'berujar', 'berupa', 'besar', 'betul', 'betulkah', 'biasa', 'biasanya', 'bila', 'bilakah', 'bisa', 'bisakah', 'boleh', 'bolehkah', 'bolehlah', 'buat', 'bukan', 'bukankah', 'bukanlah', 'bukannya', 'bulan', 'bung', 'c', 'cara', 'caranya', 'cukup', 'cukupkah', 'cukuplah', 'cuma', 'd', 'dahulu', 'dalam', 'dan', 'dapat', 'dari', 'daripada', 'datang', 'dekat', 'demi', 'demikian', 'demikianlah', 'dengan', 'depan', 'di', 'dia', 'diakhiri', 'diakhirinya', 'dialah', 'diantara', 'diantaranya', 'diberi', 'diberikan', 'diberikannya', 'dibuat', 'dibuatnya', 'didapat', 'didatangkan', 'digunakan', 'diibaratkan', 'diibaratkannya', 'diingat', 'diingatkan', 'diinginkan', 'dijawab', 'dijelaskan', 'dijelaskannya', 'dikarenakan', 'dikatakan', 'dikatakannya', 'dikerjakan', 'diketahui', 'diketahuinya', 'dikira', 'dilakukan', 'dilalui', 'dilihat', 'dimaksud', 'dimaksudkan', 'dimaksudkannya', 'dimaksudnya', 'diminta', 'dimintai', 'dimisalkan', 'dimulai', 'dimulailah', 'dimulainya', 'dimungkinkan', 'dini', 'dipastikan', 'diperbuat', 'diperbuatnya', 'dipergunakan', 'diperkirakan', 'diperlihatkan', 'diperlukan', 'diperlukannya', 'dipersoalkan', 'dipertanyakan', 'dipunyai', 'diri', 'dirinya', 'disampaikan', 'disebut', 'disebutkan', 'disebutkannya', 'disini', 'disinilah', 'ditambahkan', 'ditandaskan', 'ditanya', 'ditanyai', 'ditanyakan', 'ditegaskan', 'ditujukan', 'ditunjuk', 'ditunjuki', 'ditunjukkan', 'ditunjukkannya', 'ditunjuknya', 'dituturkan', 'dituturkannya', 'diucapkan', 'diucapkannya', 'diungkapkan', 'dong', 'dua', 'dulu', 'e', 'empat', 'enak', 'enggak', 'enggaknya', 'entah', 'entahlah', 'f', 'g', 'guna', 'gunakan', 'h', 'hadap', 'hai', 'hal', 'halo', 'hallo', 'hampir', 'hanya', 'hanyalah', 'hari', 'harus', 'haruslah', 'harusnya', 'helo', 'hello', 'hendak', 'hendaklah', 'hendaknya', 'hingga', 'i', 'ia', 'ialah', 'ibarat', 'ibaratkan', 'ibaratnya', 'ibu', 'ikut', 'ingat', 'ingat-ingat', 'ingin', 'inginkah', 'inginkan', 'ini', 'inikah', 'inilah', 'itu', 'itukah', 'itulah', 'j', 'jadi', 'jadilah', 'jadinya', 'jangan', 'jangankan', 'janganlah', 'jauh', 'jawab', 'jawaban', 'jawabnya', 'jelas', 'jelaskan', 'jelaslah', 'jelasnya', 'jika', 'jikalau', 'juga', 'jumlah', 'jumlahnya', 'justru', 'k', 'kadar', 'kala', 'kalau', 'kalaulah', 'kalaupun', 'kali', 'kalian', 'kami', 'kamilah', 'kamu', 'kamulah', 'kan', 'kapan', 'kapankah', 'kapanpun', 'karena', 'karenanya', 'kasus', 'kata', 'katakan', 'katakanlah', 'katanya', 'ke', 'keadaan', 'kebetulan', 'kecil', 'kedua', 'keduanya', 'keinginan', 'kelamaan', 'kelihatan', 'kelihatannya', 'kelima', 'keluar', 'kembali', 'kemudian', 'kemungkinan', 'kemungkinannya', 'kena', 'kenapa', 'kepada', 'kepadanya', 'kerja', 'kesampaian', 'keseluruhan', 'keseluruhannya', 'keterlaluan', 'ketika', 'khusus', 'khususnya', 'kini', 'kinilah', 'kira', 'kira-kira', 'kiranya', 'kita', 'kitalah', 'kok', 'kurang', 'l', 'lagi', 'lagian', 'lah', 'lain', 'lainnya', 'laku', 'lalu', 'lama', 'lamanya', 'langsung', 'lanjut', 'lanjutnya', 'lebih', 'lewat', 'lihat', 'lima', 'luar', 'm', 'macam', 'maka', 'makanya', 'makin', 'maksud', 'malah', 'malahan', 'mampu', 'mampukah', 'mana', 'manakala', 'manalagi', 'masa', 'masalah', 'masalahnya', 'masih', 'masihkah', 'masing', 'masing-masing', 'masuk', 'mata', 'mau', 'maupun', 'melainkan', 'melakukan', 'melalui', 'melihat', 'melihatnya', 'memang', 'memastikan', 'memberi', 'memberikan', 'membuat', 'memerlukan', 'memihak', 'meminta', 'memintakan', 'memisalkan', 'memperbuat', 'mempergunakan', 'memperkirakan', 'memperlihatkan', 'mempersiapkan', 'mempersoalkan', 'mempertanyakan', 'mempunyai', 'memulai', 'memungkinkan', 'menaiki', 'menambahkan', 'menandaskan', 'menanti', 'menanti-nanti', 'menantikan', 'menanya', 'menanyai', 'menanyakan', 'mendapat', 'mendapatkan', 'mendatang', 'mendatangi', 'mendatangkan', 'menegaskan', 'mengakhiri', 'mengapa', 'mengatakan', 'mengatakannya', 'mengenai', 'mengerjakan', 'mengetahui', 'menggunakan', 'menghendaki', 'mengibaratkan', 'mengibaratkannya', 'mengingat', 'mengingatkan', 'menginginkan', 'mengira', 'mengucapkan', 'mengucapkannya', 'mengungkapkan', 'menjadi', 'menjawab', 'menjelaskan', 'menuju', 'menunjuk', 'menunjuki', 'menunjukkan', 'menunjuknya', 'menurut', 'menuturkan', 'menyampaikan', 'menyangkut', 'menyatakan', 'menyebutkan', 'menyeluruh', 'menyiapkan', 'merasa', 'mereka', 'merekalah', 'merupakan', 'meski', 'meskipun', 'meyakini', 'meyakinkan', 'minta', 'mirip', 'misal', 'misalkan', 'misalnya', 'mohon', 'mula', 'mulai', 'mulailah', 'mulanya', 'mungkin', 'mungkinkah', 'n', 'nah', 'naik', 'namun', 'nanti', 'nantinya', 'nya', 'nyaris', 'nyata', 'nyatanya', 'o', 'oleh', 'olehnya', 'orang', 'p', 'pada', 'padahal', 'padanya', 'pak', 'paling', 'panjang', 'pantas', 'para', 'pasti', 'pastilah', 'penting', 'pentingnya', 'per', 'percuma', 'perlu', 'perlukah', 'perlunya', 'pernah', 'persoalan', 'pertama', 'pertama-tama', 'pertanyaan', 'pertanyakan', 'pihak', 'pihaknya', 'pukul', 'pula', 'pun', 'punya', 'q', 'r', 'rasa', 'rasanya', 'rupa', 'rupanya', 's', 'saat', 'saatnya', 'saja', 'sajalah', 'salam', 'saling', 'sama', 'sama-sama', 'sambil', 'sampai', 'sampai-sampai', 'sampaikan', 'sana', 'sangat', 'sangatlah', 'sangkut', 'satu', 'saya', 'sayalah', 'se', 'sebab', 'sebabnya', 'sebagai', 'sebagaimana', 'sebagainya', 'sebagian', 'sebaik', 'sebaik-baiknya', 'sebaiknya', 'sebaliknya', 'sebanyak', 'sebegini', 'sebegitu', 'sebelum', 'sebelumnya', 'sebenarnya', 'seberapa', 'sebesar', 'sebetulnya', 'sebisanya', 'sebuah', 'sebut', 'sebutlah', 'sebutnya', 'secara', 'secukupnya', 'sedang', 'sedangkan', 'sedemikian', 'sedikit', 'sedikitnya', 'seenaknya', 'segala', 'segalanya', 'segera', 'seharusnya', 'sehingga', 'seingat', 'sejak', 'sejauh', 'sejenak', 'sejumlah', 'sekadar', 'sekadarnya', 'sekali', 'sekali-kali', 'sekalian', 'sekaligus', 'sekalipun', 'sekarang', 'sekaranglah', 'sekecil', 'seketika', 'sekiranya', 'sekitar', 'sekitarnya', 'sekurang-kurangnya', 'sekurangnya', 'sela', 'selain', 'selaku', 'selalu', 'selama', 'selama-lamanya', 'selamanya', 'selanjutnya', 'seluruh', 'seluruhnya', 'semacam', 'semakin', 'semampu', 'semampunya', 'semasa', 'semasih', 'semata', 'semata-mata', 'semaunya', 'sementara', 'semisal', 'semisalnya', 'sempat', 'semua', 'semuanya', 'semula', 'sendiri', 'sendirian', 'sendirinya', 'seolah', 'seolah-olah', 'seorang', 'sepanjang', 'sepantasnya', 'sepantasnyalah', 'seperlunya', 'seperti', 'sepertinya', 'sepihak', 'sering', 'seringnya', 'serta', 'serupa', 'sesaat', 'sesama', 'sesampai', 'sesegera', 'sesekali', 'seseorang', 'sesuatu', 'sesuatunya', 'sesudah', 'sesudahnya', 'setelah', 'setempat', 'setengah', 'seterusnya', 'setiap', 'setiba', 'setibanya', 'setidak-tidaknya', 'setidaknya', 'setinggi', 'seusai', 'sewaktu', 'siap', 'siapa', 'siapakah', 'siapapun', 'sini', 'sinilah', 'soal', 'soalnya', 'suatu', 'sudah', 'sudahkah', 'sudahlah', 'supaya', 't', 'tadi', 'tadinya', 'tahu', 'tak', 'tambah', 'tambahnya', 'tampak', 'tampaknya', 'tandas', 'tandasnya', 'tanpa', 'tanya', 'tanyakan', 'tanyanya', 'tapi', 'tegas', 'tegasnya', 'telah', 'tempat', 'tentang', 'tentu', 'tentulah', 'tentunya', 'tepat', 'terakhir', 'terasa', 'terbanyak', 'terdahulu', 'terdapat', 'terdiri', 'terhadap', 'terhadapnya', 'teringat', 'teringat-ingat', 'terjadi', 'terjadilah', 'terjadinya', 'terkira', 'terlalu', 'terlebih', 'terlihat', 'termasuk', 'ternyata', 'tersampaikan', 'tersebut', 'tersebutlah', 'tertentu', 'tertuju', 'terus', 'terutama', 'tetap', 'tetapi', 'tiap', 'tiba', 'tiba-tiba', 'tidak', 'tidakkah', 'tidaklah', 'tiga', 'toh', 'tuju', 'tunjuk', 'turut', 'tutur', 'tuturnya', 'u', 'ucap', 'ucapnya', 'ujar', 'ujarnya', 'umumnya', 'ungkap', 'ungkapnya', 'untuk', 'usah', 'usai', 'v', 'w', 'waduh', 'wah', 'wahai', 'waktunya', 'walau', 'walaupun', 'wong', 'x', 'y', 'ya', 'yaitu', 'yakin', 'yakni', 'yang', 'z', 'dengan', 'eh', 'ah', 'jadi', 'psb', 'aku', 'biar', 'lah', 'dr', 'yg', 'nya', 'aja', 'klo', 'kalo', 'kalau', 'dah', 'tuh', 'mah', 'kan', 'nah', 'coy', 'emang', 'emg', 'memang', 'kale', 'kali', 'pa', 'pak', 'bpk', 'pk', 'tah', 'mah', 'd', 'kita', 'dah', 'dih', 'kamu', 'doang', 'ah']\n"
          ]
        }
      ]
    },
    {
      "cell_type": "code",
      "source": [
        "col_before = \"text_wo_abb\"\n",
        "col_after= \"text_wo_stopwd\"\n",
        "\n",
        "def hapus_stopwords(kalimat, STOPWORDS):\n",
        "  kata_kalimat = kalimat.split() # Membagi teks menjadi daftar kata terpisah\n",
        "  kata_terfilter = [kata for kata in kata_kalimat if kata not in STOPWORDS] # Membuat daftar kata yang tidak ada di stopwords\n",
        "  kalimat_tanpa_stopwords = ' '.join(kata_terfilter) # Menggabungkan kembali kata-kata\n",
        "  return kalimat_tanpa_stopwords\n",
        "labeled_data[col_after] = labeled_data[col_before].apply(lambda text: hapus_stopwords(text, STOPWORDS))\n",
        "\n",
        "# Sampel\n",
        "def cari_kolom_stopwords(kalimat, STOPWORDS):\n",
        "  kata_kalimat = kalimat.split()\n",
        "  for kata in kata_kalimat:\n",
        "    if kata in STOPWORDS:\n",
        "      return True\n",
        "  return False\n",
        "labeled_data.loc[labeled_data[col_before].apply(lambda teks: cari_kata_singkatan(teks, STOPWORDS))].sample(5)"
      ],
      "metadata": {
        "colab": {
          "base_uri": "https://localhost:8080/",
          "height": 441
        },
        "id": "WVq4OoZ7gMt0",
        "outputId": "b68f782b-5e8c-4dca-e76c-ed9c6f622ade"
      },
      "execution_count": null,
      "outputs": [
        {
          "output_type": "execute_result",
          "data": {
            "text/plain": [
              "                                                  text  votes  label  \\\n",
              "45   nanti dajal turun ke bumi dalam bentuk ai kaya...      0      0   \n",
              "769  kayaknya liburan ke alam terbuka masih sulit d...      0      2   \n",
              "185  luar biasa... terima kasih dr indra udh share ...      0      3   \n",
              "422  ai ketika mempunyai kesadaran  manusia,\\nmaka ...      0      0   \n",
              "868                           agak ngeri emang a.i ini      1      0   \n",
              "\n",
              "                                         text_wo_punct  \\\n",
              "45   nanti dajal turun ke bumi dalam bentuk ai kaya...   \n",
              "769  kayaknya liburan ke alam terbuka masih sulit d...   \n",
              "185  luar biasa    terima kasih dr indra udh share ...   \n",
              "422  ai ketika mempunyai kesadaran  manusia  maka m...   \n",
              "868                           agak ngeri emang a i ini   \n",
              "\n",
              "                                           text_custom  \\\n",
              "45   nanti dajal turun ke bumi dalam bentuk ai kaya...   \n",
              "769  kayaknya liburan ke alam terbuka masih sulit d...   \n",
              "185  luar biasa terima kasih dr indra udh share vid...   \n",
              "422  ai ketika mempunyai kesadaran manusia maka man...   \n",
              "868                           agak ngeri emang a i ini   \n",
              "\n",
              "                                         text_wo_emoji  \\\n",
              "45   nanti dajal turun ke bumi dalam bentuk ai kaya...   \n",
              "769  kayaknya liburan ke alam terbuka masih sulit d...   \n",
              "185  luar biasa terima kasih dr indra udh share vid...   \n",
              "422  ai ketika mempunyai kesadaran manusia maka man...   \n",
              "868                           agak ngeri emang a i ini   \n",
              "\n",
              "                                           text_wo_abb  \\\n",
              "45   nanti dajal turun ke bumi dalam bentuk ai kaya...   \n",
              "769  kayaknya liburan ke alam terbuka masih sulit d...   \n",
              "185  luar biasa terima kasih dari indra udh share v...   \n",
              "422  ai ketika mempunyai kesadaran manusia maka man...   \n",
              "868                           agak ngeri emang a i ini   \n",
              "\n",
              "                                        text_wo_stopwd  \n",
              "45              dajal turun bumi bentuk ai kaya ultron  \n",
              "769  kayaknya liburan alam terbuka sulit digantikan...  \n",
              "185  terima kasih indra udh share video mantap peng...  \n",
              "422                 ai kesadaran manusia manusia punah  \n",
              "868                                              ngeri  "
            ],
            "text/html": [
              "\n",
              "  <div id=\"df-32f721e8-7b11-4d58-a4a6-1304e835a52f\">\n",
              "    <div class=\"colab-df-container\">\n",
              "      <div>\n",
              "<style scoped>\n",
              "    .dataframe tbody tr th:only-of-type {\n",
              "        vertical-align: middle;\n",
              "    }\n",
              "\n",
              "    .dataframe tbody tr th {\n",
              "        vertical-align: top;\n",
              "    }\n",
              "\n",
              "    .dataframe thead th {\n",
              "        text-align: right;\n",
              "    }\n",
              "</style>\n",
              "<table border=\"1\" class=\"dataframe\">\n",
              "  <thead>\n",
              "    <tr style=\"text-align: right;\">\n",
              "      <th></th>\n",
              "      <th>text</th>\n",
              "      <th>votes</th>\n",
              "      <th>label</th>\n",
              "      <th>text_wo_punct</th>\n",
              "      <th>text_custom</th>\n",
              "      <th>text_wo_emoji</th>\n",
              "      <th>text_wo_abb</th>\n",
              "      <th>text_wo_stopwd</th>\n",
              "    </tr>\n",
              "  </thead>\n",
              "  <tbody>\n",
              "    <tr>\n",
              "      <th>45</th>\n",
              "      <td>nanti dajal turun ke bumi dalam bentuk ai kaya...</td>\n",
              "      <td>0</td>\n",
              "      <td>0</td>\n",
              "      <td>nanti dajal turun ke bumi dalam bentuk ai kaya...</td>\n",
              "      <td>nanti dajal turun ke bumi dalam bentuk ai kaya...</td>\n",
              "      <td>nanti dajal turun ke bumi dalam bentuk ai kaya...</td>\n",
              "      <td>nanti dajal turun ke bumi dalam bentuk ai kaya...</td>\n",
              "      <td>dajal turun bumi bentuk ai kaya ultron</td>\n",
              "    </tr>\n",
              "    <tr>\n",
              "      <th>769</th>\n",
              "      <td>kayaknya liburan ke alam terbuka masih sulit d...</td>\n",
              "      <td>0</td>\n",
              "      <td>2</td>\n",
              "      <td>kayaknya liburan ke alam terbuka masih sulit d...</td>\n",
              "      <td>kayaknya liburan ke alam terbuka masih sulit d...</td>\n",
              "      <td>kayaknya liburan ke alam terbuka masih sulit d...</td>\n",
              "      <td>kayaknya liburan ke alam terbuka masih sulit d...</td>\n",
              "      <td>kayaknya liburan alam terbuka sulit digantikan...</td>\n",
              "    </tr>\n",
              "    <tr>\n",
              "      <th>185</th>\n",
              "      <td>luar biasa... terima kasih dr indra udh share ...</td>\n",
              "      <td>0</td>\n",
              "      <td>3</td>\n",
              "      <td>luar biasa    terima kasih dr indra udh share ...</td>\n",
              "      <td>luar biasa terima kasih dr indra udh share vid...</td>\n",
              "      <td>luar biasa terima kasih dr indra udh share vid...</td>\n",
              "      <td>luar biasa terima kasih dari indra udh share v...</td>\n",
              "      <td>terima kasih indra udh share video mantap peng...</td>\n",
              "    </tr>\n",
              "    <tr>\n",
              "      <th>422</th>\n",
              "      <td>ai ketika mempunyai kesadaran  manusia,\\nmaka ...</td>\n",
              "      <td>0</td>\n",
              "      <td>0</td>\n",
              "      <td>ai ketika mempunyai kesadaran  manusia  maka m...</td>\n",
              "      <td>ai ketika mempunyai kesadaran manusia maka man...</td>\n",
              "      <td>ai ketika mempunyai kesadaran manusia maka man...</td>\n",
              "      <td>ai ketika mempunyai kesadaran manusia maka man...</td>\n",
              "      <td>ai kesadaran manusia manusia punah</td>\n",
              "    </tr>\n",
              "    <tr>\n",
              "      <th>868</th>\n",
              "      <td>agak ngeri emang a.i ini</td>\n",
              "      <td>1</td>\n",
              "      <td>0</td>\n",
              "      <td>agak ngeri emang a i ini</td>\n",
              "      <td>agak ngeri emang a i ini</td>\n",
              "      <td>agak ngeri emang a i ini</td>\n",
              "      <td>agak ngeri emang a i ini</td>\n",
              "      <td>ngeri</td>\n",
              "    </tr>\n",
              "  </tbody>\n",
              "</table>\n",
              "</div>\n",
              "      <button class=\"colab-df-convert\" onclick=\"convertToInteractive('df-32f721e8-7b11-4d58-a4a6-1304e835a52f')\"\n",
              "              title=\"Convert this dataframe to an interactive table.\"\n",
              "              style=\"display:none;\">\n",
              "        \n",
              "  <svg xmlns=\"http://www.w3.org/2000/svg\" height=\"24px\"viewBox=\"0 0 24 24\"\n",
              "       width=\"24px\">\n",
              "    <path d=\"M0 0h24v24H0V0z\" fill=\"none\"/>\n",
              "    <path d=\"M18.56 5.44l.94 2.06.94-2.06 2.06-.94-2.06-.94-.94-2.06-.94 2.06-2.06.94zm-11 1L8.5 8.5l.94-2.06 2.06-.94-2.06-.94L8.5 2.5l-.94 2.06-2.06.94zm10 10l.94 2.06.94-2.06 2.06-.94-2.06-.94-.94-2.06-.94 2.06-2.06.94z\"/><path d=\"M17.41 7.96l-1.37-1.37c-.4-.4-.92-.59-1.43-.59-.52 0-1.04.2-1.43.59L10.3 9.45l-7.72 7.72c-.78.78-.78 2.05 0 2.83L4 21.41c.39.39.9.59 1.41.59.51 0 1.02-.2 1.41-.59l7.78-7.78 2.81-2.81c.8-.78.8-2.07 0-2.86zM5.41 20L4 18.59l7.72-7.72 1.47 1.35L5.41 20z\"/>\n",
              "  </svg>\n",
              "      </button>\n",
              "      \n",
              "  <style>\n",
              "    .colab-df-container {\n",
              "      display:flex;\n",
              "      flex-wrap:wrap;\n",
              "      gap: 12px;\n",
              "    }\n",
              "\n",
              "    .colab-df-convert {\n",
              "      background-color: #E8F0FE;\n",
              "      border: none;\n",
              "      border-radius: 50%;\n",
              "      cursor: pointer;\n",
              "      display: none;\n",
              "      fill: #1967D2;\n",
              "      height: 32px;\n",
              "      padding: 0 0 0 0;\n",
              "      width: 32px;\n",
              "    }\n",
              "\n",
              "    .colab-df-convert:hover {\n",
              "      background-color: #E2EBFA;\n",
              "      box-shadow: 0px 1px 2px rgba(60, 64, 67, 0.3), 0px 1px 3px 1px rgba(60, 64, 67, 0.15);\n",
              "      fill: #174EA6;\n",
              "    }\n",
              "\n",
              "    [theme=dark] .colab-df-convert {\n",
              "      background-color: #3B4455;\n",
              "      fill: #D2E3FC;\n",
              "    }\n",
              "\n",
              "    [theme=dark] .colab-df-convert:hover {\n",
              "      background-color: #434B5C;\n",
              "      box-shadow: 0px 1px 3px 1px rgba(0, 0, 0, 0.15);\n",
              "      filter: drop-shadow(0px 1px 2px rgba(0, 0, 0, 0.3));\n",
              "      fill: #FFFFFF;\n",
              "    }\n",
              "  </style>\n",
              "\n",
              "      <script>\n",
              "        const buttonEl =\n",
              "          document.querySelector('#df-32f721e8-7b11-4d58-a4a6-1304e835a52f button.colab-df-convert');\n",
              "        buttonEl.style.display =\n",
              "          google.colab.kernel.accessAllowed ? 'block' : 'none';\n",
              "\n",
              "        async function convertToInteractive(key) {\n",
              "          const element = document.querySelector('#df-32f721e8-7b11-4d58-a4a6-1304e835a52f');\n",
              "          const dataTable =\n",
              "            await google.colab.kernel.invokeFunction('convertToInteractive',\n",
              "                                                     [key], {});\n",
              "          if (!dataTable) return;\n",
              "\n",
              "          const docLinkHtml = 'Like what you see? Visit the ' +\n",
              "            '<a target=\"_blank\" href=https://colab.research.google.com/notebooks/data_table.ipynb>data table notebook</a>'\n",
              "            + ' to learn more about interactive tables.';\n",
              "          element.innerHTML = '';\n",
              "          dataTable['output_type'] = 'display_data';\n",
              "          await google.colab.output.renderOutput(dataTable, element);\n",
              "          const docLink = document.createElement('div');\n",
              "          docLink.innerHTML = docLinkHtml;\n",
              "          element.appendChild(docLink);\n",
              "        }\n",
              "      </script>\n",
              "    </div>\n",
              "  </div>\n",
              "  "
            ]
          },
          "metadata": {},
          "execution_count": 85
        }
      ]
    },
    {
      "cell_type": "markdown",
      "source": [
        "## Stemming"
      ],
      "metadata": {
        "id": "8jZcOhUVYcQW"
      }
    },
    {
      "cell_type": "code",
      "source": [
        "from Sastrawi.Stemmer.StemmerFactory import StemmerFactory\n",
        "\n",
        "col_before = \"text_wo_stopwd\"\n",
        "col_after= \"text_stemmed\"\n",
        "\n",
        "factory = StemmerFactory()\n",
        "stemmer = factory.create_stemmer()\n",
        "\n",
        "def stem_teks(kalimat):\n",
        "  kata_kalimat = kalimat.split()\n",
        "  kalimat_terstem = ' '.join([stemmer.stem(kata) for kata in kata_kalimat])\n",
        "  return kalimat_terstem\n",
        "labeled_data[col_after] = labeled_data[col_before].apply(stem_teks)\n",
        "\n",
        "# Sampel\n",
        "labeled_data.sample(5)"
      ],
      "metadata": {
        "colab": {
          "base_uri": "https://localhost:8080/",
          "height": 548
        },
        "id": "NbzX78vpji3h",
        "outputId": "7bd685e5-6454-4f86-855d-dcd305ce7eaa"
      },
      "execution_count": null,
      "outputs": [
        {
          "output_type": "execute_result",
          "data": {
            "text/plain": [
              "                                                  text  votes  label  \\\n",
              "847  kalo punya kesadaran beberapa decade kedepan, ...      0      3   \n",
              "314  ai ,saat ini baru sebatas,mengajari teori, blo...      0      2   \n",
              "525  mas izan pasti pernah nonton serial movie \"per...      0      3   \n",
              "101  kecuali ada ledakan emp super massive entah da...      0      0   \n",
              "249                   chat gpt sedang memata matai 🤣🤣🤣      0      3   \n",
              "\n",
              "                                         text_wo_punct  \\\n",
              "847  kalo punya kesadaran beberapa decade kedepan  ...   \n",
              "314  ai  saat ini baru sebatas mengajari teori  blo...   \n",
              "525  mas izan pasti pernah nonton serial movie  per...   \n",
              "101  kecuali ada ledakan emp super massive entah da...   \n",
              "249                   chat gpt sedang memata matai 🤣🤣🤣   \n",
              "\n",
              "                                           text_custom  \\\n",
              "847  kalo punya kesadaran beberapa decade kedepan b...   \n",
              "314  ai saat ini baru sebatas mengajari teori blom ...   \n",
              "525  mas izan pasti pernah nonton serial movie pers...   \n",
              "101  kecuali ada ledakan emp super massive entah da...   \n",
              "249                     chat gpt sedang memata matai 🤣   \n",
              "\n",
              "                                         text_wo_emoji  \\\n",
              "847  kalo punya kesadaran beberapa decade kedepan b...   \n",
              "314  ai saat ini baru sebatas mengajari teori blom ...   \n",
              "525  mas izan pasti pernah nonton serial movie pers...   \n",
              "101  kecuali ada ledakan emp super massive entah da...   \n",
              "249                      chat gpt sedang memata matai    \n",
              "\n",
              "                                           text_wo_abb  \\\n",
              "847  kalau punya kesadaran beberapa decade kedepan ...   \n",
              "314  ai saat ini baru sebatas mengajari teori blom ...   \n",
              "525  mas izan pasti pernah nonton serial movie pers...   \n",
              "101  kecuali ada ledakan emp super massive entah da...   \n",
              "249                       chat gpt sedang memata matai   \n",
              "\n",
              "                                        text_wo_stopwd  \\\n",
              "847         kesadaran decade kedepan baymax dibikin xd   \n",
              "314  ai sebatas mengajari teori blom praktek menguasai   \n",
              "525    mas izan nonton serial movie person of interest   \n",
              "101  kecuali ledakan emp super massive alami nuklir...   \n",
              "249                              chat gpt memata matai   \n",
              "\n",
              "                                          text_stemmed  \n",
              "847                 sadar decade depan baymax bikin xd  \n",
              "314             ai batas ajar teori blom praktek kuasa  \n",
              "525    mas izan nonton serial movie person of interest  \n",
              "101  kecuali ledak emp super massive alami nuklir l...  \n",
              "249                                 chat gpt mata mata  "
            ],
            "text/html": [
              "\n",
              "  <div id=\"df-2df636c8-1370-45f1-bdc1-8854bd5fcfdb\">\n",
              "    <div class=\"colab-df-container\">\n",
              "      <div>\n",
              "<style scoped>\n",
              "    .dataframe tbody tr th:only-of-type {\n",
              "        vertical-align: middle;\n",
              "    }\n",
              "\n",
              "    .dataframe tbody tr th {\n",
              "        vertical-align: top;\n",
              "    }\n",
              "\n",
              "    .dataframe thead th {\n",
              "        text-align: right;\n",
              "    }\n",
              "</style>\n",
              "<table border=\"1\" class=\"dataframe\">\n",
              "  <thead>\n",
              "    <tr style=\"text-align: right;\">\n",
              "      <th></th>\n",
              "      <th>text</th>\n",
              "      <th>votes</th>\n",
              "      <th>label</th>\n",
              "      <th>text_wo_punct</th>\n",
              "      <th>text_custom</th>\n",
              "      <th>text_wo_emoji</th>\n",
              "      <th>text_wo_abb</th>\n",
              "      <th>text_wo_stopwd</th>\n",
              "      <th>text_stemmed</th>\n",
              "    </tr>\n",
              "  </thead>\n",
              "  <tbody>\n",
              "    <tr>\n",
              "      <th>847</th>\n",
              "      <td>kalo punya kesadaran beberapa decade kedepan, ...</td>\n",
              "      <td>0</td>\n",
              "      <td>3</td>\n",
              "      <td>kalo punya kesadaran beberapa decade kedepan  ...</td>\n",
              "      <td>kalo punya kesadaran beberapa decade kedepan b...</td>\n",
              "      <td>kalo punya kesadaran beberapa decade kedepan b...</td>\n",
              "      <td>kalau punya kesadaran beberapa decade kedepan ...</td>\n",
              "      <td>kesadaran decade kedepan baymax dibikin xd</td>\n",
              "      <td>sadar decade depan baymax bikin xd</td>\n",
              "    </tr>\n",
              "    <tr>\n",
              "      <th>314</th>\n",
              "      <td>ai ,saat ini baru sebatas,mengajari teori, blo...</td>\n",
              "      <td>0</td>\n",
              "      <td>2</td>\n",
              "      <td>ai  saat ini baru sebatas mengajari teori  blo...</td>\n",
              "      <td>ai saat ini baru sebatas mengajari teori blom ...</td>\n",
              "      <td>ai saat ini baru sebatas mengajari teori blom ...</td>\n",
              "      <td>ai saat ini baru sebatas mengajari teori blom ...</td>\n",
              "      <td>ai sebatas mengajari teori blom praktek menguasai</td>\n",
              "      <td>ai batas ajar teori blom praktek kuasa</td>\n",
              "    </tr>\n",
              "    <tr>\n",
              "      <th>525</th>\n",
              "      <td>mas izan pasti pernah nonton serial movie \"per...</td>\n",
              "      <td>0</td>\n",
              "      <td>3</td>\n",
              "      <td>mas izan pasti pernah nonton serial movie  per...</td>\n",
              "      <td>mas izan pasti pernah nonton serial movie pers...</td>\n",
              "      <td>mas izan pasti pernah nonton serial movie pers...</td>\n",
              "      <td>mas izan pasti pernah nonton serial movie pers...</td>\n",
              "      <td>mas izan nonton serial movie person of interest</td>\n",
              "      <td>mas izan nonton serial movie person of interest</td>\n",
              "    </tr>\n",
              "    <tr>\n",
              "      <th>101</th>\n",
              "      <td>kecuali ada ledakan emp super massive entah da...</td>\n",
              "      <td>0</td>\n",
              "      <td>0</td>\n",
              "      <td>kecuali ada ledakan emp super massive entah da...</td>\n",
              "      <td>kecuali ada ledakan emp super massive entah da...</td>\n",
              "      <td>kecuali ada ledakan emp super massive entah da...</td>\n",
              "      <td>kecuali ada ledakan emp super massive entah da...</td>\n",
              "      <td>kecuali ledakan emp super massive alami nuklir...</td>\n",
              "      <td>kecuali ledak emp super massive alami nuklir l...</td>\n",
              "    </tr>\n",
              "    <tr>\n",
              "      <th>249</th>\n",
              "      <td>chat gpt sedang memata matai 🤣🤣🤣</td>\n",
              "      <td>0</td>\n",
              "      <td>3</td>\n",
              "      <td>chat gpt sedang memata matai 🤣🤣🤣</td>\n",
              "      <td>chat gpt sedang memata matai 🤣</td>\n",
              "      <td>chat gpt sedang memata matai</td>\n",
              "      <td>chat gpt sedang memata matai</td>\n",
              "      <td>chat gpt memata matai</td>\n",
              "      <td>chat gpt mata mata</td>\n",
              "    </tr>\n",
              "  </tbody>\n",
              "</table>\n",
              "</div>\n",
              "      <button class=\"colab-df-convert\" onclick=\"convertToInteractive('df-2df636c8-1370-45f1-bdc1-8854bd5fcfdb')\"\n",
              "              title=\"Convert this dataframe to an interactive table.\"\n",
              "              style=\"display:none;\">\n",
              "        \n",
              "  <svg xmlns=\"http://www.w3.org/2000/svg\" height=\"24px\"viewBox=\"0 0 24 24\"\n",
              "       width=\"24px\">\n",
              "    <path d=\"M0 0h24v24H0V0z\" fill=\"none\"/>\n",
              "    <path d=\"M18.56 5.44l.94 2.06.94-2.06 2.06-.94-2.06-.94-.94-2.06-.94 2.06-2.06.94zm-11 1L8.5 8.5l.94-2.06 2.06-.94-2.06-.94L8.5 2.5l-.94 2.06-2.06.94zm10 10l.94 2.06.94-2.06 2.06-.94-2.06-.94-.94-2.06-.94 2.06-2.06.94z\"/><path d=\"M17.41 7.96l-1.37-1.37c-.4-.4-.92-.59-1.43-.59-.52 0-1.04.2-1.43.59L10.3 9.45l-7.72 7.72c-.78.78-.78 2.05 0 2.83L4 21.41c.39.39.9.59 1.41.59.51 0 1.02-.2 1.41-.59l7.78-7.78 2.81-2.81c.8-.78.8-2.07 0-2.86zM5.41 20L4 18.59l7.72-7.72 1.47 1.35L5.41 20z\"/>\n",
              "  </svg>\n",
              "      </button>\n",
              "      \n",
              "  <style>\n",
              "    .colab-df-container {\n",
              "      display:flex;\n",
              "      flex-wrap:wrap;\n",
              "      gap: 12px;\n",
              "    }\n",
              "\n",
              "    .colab-df-convert {\n",
              "      background-color: #E8F0FE;\n",
              "      border: none;\n",
              "      border-radius: 50%;\n",
              "      cursor: pointer;\n",
              "      display: none;\n",
              "      fill: #1967D2;\n",
              "      height: 32px;\n",
              "      padding: 0 0 0 0;\n",
              "      width: 32px;\n",
              "    }\n",
              "\n",
              "    .colab-df-convert:hover {\n",
              "      background-color: #E2EBFA;\n",
              "      box-shadow: 0px 1px 2px rgba(60, 64, 67, 0.3), 0px 1px 3px 1px rgba(60, 64, 67, 0.15);\n",
              "      fill: #174EA6;\n",
              "    }\n",
              "\n",
              "    [theme=dark] .colab-df-convert {\n",
              "      background-color: #3B4455;\n",
              "      fill: #D2E3FC;\n",
              "    }\n",
              "\n",
              "    [theme=dark] .colab-df-convert:hover {\n",
              "      background-color: #434B5C;\n",
              "      box-shadow: 0px 1px 3px 1px rgba(0, 0, 0, 0.15);\n",
              "      filter: drop-shadow(0px 1px 2px rgba(0, 0, 0, 0.3));\n",
              "      fill: #FFFFFF;\n",
              "    }\n",
              "  </style>\n",
              "\n",
              "      <script>\n",
              "        const buttonEl =\n",
              "          document.querySelector('#df-2df636c8-1370-45f1-bdc1-8854bd5fcfdb button.colab-df-convert');\n",
              "        buttonEl.style.display =\n",
              "          google.colab.kernel.accessAllowed ? 'block' : 'none';\n",
              "\n",
              "        async function convertToInteractive(key) {\n",
              "          const element = document.querySelector('#df-2df636c8-1370-45f1-bdc1-8854bd5fcfdb');\n",
              "          const dataTable =\n",
              "            await google.colab.kernel.invokeFunction('convertToInteractive',\n",
              "                                                     [key], {});\n",
              "          if (!dataTable) return;\n",
              "\n",
              "          const docLinkHtml = 'Like what you see? Visit the ' +\n",
              "            '<a target=\"_blank\" href=https://colab.research.google.com/notebooks/data_table.ipynb>data table notebook</a>'\n",
              "            + ' to learn more about interactive tables.';\n",
              "          element.innerHTML = '';\n",
              "          dataTable['output_type'] = 'display_data';\n",
              "          await google.colab.output.renderOutput(dataTable, element);\n",
              "          const docLink = document.createElement('div');\n",
              "          docLink.innerHTML = docLinkHtml;\n",
              "          element.appendChild(docLink);\n",
              "        }\n",
              "      </script>\n",
              "    </div>\n",
              "  </div>\n",
              "  "
            ]
          },
          "metadata": {},
          "execution_count": 86
        }
      ]
    },
    {
      "cell_type": "markdown",
      "source": [
        "## Menghapus kata yang paling banyak dan paling jarang muncul"
      ],
      "metadata": {
        "id": "MPsGyzNjsTD6"
      }
    },
    {
      "cell_type": "code",
      "source": [
        "# Jumlah kata dan kata yang unik pada kolom\n",
        "kolom = labeled_data['text_stemmed']\n",
        "semua_kata = ' '.join(kolom)\n",
        "daftar_kata = semua_kata.split()\n",
        "jumlah_kata = len(daftar_kata)\n",
        "jumlah_kata_unik = len(set(daftar_kata))\n",
        "print(f\"Jumlah kata: {jumlah_kata}\")\n",
        "print(f\"Jumlah kata yang unik: {jumlah_kata_unik}\")\n",
        "\n",
        "kemunculan_kata = pd.Series(daftar_kata).value_counts()\n",
        "\n",
        "kata_unik_satu = kemunculan_kata[kemunculan_kata == 1].index.tolist()\n",
        "print(f\"Kata-kata unik yang hanya muncul sekali: {kata_unik_satu}\")\n",
        "print(f\"Total kata unik yang muncul sekali: {len(kata_unik_satu)}\")\n",
        "\n",
        "kata_unik_dua = kemunculan_kata[kemunculan_kata == 2].index.tolist()\n",
        "print(f\"Kata-kata unik yang hanya muncul dua kali: {kata_unik_dua}\")\n",
        "print(f\"Total kata unik yang muncul dua kali: {len(kata_unik_dua)}\")\n",
        "\n",
        "kata_unik_tiga = kemunculan_kata[kemunculan_kata == 3].index.tolist()\n",
        "print(f\"Kata-kata unik yang hanya muncul tiga kali: {kata_unik_tiga}\")\n",
        "print(f\"Total kata unik yang muncul tiga kali: {len(kata_unik_tiga)}\")"
      ],
      "metadata": {
        "colab": {
          "base_uri": "https://localhost:8080/"
        },
        "id": "ZVQQ6r20G2H7",
        "outputId": "e08c377f-5906-449f-b6fd-cd29bb21c38c"
      },
      "execution_count": null,
      "outputs": [
        {
          "output_type": "stream",
          "name": "stdout",
          "text": [
            "Jumlah kata: 11683\n",
            "Jumlah kata yang unik: 3265\n",
            "Kata-kata unik yang hanya muncul sekali: ['mula', 'kpd', 'review', 'bioweapon', 'bossdarling', 'image', 'kontroversial', 'blackberry', 'windows', 'emas', 'dark', 'bantai', 'medsos', 'usai', 'gabung', 'fase', 'logat', 'hak', 'gulir', 'disruptif', 'prngrafi', 'please', 'mengexplorer', 'takluk', 'euforia', 'embrio', 'bias', 'master', 'radikal', 'flyn', 'akumulatif', 'menteri', 'bupati', 'alhamdulillah', 'camat', 'landas', 'stephen', 'uatamnya', 'beratx', 'programming', 'menyeramg', 'datakrasi', 'krasi', 'knowlah', 'dengan', 'mngkin', 'browsing', 'tilang', 'facebook', 'premis', 'kolaborasi', 'boros', 'reaction', 'matang', 'cocok', 'nature', 'presiden', 'seluruh', 'smentara', 'bakteri', 'sapa', 'modal', 'sda', 'km', 'dumber', 'menciptkan', 'kencan', 'antivirus', 'ayo', 'kawan', 'eliza', 'cuci', 'belgia', 'pria', 'diserver', 'akunting', 'usernya', 'damage', 'dangerous', 'unlimited', 'cooldown', 'sukarela', 'statnya', 'duplicate', 'lirik', 'gadang', 'maksuin', 'extract', 'bgmana', 'mineral', 'room', 'chinese', 'makasih', 'edan', 'ngetik', 'gun', 'begind', 'hit', 'bangku', 'tebak', 'existency', 'boom', 'sbnernya', 'nyasar', 'higher', 'cus', 'cis', 'cas', 'ye', 'gersang', 'minded', 'boomer', 'ryu', 'aimnya', 'adlaah', 'biji', 'daerah', 'majus', 'yajus', 'puluahan', 'israel', 'keroyok', 'takwa', 'battle', 'siapa', 'pangsa', 'gweh', 'magneto', 'albert', 'deklarasin', 'idiot', 'indikasi', 'nyeleweng', 'hanupis', 'picture', 'synthesizer', 'pergok', 'muterin', 'vga', 'disrubsi', 'kian', 'bau', 'munafik', 'jalanin', 'motherboard', 'downgrade', 'rekontruksi', 'tergenerate', 'beliau', 'valid', 'pertamax', 'menggunakam', 'lanjur', 'eek', 'surup', 'last', 'farming', 'diarahin', 'ngilangin', 'ampe', 'hunger', 'manjat', 'asw', 'kembangin', 'horang', 'outputnya', 'dipublish', 'helium', 'fanmade', 'exploration', 'saitama', 'utamain', 'manga', 'sangka', 'statistik', 'spirite', 'emotional', 'mesine', 'happy', 'worry', 'don', 'creations', 'only', 'are', 'selenggara', 'siswa', 'saiki', 'giring', 'internetnya', 'higt', 'disalahgunakan', 'total', 'captcha', 'ngalatih', 'skip', 'nga', 'nyeremin', 'quonya', 'status', 'melanggenggkan', 'kapital', 'nominal', 'kelompok', 'gelintir', 'teknolagi', 'le', 'kedap', 'ngerreaction', 'progam', 'rasah', 'sak', 'abadi', 'sedih', 'lelah', 'keringat', 'ranjer', 'gordon', 'latah', 'ukur', 'gibahin', 'ulama', 'merespon', 'rasulullah', 'donyo', 'senjang', 'universe', 'orphan', 'blood', 'inimah', 'solving', 'user', 'markus', 'rak', 'beranda', 'ngebayangin', 'population', 'dari', 'curhat', 'perempamaan', 'fallasi', 'anjoy', 'batre', 'spongebob', 'paradoks', 'njir', 'berpikr', 'esensi', 'sendirj', 'hajar', 'ego', 'timba', 'transcendent', 'karyawan', 'glowing', 'ilustrator', 'mql', 'universal', 'memprovoke', 'bina', 'instinct', 'norma', 'personality', 'persis', 'psychotron', 'masalah', 'jonny', 'sembunyi', 'lusin', 'keburukaan', 'tunduk', 'handphone', 'integrasi', 'nternetnya', 'ata', 'saudara', 'minimal', 'ketat', 'chatd', 'gptnya', 'puluh', 'persero', 'dep', 'company', 'users', 'hapsah', 'startup', 'literasi', 'ban', 'logical', 'kaku', 'menyamaratakan', 'serba', 'ingin', 'ngejar', 'singulritas', 'hendak', 'wae', 'ala', 'kids', 'munurut', 'kesdaran', 'request', 'prilaku', 'regresi', 'fitting', 'curve', 'bekerjasama', 'lari', 'babel', 'menara', 'kog', 'darwin', 'uap', 'acau', 'sebarluaskan', 'dajal', 'diam', 'runaround', 'asimov', 'robotika', 'acu', 'promt', 'influencer', 'stup', 'charles', 'mingkin', 'service', 'son', 'intellegentia', 'kadrun', 'sinyalir', 'miliar', 'literally', 'misterius', 'letak', 'usia', 'tterus', 'sendiiri', 'racik', 'anies', 'nanomachine', 'bulan', 'this', 'tersbut', 'senpi', 'nafsu', 'turbo', 'peperangan', 'reactor', 'arc', 'web', 'gelombang', 'progammer', 'munglin', 'delivery', 'marketplace', 'kalkukator', 'takon', 'surat', 'artifitial', 'husein', 'nazar', 'imran', 'syaikh', 'nebak', 'misteri', 'simpel', 'jal', 'heran', 'minim', 'trutama', 'ayat', 'golok', 'nggo', 'lowong', 'mangkas', 'nali', 'boso', 'cakup', 'suku', 'sehinga', 'semassif', 'pengembanganya', 'ng', 'shad', 'mining', 'chatdgn', 'trims', 'nenerapa', 'kontradiktif', 'rombak', 'kurikulum', 'dekat', 'kosa', 'ahahahahaha', 'asib', 'kadit', 'doski', 'closedai', 'more', 'tekhnologi', 'singgasana', 'mmbuat', 'mreka', 'kemusnhan', 'mengupload', 'yutuber', 'rekam', 'nulis', 'sabotase', 'alita', 'seleksi', 'alhamdulilah', 'onggok', 'geopolitl', 'cutpaste', 'dkknya', 'insting', 'masiv', 'kalo', 'nutrisi', 'segitu', 'rebah', 'up', 'wake', 'gak', 'semesta', 'kentut', 'transformers', 'dejavu', 'xd', 'decade', 'untuk', 'beuh', 'fanatik', 'semsem', 'domba', 'adu', 'skrip', 'srlamanya', 'tua', 'milih', 'evaluasi', 'sambi', 'diem', 'masehi', 'instrumen', 'demo', 'produktif', 'tenologi', 'resolusi', 'pb', 'mentok', 'sepele', 'rang', 'asset', 'chef', 'done', 'rugi', 'mahir', 'crypto', 'mesum', 'rakit', 'ampo', 'vison', 'platform', 'indera', 'utuh', 'genetik', 'rentang', 'susut', 'jurnal', 'fenomena', 'industrialisasi', 'reneisan', 'jalur', 'stres', 'mulu', 'ourselves', 'humanity', 'mamas', 'willie', 'hamka', 'yusup', 'sumbang', 'doel', 'lagu', 'next', 'intisari', 'perfect', 'science', 'quora', 'twitter', 'bedainlah', 'tiada', 'suatu', 'mapping', 'laah', 'specific', 'tunda', 'cupu', 'essai', 'primata', 'best', 'halusinasi', 'ngawur', 'tul', 'mudeng', 'dalm', 'intimidasi', 'logo', 'threat', 'ngambil', 'elu', 'metavers', 'possible', 'bulus', 'wulling', 'harp', 'cuaca', 'spiderman', 'visual', 'tambahin', 'anjay', 'fondasi', 'ciamik', 'bimo', 'cringe', 'expresi', 'joe', 'kopid', 'wuling', 'gtu', 'heem', 'ambisi', 'command', 'hollywood', 'setju', 'sorban', 'eya', 'karnanudah', 'mitigasi', 'tangguh', 'theology', 'akademisi', 'maret', 'laknat', 'tentara', 'entotin', 'wanita', 'indrawi', 'simpati', 'intuisi', 'citarasa', 'wakil', 'turuun', 'dosa', 'tasbih', 'diagnosa', 'dam', 'vitalsigns', 'ratio', 'merdeka', 'tumpah', 'oposisi', 'visi', 'akhirat', 'intelektual', 'spertinya', 'dihandle', 'djavu', 'mbak', 'plan', 'kasali', 'renald', 'pustaka', 'tong', 'nurani', 'cu', 'bapa', 'atuh', 'deui', 'naon', 'nyepengan', 'tos', 'song', 'eye', 'fluorite', 'vivy', 'konvensional', 'langkah', 'eksponensial', 'restorasi', 'material', 'genetika', 'depopulasi', 'usul', 'berkas', 'fotokopi', 'filter', 'lulus', 'dualitas', 'memenej', 'tersier', 'sekunder', 'primer', 'truth', 'disenayan', 'indrawai', 'recomended', 'detroit', 'machina', 'ex', 'worldview', 'negosiasi', 'berkat', 'yuan', 'sekte', 'sechewarmager', 'arnolot', 'ketemu', 'doa', 'bekas', 'tali', 'ammo', 'ak', 'passive', 'wadehel', 'nlp', 'pildun', 'motif', 'daulat', 'laju', 'wajib', 'benah', 'ibu', 'kepada', 'situasi', 'pergi', 'judi', 'nasehat', 'sanggup', 'desa', 'relationship', 'demensi', 'daftar', 'syarat', 'digeneralisir', 'rp', 'metaphysic', 'mulia', 'wibawa', 'adegan', 'season', 'rangking', 'ousama', 'dilema', 'kosmos', 'pusat', 'mapan', 'eyya', 'waay', 'kesini', 'little', 'kesan', 'ngasi', 'ngomongin', 'tlng', 'angkat', 'parafrase', 'menyabalkan', 'konsumen', 'aq', 'sekaarang', 'kasar', 'optimis', 'cheat', 'temen', 'lamb', 'kbnykn', 'sprtinya', 'scr', 'otomasi', 'otomotif', 'harga', 'siksa', 'fahami', 'datasetnya', 'buai', 'aneh', 'bye', 'edgy', 'mermaid', 'winter', 'kulit', 'jga', 'papper', 'boruto', 'spin', 'gamau', 'gapunya', 'gabisa', 'promosi', 'lunak', 'bnyak', 'trader', 'fair', 'benci', 'tantang', 'huf', 'gojek', 'grab', 'math', 'copas', 'mmg', 'starbuck', 'gantiin', 'gebrak', 'seri', 'agenda', 'marvel', 'burayak', 'mikirinnya', 'luncur', 'imagine', 'mbayangin', 'dharma', 'jenderal', 'medan', 'dingin', 'script', 'pakenya', 'maduk', 'mngatasinya', 'ttap', 'kloning', 'nyusut', 'dipake', 'iqnya', 'down', 'take', 'men', 'goblok', 'susup', 'agen', 'signularity', 'esdgezher', 'arnold', 'proyeksi', 'pual', 'menggalkan', 'hmpir', 'ami', 'pongrekun', 'franchise', 'very', 'generative', 'ngalahkannya', 'datang', 'tinta', 'lagsung', 'ketik', 'microsof', 'haha', 'marah', 'seni', 'ngejelasinnya', 'klau', 'kata', 'akaes', 'funny', 'automaton', 'katain', 'jasa', 'utek', 'qu', 'bene', 'aqu', 'nirkabel', 'kuningan', 'benak', 'koin', 'try', 'hrd', 'plagiarism', 'gawwd', 'searching', 'sitasi', 'tukang', 'method', 'mixed', 'kualitatitf', 'feeling', 'halaman', 'parameter', 'errornya', 'jamur', 'rider', 'knight', 'kit', 'kubur', 'mal', 'dislike', 'kualitas', 'lebai', 'kw', 'urus', 'mnurutku', 'tanah', 'nyatu', 'dipikirin', 'siklus', 'ancurin', 'kasi', 'hoaks', 'sampling', 'anjing', 'intelektualitas', 'maah', 'oh', 'hel', 'react', 'cybork', 'dang', 'ngikut', 'say', 'let', 'pakek', 'mngkn', 'buanyak', 'sesimple', 'selera', 'algortima', 'personifikasi', 'ati', 'naif', 'bloon', 'kesima', 'komponen', 'intuitif', 'binar', 'tisik', 'zaytun', 'simpanse', 'endingnya', 'turki', 'ust', 'nursi', 'said', 'tir', 'ketar', 'fundamentalis', 'bsi', 'viral', 'nntinya', 'nonproliferasi', 'janji', 'dengna', 'bebahaya', 'coh', 'korea', 'south', 'vuno', 'name', 'brand', 'kering', 'risen', 'dierah', 'uas', 'uts', 'cahari', 'perata', 'police', 'tunggak', 'maren', 'shopia', 'yag', 'pkirkan', 'revolusioner', 'malwarenya', 'alaikum', 'assalamu', 'ea', 'deadline', 'mepet', 'dekade', 'megang', 'psikis', 'placebo', 'teknis', 'atheis', 'subscriber', 'undeniable', 'akn', 'logic', 'hanyal', 'bersih', 'crime', 'cyber', 'sejajar', 'sanding', 'los', 'term', 'short', 'stml', 'libur', 'belok', 'kutip', 'cium', 'saring', 'sambung', 'matrix', 'ekonomi', 'trasnformers', 'ralat', 'asah', 'fasulitas', 'dgngn', 'pafa', 'operator', 'normatif', 'argumentasi', 'peduli', 'lapak', 'sepi', 'ambang', 'kjadian', 'tuntas', 'piara', 'content', 'based', 'titip', 'nnti', 'story', 'pemrosesan', 'syg', 'perkuliahab', 'insiden', 'i', 'myself', 'flm', 'cos', 'why', 'fantastis', 'panjang', 'rantai', 'serta', 'draft', 'overpopulasi', 'global', 'iklim', 'maxudnya', 'post', 'cuan', 'kenan', 'stealth', 'iklan', 'mus', 'slma', 'pengahncur', 'diskus', 'jurus', 'github', 'copilot', 'doesn', 'trigger', 'rada', 'mrasa', 'monyet', 'dijelasinnya', 'biohackers', 'ancok', 'strategis', 'ethic', 'halang', 'cybernetic', 'bio', 'enhancement', 'augmentation', 'lembaga', 'moto', 'transhuman', 'yayasan', 'transhumans', 'inspirasi', 'meritrocacy', 'metrices', 'clear', 'disklikes', 'likes', 'politics', 'klu', 'index', 'hanseng', 'loncat', 'lansia', 'nich', 'konser', 'ngembangin', 'brkelompok', 'konsumsi', 'brtingkahlaku', 'single', 'kawin', 'nyuruh', 'kcuali', 'miara', 'jodohin', 'ringan', 'administrasi', 'mengimplemntasikan', 'smart', 'working', 'doi', 'jogja', 'jomlo', 'universes', 'yme', 'natural', 'mental', 'tuduh', 'brics', 'kluar', 'shindeiru', 'mo', 'wa', 'omae', 'dont', 'chatgp', 'yaudah', 'timbun', 'hawatir', 'brikutnya', 'ekstrim', 'kreatf', 'tiga', 'binatang', 'lama', 'lot', 'darat', 'udara', 'jemput', 'harta', 'ketrampilan', 'microfon', 'kenang', 'mka', 'saksi', 'adlh', 'massive', 'padu', 'hangus', 'managemen', 'semi', 'permanen', 'tercover', 'tknologi', 'laksana', 'kamera', 'pedang', 'solutif', 'cahaya', 'bund', 'buroq', 'musa', 'wacana', 'brookman', 'greg', 'altman', 'sam', 'mainstream', 'investor', 'agre', 'hizkia', 'dmpk', 'astono', 'rianto', 'flash', 'fian', 'yosias', 'polimpung', 'strategi', 'ril', 'feodal', 'swesengger', 'arnol', 'pilemnya', 'mmpu', 'panah', 'think', 'berontak', 'ikan', 'bakwan', 'berdapingan', 'dinosaurus', 'dibuatnta', 'kosong', 'qolbu', 'lidi', 'gugel', 'paste', 'kopi', 'buru', 'skyline', 'lampai', 'ronta', 'tidah', 'basenya', 'rumit', 'mash', 'handmade', 'gadget', 'original', 'antik', 'kompak', 'manfaatin', 'hard', 'lele', 'olahraga', 'pocong', 'numpang', 'mumun', 'nyaring', 'yassalam', 'he', 'better', 'much', 'psw', 'date', 'out', 'esuatu', 'swmakin', 'sesal', 'livr', 'rekomendasi', 'kambing', 'ayam', 'sapi', 'gilir', 'kecam', 'eks', 'dinasourus', 'justu', 'distribusi', 'ngakunya', 'ganda', 'jadwal', 'pulau', 'lho', 'filem', 'blum', 'cctv', 'skedar', 'pin', 'gamers', 'professional', 'pukul', 'entity', 'effort', 'komplit', 'amal', 'kira', 'iq', 'kosmik', 'integritas', 'absen', 'komersil', 'consumer', 'pc', 'simsimi', 'triliun', 'celah', 'kacau', 'silicon', 'processor', 'ditakutkn', 'begitu', 'kobok', 'asma', 'cengang', 'nazi', 'creator', 'trailer', 'neuralink', 'nentang', 'kredit', 'skor', 'realistis', 'genjot', 'ngeriset', 'tawar', 'racun', 'soviet', 'mama', 'epilepsi', 'kuasain', 'tensi', 'repetitif', 'diriin', 'tangkap', 'dart', 'kotlin', 'superior', 'nemuin', 'kangker', 'tumor', 'senapan', 'gempar', 'kolom', 'kubu', 'perban', 'biologi', 'sentient', 'consciousnes', 'baruditrapkan', 'danbank', 'uank', 'pensionkan', 'tmabh', 'campur', 'kmputer', 'saham', 'bursa', 'rvolusi', 'existensinya', 'eropa', 'jelajah', 'slain', 'omaga', 'astaghfirullah', 'teledor', 'ma', 'muhammad', 'wajah', 'tameng', 'raga', 'bodong', 'doktrin', 'mush', 'remeh', 'aamiin', 'domainya', 'distruptive', 'naluri', 'survive', 'gorila', 'isarat', 'telus', 'bil', 'trlalu', 'musik', 'lamda', 'share', 'setidknya', 'apik', 'anorganik', 'hara', 'unsur', 'kandung', 'serah', 'sekitar', 'pikirkn', 'kemas', 'mndapat', 'chtgbt', 'chatgbt', 'kawatir', 'mampir', 'kebathilan', 'behind', 'lugas', 'tof', 'papar', 'that', 'psychology', 'emotions', 'with', 'related', 'inputs', 'analyze', 'predict', 'since', 'doktor', 'prototype', 'living', 'can', 'jodoh', 'nyebut', 'adjective', 'intelligent', 'noun', 'berangkat', 'layar', 'mager', 'dune', 'letsgo', 'kecewa', 'semacemnya', 'being', 'bin', 'plagiarisme', 'apalg', 'your', 'biang', 'won', 'sudh', 'taruh', 'dongeng', 'remember', 'damn', 'nafas', 'menbuat', 'genesis', 'relate', 'anything', 'produktivitas', 'sejati', 'pekerjaanya', 'hem', 'verify', 'hafalin', 'muat', 'sangkut', 'creation', 'categorize', 'by', 'create', 'bahar', 'daging', 'harryware', 'receptionis', 'anggota', 'nakuti', 'langgan', 'kikis', 'ragam', 'pedoman', 'hadist', 'gas', 'fallacy', 'frekuensi', 'high', 'audio', 'host', 'hei', 'siar', 'khendaknya', 'nyala', 'pencet', 'position', 'etik', 'atlantis', 'bgini', 'manhattan', 'project', 'crash', 'yt', 'pasca', 'alangkah', 'jas', 'puasa', 'demit', 'bhya', 'ngerasa', 'lgsg', 'antr', 'apk', 'galaxy', 'minat', 'nas', 'kopong', 'gpg', 'semua', 'dipasangin', 'ekstrem', 'member', 'jinx', 'called', 'panel', 'else', 'if', 'core', 'josua', 'kie', 'bulak', 'duh', 'surya', 'isa', 'ufo', 'net', 'tetek', 'gundam', 'humans', 'species', 'tool', 'ancur', 'adap', 'fe', 'chanelnya', 'ngisi', 'muslim', 'musyrik', 'bengek', 'wibu', 'gorilla', 'berantas', 'alogaritma', 'drone', 'cegah', 'connor', 'anggur', 'pesbuk', 'itself', 'pegawai', 'nembak', 'sbgi', 'improve', 'another', 'edge', 'tank', 'ricevoocer', 'tipping', 'cocoklogi', 'yajuj', 'psikomotorik', 'kognisi', 'afektif', 'backpropagation', 'majuj', 'set', 'mneurut', 'agnostik', 'hode', 'sensor', 'lamun', 'military', 'mungkiinkah', 'benua', 'wabah', 'berbntuk', 'obot', 'bal', 'dragon', 'fonis', 'rangin', 'analisanya', 'ngayal', 'sedangkat', 'fixed', 'epidemi', 'tenyata', 'sendirnya', 'melakulan', 'penggunaanya', 'maksud', 'blank', 'mamah', 'turing', 'emng', 'destruktif', 'filusufyang', 'pusing', 'lgi', 'pemerosesan', 'awan', 'kombinasi', 'ruet', 'lanjutanya', 'sembung', 'jaka', 'ca', 'ver', 'chatbot', 'lapor', 'protokol', 'product', 'trouble', 'koordinasi', 'diskrit', 'existing', 'konsol', 'tar', 'brow', 'cyberpunk', 'alhdulillah', 'awal', 'os', 'tidak', 'verifikasi', 'ekosistem', 'niscaya', 'dadak', 'mogok', 'doc', 'lini', 'realisasi', 'winston', 'benernya', 'instant', 'profesor', 'narrow', 'petaka', 'bak', 'nenggunakannya', 'basically', 'berefect', 'lebur', 'presentasi', 'pacar', 'wifelike', 'menkhayalkan', 'teknosentris', 'antroposentris', 'teosentris', 'kosmosentris', 'runtut', 'sentralisasi', 'homodeus', 'interest', 'person', 'movie', 'izan', 'ky', 'dystopia', 'merupaka', 'pokemon', 'jenggot', 'flare', 'solar', 'lgbtq', 'alternatif', 'intelligen', 'way', 'tengah', 'jurnalisme', 'nyantumin', 'bngt', 'ntar', 'statement', 'merosot', 'insentif', 'mendownload', 'time', 'cloud', 'silang', 'tempat', 'download', 'kalao', 'kkn', 'straight', 'garry', 'ayah', 'krab', 'politikus', 'lah', 'duit', 'snagat', 'giat', 'hangat', 'inteligent', 'koheren', 'ngejawab', 'waow', 'stagnan', 'kutat', 'fairplay', 'motivasi', 'thx', 'insight', 'gapapa', 'marriage', 'acak', 'optimal', 'body', 'efisiensi', 'scanner', 'microwave', 'cherne', 'leo', 'calculation', 'beyond', 'force', 'two', 'brilliant', 'defense', 'inaccurate', 'kompas', 'stupid', 'accurate', 'fast', 'rahman', 'right', 'ktika', 'bgaimna', 'utuk', 'rahim', 'bgaimana', 'nextgen', 'shutdown', 'kangen', 'istana', 'alir', 'bgs', 'omongin', 'trol', 'gem', 'hidden', 'ngeyelnya', 'ributin', 'faham', 'nnjir', 'kombonasi', 'keinget', 'klasik', 'tema', 'peace', 'donasi', 'powerful', 'ngejalanin', 'btw', 'kolaps', 'plus', 'goalsnya', 'predator', 'terobos', 'argumen', 'bantuin', 'etis', 'asisten', 'pindah', 'saku', 'usak', 'eliminasi', 'demikian', 'kuatirkan', 'rckefller', 'maya', 'gawat', 'gusti', 'aloh', 'kapasitas', 'semat', 'binasa', 'gez', 'ilusi', 'meresponse', 'wih', 'arti', 'benteng', 'jeblos', 'mumb', 'future', 'pictures', 'biscul', 'thner', 'hing', 'awokwokwok', 'nyebrang', 'contohny', 'kutub', 'streamer', 'ofc', 'gagap', 'buad', 'homisapiens', 'dsini', 'padam', 'dikalimantan', 'jln', 'hha', 'yutub', 'artikulasi', 'ajak', 'kea', 'disebarluaskan', 'kocak', 'studio', 'kudet', 'genteng', 'pohon', 'tumpul', 'futuristic', 'beling', 'kodrat', 'kaum', 'stuck', 'lenyap', 'utara', 'es', 'boost', 'asing', 'kungkung', 'malam', 'larut', 'ijazah', 'krs', 'sma', 'mbludak', 'nongki', 'ironis', 'school', 'kasus', 'sore', 'keluarga', 'bungkam', 'segambreng', 'terrekrut', 'korban', 'gagah', 'abis', 'perangkap', 'maruk', 'mindahin', 'prihatin', 'cucu', 'advance', 'sky', 'tumpuk', 'ortu', 'bareng', 'tihati', 'kunyah', 'gunung', 'bejibun', 'her', 'klien', 'perlu', 'writing', 'copy', 'putih', 'zetsu', 'realmadrid', 'fans', 'ups', 'ambisius', 'kecoh', 'meminimalisir', 'anut', 'lontar', 'imbal', 'abrek', 'teguh', 'ideologi', 'indikator', 'ngerjain', 'zona', 'balap', 'kemungkianan', 'area', 'dering', 'mangat', 'gubris', 'kaji', 'lihat', 'protes', 'fikiran', 'ssuatu', 'aduh', 'brmanfaat', 'diverse', 'networknya', 'neural', 'dibutuhkn', 'hemz', 'tan', 'kes', 'second', 'byak', 'murah', 'ngegantiin', 'skali', 'gus', 'cantik', 'worker', 'waras', 'fatal', 'brani', 'ekonomis', 'producer', 'brharap', 'nampak', 'masyaalloh', 'dul', 'illahi', 'haleluya', 'venom', 'horizon', 'nasional', 'preventif', 'sawer', 'dividen', 'manja', 'hi', 'kunci', 'ay', 'setia', 'gitukan', 'somehow', 'pessimistis', 'selaras', 'dekode', 'juggling', 'prkmbangan', 'brupayalah', 'mnjdi', 'definisi', 'tampak', 'iseng', 'jenuh', 'purpose', 'matahari', 'ganjal', 'mmbisu', 'buddy', 'mj', 'jk', 'fontnya', 'hy', 'multi', 'mahkluk', 'venus', 'warna', 'bangkit', 'asteroid', 'dijln', 'samudera', 'eksplorasi', 'digosipin', 'dukun', 'hantu', 'gaib', 'tolol', 'analyst', 'inject', 'calon', 'chaos', 'ngelawak', 'roda', 'miring', 'mnjadi', 'pointles', 'koeli', 'upah', 'ekstrimnya', 'diba', 'lokasi', 'nihil', 'profesional', 'yar', 'tradisional', 'jawara', 'tetris', 'hapsyah', 'harder', 'jurang', 'getting', 'pir', 'jobles', 'homeles', 'sono', 'pngembangan', 'terbit', 'prngangguran', 'ngarang', 'sbuah', 'fomo', 'otw', 'terjadj']\n",
            "Total kata unik yang muncul sekali: 1868\n",
            "Kata-kata unik yang hanya muncul dua kali: ['palsu', 'fasilitas', 'ae', 'arsitektur', 'saji', 'jngn', 'ajh', 'esok', 'demokrasi', 'yap', 'cangih', 'knp', 'umur', 'juang', 'what', 'bing', 'tampa', 'update', 'organik', 'about', 'kecil', 'kitab', 'bimbing', 'mnusia', 'superintelligence', 'prank', 'kutuk', 'stil', 'abstraksi', 'kali', 'live', 'god', 'nyiptain', 'wawas', 'maybe', 'asumsi', 'offline', 'buruh', 'sekian', 'uji', 'oknum', 'looks', 'sosmed', 'universitas', 'but', 'baraya', 'persuasif', 'recycle', 'segitunya', 'ustadz', 'hal', 'triger', 'website', 'orang', 'rangkum', 'sempit', 'perlahan', 'iterasi', 'buang', 'praktisi', 'ras', 'one', 'logam', 'dewan', 'biar', 'ngajak', 'kaki', 'lgbt', 'curi', 'sanksi', 'foto', 'menit', 'antisipasi', 'ful', 'narkoba', 'dijelasin', 'manusiawi', 'sok', 'indah', 'prof', 'propaganda', 'rahasia', 'demand', 'hakim', 'mekanisme', 'polisi', 'wajar', 'scrol', 'nyari', 'mengunakan', 'hut', 'war', 'aktivitas', 'petisi', 'tahap', 'tegak', 'pyscho', 'jajah', 'hitam', 'pornografi', 'pantau', 'masif', 'elektronik', 'mikirin', 'ranah', 'disney', 'cloning', 'lha', 'tajam', 'episode', 'waspada', 'social', 'iman', 'aku', 'ntr', 'for', 'mahal', 'sampek', 'islam', 'buah', 'tentang', 'iring', 'culun', 'punya', 'diinput', 's', 'beneran', 'sensorik', 'inovasi', 'persen', 'pengindera', 'retas', 'kasihan', 'akselerasi', 'daun', 'pasti', 'sedia', 'tombol', 'memori', 'woh', 'abstrak', 'gelar', 'kabel', 'fre', 'dipungkiri', 'rb', 'sel', 'tel', 'bulat', 'geser', 'seram', 'ponsel', 'luas', 'pr', 'alarm', 'kasir', 'analisis', 'karakter', 'kota', 'sdm', 'pasu', 'aksi', 'manusa', 'amat', 'realitas', 'kapitalis', 'ngiang', 'perilaku', 'sblm', 'cmiiw', 'kemanusian', 'tanda', 'prompt', 'patrick', 'mit', 'kemaren', 'oke', 'neuron', 'minta', 'colok', 'mu', 'miskin', 'ngotot', 'belah', 'paranoid', 'singgung', 'saraf', 'rancang', 'meng', 'konflik', 'kerjasama', 'ingat', 'energy', 'ginian', 'sybil', 'megan', 'bosan', 'perspektif', 'general', 'konsep', 'yup', 'nti', 'ena', 'muda', 'hipotesa', 'vtuber', 'trap', 'alias', 'khas', 'sektor', 'om', 'disrupsi', 'tingal', 'baymax', 'humanoid', 'tanak', 'lanjut', 'rencana', 'mending', 'tidur', 'korup', 'income', 'rudal', 'kelar', 'kontras', 'ih', 'tongkat', 'catur', 'adl', 'sihir', 'teleportasi', 'usa', 'modifikasi', 'ujung', 'gunain', 'luka', 'keburu', 'source', 'nasib', 'istirahat', 'sama', 'tambang', 'sengaja', 'ending', 'karakteristik', 'bela', 'memory', 'simpan', 'figur', 'test', 'baris', 'proyek', 'tuan', 'debat', 'beli', 'duli', 'serial', 'engkau', 'alquran', 'westworld', 'ada', 'spesifik', 'tara', 'push', 'cameron', 'abai', 'hakikat', 'mundur', 'gmna', 'praktek', 'legal', 'instan', 'bencana', 'maksimal', 'nyoba', 'replace', 'job', 'kartun', 'bangke', 'muka', 'gera', 'personal', 'biohacking', 'new', 'atik', 'bnyk', 'tol', 'experiment', 'teks', 'inovatif', 'tolong', 'code', 'twist', 'plot', 'irzan', 'kelas', 'age', 'ato', 'la', 'menganalisa', 'microsoft', 'everything', 'struktur', 'ambar', 'sila', 'fi', 'sci', 'kaget', 'kriminal', 'my', 'brain', 'blunder', 'developed', 'pattern', 'defined', 'seret', 'paradox', 'task', 'hafal', 'panas', 'picu', 'sampai', 'balas', 'kacang', 'sex', 'boneka', 'pendek', 'bert', 'menyelesaiakan', 'ngeprint', 'amanah', 'asai', 'codingan', 'setting', 'mengsekusi', 'goals', 'slow', 'sbgai', 'incredibly', 'orng', 'keras', 'datadata', 'tq', 'hapus', 'langsung', 'berani', 'rutinitas', 'ingkar', 'sesat', 'iot', 'sempet', 'hey', 'stop', 'ri', 'tpi', 'nikmat', 'tunjang', 'wing', 'transformer', 'kepo', 'da', 'admin', 'thanks', 'hemat', 'ngendaliin', 'robotic', 'istri', 'bedah', 'ad', 'shg', 'bawah', 'has', 'telepon', 'swt', 'primitif', 'juta', 'neanderthal', 'vision', 'ditraining', 'transistor', 'dilemma', 'implementasi', 'rupa', 'kotor', 'biner', 'algoritmanya', 'gan', 'skg', 'ar', 'macem', 'tono', 'teller', 'spt', 'profesi', 'pokok', 'bodo', 'seru', 'konyol', 'sial', 'jengkel', 'reaktor', 'variabel', 'niat', 'pandemi', 'budak', 'cabang', 'virtual', 'chemical', 'compound', 'named', 'sejahtera', 'ho', 'allow', 'me', 'introduce', 'thats', 'siram', 'sukses', 'ats', 'kelola', 'sya', 'hacking', 'power', 'eksistensi', 'supply', 'just', 'tarzan', 'bkal', 'true', 'bakar', 'kidding', 'engine', 'transparan', 'omong', 'baru', 'lucu', 'damai', 'amiin', 'space', 'tempur', 'reaksi', 'chanel', 'kirim', 'doraemon', 'kartu', 'kaleng', 'negeri', 'mars', 'tanding', 'generate', 'software', 'emp', 'kesana', 'nyerang', 'rusia', 'rekayasa', 'rusuh', 'diyoutube', 'terbang', 'normal', 'tools', 'hama', 'jago', 'bayi', 'anda', 'amin', 'agi', 'tikus', 'golong', 'end', 'bertanggungjawab', 'agung', 'big', 'eksperimen', 'partai', 'prioritas', 'mpe', 'sharing', 'mgkn', 'timbang', 'server', 'aju', 'teroris', 'vs', 'mimpi', 'imbas', 'bbrp', 'perkara', 'john', 'rumah', 'jarak', 'christianity', 'singkat', 'rajin', 'reset', 'gender', 'maslahat', 'aleng', 'juj', 'jebak', 'tabrak', 'ngaku', 'akun', 'ideal', 'level', 'situ', 'betapa', 'klik', 'jelasin', 'skillnya', 'isi', 'nuh', 'us', 'cukup', 'sampel', 'nugroho', 'yak']\n",
            "Total kata unik yang muncul dua kali: 517\n",
            "Kata-kata unik yang hanya muncul tiga kali: ['sayang', 'alur', 'modern', 'teman', 'dpr', 'alhasil', 'sabar', 'blm', 'coldplay', 'kemarin', 'sensitif', 'mari', 'resep', 'rumor', 'ahli', 'eksekusi', 'to', 'saran', 'cek', 'iblis', 'print', 'thank', 'day', 'duduk', 'meta', 'bobot', 'on', 'part', 'warga', 'generatif', 'krisis', 'duluan', 'who', 'bas', 'suci', 'alien', 'biasa', 'publik', 'benda', 'deus', 'isu', 'system', 'developer', 'informatif', 'ngerti', 'kagum', 'mark', 'pulang', 'zuckerberg', 'tim', 'santai', 'etc', 'sulaiman', 'poin', 'in', 'masukin', 'sebentar', 'kode', 'sebab', 'akumulasi', 'world', 'luar', 'liat', 'hacker', 'celaka', 'hitler', 'prinsip', 'loh', 'despa', 'produk', 'hardware', 'mengupgrade', 'berat', 'darah', 'badan', 'quran', 'voice', 'kena', 'netizen', 'so', 'einstein', 'pro', 'unik', 'fokus', 'jaring', 'konsekuensi', 'gbt', 'tanggap', 'cina', 'peluang', 'pintas', 'noah', 'pupuk', 'sebut', 'lahir', 'tentu', 'korupsi', 'sains', 'praktis', 'sd', 'mata', 'unggul', 'dal', 'langgar', 'volume', 'mantap', 'biaya', 'laun', 'musuh', 'aspek', 'puncak', 'lewat', 'kendara', 'bos', 'sense', 'taat', 'yuval', 'kafir', 'hebat', 'desain', 'tata', 'kreatifitas', 'awam', 'self', 'pasuk', 'anti', 'narasi', 'non', 'firman', 'fisik', 'pasar', 'siap', 'pesawat', 'search', 'forex', 'fiksi', 'dok', 'populasi', 'medis', 'artist', 'lemah', 'puja', 'saah', 'be', 'android', 'jatuh', 'signifikan', 'nalar', 'sbg', 'ilmiah', 'function', 'nanya', 'pinter', 'upgrade', 'tembak', 'player', 'ham', 'output', 'aktif', 'sm', 'izin', 'standar', 'gembul', 'assalamualaikum', 'navigasi', 'fungsi', 'good', 'malware', 'semangat', 'etika', 'opini', 'ketimbang', 'deepfake', 'chip', 'amerika', 'computer', 'yaumil', 'september', 'bingung', 'pecah', 'sibuk', 'cerah', 'catat', 'smartphone', 'syukur', 'sorga', 'implan', 'khalifah', 'phk', 'tony', 'control', 'sembuh', 'generator', 'ratus', 'gratis', 'keliling', 'yakin', 'detik', 'metode', 'akinator', 'kanker', 'simpul', 'masal', 'stark', 'terampil', 'inputan', 'susun', 'objective', 'dorong', 'patuh', 'koloni', 'pulse', 'electromagnetic', 'problem', 'makmur', 'damping', 'james', 'utopia', 'cakap', 'simulasi', 'jasad', 'alqur', 'dna', 'marketing', 'dri', 'serang', 'cemas', 'enkripsi', 'pemrograman', 'belakang', 'mesti', 'darimana', 'habis', 'jujur', 'elisa', 'gaji', 'anjir', 'hadap', 'nice', 'wel', 'nuclear', 'perhati', 'canda', 'hahaha', 'iron', 'melulu', 'mayoritas', 'pabrik', 'kalkulasi', 'dewa', 'lempar', 'hujan', 'planet', 'auto', 'jabat', 'imbang', 'simak', 'digital', 'politik', 'indosiar', 'jaga', 'sebar', 'singkir', 'jenius', 'risiko', 'sepenuh', 'puji', 'milu', 'midjourney', 'penting']\n",
            "Total kata unik yang muncul tiga kali: 270\n"
          ]
        }
      ]
    },
    {
      "cell_type": "markdown",
      "source": [
        "### Kata paling banyak muncul\n",
        "Ga jadi dihapus karena kata AI, manusia, dan selanjutnya (sepertinya) penting untuk model."
      ],
      "metadata": {
        "id": "3nRy7YFhq8El"
      }
    },
    {
      "cell_type": "code",
      "source": [
        "from collections import Counter\n",
        "cnt = Counter()\n",
        "for text in labeled_data[\"text_stemmed\"].values:\n",
        "    for word in text.split():\n",
        "        cnt[word] += 1\n",
        "cnt.most_common(10)"
      ],
      "metadata": {
        "colab": {
          "base_uri": "https://localhost:8080/",
          "height": 237
        },
        "id": "W5WAybJSrAu7",
        "outputId": "a7f28f8f-f0c0-42fe-8e0b-7072cbe5656c"
      },
      "execution_count": null,
      "outputs": [
        {
          "output_type": "error",
          "ename": "NameError",
          "evalue": "ignored",
          "traceback": [
            "\u001b[0;31m---------------------------------------------------------------------------\u001b[0m",
            "\u001b[0;31mNameError\u001b[0m                                 Traceback (most recent call last)",
            "\u001b[0;32m<ipython-input-1-1ee2fced61a9>\u001b[0m in \u001b[0;36m<cell line: 3>\u001b[0;34m()\u001b[0m\n\u001b[1;32m      1\u001b[0m \u001b[0;32mfrom\u001b[0m \u001b[0mcollections\u001b[0m \u001b[0;32mimport\u001b[0m \u001b[0mCounter\u001b[0m\u001b[0;34m\u001b[0m\u001b[0;34m\u001b[0m\u001b[0m\n\u001b[1;32m      2\u001b[0m \u001b[0mcnt\u001b[0m \u001b[0;34m=\u001b[0m \u001b[0mCounter\u001b[0m\u001b[0;34m(\u001b[0m\u001b[0;34m)\u001b[0m\u001b[0;34m\u001b[0m\u001b[0;34m\u001b[0m\u001b[0m\n\u001b[0;32m----> 3\u001b[0;31m \u001b[0;32mfor\u001b[0m \u001b[0mtext\u001b[0m \u001b[0;32min\u001b[0m \u001b[0mlabeled_data\u001b[0m\u001b[0;34m[\u001b[0m\u001b[0;34m\"text_stemmed\"\u001b[0m\u001b[0;34m]\u001b[0m\u001b[0;34m.\u001b[0m\u001b[0mvalues\u001b[0m\u001b[0;34m:\u001b[0m\u001b[0;34m\u001b[0m\u001b[0;34m\u001b[0m\u001b[0m\n\u001b[0m\u001b[1;32m      4\u001b[0m     \u001b[0;32mfor\u001b[0m \u001b[0mword\u001b[0m \u001b[0;32min\u001b[0m \u001b[0mtext\u001b[0m\u001b[0;34m.\u001b[0m\u001b[0msplit\u001b[0m\u001b[0;34m(\u001b[0m\u001b[0;34m)\u001b[0m\u001b[0;34m:\u001b[0m\u001b[0;34m\u001b[0m\u001b[0;34m\u001b[0m\u001b[0m\n\u001b[1;32m      5\u001b[0m         \u001b[0mcnt\u001b[0m\u001b[0;34m[\u001b[0m\u001b[0mword\u001b[0m\u001b[0;34m]\u001b[0m \u001b[0;34m+=\u001b[0m \u001b[0;36m1\u001b[0m\u001b[0;34m\u001b[0m\u001b[0;34m\u001b[0m\u001b[0m\n",
            "\u001b[0;31mNameError\u001b[0m: name 'labeled_data' is not defined"
          ]
        }
      ]
    },
    {
      "cell_type": "markdown",
      "source": [
        "### Kata paling jarang muncul"
      ],
      "metadata": {
        "id": "Q070VBMNtosv"
      }
    },
    {
      "cell_type": "code",
      "source": [
        "from collections import Counter\n",
        "cnt = Counter()\n",
        "for text in labeled_data[\"text_stemmed\"].values:\n",
        "    for word in text.split():\n",
        "        cnt[word] += 1\n",
        "cnt.most_common()[:-5-1:-1]"
      ],
      "metadata": {
        "id": "a9_9CyO9txHO",
        "outputId": "459505bd-f89e-47aa-9ccf-862158f992c7",
        "colab": {
          "base_uri": "https://localhost:8080/"
        }
      },
      "execution_count": null,
      "outputs": [
        {
          "output_type": "execute_result",
          "data": {
            "text/plain": [
              "[('terjadj', 1), ('plan', 1), ('kasali', 1), ('renald', 1), ('pustaka', 1)]"
            ]
          },
          "metadata": {},
          "execution_count": 89
        }
      ]
    },
    {
      "cell_type": "code",
      "source": [
        "col_before = \"text_stemmed\"\n",
        "col_after= \"text_wo_rare_word\"\n",
        "\n",
        "def remove_rare_words(df, col_before, col_after):\n",
        "    # Menghitung frekuensi kemunculan setiap kata dalam kolom\n",
        "    word_counts = df[col_before].str.split(expand=True).stack().value_counts()\n",
        "    # Mengambil daftar kata yang hanya muncul sekali atau dua kali\n",
        "    rare_words = word_counts[(word_counts == 1) | (word_counts == 2)].index.tolist()\n",
        "    # Menghapus kata-kata yang hanya muncul sekali atau dua kali dalam kolom\n",
        "    df[col_after] = df[col_before].apply(lambda x: ' '.join([word for word in x.split() if word not in rare_words]))\n",
        "    return df\n",
        "remove_rare_words(labeled_data, col_before, col_after)\n",
        "\n",
        "# Sampel\n",
        "def find_rows_with_rare_words(df, column_name):\n",
        "    # Menghitung frekuensi kemunculan setiap kata dalam kolom\n",
        "    word_counts = df[column_name].str.split(expand=True).stack().value_counts()\n",
        "    # Mengambil daftar kata yang hanya muncul sekali atau dua kali\n",
        "    rare_words = word_counts[(word_counts == 1) | (word_counts == 2)].index.tolist()\n",
        "    # Mencari baris yang mengandung kata-kata langka\n",
        "    mask = df[column_name].str.split().apply(lambda x: any(word in rare_words for word in x))\n",
        "    # Mengembalikan DataFrame yang hanya berisi baris dengan kata-kata langka\n",
        "    return df[mask]\n",
        "rare = find_rows_with_rare_words(labeled_data, col_before)\n",
        "rare.sample(5)"
      ],
      "metadata": {
        "colab": {
          "base_uri": "https://localhost:8080/",
          "height": 635
        },
        "id": "adei1CLX5-J0",
        "outputId": "2c1ea6b3-c4c0-4402-fd4f-0ada3e7e0505"
      },
      "execution_count": null,
      "outputs": [
        {
          "output_type": "execute_result",
          "data": {
            "text/plain": [
              "                                                  text  votes  label  \\\n",
              "368  apa ai sudah bisa mendapatkan data alam secara...      0      2   \n",
              "135  memang menakutkan tentang ai.pernah belajar te...      3      0   \n",
              "191  secanggih canggihnya ai pasti ada orang yg nge...      0      0   \n",
              "816  menarik. sangat relevan dg apa yg sedang saya ...     11      2   \n",
              "203     pensionkan uank danbank dulu /ai baruditrapkan      0      3   \n",
              "\n",
              "                                         text_wo_punct  \\\n",
              "368  apa ai sudah bisa mendapatkan data alam secara...   \n",
              "135  memang menakutkan tentang ai pernah belajar te...   \n",
              "191  secanggih canggihnya ai pasti ada orang yg nge...   \n",
              "816  menarik  sangat relevan dg apa yg sedang saya ...   \n",
              "203     pensionkan uank danbank dulu  ai baruditrapkan   \n",
              "\n",
              "                                           text_custom  \\\n",
              "368  apa ai sudah bisa mendapatkan data alam secara...   \n",
              "135  memang menakutkan tentang ai pernah belajar te...   \n",
              "191  secanggih canggihnya ai pasti ada orang yg nge...   \n",
              "816  menarik sangat relevan dg apa yg sedang saya p...   \n",
              "203      pensionkan uank danbank dulu ai baruditrapkan   \n",
              "\n",
              "                                         text_wo_emoji  \\\n",
              "368  apa ai sudah bisa mendapatkan data alam secara...   \n",
              "135  memang menakutkan tentang ai pernah belajar te...   \n",
              "191  secanggih canggihnya ai pasti ada orang yg nge...   \n",
              "816  menarik sangat relevan dg apa yg sedang saya p...   \n",
              "203      pensionkan uank danbank dulu ai baruditrapkan   \n",
              "\n",
              "                                           text_wo_abb  \\\n",
              "368  apa ai sudah bisa mendapatkan data alam secara...   \n",
              "135  memang menakutkan tentang ai pernah belajar te...   \n",
              "191  secanggih canggihnya ai pasti ada orang yang n...   \n",
              "816  menarik sangat relevan dg apa yang sedang saya...   \n",
              "203      pensionkan uank danbank dulu ai baruditrapkan   \n",
              "\n",
              "                                        text_wo_stopwd  \\\n",
              "368  ai data alam mandiri peneliti pengetahuan diin...   \n",
              "135  menakutkan ai belajar hacking coba puji coba s...   \n",
              "191  secanggih canggihnya ai ngendaliin ai berani m...   \n",
              "816  menarik relevan dg pelajari data science mesti...   \n",
              "203           pensionkan uank danbank ai baruditrapkan   \n",
              "\n",
              "                                          text_stemmed  \\\n",
              "368  ai data alam mandiri teliti tahu diinput siste...   \n",
              "135  takut ai ajar hacking coba puji coba sya tuduh...   \n",
              "191  canggih canggih ai ngendaliin ai berani manusi...   \n",
              "816  tarik relevan dg ajar data science mesti ajar ...   \n",
              "203           pensionkan uank danbank ai baruditrapkan   \n",
              "\n",
              "                                     text_wo_rare_word  \n",
              "368  ai data alam mandiri teliti tahu sistem baca a...  \n",
              "135  takut ai ajar coba puji coba bohong chat ubah ...  \n",
              "191  canggih canggih ai ai manusia tangan manusia b...  \n",
              "816  tarik relevan dg ajar data mesti ajar machine ...  \n",
              "203                                                 ai  "
            ],
            "text/html": [
              "\n",
              "  <div id=\"df-f0b60967-8ffd-47be-a70b-97f870e162bc\">\n",
              "    <div class=\"colab-df-container\">\n",
              "      <div>\n",
              "<style scoped>\n",
              "    .dataframe tbody tr th:only-of-type {\n",
              "        vertical-align: middle;\n",
              "    }\n",
              "\n",
              "    .dataframe tbody tr th {\n",
              "        vertical-align: top;\n",
              "    }\n",
              "\n",
              "    .dataframe thead th {\n",
              "        text-align: right;\n",
              "    }\n",
              "</style>\n",
              "<table border=\"1\" class=\"dataframe\">\n",
              "  <thead>\n",
              "    <tr style=\"text-align: right;\">\n",
              "      <th></th>\n",
              "      <th>text</th>\n",
              "      <th>votes</th>\n",
              "      <th>label</th>\n",
              "      <th>text_wo_punct</th>\n",
              "      <th>text_custom</th>\n",
              "      <th>text_wo_emoji</th>\n",
              "      <th>text_wo_abb</th>\n",
              "      <th>text_wo_stopwd</th>\n",
              "      <th>text_stemmed</th>\n",
              "      <th>text_wo_rare_word</th>\n",
              "    </tr>\n",
              "  </thead>\n",
              "  <tbody>\n",
              "    <tr>\n",
              "      <th>368</th>\n",
              "      <td>apa ai sudah bisa mendapatkan data alam secara...</td>\n",
              "      <td>0</td>\n",
              "      <td>2</td>\n",
              "      <td>apa ai sudah bisa mendapatkan data alam secara...</td>\n",
              "      <td>apa ai sudah bisa mendapatkan data alam secara...</td>\n",
              "      <td>apa ai sudah bisa mendapatkan data alam secara...</td>\n",
              "      <td>apa ai sudah bisa mendapatkan data alam secara...</td>\n",
              "      <td>ai data alam mandiri peneliti pengetahuan diin...</td>\n",
              "      <td>ai data alam mandiri teliti tahu diinput siste...</td>\n",
              "      <td>ai data alam mandiri teliti tahu sistem baca a...</td>\n",
              "    </tr>\n",
              "    <tr>\n",
              "      <th>135</th>\n",
              "      <td>memang menakutkan tentang ai.pernah belajar te...</td>\n",
              "      <td>3</td>\n",
              "      <td>0</td>\n",
              "      <td>memang menakutkan tentang ai pernah belajar te...</td>\n",
              "      <td>memang menakutkan tentang ai pernah belajar te...</td>\n",
              "      <td>memang menakutkan tentang ai pernah belajar te...</td>\n",
              "      <td>memang menakutkan tentang ai pernah belajar te...</td>\n",
              "      <td>menakutkan ai belajar hacking coba puji coba s...</td>\n",
              "      <td>takut ai ajar hacking coba puji coba sya tuduh...</td>\n",
              "      <td>takut ai ajar coba puji coba bohong chat ubah ...</td>\n",
              "    </tr>\n",
              "    <tr>\n",
              "      <th>191</th>\n",
              "      <td>secanggih canggihnya ai pasti ada orang yg nge...</td>\n",
              "      <td>0</td>\n",
              "      <td>0</td>\n",
              "      <td>secanggih canggihnya ai pasti ada orang yg nge...</td>\n",
              "      <td>secanggih canggihnya ai pasti ada orang yg nge...</td>\n",
              "      <td>secanggih canggihnya ai pasti ada orang yg nge...</td>\n",
              "      <td>secanggih canggihnya ai pasti ada orang yang n...</td>\n",
              "      <td>secanggih canggihnya ai ngendaliin ai berani m...</td>\n",
              "      <td>canggih canggih ai ngendaliin ai berani manusi...</td>\n",
              "      <td>canggih canggih ai ai manusia tangan manusia b...</td>\n",
              "    </tr>\n",
              "    <tr>\n",
              "      <th>816</th>\n",
              "      <td>menarik. sangat relevan dg apa yg sedang saya ...</td>\n",
              "      <td>11</td>\n",
              "      <td>2</td>\n",
              "      <td>menarik  sangat relevan dg apa yg sedang saya ...</td>\n",
              "      <td>menarik sangat relevan dg apa yg sedang saya p...</td>\n",
              "      <td>menarik sangat relevan dg apa yg sedang saya p...</td>\n",
              "      <td>menarik sangat relevan dg apa yang sedang saya...</td>\n",
              "      <td>menarik relevan dg pelajari data science mesti...</td>\n",
              "      <td>tarik relevan dg ajar data science mesti ajar ...</td>\n",
              "      <td>tarik relevan dg ajar data mesti ajar machine ...</td>\n",
              "    </tr>\n",
              "    <tr>\n",
              "      <th>203</th>\n",
              "      <td>pensionkan uank danbank dulu /ai baruditrapkan</td>\n",
              "      <td>0</td>\n",
              "      <td>3</td>\n",
              "      <td>pensionkan uank danbank dulu  ai baruditrapkan</td>\n",
              "      <td>pensionkan uank danbank dulu ai baruditrapkan</td>\n",
              "      <td>pensionkan uank danbank dulu ai baruditrapkan</td>\n",
              "      <td>pensionkan uank danbank dulu ai baruditrapkan</td>\n",
              "      <td>pensionkan uank danbank ai baruditrapkan</td>\n",
              "      <td>pensionkan uank danbank ai baruditrapkan</td>\n",
              "      <td>ai</td>\n",
              "    </tr>\n",
              "  </tbody>\n",
              "</table>\n",
              "</div>\n",
              "      <button class=\"colab-df-convert\" onclick=\"convertToInteractive('df-f0b60967-8ffd-47be-a70b-97f870e162bc')\"\n",
              "              title=\"Convert this dataframe to an interactive table.\"\n",
              "              style=\"display:none;\">\n",
              "        \n",
              "  <svg xmlns=\"http://www.w3.org/2000/svg\" height=\"24px\"viewBox=\"0 0 24 24\"\n",
              "       width=\"24px\">\n",
              "    <path d=\"M0 0h24v24H0V0z\" fill=\"none\"/>\n",
              "    <path d=\"M18.56 5.44l.94 2.06.94-2.06 2.06-.94-2.06-.94-.94-2.06-.94 2.06-2.06.94zm-11 1L8.5 8.5l.94-2.06 2.06-.94-2.06-.94L8.5 2.5l-.94 2.06-2.06.94zm10 10l.94 2.06.94-2.06 2.06-.94-2.06-.94-.94-2.06-.94 2.06-2.06.94z\"/><path d=\"M17.41 7.96l-1.37-1.37c-.4-.4-.92-.59-1.43-.59-.52 0-1.04.2-1.43.59L10.3 9.45l-7.72 7.72c-.78.78-.78 2.05 0 2.83L4 21.41c.39.39.9.59 1.41.59.51 0 1.02-.2 1.41-.59l7.78-7.78 2.81-2.81c.8-.78.8-2.07 0-2.86zM5.41 20L4 18.59l7.72-7.72 1.47 1.35L5.41 20z\"/>\n",
              "  </svg>\n",
              "      </button>\n",
              "      \n",
              "  <style>\n",
              "    .colab-df-container {\n",
              "      display:flex;\n",
              "      flex-wrap:wrap;\n",
              "      gap: 12px;\n",
              "    }\n",
              "\n",
              "    .colab-df-convert {\n",
              "      background-color: #E8F0FE;\n",
              "      border: none;\n",
              "      border-radius: 50%;\n",
              "      cursor: pointer;\n",
              "      display: none;\n",
              "      fill: #1967D2;\n",
              "      height: 32px;\n",
              "      padding: 0 0 0 0;\n",
              "      width: 32px;\n",
              "    }\n",
              "\n",
              "    .colab-df-convert:hover {\n",
              "      background-color: #E2EBFA;\n",
              "      box-shadow: 0px 1px 2px rgba(60, 64, 67, 0.3), 0px 1px 3px 1px rgba(60, 64, 67, 0.15);\n",
              "      fill: #174EA6;\n",
              "    }\n",
              "\n",
              "    [theme=dark] .colab-df-convert {\n",
              "      background-color: #3B4455;\n",
              "      fill: #D2E3FC;\n",
              "    }\n",
              "\n",
              "    [theme=dark] .colab-df-convert:hover {\n",
              "      background-color: #434B5C;\n",
              "      box-shadow: 0px 1px 3px 1px rgba(0, 0, 0, 0.15);\n",
              "      filter: drop-shadow(0px 1px 2px rgba(0, 0, 0, 0.3));\n",
              "      fill: #FFFFFF;\n",
              "    }\n",
              "  </style>\n",
              "\n",
              "      <script>\n",
              "        const buttonEl =\n",
              "          document.querySelector('#df-f0b60967-8ffd-47be-a70b-97f870e162bc button.colab-df-convert');\n",
              "        buttonEl.style.display =\n",
              "          google.colab.kernel.accessAllowed ? 'block' : 'none';\n",
              "\n",
              "        async function convertToInteractive(key) {\n",
              "          const element = document.querySelector('#df-f0b60967-8ffd-47be-a70b-97f870e162bc');\n",
              "          const dataTable =\n",
              "            await google.colab.kernel.invokeFunction('convertToInteractive',\n",
              "                                                     [key], {});\n",
              "          if (!dataTable) return;\n",
              "\n",
              "          const docLinkHtml = 'Like what you see? Visit the ' +\n",
              "            '<a target=\"_blank\" href=https://colab.research.google.com/notebooks/data_table.ipynb>data table notebook</a>'\n",
              "            + ' to learn more about interactive tables.';\n",
              "          element.innerHTML = '';\n",
              "          dataTable['output_type'] = 'display_data';\n",
              "          await google.colab.output.renderOutput(dataTable, element);\n",
              "          const docLink = document.createElement('div');\n",
              "          docLink.innerHTML = docLinkHtml;\n",
              "          element.appendChild(docLink);\n",
              "        }\n",
              "      </script>\n",
              "    </div>\n",
              "  </div>\n",
              "  "
            ]
          },
          "metadata": {},
          "execution_count": 90
        }
      ]
    },
    {
      "cell_type": "markdown",
      "source": [
        "## Menghapus baris dengan nilai string kosong di dalamnya"
      ],
      "metadata": {
        "id": "uZT-i-EHYVb0"
      }
    },
    {
      "cell_type": "code",
      "source": [
        "def hapus_baris_string_kosong(df):\n",
        "    # Mengumpulkan indeks baris dengan nilai string kosong\n",
        "    indeks_kosong = df[df == ''].dropna(how='all').index\n",
        "    # Menghapus baris dengan indeks yang terkumpul\n",
        "    df = df.drop(indeks_kosong)\n",
        "    return df\n",
        "labeled_data = hapus_baris_string_kosong(labeled_data)\n",
        "print(f\"Awalnya ada 900 dan sekarang sisa {labeled_data.shape[0]} baris\")"
      ],
      "metadata": {
        "colab": {
          "base_uri": "https://localhost:8080/"
        },
        "id": "SMHh713liAh4",
        "outputId": "1975ad73-3d0a-4166-f56b-c190f456bee1"
      },
      "execution_count": null,
      "outputs": [
        {
          "output_type": "stream",
          "name": "stdout",
          "text": [
            "Awalnya ada 900 dan sekarang sisa 832 baris\n"
          ]
        }
      ]
    },
    {
      "cell_type": "markdown",
      "source": [
        "# Tahap 4: Pelatihan dan Pengujian"
      ],
      "metadata": {
        "id": "iJCGcDiaMeNo"
      }
    },
    {
      "cell_type": "markdown",
      "source": [
        "## Vektorisasi data (TF-IDF)"
      ],
      "metadata": {
        "id": "ZrjLXV4z7gSR"
      }
    },
    {
      "cell_type": "code",
      "source": [
        "# Inisiasi TF-IDF\n",
        "COL = \"text_wo_rare_word\"\n",
        "from sklearn.feature_extraction.text import TfidfVectorizer\n",
        "import pandas as pd"
      ],
      "metadata": {
        "id": "4nUoQcg5zfem"
      },
      "execution_count": null,
      "outputs": []
    },
    {
      "cell_type": "markdown",
      "source": [
        "### TF-IDF Unigram"
      ],
      "metadata": {
        "id": "BSzAdt8immYq"
      }
    },
    {
      "cell_type": "code",
      "source": [
        "tfidf_unigram = TfidfVectorizer(ngram_range=(1, 1))\n",
        "features_unigram = tfidf_unigram.fit_transform(labeled_data[COL].values)\n",
        "unigram_vectorized_data = pd.DataFrame(features_unigram.todense(), columns=tfidf_unigram.get_feature_names_out())\n",
        "print(unigram_vectorized_data.shape)"
      ],
      "metadata": {
        "colab": {
          "base_uri": "https://localhost:8080/"
        },
        "id": "Ge1lmsV0weay",
        "outputId": "f1132a02-2912-45e9-cbeb-244d3ec792e3"
      },
      "execution_count": null,
      "outputs": [
        {
          "output_type": "stream",
          "name": "stdout",
          "text": [
            "(832, 880)\n"
          ]
        }
      ]
    },
    {
      "cell_type": "code",
      "source": [
        "unigram_vectorized_data.sample(5)\n",
        "# Angka semua coy"
      ],
      "metadata": {
        "colab": {
          "base_uri": "https://localhost:8080/",
          "height": 300
        },
        "id": "7MkS0pnl2l7n",
        "outputId": "ff05463d-bc4d-4f4a-d73a-27de5f42775b"
      },
      "execution_count": null,
      "outputs": [
        {
          "output_type": "execute_result",
          "data": {
            "text/plain": [
              "     abad  adab  adam  adaptasi  adil  agama  ahli        ai  air  ajar  ...  \\\n",
              "109   0.0   0.0   0.0       0.0   0.0    0.0   0.0  0.135845  0.0   0.0  ...   \n",
              "591   0.0   0.0   0.0       0.0   0.0    0.0   0.0  0.000000  0.0   0.0  ...   \n",
              "675   0.0   0.0   0.0       0.0   0.0    0.0   0.0  0.000000  0.0   0.0  ...   \n",
              "200   0.0   0.0   0.0       0.0   0.0    0.0   0.0  0.614514  0.0   0.0  ...   \n",
              "600   0.0   0.0   0.0       0.0   0.0    0.0   0.0  0.000000  0.0   0.0  ...   \n",
              "\n",
              "     wujud  yah  yakin  yaumil  yes  you  youtube  yuval  zaman  zuckerberg  \n",
              "109    0.0  0.0    0.0     0.0  0.0  0.0      0.0    0.0    0.0         0.0  \n",
              "591    0.0  0.0    0.0     0.0  0.0  0.0      0.0    0.0    0.0         0.0  \n",
              "675    0.0  0.0    0.0     0.0  0.0  0.0      0.0    0.0    0.0         0.0  \n",
              "200    0.0  0.0    0.0     0.0  0.0  0.0      0.0    0.0    0.0         0.0  \n",
              "600    0.0  0.0    0.0     0.0  0.0  0.0      0.0    0.0    0.0         0.0  \n",
              "\n",
              "[5 rows x 880 columns]"
            ],
            "text/html": [
              "\n",
              "  <div id=\"df-df1cecd4-64af-4f1f-abb4-3a50de3303cd\">\n",
              "    <div class=\"colab-df-container\">\n",
              "      <div>\n",
              "<style scoped>\n",
              "    .dataframe tbody tr th:only-of-type {\n",
              "        vertical-align: middle;\n",
              "    }\n",
              "\n",
              "    .dataframe tbody tr th {\n",
              "        vertical-align: top;\n",
              "    }\n",
              "\n",
              "    .dataframe thead th {\n",
              "        text-align: right;\n",
              "    }\n",
              "</style>\n",
              "<table border=\"1\" class=\"dataframe\">\n",
              "  <thead>\n",
              "    <tr style=\"text-align: right;\">\n",
              "      <th></th>\n",
              "      <th>abad</th>\n",
              "      <th>adab</th>\n",
              "      <th>adam</th>\n",
              "      <th>adaptasi</th>\n",
              "      <th>adil</th>\n",
              "      <th>agama</th>\n",
              "      <th>ahli</th>\n",
              "      <th>ai</th>\n",
              "      <th>air</th>\n",
              "      <th>ajar</th>\n",
              "      <th>...</th>\n",
              "      <th>wujud</th>\n",
              "      <th>yah</th>\n",
              "      <th>yakin</th>\n",
              "      <th>yaumil</th>\n",
              "      <th>yes</th>\n",
              "      <th>you</th>\n",
              "      <th>youtube</th>\n",
              "      <th>yuval</th>\n",
              "      <th>zaman</th>\n",
              "      <th>zuckerberg</th>\n",
              "    </tr>\n",
              "  </thead>\n",
              "  <tbody>\n",
              "    <tr>\n",
              "      <th>109</th>\n",
              "      <td>0.0</td>\n",
              "      <td>0.0</td>\n",
              "      <td>0.0</td>\n",
              "      <td>0.0</td>\n",
              "      <td>0.0</td>\n",
              "      <td>0.0</td>\n",
              "      <td>0.0</td>\n",
              "      <td>0.135845</td>\n",
              "      <td>0.0</td>\n",
              "      <td>0.0</td>\n",
              "      <td>...</td>\n",
              "      <td>0.0</td>\n",
              "      <td>0.0</td>\n",
              "      <td>0.0</td>\n",
              "      <td>0.0</td>\n",
              "      <td>0.0</td>\n",
              "      <td>0.0</td>\n",
              "      <td>0.0</td>\n",
              "      <td>0.0</td>\n",
              "      <td>0.0</td>\n",
              "      <td>0.0</td>\n",
              "    </tr>\n",
              "    <tr>\n",
              "      <th>591</th>\n",
              "      <td>0.0</td>\n",
              "      <td>0.0</td>\n",
              "      <td>0.0</td>\n",
              "      <td>0.0</td>\n",
              "      <td>0.0</td>\n",
              "      <td>0.0</td>\n",
              "      <td>0.0</td>\n",
              "      <td>0.000000</td>\n",
              "      <td>0.0</td>\n",
              "      <td>0.0</td>\n",
              "      <td>...</td>\n",
              "      <td>0.0</td>\n",
              "      <td>0.0</td>\n",
              "      <td>0.0</td>\n",
              "      <td>0.0</td>\n",
              "      <td>0.0</td>\n",
              "      <td>0.0</td>\n",
              "      <td>0.0</td>\n",
              "      <td>0.0</td>\n",
              "      <td>0.0</td>\n",
              "      <td>0.0</td>\n",
              "    </tr>\n",
              "    <tr>\n",
              "      <th>675</th>\n",
              "      <td>0.0</td>\n",
              "      <td>0.0</td>\n",
              "      <td>0.0</td>\n",
              "      <td>0.0</td>\n",
              "      <td>0.0</td>\n",
              "      <td>0.0</td>\n",
              "      <td>0.0</td>\n",
              "      <td>0.000000</td>\n",
              "      <td>0.0</td>\n",
              "      <td>0.0</td>\n",
              "      <td>...</td>\n",
              "      <td>0.0</td>\n",
              "      <td>0.0</td>\n",
              "      <td>0.0</td>\n",
              "      <td>0.0</td>\n",
              "      <td>0.0</td>\n",
              "      <td>0.0</td>\n",
              "      <td>0.0</td>\n",
              "      <td>0.0</td>\n",
              "      <td>0.0</td>\n",
              "      <td>0.0</td>\n",
              "    </tr>\n",
              "    <tr>\n",
              "      <th>200</th>\n",
              "      <td>0.0</td>\n",
              "      <td>0.0</td>\n",
              "      <td>0.0</td>\n",
              "      <td>0.0</td>\n",
              "      <td>0.0</td>\n",
              "      <td>0.0</td>\n",
              "      <td>0.0</td>\n",
              "      <td>0.614514</td>\n",
              "      <td>0.0</td>\n",
              "      <td>0.0</td>\n",
              "      <td>...</td>\n",
              "      <td>0.0</td>\n",
              "      <td>0.0</td>\n",
              "      <td>0.0</td>\n",
              "      <td>0.0</td>\n",
              "      <td>0.0</td>\n",
              "      <td>0.0</td>\n",
              "      <td>0.0</td>\n",
              "      <td>0.0</td>\n",
              "      <td>0.0</td>\n",
              "      <td>0.0</td>\n",
              "    </tr>\n",
              "    <tr>\n",
              "      <th>600</th>\n",
              "      <td>0.0</td>\n",
              "      <td>0.0</td>\n",
              "      <td>0.0</td>\n",
              "      <td>0.0</td>\n",
              "      <td>0.0</td>\n",
              "      <td>0.0</td>\n",
              "      <td>0.0</td>\n",
              "      <td>0.000000</td>\n",
              "      <td>0.0</td>\n",
              "      <td>0.0</td>\n",
              "      <td>...</td>\n",
              "      <td>0.0</td>\n",
              "      <td>0.0</td>\n",
              "      <td>0.0</td>\n",
              "      <td>0.0</td>\n",
              "      <td>0.0</td>\n",
              "      <td>0.0</td>\n",
              "      <td>0.0</td>\n",
              "      <td>0.0</td>\n",
              "      <td>0.0</td>\n",
              "      <td>0.0</td>\n",
              "    </tr>\n",
              "  </tbody>\n",
              "</table>\n",
              "<p>5 rows × 880 columns</p>\n",
              "</div>\n",
              "      <button class=\"colab-df-convert\" onclick=\"convertToInteractive('df-df1cecd4-64af-4f1f-abb4-3a50de3303cd')\"\n",
              "              title=\"Convert this dataframe to an interactive table.\"\n",
              "              style=\"display:none;\">\n",
              "        \n",
              "  <svg xmlns=\"http://www.w3.org/2000/svg\" height=\"24px\"viewBox=\"0 0 24 24\"\n",
              "       width=\"24px\">\n",
              "    <path d=\"M0 0h24v24H0V0z\" fill=\"none\"/>\n",
              "    <path d=\"M18.56 5.44l.94 2.06.94-2.06 2.06-.94-2.06-.94-.94-2.06-.94 2.06-2.06.94zm-11 1L8.5 8.5l.94-2.06 2.06-.94-2.06-.94L8.5 2.5l-.94 2.06-2.06.94zm10 10l.94 2.06.94-2.06 2.06-.94-2.06-.94-.94-2.06-.94 2.06-2.06.94z\"/><path d=\"M17.41 7.96l-1.37-1.37c-.4-.4-.92-.59-1.43-.59-.52 0-1.04.2-1.43.59L10.3 9.45l-7.72 7.72c-.78.78-.78 2.05 0 2.83L4 21.41c.39.39.9.59 1.41.59.51 0 1.02-.2 1.41-.59l7.78-7.78 2.81-2.81c.8-.78.8-2.07 0-2.86zM5.41 20L4 18.59l7.72-7.72 1.47 1.35L5.41 20z\"/>\n",
              "  </svg>\n",
              "      </button>\n",
              "      \n",
              "  <style>\n",
              "    .colab-df-container {\n",
              "      display:flex;\n",
              "      flex-wrap:wrap;\n",
              "      gap: 12px;\n",
              "    }\n",
              "\n",
              "    .colab-df-convert {\n",
              "      background-color: #E8F0FE;\n",
              "      border: none;\n",
              "      border-radius: 50%;\n",
              "      cursor: pointer;\n",
              "      display: none;\n",
              "      fill: #1967D2;\n",
              "      height: 32px;\n",
              "      padding: 0 0 0 0;\n",
              "      width: 32px;\n",
              "    }\n",
              "\n",
              "    .colab-df-convert:hover {\n",
              "      background-color: #E2EBFA;\n",
              "      box-shadow: 0px 1px 2px rgba(60, 64, 67, 0.3), 0px 1px 3px 1px rgba(60, 64, 67, 0.15);\n",
              "      fill: #174EA6;\n",
              "    }\n",
              "\n",
              "    [theme=dark] .colab-df-convert {\n",
              "      background-color: #3B4455;\n",
              "      fill: #D2E3FC;\n",
              "    }\n",
              "\n",
              "    [theme=dark] .colab-df-convert:hover {\n",
              "      background-color: #434B5C;\n",
              "      box-shadow: 0px 1px 3px 1px rgba(0, 0, 0, 0.15);\n",
              "      filter: drop-shadow(0px 1px 2px rgba(0, 0, 0, 0.3));\n",
              "      fill: #FFFFFF;\n",
              "    }\n",
              "  </style>\n",
              "\n",
              "      <script>\n",
              "        const buttonEl =\n",
              "          document.querySelector('#df-df1cecd4-64af-4f1f-abb4-3a50de3303cd button.colab-df-convert');\n",
              "        buttonEl.style.display =\n",
              "          google.colab.kernel.accessAllowed ? 'block' : 'none';\n",
              "\n",
              "        async function convertToInteractive(key) {\n",
              "          const element = document.querySelector('#df-df1cecd4-64af-4f1f-abb4-3a50de3303cd');\n",
              "          const dataTable =\n",
              "            await google.colab.kernel.invokeFunction('convertToInteractive',\n",
              "                                                     [key], {});\n",
              "          if (!dataTable) return;\n",
              "\n",
              "          const docLinkHtml = 'Like what you see? Visit the ' +\n",
              "            '<a target=\"_blank\" href=https://colab.research.google.com/notebooks/data_table.ipynb>data table notebook</a>'\n",
              "            + ' to learn more about interactive tables.';\n",
              "          element.innerHTML = '';\n",
              "          dataTable['output_type'] = 'display_data';\n",
              "          await google.colab.output.renderOutput(dataTable, element);\n",
              "          const docLink = document.createElement('div');\n",
              "          docLink.innerHTML = docLinkHtml;\n",
              "          element.appendChild(docLink);\n",
              "        }\n",
              "      </script>\n",
              "    </div>\n",
              "  </div>\n",
              "  "
            ]
          },
          "metadata": {},
          "execution_count": 96
        }
      ]
    },
    {
      "cell_type": "markdown",
      "source": [
        "### TF-IDF Bigram"
      ],
      "metadata": {
        "id": "WyvfLMR43ZQY"
      }
    },
    {
      "cell_type": "code",
      "source": [
        "tfidf_bigram = TfidfVectorizer(ngram_range=(2, 2))\n",
        "features_bigram = tfidf_bigram.fit_transform(labeled_data[COL].values)\n",
        "bigram_vectorized_data = pd.DataFrame(features_bigram.todense(), columns=tfidf_bigram.get_feature_names_out())\n",
        "print(bigram_vectorized_data.shape)"
      ],
      "metadata": {
        "colab": {
          "base_uri": "https://localhost:8080/"
        },
        "id": "9Ftq8ncP3cX5",
        "outputId": "8fda36e2-94ab-4d24-b4df-4f8b401f0957"
      },
      "execution_count": null,
      "outputs": [
        {
          "output_type": "stream",
          "name": "stdout",
          "text": [
            "(832, 6287)\n"
          ]
        }
      ]
    },
    {
      "cell_type": "code",
      "source": [
        "bigram_vectorized_data.sample(5)"
      ],
      "metadata": {
        "colab": {
          "base_uri": "https://localhost:8080/",
          "height": 317
        },
        "id": "47DbkX-F3yx0",
        "outputId": "1ce88ca4-9f2b-4c0d-c72d-4b59259cc590"
      },
      "execution_count": null,
      "outputs": [
        {
          "output_type": "execute_result",
          "data": {
            "text/plain": [
              "     abad abad  abad generasi  abad gimana  adab adab  adab ai  adab bumi  \\\n",
              "718        0.0            0.0          0.0        0.0      0.0        0.0   \n",
              "338        0.0            0.0          0.0        0.0      0.0        0.0   \n",
              "698        0.0            0.0          0.0        0.0      0.0        0.0   \n",
              "637        0.0            0.0          0.0        0.0      0.0        0.0   \n",
              "675        0.0            0.0          0.0        0.0      0.0        0.0   \n",
              "\n",
              "     adab cipta  adab contoh  adab dunia  adab ilmuwan  ...  zaman kuasa  \\\n",
              "718         0.0          0.0         0.0           0.0  ...          0.0   \n",
              "338         0.0          0.0         0.0           0.0  ...          0.0   \n",
              "698         0.0          0.0         0.0           0.0  ...          0.0   \n",
              "637         0.0          0.0         0.0           0.0  ...          0.0   \n",
              "675         0.0          0.0         0.0           0.0  ...          0.0   \n",
              "\n",
              "     zaman mana  zaman milik  zaman revolusi  zaman sbg  zaman sd  \\\n",
              "718         0.0          0.0             0.0        0.0       0.0   \n",
              "338         0.0          0.0             0.0        0.0       0.0   \n",
              "698         0.0          0.0             0.0        0.0       0.0   \n",
              "637         0.0          0.0             0.0        0.0       0.0   \n",
              "675         0.0          0.0             0.0        0.0       0.0   \n",
              "\n",
              "     zaman tentu  zuckerberg duga  zuckerberg homo  zuckerberg pikir  \n",
              "718          0.0              0.0              0.0               0.0  \n",
              "338          0.0              0.0              0.0               0.0  \n",
              "698          0.0              0.0              0.0               0.0  \n",
              "637          0.0              0.0              0.0               0.0  \n",
              "675          0.0              0.0              0.0               0.0  \n",
              "\n",
              "[5 rows x 6287 columns]"
            ],
            "text/html": [
              "\n",
              "  <div id=\"df-bca53d95-9880-426f-a842-5d6a3afac42e\">\n",
              "    <div class=\"colab-df-container\">\n",
              "      <div>\n",
              "<style scoped>\n",
              "    .dataframe tbody tr th:only-of-type {\n",
              "        vertical-align: middle;\n",
              "    }\n",
              "\n",
              "    .dataframe tbody tr th {\n",
              "        vertical-align: top;\n",
              "    }\n",
              "\n",
              "    .dataframe thead th {\n",
              "        text-align: right;\n",
              "    }\n",
              "</style>\n",
              "<table border=\"1\" class=\"dataframe\">\n",
              "  <thead>\n",
              "    <tr style=\"text-align: right;\">\n",
              "      <th></th>\n",
              "      <th>abad abad</th>\n",
              "      <th>abad generasi</th>\n",
              "      <th>abad gimana</th>\n",
              "      <th>adab adab</th>\n",
              "      <th>adab ai</th>\n",
              "      <th>adab bumi</th>\n",
              "      <th>adab cipta</th>\n",
              "      <th>adab contoh</th>\n",
              "      <th>adab dunia</th>\n",
              "      <th>adab ilmuwan</th>\n",
              "      <th>...</th>\n",
              "      <th>zaman kuasa</th>\n",
              "      <th>zaman mana</th>\n",
              "      <th>zaman milik</th>\n",
              "      <th>zaman revolusi</th>\n",
              "      <th>zaman sbg</th>\n",
              "      <th>zaman sd</th>\n",
              "      <th>zaman tentu</th>\n",
              "      <th>zuckerberg duga</th>\n",
              "      <th>zuckerberg homo</th>\n",
              "      <th>zuckerberg pikir</th>\n",
              "    </tr>\n",
              "  </thead>\n",
              "  <tbody>\n",
              "    <tr>\n",
              "      <th>718</th>\n",
              "      <td>0.0</td>\n",
              "      <td>0.0</td>\n",
              "      <td>0.0</td>\n",
              "      <td>0.0</td>\n",
              "      <td>0.0</td>\n",
              "      <td>0.0</td>\n",
              "      <td>0.0</td>\n",
              "      <td>0.0</td>\n",
              "      <td>0.0</td>\n",
              "      <td>0.0</td>\n",
              "      <td>...</td>\n",
              "      <td>0.0</td>\n",
              "      <td>0.0</td>\n",
              "      <td>0.0</td>\n",
              "      <td>0.0</td>\n",
              "      <td>0.0</td>\n",
              "      <td>0.0</td>\n",
              "      <td>0.0</td>\n",
              "      <td>0.0</td>\n",
              "      <td>0.0</td>\n",
              "      <td>0.0</td>\n",
              "    </tr>\n",
              "    <tr>\n",
              "      <th>338</th>\n",
              "      <td>0.0</td>\n",
              "      <td>0.0</td>\n",
              "      <td>0.0</td>\n",
              "      <td>0.0</td>\n",
              "      <td>0.0</td>\n",
              "      <td>0.0</td>\n",
              "      <td>0.0</td>\n",
              "      <td>0.0</td>\n",
              "      <td>0.0</td>\n",
              "      <td>0.0</td>\n",
              "      <td>...</td>\n",
              "      <td>0.0</td>\n",
              "      <td>0.0</td>\n",
              "      <td>0.0</td>\n",
              "      <td>0.0</td>\n",
              "      <td>0.0</td>\n",
              "      <td>0.0</td>\n",
              "      <td>0.0</td>\n",
              "      <td>0.0</td>\n",
              "      <td>0.0</td>\n",
              "      <td>0.0</td>\n",
              "    </tr>\n",
              "    <tr>\n",
              "      <th>698</th>\n",
              "      <td>0.0</td>\n",
              "      <td>0.0</td>\n",
              "      <td>0.0</td>\n",
              "      <td>0.0</td>\n",
              "      <td>0.0</td>\n",
              "      <td>0.0</td>\n",
              "      <td>0.0</td>\n",
              "      <td>0.0</td>\n",
              "      <td>0.0</td>\n",
              "      <td>0.0</td>\n",
              "      <td>...</td>\n",
              "      <td>0.0</td>\n",
              "      <td>0.0</td>\n",
              "      <td>0.0</td>\n",
              "      <td>0.0</td>\n",
              "      <td>0.0</td>\n",
              "      <td>0.0</td>\n",
              "      <td>0.0</td>\n",
              "      <td>0.0</td>\n",
              "      <td>0.0</td>\n",
              "      <td>0.0</td>\n",
              "    </tr>\n",
              "    <tr>\n",
              "      <th>637</th>\n",
              "      <td>0.0</td>\n",
              "      <td>0.0</td>\n",
              "      <td>0.0</td>\n",
              "      <td>0.0</td>\n",
              "      <td>0.0</td>\n",
              "      <td>0.0</td>\n",
              "      <td>0.0</td>\n",
              "      <td>0.0</td>\n",
              "      <td>0.0</td>\n",
              "      <td>0.0</td>\n",
              "      <td>...</td>\n",
              "      <td>0.0</td>\n",
              "      <td>0.0</td>\n",
              "      <td>0.0</td>\n",
              "      <td>0.0</td>\n",
              "      <td>0.0</td>\n",
              "      <td>0.0</td>\n",
              "      <td>0.0</td>\n",
              "      <td>0.0</td>\n",
              "      <td>0.0</td>\n",
              "      <td>0.0</td>\n",
              "    </tr>\n",
              "    <tr>\n",
              "      <th>675</th>\n",
              "      <td>0.0</td>\n",
              "      <td>0.0</td>\n",
              "      <td>0.0</td>\n",
              "      <td>0.0</td>\n",
              "      <td>0.0</td>\n",
              "      <td>0.0</td>\n",
              "      <td>0.0</td>\n",
              "      <td>0.0</td>\n",
              "      <td>0.0</td>\n",
              "      <td>0.0</td>\n",
              "      <td>...</td>\n",
              "      <td>0.0</td>\n",
              "      <td>0.0</td>\n",
              "      <td>0.0</td>\n",
              "      <td>0.0</td>\n",
              "      <td>0.0</td>\n",
              "      <td>0.0</td>\n",
              "      <td>0.0</td>\n",
              "      <td>0.0</td>\n",
              "      <td>0.0</td>\n",
              "      <td>0.0</td>\n",
              "    </tr>\n",
              "  </tbody>\n",
              "</table>\n",
              "<p>5 rows × 6287 columns</p>\n",
              "</div>\n",
              "      <button class=\"colab-df-convert\" onclick=\"convertToInteractive('df-bca53d95-9880-426f-a842-5d6a3afac42e')\"\n",
              "              title=\"Convert this dataframe to an interactive table.\"\n",
              "              style=\"display:none;\">\n",
              "        \n",
              "  <svg xmlns=\"http://www.w3.org/2000/svg\" height=\"24px\"viewBox=\"0 0 24 24\"\n",
              "       width=\"24px\">\n",
              "    <path d=\"M0 0h24v24H0V0z\" fill=\"none\"/>\n",
              "    <path d=\"M18.56 5.44l.94 2.06.94-2.06 2.06-.94-2.06-.94-.94-2.06-.94 2.06-2.06.94zm-11 1L8.5 8.5l.94-2.06 2.06-.94-2.06-.94L8.5 2.5l-.94 2.06-2.06.94zm10 10l.94 2.06.94-2.06 2.06-.94-2.06-.94-.94-2.06-.94 2.06-2.06.94z\"/><path d=\"M17.41 7.96l-1.37-1.37c-.4-.4-.92-.59-1.43-.59-.52 0-1.04.2-1.43.59L10.3 9.45l-7.72 7.72c-.78.78-.78 2.05 0 2.83L4 21.41c.39.39.9.59 1.41.59.51 0 1.02-.2 1.41-.59l7.78-7.78 2.81-2.81c.8-.78.8-2.07 0-2.86zM5.41 20L4 18.59l7.72-7.72 1.47 1.35L5.41 20z\"/>\n",
              "  </svg>\n",
              "      </button>\n",
              "      \n",
              "  <style>\n",
              "    .colab-df-container {\n",
              "      display:flex;\n",
              "      flex-wrap:wrap;\n",
              "      gap: 12px;\n",
              "    }\n",
              "\n",
              "    .colab-df-convert {\n",
              "      background-color: #E8F0FE;\n",
              "      border: none;\n",
              "      border-radius: 50%;\n",
              "      cursor: pointer;\n",
              "      display: none;\n",
              "      fill: #1967D2;\n",
              "      height: 32px;\n",
              "      padding: 0 0 0 0;\n",
              "      width: 32px;\n",
              "    }\n",
              "\n",
              "    .colab-df-convert:hover {\n",
              "      background-color: #E2EBFA;\n",
              "      box-shadow: 0px 1px 2px rgba(60, 64, 67, 0.3), 0px 1px 3px 1px rgba(60, 64, 67, 0.15);\n",
              "      fill: #174EA6;\n",
              "    }\n",
              "\n",
              "    [theme=dark] .colab-df-convert {\n",
              "      background-color: #3B4455;\n",
              "      fill: #D2E3FC;\n",
              "    }\n",
              "\n",
              "    [theme=dark] .colab-df-convert:hover {\n",
              "      background-color: #434B5C;\n",
              "      box-shadow: 0px 1px 3px 1px rgba(0, 0, 0, 0.15);\n",
              "      filter: drop-shadow(0px 1px 2px rgba(0, 0, 0, 0.3));\n",
              "      fill: #FFFFFF;\n",
              "    }\n",
              "  </style>\n",
              "\n",
              "      <script>\n",
              "        const buttonEl =\n",
              "          document.querySelector('#df-bca53d95-9880-426f-a842-5d6a3afac42e button.colab-df-convert');\n",
              "        buttonEl.style.display =\n",
              "          google.colab.kernel.accessAllowed ? 'block' : 'none';\n",
              "\n",
              "        async function convertToInteractive(key) {\n",
              "          const element = document.querySelector('#df-bca53d95-9880-426f-a842-5d6a3afac42e');\n",
              "          const dataTable =\n",
              "            await google.colab.kernel.invokeFunction('convertToInteractive',\n",
              "                                                     [key], {});\n",
              "          if (!dataTable) return;\n",
              "\n",
              "          const docLinkHtml = 'Like what you see? Visit the ' +\n",
              "            '<a target=\"_blank\" href=https://colab.research.google.com/notebooks/data_table.ipynb>data table notebook</a>'\n",
              "            + ' to learn more about interactive tables.';\n",
              "          element.innerHTML = '';\n",
              "          dataTable['output_type'] = 'display_data';\n",
              "          await google.colab.output.renderOutput(dataTable, element);\n",
              "          const docLink = document.createElement('div');\n",
              "          docLink.innerHTML = docLinkHtml;\n",
              "          element.appendChild(docLink);\n",
              "        }\n",
              "      </script>\n",
              "    </div>\n",
              "  </div>\n",
              "  "
            ]
          },
          "metadata": {},
          "execution_count": 98
        }
      ]
    },
    {
      "cell_type": "markdown",
      "source": [
        "## Pembagian data menjadi data latihan dan tes"
      ],
      "metadata": {
        "id": "pkk1CS8r7sTf"
      }
    },
    {
      "cell_type": "code",
      "source": [
        "from sklearn.model_selection import train_test_split"
      ],
      "metadata": {
        "id": "WnoCIaZuSNlq"
      },
      "execution_count": null,
      "outputs": []
    },
    {
      "cell_type": "markdown",
      "source": [
        "### Data unigram"
      ],
      "metadata": {
        "id": "BHWawF8W6rME"
      }
    },
    {
      "cell_type": "code",
      "source": [
        "# Split the data into training and testing sets\n",
        "X_train_uni, X_test_uni, y_train_uni, y_test_uni = train_test_split(unigram_vectorized_data, labeled_data['label'], test_size=0.2, random_state=42)\n",
        "\n",
        "# Print the shape of the training and testing sets\n",
        "print(\"Training set shape:\", X_train_uni.shape, y_train_uni.shape)\n",
        "print(\"Testing set shape:\", X_test_uni.shape, y_test_uni.shape)\n"
      ],
      "metadata": {
        "colab": {
          "base_uri": "https://localhost:8080/"
        },
        "id": "8xFDo83SSG0_",
        "outputId": "966bef99-817e-4bf8-b2b3-42c600b1eb29"
      },
      "execution_count": null,
      "outputs": [
        {
          "output_type": "stream",
          "name": "stdout",
          "text": [
            "Training set shape: (665, 880) (665,)\n",
            "Testing set shape: (167, 880) (167,)\n"
          ]
        }
      ]
    },
    {
      "cell_type": "markdown",
      "source": [
        "### Data bigram"
      ],
      "metadata": {
        "id": "2_lr4f5x62TJ"
      }
    },
    {
      "cell_type": "code",
      "source": [
        "# Split the data into training and testing sets\n",
        "X_train_bi, X_test_bi, y_train_bi, y_test_bi = train_test_split(bigram_vectorized_data, labeled_data['label'], test_size=0.2, random_state=42)\n",
        "\n",
        "# Print the shape of the training and testing sets\n",
        "print(\"Training set shape:\", X_train_bi.shape, y_train_bi.shape)\n",
        "print(\"Testing set shape:\", X_test_bi.shape, y_test_bi.shape)"
      ],
      "metadata": {
        "colab": {
          "base_uri": "https://localhost:8080/"
        },
        "id": "E1_4v7y2Sqpt",
        "outputId": "a63e29af-05a5-4faa-9a97-6c4b60c4769b"
      },
      "execution_count": null,
      "outputs": [
        {
          "output_type": "stream",
          "name": "stdout",
          "text": [
            "Training set shape: (665, 6287) (665,)\n",
            "Testing set shape: (167, 6287) (167,)\n"
          ]
        }
      ]
    },
    {
      "cell_type": "markdown",
      "source": [
        "## Pembuatan model & Pengujian Klasifikasi"
      ],
      "metadata": {
        "id": "86PKcF_IDJ4x"
      }
    },
    {
      "cell_type": "code",
      "source": [
        "from sklearn.metrics import classification_report, precision_score\n",
        "import numpy as np"
      ],
      "metadata": {
        "id": "jKzfc1woUlWw"
      },
      "execution_count": null,
      "outputs": []
    },
    {
      "cell_type": "markdown",
      "source": [
        "### Logistic Regression"
      ],
      "metadata": {
        "id": "LG6FaWT3DSA3"
      }
    },
    {
      "cell_type": "code",
      "source": [
        "from sklearn.linear_model import LogisticRegression"
      ],
      "metadata": {
        "id": "yNgmnjTxUqtH"
      },
      "execution_count": null,
      "outputs": []
    },
    {
      "cell_type": "markdown",
      "source": [
        "#### Data Unigram"
      ],
      "metadata": {
        "id": "6cW3qsQ4Vukz"
      }
    },
    {
      "cell_type": "code",
      "source": [
        "# Membuat model regresi logistik\n",
        "model_regresi_uni = LogisticRegression()\n",
        "\n",
        "# Melatih model pada data latih\n",
        "model_regresi_uni.fit(X_train_uni, y_train_uni)\n",
        "\n",
        "# Melakukan prediksi pada data uji\n",
        "y_pred_uni = model_regresi_uni.predict(X_test_uni)\n",
        "\n",
        "# Menghitung akurasi menggunakan metode .score\n",
        "akurasi = model_regresi_uni.score(X_test_uni, y_test_uni)\n",
        "print(\"Akurasi:\", akurasi)\n",
        "\n",
        "# Mencetak laporan klasifikasi menggunakan classification_report\n",
        "laporan_klasifikasi = classification_report(y_test_uni, y_pred_uni)\n",
        "print(\"Laporan Klasifikasi:\")\n",
        "print(laporan_klasifikasi)"
      ],
      "metadata": {
        "colab": {
          "base_uri": "https://localhost:8080/"
        },
        "id": "vmp4yZlGWQ5f",
        "outputId": "a34afd00-f7df-4fc6-b11e-5ef6a26b13e5"
      },
      "execution_count": null,
      "outputs": [
        {
          "output_type": "stream",
          "name": "stdout",
          "text": [
            "Akurasi: 0.4431137724550898\n",
            "Presisi: 0.4431137724550898\n",
            "Laporan Klasifikasi:\n",
            "              precision    recall  f1-score   support\n",
            "\n",
            "           0       0.48      0.46      0.47        46\n",
            "           1       0.00      0.00      0.00        20\n",
            "           2       0.50      0.07      0.12        45\n",
            "           3       0.48      0.89      0.62        56\n",
            "\n",
            "    accuracy                           0.44       167\n",
            "   macro avg       0.36      0.35      0.30       167\n",
            "weighted avg       0.43      0.44      0.37       167\n",
            "\n"
          ]
        }
      ]
    },
    {
      "cell_type": "markdown",
      "source": [
        "#### Data Bigram"
      ],
      "metadata": {
        "id": "dWTeqwdEV-f4"
      }
    },
    {
      "cell_type": "code",
      "source": [
        "# Membuat model regresi logistik\n",
        "model_regresi_bi = LogisticRegression()\n",
        "\n",
        "# Melatih model pada data latih\n",
        "model_regresi_bi.fit(X_train_bi, y_train_bi)\n",
        "\n",
        "# Melakukan prediksi pada data uji\n",
        "y_pred = model_regresi_bi.predict(X_test_bi)\n",
        "\n",
        "# Menghitung akurasi menggunakan metode .score\n",
        "akurasi = model_regresi_bi.score(X_test_bi, y_test_bi)\n",
        "print(\"Akurasi:\", akurasi)\n",
        "\n",
        "# Mencetak laporan klasifikasi menggunakan classification_report\n",
        "laporan_klasifikasi = classification_report(y_test_bi, y_pred)\n",
        "print(\"Laporan Klasifikasi:\")\n",
        "print(laporan_klasifikasi)"
      ],
      "metadata": {
        "id": "jbwQ5OBwYBoY",
        "colab": {
          "base_uri": "https://localhost:8080/"
        },
        "outputId": "efc0463f-2f4f-4620-bd55-41e694f72418"
      },
      "execution_count": null,
      "outputs": [
        {
          "output_type": "stream",
          "name": "stdout",
          "text": [
            "Akurasi: 0.3592814371257485\n",
            "Laporan Klasifikasi:\n",
            "              precision    recall  f1-score   support\n",
            "\n",
            "           0       0.50      0.11      0.18        46\n",
            "           1       0.00      0.00      0.00        20\n",
            "           2       0.00      0.00      0.00        45\n",
            "           3       0.35      0.98      0.52        56\n",
            "\n",
            "    accuracy                           0.36       167\n",
            "   macro avg       0.21      0.27      0.17       167\n",
            "weighted avg       0.26      0.36      0.22       167\n",
            "\n"
          ]
        }
      ]
    },
    {
      "cell_type": "markdown",
      "source": [
        "### Support Vector Machine (SVM)"
      ],
      "metadata": {
        "id": "YuURzP-C7BKa"
      }
    },
    {
      "cell_type": "code",
      "source": [
        "from sklearn.svm import SVC"
      ],
      "metadata": {
        "id": "cRluif4CrwNY"
      },
      "execution_count": null,
      "outputs": []
    },
    {
      "cell_type": "markdown",
      "source": [
        "#### Data Unigram"
      ],
      "metadata": {
        "id": "acQuBmBwV8YG"
      }
    },
    {
      "cell_type": "code",
      "source": [
        "# Membuat model SVM\n",
        "svm_model = SVC(kernel='linear')\n",
        "\n",
        "# Melatih model dengan data latih\n",
        "svm_model.fit(X_train_uni, y_train_uni)\n",
        "\n",
        "# Melakukan prediksi pada data uji\n",
        "y_pred = svm_model.predict(X_test_uni)\n",
        "\n",
        "# Menghitung akurasi\n",
        "accuracy = np.mean(y_pred == y_test_uni)\n",
        "print(f'Akurasi: {accuracy}')\n",
        "\n",
        "# Mencetak laporan klasifikasi menggunakan classification_report\n",
        "laporan_klasifikasi = classification_report(y_test_uni, y_pred_uni)\n",
        "print(\"Laporan Klasifikasi:\")\n",
        "print(laporan_klasifikasi)"
      ],
      "metadata": {
        "colab": {
          "base_uri": "https://localhost:8080/"
        },
        "id": "CDf6Hk46rk8l",
        "outputId": "1610b6d1-8d4f-494f-b921-1abfc15094c8"
      },
      "execution_count": null,
      "outputs": [
        {
          "output_type": "stream",
          "name": "stdout",
          "text": [
            "Akurasi: 0.39520958083832336\n",
            "Presisi: 0.4431137724550898\n",
            "Laporan Klasifikasi:\n",
            "              precision    recall  f1-score   support\n",
            "\n",
            "           0       0.48      0.46      0.47        46\n",
            "           1       0.00      0.00      0.00        20\n",
            "           2       0.50      0.07      0.12        45\n",
            "           3       0.48      0.89      0.62        56\n",
            "\n",
            "    accuracy                           0.44       167\n",
            "   macro avg       0.36      0.35      0.30       167\n",
            "weighted avg       0.43      0.44      0.37       167\n",
            "\n"
          ]
        }
      ]
    },
    {
      "cell_type": "markdown",
      "source": [
        "#### Data Bigram"
      ],
      "metadata": {
        "id": "nsMtC4GEWNpv"
      }
    },
    {
      "cell_type": "code",
      "source": [
        "# Membuat model SVM\n",
        "svm_model = SVC(kernel='linear')\n",
        "\n",
        "# Melatih model dengan data latih\n",
        "svm_model.fit(X_train_bi, y_train_bi)\n",
        "\n",
        "# Melakukan prediksi pada data uji\n",
        "y_pred = svm_model.predict(X_test_bi)\n",
        "\n",
        "# Menghitung akurasi menggunakan metode .score\n",
        "akurasi = svm_model.score(X_test_bi, y_test_bi)\n",
        "print(\"Akurasi:\", akurasi)\n",
        "\n",
        "# Mencetak laporan klasifikasi menggunakan classification_report\n",
        "laporan_klasifikasi = classification_report(y_test_bi, y_pred)\n",
        "print(\"Laporan Klasifikasi:\")\n",
        "print(laporan_klasifikasi)"
      ],
      "metadata": {
        "colab": {
          "base_uri": "https://localhost:8080/"
        },
        "id": "JBX54px81Vcz",
        "outputId": "c21f89b0-3773-47d9-b6b3-919e6aa1341b"
      },
      "execution_count": null,
      "outputs": [
        {
          "output_type": "stream",
          "name": "stdout",
          "text": [
            "Akurasi: 0.3652694610778443\n",
            "Laporan Klasifikasi:\n",
            "              precision    recall  f1-score   support\n",
            "\n",
            "           0       0.32      0.15      0.21        46\n",
            "           1       0.00      0.00      0.00        20\n",
            "           2       0.00      0.00      0.00        45\n",
            "           3       0.37      0.96      0.54        56\n",
            "\n",
            "    accuracy                           0.37       167\n",
            "   macro avg       0.17      0.28      0.19       167\n",
            "weighted avg       0.21      0.37      0.24       167\n",
            "\n"
          ]
        }
      ]
    },
    {
      "cell_type": "markdown",
      "source": [
        "### Multinomial Naive Bayes (NB)"
      ],
      "metadata": {
        "id": "RrtmsB4Y7HpQ"
      }
    },
    {
      "cell_type": "code",
      "source": [
        "from sklearn.naive_bayes import MultinomialNB"
      ],
      "metadata": {
        "id": "RbHa8fgb2tEf"
      },
      "execution_count": null,
      "outputs": []
    },
    {
      "cell_type": "markdown",
      "source": [
        "#### Data Unigram"
      ],
      "metadata": {
        "id": "-O9-wWkOV9Gb"
      }
    },
    {
      "cell_type": "code",
      "source": [
        "# Membuat model Multinomial Naive Bayes\n",
        "nb_model = MultinomialNB()\n",
        "\n",
        "# Melatih model dengan data latih\n",
        "nb_model.fit(X_train_uni, y_train_uni)\n",
        "\n",
        "# Melakukan prediksi pada data uji\n",
        "y_pred = nb_model.predict(X_test_uni)\n",
        "\n",
        "# Menghitung akurasi\n",
        "accuracy = np.mean(y_pred == y_test_uni)\n",
        "print(f'Akurasi: {accuracy}')\n",
        "\n",
        "# Menampilkan laporan klasifikasi\n",
        "print(\"Laporan Klasifikasi:\")\n",
        "print(classification_report(y_test_uni, y_pred))"
      ],
      "metadata": {
        "colab": {
          "base_uri": "https://localhost:8080/"
        },
        "id": "Oe9HprhO2x5o",
        "outputId": "fa026e3c-5589-45b0-e8f5-2f7d9bbfbcd0"
      },
      "execution_count": null,
      "outputs": [
        {
          "output_type": "stream",
          "name": "stdout",
          "text": [
            "Akurasi: 0.3772455089820359\n",
            "Laporan Klasifikasi:\n",
            "              precision    recall  f1-score   support\n",
            "\n",
            "           0       0.32      0.57      0.41        46\n",
            "           1       0.00      0.00      0.00        20\n",
            "           2       0.50      0.02      0.04        45\n",
            "           3       0.46      0.64      0.53        56\n",
            "\n",
            "    accuracy                           0.38       167\n",
            "   macro avg       0.32      0.31      0.25       167\n",
            "weighted avg       0.38      0.38      0.30       167\n",
            "\n"
          ]
        }
      ]
    },
    {
      "cell_type": "markdown",
      "source": [
        "#### Data Bigram"
      ],
      "metadata": {
        "id": "U3t1mXV9WORP"
      }
    },
    {
      "cell_type": "code",
      "source": [
        "# Membuat model Multinomial Naive Bayes\n",
        "nb_model = MultinomialNB()\n",
        "\n",
        "# Melatih model dengan data latih\n",
        "nb_model.fit(X_train_bi, y_train_bi)\n",
        "\n",
        "# Melakukan prediksi pada data uji\n",
        "y_pred = nb_model.predict(X_test_bi)\n",
        "\n",
        "# Menghitung akurasi\n",
        "accuracy = np.mean(y_pred == y_test_bi)\n",
        "print(f'Akurasi: {accuracy}')\n",
        "\n",
        "# Menampilkan laporan klasifikasi\n",
        "print(\"Laporan Klasifikasi:\")\n",
        "print(classification_report(y_test_bi, y_pred))\n"
      ],
      "metadata": {
        "colab": {
          "base_uri": "https://localhost:8080/"
        },
        "id": "wpdyKgzf25I-",
        "outputId": "33699b0d-2257-4e88-9294-d25a7fa37043"
      },
      "execution_count": null,
      "outputs": [
        {
          "output_type": "stream",
          "name": "stdout",
          "text": [
            "Akurasi: 0.3473053892215569\n",
            "Laporan Klasifikasi:\n",
            "              precision    recall  f1-score   support\n",
            "\n",
            "           0       0.33      0.09      0.14        46\n",
            "           1       0.00      0.00      0.00        20\n",
            "           2       0.00      0.00      0.00        45\n",
            "           3       0.35      0.96      0.51        56\n",
            "\n",
            "    accuracy                           0.35       167\n",
            "   macro avg       0.17      0.26      0.16       167\n",
            "weighted avg       0.21      0.35      0.21       167\n",
            "\n"
          ]
        }
      ]
    },
    {
      "cell_type": "markdown",
      "source": [
        "# Flowchart notebook"
      ],
      "metadata": {
        "id": "UEdG8JAWI32U"
      }
    },
    {
      "cell_type": "code",
      "source": [
        "import base64\n",
        "from IPython.display import Image, display\n",
        "import matplotlib.pyplot as plt\n",
        "\n",
        "def mm(graph):\n",
        "  graphbytes = graph.encode(\"ascii\")\n",
        "  base64_bytes = base64.b64encode(graphbytes)\n",
        "  base64_string = base64_bytes.decode(\"ascii\")\n",
        "  display(\n",
        "    Image(\n",
        "      url=\"https://mermaid.ink/img/\"\n",
        "      + base64_string\n",
        "    )\n",
        "  )"
      ],
      "metadata": {
        "id": "B8Qq_pauI6v9"
      },
      "execution_count": null,
      "outputs": []
    },
    {
      "cell_type": "code",
      "source": [
        "# kode untuk flowchart menggunakan mermaid markdown\n",
        "mm(\"\"\"\n",
        "\n",
        "graph TB;\n",
        "\n",
        "  subgraph sub1[Tahap 1: Pengumpulan data]\n",
        "    sq1[Ekstraksi komentar dari YouTube menggunakan tools Youtube-Comment-Downloader]\n",
        "  end\n",
        "\n",
        "  subgraph sub2[Tahap 2: Pelabelan data]\n",
        "    sq2.1[Input data mentahan hasil ekstraksi]\n",
        "    sq2.2[Memfilter komen]\n",
        "    sq2.3[Pengambilan sampel minimum]\n",
        "    sq2.4[Output untuk dilakukan pelabelan manual]\n",
        "    sq2.1 --> sq2.2 --> sq2.3 --> sq2.4\n",
        "  end\n",
        "\n",
        "  subgraph sub3[Tahap 3: Pra-pemrosesan data]\n",
        "    direction TB\n",
        "    sq3.1[Input data yang sudah dilabeli]\n",
        "    sq3.2[Casefolding]\n",
        "    sq3.3[Menghapus wkwk, angka, dll]\n",
        "    sq3.4[Menghapus emoji]\n",
        "    sq3.5[Mengganti kata singkatan ke kata aslinya]\n",
        "    sq3.6[Penghapusan stopword]\n",
        "    sq3.7[Stemming]\n",
        "    sq3.8[Penghapusan kata yang sering dan jarang muncul]\n",
        "    sq3.9[Menghapus baris dengan nilai string kosong di dalamnya]\n",
        "    sq3.1 --> sq3.2 --> sq3.3 --> sq3.4 --> sq3.5 --> sq3.6 --> sq3.7 --> sq3.8 --> sq3.9\n",
        "  end\n",
        "\n",
        "  subgraph sub4[Tahap 4: Pelatihan dan pengujian model]\n",
        "    subgraph sq4.1[Vektorisasi data TF-IDF]\n",
        "      sq4.1.1[TF-IDF Unigram]\n",
        "      sq4.1.2[TF-IDF Bigram]\n",
        "    end\n",
        "    subgraph sq4.2[Pembagian data jadi latihan dan test]\n",
        "      sq4.2.1[Data Unigram]\n",
        "      sq4.2.2[Data Bigram]\n",
        "      sq4.1.1 --> sq4.2.1\n",
        "      sq4.1.2 --> sq4.2.2\n",
        "    end\n",
        "    subgraph sq4.3[Pembuatan model & Pengujian]\n",
        "      sq4.3.1[Logistic Regression]\n",
        "      sq4.2.1 --> sq4.3.1\n",
        "      sq4.2.2 --> sq4.3.1\n",
        "      sq4.3.2[Support Vector Machine]\n",
        "      sq4.2.1 --> sq4.3.2\n",
        "      sq4.2.2 --> sq4.3.2\n",
        "      sq4.3.3[Multinomial Naive Bayes]\n",
        "      sq4.2.1 --> sq4.3.3\n",
        "      sq4.2.2 --> sq4.3.3\n",
        "      sq4.3.4[Uji akurasi dan f1-score]\n",
        "      sq4.3.1 --> sq4.3.4\n",
        "      sq4.3.2 --> sq4.3.4\n",
        "      sq4.3.3 --> sq4.3.4\n",
        "    end\n",
        "  end\n",
        "\n",
        "  sub1 --> sub2 --> sub3 --> sub4\n",
        "\n",
        "\"\"\")\n"
      ],
      "metadata": {
        "colab": {
          "base_uri": "https://localhost:8080/",
          "height": 1000
        },
        "id": "1DpFeb9QKCna",
        "outputId": "f7f94de4-7d65-4f81-cbb9-f7f8ad278f9f"
      },
      "execution_count": null,
      "outputs": [
        {
          "output_type": "display_data",
          "data": {
            "text/html": [
              "<img src=\"https://mermaid.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\"/>"
            ],
            "text/plain": [
              "<IPython.core.display.Image object>"
            ]
          },
          "metadata": {}
        }
      ]
    },
    {
      "cell_type": "markdown",
      "source": [
        "# Tambahan"
      ],
      "metadata": {
        "id": "AoQzXHJefZJw"
      }
    },
    {
      "cell_type": "markdown",
      "source": [
        "- Mengimpor Google Drive"
      ],
      "metadata": {
        "id": "igGlqbfBw5Ja"
      }
    },
    {
      "cell_type": "code",
      "source": [
        "from google.colab import drive\n",
        "drive.mount('/content/drive')"
      ],
      "metadata": {
        "id": "-SYoNDqA3gD8",
        "colab": {
          "base_uri": "https://localhost:8080/",
          "height": 348
        },
        "outputId": "f753e070-8034-4b9a-fa05-7f386b6d05c9"
      },
      "execution_count": null,
      "outputs": [
        {
          "output_type": "error",
          "ename": "KeyboardInterrupt",
          "evalue": "ignored",
          "traceback": [
            "\u001b[0;31m---------------------------------------------------------------------------\u001b[0m",
            "\u001b[0;31mKeyboardInterrupt\u001b[0m                         Traceback (most recent call last)",
            "\u001b[0;32m<ipython-input-1-d5df0069828e>\u001b[0m in \u001b[0;36m<cell line: 2>\u001b[0;34m()\u001b[0m\n\u001b[1;32m      1\u001b[0m \u001b[0;32mfrom\u001b[0m \u001b[0mgoogle\u001b[0m\u001b[0;34m.\u001b[0m\u001b[0mcolab\u001b[0m \u001b[0;32mimport\u001b[0m \u001b[0mdrive\u001b[0m\u001b[0;34m\u001b[0m\u001b[0;34m\u001b[0m\u001b[0m\n\u001b[0;32m----> 2\u001b[0;31m \u001b[0mdrive\u001b[0m\u001b[0;34m.\u001b[0m\u001b[0mmount\u001b[0m\u001b[0;34m(\u001b[0m\u001b[0;34m'/content/drive'\u001b[0m\u001b[0;34m)\u001b[0m\u001b[0;34m\u001b[0m\u001b[0;34m\u001b[0m\u001b[0m\n\u001b[0m",
            "\u001b[0;32m/usr/local/lib/python3.10/dist-packages/google/colab/drive.py\u001b[0m in \u001b[0;36mmount\u001b[0;34m(mountpoint, force_remount, timeout_ms, readonly)\u001b[0m\n\u001b[1;32m    101\u001b[0m \u001b[0;32mdef\u001b[0m \u001b[0mmount\u001b[0m\u001b[0;34m(\u001b[0m\u001b[0mmountpoint\u001b[0m\u001b[0;34m,\u001b[0m \u001b[0mforce_remount\u001b[0m\u001b[0;34m=\u001b[0m\u001b[0;32mFalse\u001b[0m\u001b[0;34m,\u001b[0m \u001b[0mtimeout_ms\u001b[0m\u001b[0;34m=\u001b[0m\u001b[0;36m120000\u001b[0m\u001b[0;34m,\u001b[0m \u001b[0mreadonly\u001b[0m\u001b[0;34m=\u001b[0m\u001b[0;32mFalse\u001b[0m\u001b[0;34m)\u001b[0m\u001b[0;34m:\u001b[0m\u001b[0;34m\u001b[0m\u001b[0;34m\u001b[0m\u001b[0m\n\u001b[1;32m    102\u001b[0m   \u001b[0;34m\"\"\"Mount your Google Drive at the specified mountpoint path.\"\"\"\u001b[0m\u001b[0;34m\u001b[0m\u001b[0;34m\u001b[0m\u001b[0m\n\u001b[0;32m--> 103\u001b[0;31m   return _mount(\n\u001b[0m\u001b[1;32m    104\u001b[0m       \u001b[0mmountpoint\u001b[0m\u001b[0;34m,\u001b[0m\u001b[0;34m\u001b[0m\u001b[0;34m\u001b[0m\u001b[0m\n\u001b[1;32m    105\u001b[0m       \u001b[0mforce_remount\u001b[0m\u001b[0;34m=\u001b[0m\u001b[0mforce_remount\u001b[0m\u001b[0;34m,\u001b[0m\u001b[0;34m\u001b[0m\u001b[0;34m\u001b[0m\u001b[0m\n",
            "\u001b[0;32m/usr/local/lib/python3.10/dist-packages/google/colab/drive.py\u001b[0m in \u001b[0;36m_mount\u001b[0;34m(mountpoint, force_remount, timeout_ms, ephemeral, readonly)\u001b[0m\n\u001b[1;32m    130\u001b[0m   )\n\u001b[1;32m    131\u001b[0m   \u001b[0;32mif\u001b[0m \u001b[0mephemeral\u001b[0m\u001b[0;34m:\u001b[0m\u001b[0;34m\u001b[0m\u001b[0;34m\u001b[0m\u001b[0m\n\u001b[0;32m--> 132\u001b[0;31m     _message.blocking_request(\n\u001b[0m\u001b[1;32m    133\u001b[0m         \u001b[0;34m'request_auth'\u001b[0m\u001b[0;34m,\u001b[0m \u001b[0mrequest\u001b[0m\u001b[0;34m=\u001b[0m\u001b[0;34m{\u001b[0m\u001b[0;34m'authType'\u001b[0m\u001b[0;34m:\u001b[0m \u001b[0;34m'dfs_ephemeral'\u001b[0m\u001b[0;34m}\u001b[0m\u001b[0;34m,\u001b[0m \u001b[0mtimeout_sec\u001b[0m\u001b[0;34m=\u001b[0m\u001b[0;32mNone\u001b[0m\u001b[0;34m\u001b[0m\u001b[0;34m\u001b[0m\u001b[0m\n\u001b[1;32m    134\u001b[0m     )\n",
            "\u001b[0;32m/usr/local/lib/python3.10/dist-packages/google/colab/_message.py\u001b[0m in \u001b[0;36mblocking_request\u001b[0;34m(request_type, request, timeout_sec, parent)\u001b[0m\n\u001b[1;32m    174\u001b[0m       \u001b[0mrequest_type\u001b[0m\u001b[0;34m,\u001b[0m \u001b[0mrequest\u001b[0m\u001b[0;34m,\u001b[0m \u001b[0mparent\u001b[0m\u001b[0;34m=\u001b[0m\u001b[0mparent\u001b[0m\u001b[0;34m,\u001b[0m \u001b[0mexpect_reply\u001b[0m\u001b[0;34m=\u001b[0m\u001b[0;32mTrue\u001b[0m\u001b[0;34m\u001b[0m\u001b[0;34m\u001b[0m\u001b[0m\n\u001b[1;32m    175\u001b[0m   )\n\u001b[0;32m--> 176\u001b[0;31m   \u001b[0;32mreturn\u001b[0m \u001b[0mread_reply_from_input\u001b[0m\u001b[0;34m(\u001b[0m\u001b[0mrequest_id\u001b[0m\u001b[0;34m,\u001b[0m \u001b[0mtimeout_sec\u001b[0m\u001b[0;34m)\u001b[0m\u001b[0;34m\u001b[0m\u001b[0;34m\u001b[0m\u001b[0m\n\u001b[0m",
            "\u001b[0;32m/usr/local/lib/python3.10/dist-packages/google/colab/_message.py\u001b[0m in \u001b[0;36mread_reply_from_input\u001b[0;34m(message_id, timeout_sec)\u001b[0m\n\u001b[1;32m     94\u001b[0m     \u001b[0mreply\u001b[0m \u001b[0;34m=\u001b[0m \u001b[0m_read_next_input_message\u001b[0m\u001b[0;34m(\u001b[0m\u001b[0;34m)\u001b[0m\u001b[0;34m\u001b[0m\u001b[0;34m\u001b[0m\u001b[0m\n\u001b[1;32m     95\u001b[0m     \u001b[0;32mif\u001b[0m \u001b[0mreply\u001b[0m \u001b[0;34m==\u001b[0m \u001b[0m_NOT_READY\u001b[0m \u001b[0;32mor\u001b[0m \u001b[0;32mnot\u001b[0m \u001b[0misinstance\u001b[0m\u001b[0;34m(\u001b[0m\u001b[0mreply\u001b[0m\u001b[0;34m,\u001b[0m \u001b[0mdict\u001b[0m\u001b[0;34m)\u001b[0m\u001b[0;34m:\u001b[0m\u001b[0;34m\u001b[0m\u001b[0;34m\u001b[0m\u001b[0m\n\u001b[0;32m---> 96\u001b[0;31m       \u001b[0mtime\u001b[0m\u001b[0;34m.\u001b[0m\u001b[0msleep\u001b[0m\u001b[0;34m(\u001b[0m\u001b[0;36m0.025\u001b[0m\u001b[0;34m)\u001b[0m\u001b[0;34m\u001b[0m\u001b[0;34m\u001b[0m\u001b[0m\n\u001b[0m\u001b[1;32m     97\u001b[0m       \u001b[0;32mcontinue\u001b[0m\u001b[0;34m\u001b[0m\u001b[0;34m\u001b[0m\u001b[0m\n\u001b[1;32m     98\u001b[0m     if (\n",
            "\u001b[0;31mKeyboardInterrupt\u001b[0m: "
          ]
        }
      ]
    },
    {
      "cell_type": "markdown",
      "source": [
        "- Menonaktifkan peringatan"
      ],
      "metadata": {
        "id": "fi0B4cKFxEVM"
      }
    },
    {
      "cell_type": "code",
      "source": [
        "import warnings\n",
        "warnings.filterwarnings('ignore')"
      ],
      "metadata": {
        "id": "JcJ8g8A5xCSJ"
      },
      "execution_count": null,
      "outputs": []
    }
  ]
}