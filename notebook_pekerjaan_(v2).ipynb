{
  "cells": [
    {
      "cell_type": "markdown",
      "metadata": {
        "id": "view-in-github",
        "colab_type": "text"
      },
      "source": [
        "<a href=\"https://colab.research.google.com/github/veramita/File-project/blob/main/notebook_pekerjaan_(v2).ipynb\" target=\"_parent\"><img src=\"https://colab.research.google.com/assets/colab-badge.svg\" alt=\"Open In Colab\"/></a>"
      ]
    },
    {
      "cell_type": "code",
      "execution_count": null,
      "metadata": {
        "colab": {
          "base_uri": "https://localhost:8080/"
        },
        "id": "iEO1c344cGzx",
        "outputId": "f660dbd9-c6fc-445e-9357-fbaa71d7fb55"
      },
      "outputs": [
        {
          "output_type": "stream",
          "name": "stdout",
          "text": [
            "Mounted at /content/drive\n"
          ]
        }
      ],
      "source": [
        "from google.colab import drive\n",
        "drive.mount('/content/drive')\n",
        "import warnings\n",
        "warnings.filterwarnings('ignore')"
      ]
    },
    {
      "cell_type": "markdown",
      "metadata": {
        "id": "82zrdzIuUUlT"
      },
      "source": [
        "# Library"
      ]
    },
    {
      "cell_type": "markdown",
      "metadata": {
        "id": "9r1RuRgYUY39"
      },
      "source": [
        "## Instalasi eksternal"
      ]
    },
    {
      "cell_type": "code",
      "execution_count": null,
      "metadata": {
        "id": "xAJfhxZhHIoY"
      },
      "outputs": [],
      "source": [
        "!pip install googletrans==4.0.0-rc1"
      ]
    },
    {
      "cell_type": "code",
      "execution_count": null,
      "metadata": {
        "id": "ZSDLDPMhQ5gw"
      },
      "outputs": [],
      "source": [
        "!pip install langdetect"
      ]
    },
    {
      "cell_type": "markdown",
      "metadata": {
        "id": "A_Vgtso2iKst"
      },
      "source": [
        "# Pelabelan data (otomatis)"
      ]
    },
    {
      "cell_type": "code",
      "execution_count": null,
      "metadata": {
        "colab": {
          "base_uri": "https://localhost:8080/"
        },
        "id": "WkK4CKrWHzsD",
        "outputId": "34906a47-d5c2-44f4-aafb-b48df97626aa"
      },
      "outputs": [
        {
          "name": "stdout",
          "output_type": "stream",
          "text": [
            "Translated(src=id, dest=en, text=I don't like it, pronunciation=None, extra_data=\"{'confiden...\")\n"
          ]
        }
      ],
      "source": [
        "# Sukses besar buat nyari modul buat penerjemah\n",
        "import googletrans\n",
        "from googletrans import Translator\n",
        "translator = Translator()\n",
        "# test\n",
        "translation = translator.translate(\"Aku tidak menyukainya\", src='id', dest='en')\n",
        "print(translation)\n",
        "#output: 'The sky is blue and I like bananas\n",
        "# Bagaimana cara menghilangkan n't"
      ]
    },
    {
      "cell_type": "markdown",
      "metadata": {
        "id": "2_zJ5OACNIb7"
      },
      "source": [
        "## Input data yg belum dilabeli"
      ]
    },
    {
      "cell_type": "code",
      "execution_count": null,
      "metadata": {
        "id": "oxlEImHTKx2h"
      },
      "outputs": [],
      "source": [
        "import pandas as pd"
      ]
    },
    {
      "cell_type": "code",
      "execution_count": null,
      "metadata": {
        "colab": {
          "base_uri": "https://localhost:8080/",
          "height": 337
        },
        "id": "16WXEuR-iRNu",
        "outputId": "aa1a719b-fd25-4a4f-8b7e-573c2b47aea2"
      },
      "outputs": [
        {
          "name": "stdout",
          "output_type": "stream",
          "text": [
            "Banyaknya baris: 3701\n"
          ]
        },
        {
          "data": {
            "text/html": [
              "\n",
              "  <div id=\"df-53966476-0f8e-48c4-a641-1388739ed236\">\n",
              "    <div class=\"colab-df-container\">\n",
              "      <div>\n",
              "<style scoped>\n",
              "    .dataframe tbody tr th:only-of-type {\n",
              "        vertical-align: middle;\n",
              "    }\n",
              "\n",
              "    .dataframe tbody tr th {\n",
              "        vertical-align: top;\n",
              "    }\n",
              "\n",
              "    .dataframe thead th {\n",
              "        text-align: right;\n",
              "    }\n",
              "</style>\n",
              "<table border=\"1\" class=\"dataframe\">\n",
              "  <thead>\n",
              "    <tr style=\"text-align: right;\">\n",
              "      <th></th>\n",
              "      <th>text_id</th>\n",
              "    </tr>\n",
              "  </thead>\n",
              "  <tbody>\n",
              "    <tr>\n",
              "      <th>1909</th>\n",
              "      <td>@ITzRosallie (∂ω∂)  lagi ulangi lagi pertanyaan mu, dah saya jawab, ulangi lagi, saya dah jawab yang sebelumnya masih ulang lagi, dah lah gak seru. Lu payah, pandai ngomong doang, ulang terus kayak robot \"pertanyaan ini gak valid silahkan ulangi lagi\" udah retry terus lah ulang terus lah silahkan. Udah kena mental kan makanya, jangan ngelak terus makin ngelak makin besar nanti. Cobalah mengalah sesekali, pelan-pelan. Hadeh. Nyusahin hidup orang aja kamu</td>\n",
              "    </tr>\n",
              "    <tr>\n",
              "      <th>744</th>\n",
              "      <td>gak usah memuja elon musk, elon juga bisnis, dia suruh tunda biar dia bisa bikin A.I sendiri</td>\n",
              "    </tr>\n",
              "    <tr>\n",
              "      <th>241</th>\n",
              "      <td>Semua ini adalah konsekuensti dari human nature yang selalu ingin menang dalam persaingan. \\r\\n\\r\\nKita menghendaki kehidupan yang damai, tapi  juga ingin menikmati adrenaline pertempuran. Kontradiksi? Tidak. Kedua keadaan tersebut adalah pengalaman seorang pemenang.</td>\n",
              "    </tr>\n",
              "    <tr>\n",
              "      <th>1426</th>\n",
              "      <td>Bahas AI yang Sudan Ada dok. Selection chat GPT sampapi Aladdin nya blackrock</td>\n",
              "    </tr>\n",
              "    <tr>\n",
              "      <th>305</th>\n",
              "      <td>alkamdulila kekuatiran kita sedang proses terwujud, terimakasih infonya pak guru.</td>\n",
              "    </tr>\n",
              "  </tbody>\n",
              "</table>\n",
              "</div>\n",
              "      <button class=\"colab-df-convert\" onclick=\"convertToInteractive('df-53966476-0f8e-48c4-a641-1388739ed236')\"\n",
              "              title=\"Convert this dataframe to an interactive table.\"\n",
              "              style=\"display:none;\">\n",
              "        \n",
              "  <svg xmlns=\"http://www.w3.org/2000/svg\" height=\"24px\"viewBox=\"0 0 24 24\"\n",
              "       width=\"24px\">\n",
              "    <path d=\"M0 0h24v24H0V0z\" fill=\"none\"/>\n",
              "    <path d=\"M18.56 5.44l.94 2.06.94-2.06 2.06-.94-2.06-.94-.94-2.06-.94 2.06-2.06.94zm-11 1L8.5 8.5l.94-2.06 2.06-.94-2.06-.94L8.5 2.5l-.94 2.06-2.06.94zm10 10l.94 2.06.94-2.06 2.06-.94-2.06-.94-.94-2.06-.94 2.06-2.06.94z\"/><path d=\"M17.41 7.96l-1.37-1.37c-.4-.4-.92-.59-1.43-.59-.52 0-1.04.2-1.43.59L10.3 9.45l-7.72 7.72c-.78.78-.78 2.05 0 2.83L4 21.41c.39.39.9.59 1.41.59.51 0 1.02-.2 1.41-.59l7.78-7.78 2.81-2.81c.8-.78.8-2.07 0-2.86zM5.41 20L4 18.59l7.72-7.72 1.47 1.35L5.41 20z\"/>\n",
              "  </svg>\n",
              "      </button>\n",
              "      \n",
              "  <style>\n",
              "    .colab-df-container {\n",
              "      display:flex;\n",
              "      flex-wrap:wrap;\n",
              "      gap: 12px;\n",
              "    }\n",
              "\n",
              "    .colab-df-convert {\n",
              "      background-color: #E8F0FE;\n",
              "      border: none;\n",
              "      border-radius: 50%;\n",
              "      cursor: pointer;\n",
              "      display: none;\n",
              "      fill: #1967D2;\n",
              "      height: 32px;\n",
              "      padding: 0 0 0 0;\n",
              "      width: 32px;\n",
              "    }\n",
              "\n",
              "    .colab-df-convert:hover {\n",
              "      background-color: #E2EBFA;\n",
              "      box-shadow: 0px 1px 2px rgba(60, 64, 67, 0.3), 0px 1px 3px 1px rgba(60, 64, 67, 0.15);\n",
              "      fill: #174EA6;\n",
              "    }\n",
              "\n",
              "    [theme=dark] .colab-df-convert {\n",
              "      background-color: #3B4455;\n",
              "      fill: #D2E3FC;\n",
              "    }\n",
              "\n",
              "    [theme=dark] .colab-df-convert:hover {\n",
              "      background-color: #434B5C;\n",
              "      box-shadow: 0px 1px 3px 1px rgba(0, 0, 0, 0.15);\n",
              "      filter: drop-shadow(0px 1px 2px rgba(0, 0, 0, 0.3));\n",
              "      fill: #FFFFFF;\n",
              "    }\n",
              "  </style>\n",
              "\n",
              "      <script>\n",
              "        const buttonEl =\n",
              "          document.querySelector('#df-53966476-0f8e-48c4-a641-1388739ed236 button.colab-df-convert');\n",
              "        buttonEl.style.display =\n",
              "          google.colab.kernel.accessAllowed ? 'block' : 'none';\n",
              "\n",
              "        async function convertToInteractive(key) {\n",
              "          const element = document.querySelector('#df-53966476-0f8e-48c4-a641-1388739ed236');\n",
              "          const dataTable =\n",
              "            await google.colab.kernel.invokeFunction('convertToInteractive',\n",
              "                                                     [key], {});\n",
              "          if (!dataTable) return;\n",
              "\n",
              "          const docLinkHtml = 'Like what you see? Visit the ' +\n",
              "            '<a target=\"_blank\" href=https://colab.research.google.com/notebooks/data_table.ipynb>data table notebook</a>'\n",
              "            + ' to learn more about interactive tables.';\n",
              "          element.innerHTML = '';\n",
              "          dataTable['output_type'] = 'display_data';\n",
              "          await google.colab.output.renderOutput(dataTable, element);\n",
              "          const docLink = document.createElement('div');\n",
              "          docLink.innerHTML = docLinkHtml;\n",
              "          element.appendChild(docLink);\n",
              "        }\n",
              "      </script>\n",
              "    </div>\n",
              "  </div>\n",
              "  "
            ],
            "text/plain": [
              "                                                                                                                                                                                                                                                                                                                                                                                                                                                                         text_id\n",
              "1909   @ITzRosallie (∂ω∂)  lagi ulangi lagi pertanyaan mu, dah saya jawab, ulangi lagi, saya dah jawab yang sebelumnya masih ulang lagi, dah lah gak seru. Lu payah, pandai ngomong doang, ulang terus kayak robot \"pertanyaan ini gak valid silahkan ulangi lagi\" udah retry terus lah ulang terus lah silahkan. Udah kena mental kan makanya, jangan ngelak terus makin ngelak makin besar nanti. Cobalah mengalah sesekali, pelan-pelan. Hadeh. Nyusahin hidup orang aja kamu\n",
              "744                                                                                                                                                                                                                                                                                                                                                                                 gak usah memuja elon musk, elon juga bisnis, dia suruh tunda biar dia bisa bikin A.I sendiri\n",
              "241                                                                                                                                                                                                  Semua ini adalah konsekuensti dari human nature yang selalu ingin menang dalam persaingan. \\r\\n\\r\\nKita menghendaki kehidupan yang damai, tapi  juga ingin menikmati adrenaline pertempuran. Kontradiksi? Tidak. Kedua keadaan tersebut adalah pengalaman seorang pemenang.\n",
              "1426                                                                                                                                                                                                                                                                                                                                                                                               Bahas AI yang Sudan Ada dok. Selection chat GPT sampapi Aladdin nya blackrock\n",
              "305                                                                                                                                                                                                                                                                                                                                                                                            alkamdulila kekuatiran kita sedang proses terwujud, terimakasih infonya pak guru."
            ]
          },
          "execution_count": 12,
          "metadata": {},
          "output_type": "execute_result"
        }
      ],
      "source": [
        "# mengimpor data mentahan\n",
        "raw_data_1 = pd.read_csv(\"/content/drive/MyDrive/Gemastik Data Mining 2023 - We and Techa/Tempat pengolahan/Data Mentah/raw_data_1.csv\")\n",
        "raw_data_2 = pd.read_csv(\"/content/drive/MyDrive/Gemastik Data Mining 2023 - We and Techa/Tempat pengolahan/Data Mentah/raw_data_2.csv\")\n",
        "raw_data_3 = pd.read_csv(\"/content/drive/MyDrive/Gemastik Data Mining 2023 - We and Techa/Tempat pengolahan/Data Mentah/raw_data_3.csv\")\n",
        "raw_data_4 = pd.read_csv(\"/content/drive/MyDrive/Gemastik Data Mining 2023 - We and Techa/Tempat pengolahan/Data Mentah/raw_data_4.csv\")\n",
        "raw_data_5 = pd.read_csv(\"/content/drive/MyDrive/Gemastik Data Mining 2023 - We and Techa/Tempat pengolahan/Data Mentah/raw_data_5.csv\")\n",
        "# menggabungkan data mentahan menjadi satu dataset\n",
        "raw_data = pd.concat([raw_data_1, raw_data_2, raw_data_3, raw_data_4, raw_data_5], ignore_index=True)\n",
        "# mengambil teks komen dan jumlah votes (like) untuk dilabeli untuk diolah nantinya\n",
        "comments_votes = raw_data.loc[:, ['text']]\n",
        "raw_df = pd.DataFrame(comments_votes)\n",
        "raw_df =raw_df.rename(columns={'text': 'text_id'})\n",
        "\n",
        "# Mengatur opsi untuk memperluas lebar kolom yang ditampilkan\n",
        "pd.set_option('display.max_colwidth', None)\n",
        "print(f\"Banyaknya baris: {raw_df.index.size}\")\n",
        "raw_df.sample(5)"
      ]
    },
    {
      "cell_type": "markdown",
      "metadata": {
        "id": "OzDmxSFpH2OE"
      },
      "source": [
        "## Memfilter komen dari '@', 'link', dan komen duplikat"
      ]
    },
    {
      "cell_type": "code",
      "execution_count": null,
      "metadata": {
        "colab": {
          "base_uri": "https://localhost:8080/",
          "height": 302
        },
        "id": "d4ZNEtnYH8_T",
        "outputId": "e0d0f800-6e39-4a2a-a440-3dac3658d367"
      },
      "outputs": [
        {
          "name": "stdout",
          "output_type": "stream",
          "text": [
            "Banyaknya baris: 2012\n"
          ]
        },
        {
          "data": {
            "text/html": [
              "\n",
              "  <div id=\"df-c6dcf39b-34c6-4eaa-bb72-e4b0d6054e6a\">\n",
              "    <div class=\"colab-df-container\">\n",
              "      <div>\n",
              "<style scoped>\n",
              "    .dataframe tbody tr th:only-of-type {\n",
              "        vertical-align: middle;\n",
              "    }\n",
              "\n",
              "    .dataframe tbody tr th {\n",
              "        vertical-align: top;\n",
              "    }\n",
              "\n",
              "    .dataframe thead th {\n",
              "        text-align: right;\n",
              "    }\n",
              "</style>\n",
              "<table border=\"1\" class=\"dataframe\">\n",
              "  <thead>\n",
              "    <tr style=\"text-align: right;\">\n",
              "      <th></th>\n",
              "      <th>text_id</th>\n",
              "    </tr>\n",
              "  </thead>\n",
              "  <tbody>\n",
              "    <tr>\n",
              "      <th>1539</th>\n",
              "      <td>Pas lagi ada trouble sm product tel***sel, jengkel, terus lapor ke Chatbot Ver**ca, wah langsung tambah emosi.... jaka sembung.</td>\n",
              "    </tr>\n",
              "    <tr>\n",
              "      <th>946</th>\n",
              "      <td>\"Sedang menunggu perang antara AI dan Manusia\"\\r\\n\\r\\n- Winter</td>\n",
              "    </tr>\n",
              "    <tr>\n",
              "      <th>1793</th>\n",
              "      <td>LU SENDIRI LAGI PAKE AI YAITU OTAK LO JADI JANGAN LIAT POSISI NEGATIFNYA SAJA JANGAN LIHAT HANYA DARI SUDUT PANDANG SATU SISI KOIN KERTAS DAN JANGAN LIHAT DARI SUDUT PANDANG 3DIMENSI BAGAIMANA DENGAN SUDUT PANDANG 12 DIMENSI? 24 DIMENSI? BAGAIMANA SUDUT PANDANG DI LUAR DIMENSI?</td>\n",
              "    </tr>\n",
              "    <tr>\n",
              "      <th>2433</th>\n",
              "      <td>Ini menurut ingatan saya elon musk juga pernah bilang ai itu bisa juga berbahaya</td>\n",
              "    </tr>\n",
              "    <tr>\n",
              "      <th>2134</th>\n",
              "      <td>OTW mau jadi manusia FOMO dulu ah....\\r\\nBiar gak dianggap Malas Mikir, dan Malas Bergerak.</td>\n",
              "    </tr>\n",
              "  </tbody>\n",
              "</table>\n",
              "</div>\n",
              "      <button class=\"colab-df-convert\" onclick=\"convertToInteractive('df-c6dcf39b-34c6-4eaa-bb72-e4b0d6054e6a')\"\n",
              "              title=\"Convert this dataframe to an interactive table.\"\n",
              "              style=\"display:none;\">\n",
              "        \n",
              "  <svg xmlns=\"http://www.w3.org/2000/svg\" height=\"24px\"viewBox=\"0 0 24 24\"\n",
              "       width=\"24px\">\n",
              "    <path d=\"M0 0h24v24H0V0z\" fill=\"none\"/>\n",
              "    <path d=\"M18.56 5.44l.94 2.06.94-2.06 2.06-.94-2.06-.94-.94-2.06-.94 2.06-2.06.94zm-11 1L8.5 8.5l.94-2.06 2.06-.94-2.06-.94L8.5 2.5l-.94 2.06-2.06.94zm10 10l.94 2.06.94-2.06 2.06-.94-2.06-.94-.94-2.06-.94 2.06-2.06.94z\"/><path d=\"M17.41 7.96l-1.37-1.37c-.4-.4-.92-.59-1.43-.59-.52 0-1.04.2-1.43.59L10.3 9.45l-7.72 7.72c-.78.78-.78 2.05 0 2.83L4 21.41c.39.39.9.59 1.41.59.51 0 1.02-.2 1.41-.59l7.78-7.78 2.81-2.81c.8-.78.8-2.07 0-2.86zM5.41 20L4 18.59l7.72-7.72 1.47 1.35L5.41 20z\"/>\n",
              "  </svg>\n",
              "      </button>\n",
              "      \n",
              "  <style>\n",
              "    .colab-df-container {\n",
              "      display:flex;\n",
              "      flex-wrap:wrap;\n",
              "      gap: 12px;\n",
              "    }\n",
              "\n",
              "    .colab-df-convert {\n",
              "      background-color: #E8F0FE;\n",
              "      border: none;\n",
              "      border-radius: 50%;\n",
              "      cursor: pointer;\n",
              "      display: none;\n",
              "      fill: #1967D2;\n",
              "      height: 32px;\n",
              "      padding: 0 0 0 0;\n",
              "      width: 32px;\n",
              "    }\n",
              "\n",
              "    .colab-df-convert:hover {\n",
              "      background-color: #E2EBFA;\n",
              "      box-shadow: 0px 1px 2px rgba(60, 64, 67, 0.3), 0px 1px 3px 1px rgba(60, 64, 67, 0.15);\n",
              "      fill: #174EA6;\n",
              "    }\n",
              "\n",
              "    [theme=dark] .colab-df-convert {\n",
              "      background-color: #3B4455;\n",
              "      fill: #D2E3FC;\n",
              "    }\n",
              "\n",
              "    [theme=dark] .colab-df-convert:hover {\n",
              "      background-color: #434B5C;\n",
              "      box-shadow: 0px 1px 3px 1px rgba(0, 0, 0, 0.15);\n",
              "      filter: drop-shadow(0px 1px 2px rgba(0, 0, 0, 0.3));\n",
              "      fill: #FFFFFF;\n",
              "    }\n",
              "  </style>\n",
              "\n",
              "      <script>\n",
              "        const buttonEl =\n",
              "          document.querySelector('#df-c6dcf39b-34c6-4eaa-bb72-e4b0d6054e6a button.colab-df-convert');\n",
              "        buttonEl.style.display =\n",
              "          google.colab.kernel.accessAllowed ? 'block' : 'none';\n",
              "\n",
              "        async function convertToInteractive(key) {\n",
              "          const element = document.querySelector('#df-c6dcf39b-34c6-4eaa-bb72-e4b0d6054e6a');\n",
              "          const dataTable =\n",
              "            await google.colab.kernel.invokeFunction('convertToInteractive',\n",
              "                                                     [key], {});\n",
              "          if (!dataTable) return;\n",
              "\n",
              "          const docLinkHtml = 'Like what you see? Visit the ' +\n",
              "            '<a target=\"_blank\" href=https://colab.research.google.com/notebooks/data_table.ipynb>data table notebook</a>'\n",
              "            + ' to learn more about interactive tables.';\n",
              "          element.innerHTML = '';\n",
              "          dataTable['output_type'] = 'display_data';\n",
              "          await google.colab.output.renderOutput(dataTable, element);\n",
              "          const docLink = document.createElement('div');\n",
              "          docLink.innerHTML = docLinkHtml;\n",
              "          element.appendChild(docLink);\n",
              "        }\n",
              "      </script>\n",
              "    </div>\n",
              "  </div>\n",
              "  "
            ],
            "text/plain": [
              "                                                                                                                                                                                                                                                                                     text_id\n",
              "1539                                                                                                                                                         Pas lagi ada trouble sm product tel***sel, jengkel, terus lapor ke Chatbot Ver**ca, wah langsung tambah emosi.... jaka sembung.\n",
              "946                                                                                                                                                                                                                           \"Sedang menunggu perang antara AI dan Manusia\"\\r\\n\\r\\n- Winter\n",
              "1793  LU SENDIRI LAGI PAKE AI YAITU OTAK LO JADI JANGAN LIAT POSISI NEGATIFNYA SAJA JANGAN LIHAT HANYA DARI SUDUT PANDANG SATU SISI KOIN KERTAS DAN JANGAN LIHAT DARI SUDUT PANDANG 3DIMENSI BAGAIMANA DENGAN SUDUT PANDANG 12 DIMENSI? 24 DIMENSI? BAGAIMANA SUDUT PANDANG DI LUAR DIMENSI?\n",
              "2433                                                                                                                                                                                                        Ini menurut ingatan saya elon musk juga pernah bilang ai itu bisa juga berbahaya\n",
              "2134                                                                                                                                                                                             OTW mau jadi manusia FOMO dulu ah....\\r\\nBiar gak dianggap Malas Mikir, dan Malas Bergerak."
            ]
          },
          "execution_count": 41,
          "metadata": {},
          "output_type": "execute_result"
        }
      ],
      "source": [
        "raw_df = raw_df[\n",
        "    ~raw_df['text_id'].str.contains('@') & # hapus @\n",
        "    ~raw_df['text_id'].str.contains('https') # hapus link\n",
        "]\n",
        "raw_df = raw_df.drop_duplicates() # Menghapus duplikat\n",
        "print(f\"Banyaknya baris: {raw_df.index.size}\")\n",
        "raw_df.sample(5)"
      ]
    },
    {
      "cell_type": "markdown",
      "metadata": {
        "id": "zZiTQHK7N3wB"
      },
      "source": [
        "## Menerjemahkan komen ke bahasa Inggris"
      ]
    },
    {
      "cell_type": "code",
      "execution_count": null,
      "metadata": {
        "colab": {
          "base_uri": "https://localhost:8080/"
        },
        "id": "sTQh3sqiOblB",
        "outputId": "07684b2b-308b-4fff-b21f-05edc4a799ae"
      },
      "outputs": [
        {
          "name": "stdout",
          "output_type": "stream",
          "text": [
            "The sky is blue and I like bananas\n"
          ]
        }
      ],
      "source": [
        "# Penerjemah ke bahasa Inggris\n",
        "import googletrans\n",
        "from googletrans import Translator\n",
        "translator = Translator()\n",
        "translation = translator.translate(\"Der Himmel ist blau und ich mag Bananen\")\n",
        "print(translation.text)\n",
        "# Fungsi untuk menerjemahkan teks ke bahasa Inggris\n",
        "def translate_en(text):\n",
        "    try:\n",
        "        translated_en = translator.translate(text)\n",
        "        return translated_en.text\n",
        "    except Exception as e:\n",
        "        return None"
      ]
    },
    {
      "cell_type": "code",
      "execution_count": null,
      "metadata": {
        "colab": {
          "base_uri": "https://localhost:8080/"
        },
        "id": "wLpvFr_HFX4k",
        "outputId": "b8715ada-b610-47a0-f937-e85f2c9ce2c2"
      },
      "outputs": [
        {
          "name": "stdout",
          "output_type": "stream",
          "text": [
            "Number of untranslated rows: 546\n",
            "Banyaknya baris: 2012\n",
            "Waktu eksekusi sel: 18.547300549348197 menit\n"
          ]
        }
      ],
      "source": [
        "# Jangan di run lagi\n",
        "import time\n",
        "start_time = time.time()\n",
        "\n",
        "col_before = \"text_id\"\n",
        "col_after = \"text_en\"\n",
        "\n",
        "raw_df[col_after] = raw_df[col_before].apply(lambda text: translate_en(text))\n",
        "num_untranslated = raw_df[col_after].isnull().sum()\n",
        "print(f\"Number of untranslated rows: {num_untranslated}\")\n",
        "\n",
        "end_time = time.time()\n",
        "print(f\"Banyaknya baris: {raw_df.index.size}\")\n",
        "print(f\"Waktu eksekusi sel: {(end_time - start_time)/60} menit\")"
      ]
    },
    {
      "cell_type": "code",
      "execution_count": null,
      "metadata": {
        "colab": {
          "base_uri": "https://localhost:8080/",
          "height": 545
        },
        "id": "8K-Wp6nFe7P5",
        "outputId": "136f2973-0747-426f-a22b-a748dac29f0a"
      },
      "outputs": [
        {
          "name": "stdout",
          "output_type": "stream",
          "text": [
            "Banyaknya baris: 1466\n"
          ]
        },
        {
          "data": {
            "text/html": [
              "\n",
              "  <div id=\"df-ba916d87-484d-44e1-80d3-678fee675217\">\n",
              "    <div class=\"colab-df-container\">\n",
              "      <div>\n",
              "<style scoped>\n",
              "    .dataframe tbody tr th:only-of-type {\n",
              "        vertical-align: middle;\n",
              "    }\n",
              "\n",
              "    .dataframe tbody tr th {\n",
              "        vertical-align: top;\n",
              "    }\n",
              "\n",
              "    .dataframe thead th {\n",
              "        text-align: right;\n",
              "    }\n",
              "</style>\n",
              "<table border=\"1\" class=\"dataframe\">\n",
              "  <thead>\n",
              "    <tr style=\"text-align: right;\">\n",
              "      <th></th>\n",
              "      <th>text_id</th>\n",
              "      <th>text_en</th>\n",
              "    </tr>\n",
              "  </thead>\n",
              "  <tbody>\n",
              "    <tr>\n",
              "      <th>3604</th>\n",
              "      <td>Kesimpulan yang saya ambil ai seperti hanya belajar dan berkembang dari pengalaman. Apakah tidak memungkin kan ai berkembang dan menciptakan pola pikir sendiri dari perkembangan itu?</td>\n",
              "      <td>The conclusion that I draw is like just learning and developing from experience.Is it not possible to develop and create his own mindset of that development?</td>\n",
              "    </tr>\n",
              "    <tr>\n",
              "      <th>1544</th>\n",
              "      <td>Kalao saya sih percaya suatu saat nanti AI bisa berperilaku seperti manusia di saat otak sudah bisa di download atau di implan supaya semua yg otak manusia itu rasakan dan alami bisa tersimpan datanya di cloud secara real time... \\r\\nSeperti cita cita elon musk yg ingin mendownload semua memory otak... \\r\\n\\r\\nJika otak saya sudah bisa di implan dan di baca oleh komputer maka mulai hari ini apa yg saya rasakan dari badan saya apapun yg saya dengar apapun yg saya lihat apapun yg saya cium dan apapun yg saya lakukan akan tersimpan. \\r\\n\\r\\nDan saat itu terjadi... Ada sebuah mesin yg mampu mengakses legal atau tidak maka AI akan melampaui manusia... \\r\\nKarena kemampuan saya terbatas sementata AI meng akaes seluruh manusia yg punya implan seperti saya...</td>\n",
              "      <td>When I believe that someday AI can behave like humans when the brain can be downloaded or implanted so that all that the human brain feels and naturally can be stored the data in the cloud in real time ...\\r\\nLike the ideals of Elon Musk who want to download all brain memory ...\\r\\n\\r\\nIf my brain can be implanted and read by a computer then from today what I feel from my body whatever I hear whatever I see whatever I kiss and whatever I do will be stored.\\r\\n\\r\\nAnd when that happens ... there is a machine that is able to access legal or not, then AI will surpass humans ...\\r\\nBecause my ability is limited as I can, all people who have implants like me ...</td>\n",
              "    </tr>\n",
              "    <tr>\n",
              "      <th>501</th>\n",
              "      <td>1</td>\n",
              "      <td>1</td>\n",
              "    </tr>\n",
              "    <tr>\n",
              "      <th>2157</th>\n",
              "      <td>Yang paling khawatir yaitu, pekerja akan beralih robot ai, jadi semakin banyak robot ai untuk tenaga kerja, semakin banyak pengangguran disana. Jadi seharusnya di Indonesia gak usah tenaga kerja bergantung dgn robot AI, karena pengangguran makin banyak</td>\n",
              "      <td>The most worried thing is, workers will switch robot AI, so the more robots AI for labor, the more unemployment there.So in Indonesia it should not have to be worked on a robot AI, because more and more unemployment</td>\n",
              "    </tr>\n",
              "    <tr>\n",
              "      <th>338</th>\n",
              "      <td>Sering sering kasih hal keburukan mengenai AI guru\\r\\nBiar Republik ini tambah terbelakang ya</td>\n",
              "      <td>Often love bad things about the teacher's ai\\r\\nLet this republic more backward</td>\n",
              "    </tr>\n",
              "  </tbody>\n",
              "</table>\n",
              "</div>\n",
              "      <button class=\"colab-df-convert\" onclick=\"convertToInteractive('df-ba916d87-484d-44e1-80d3-678fee675217')\"\n",
              "              title=\"Convert this dataframe to an interactive table.\"\n",
              "              style=\"display:none;\">\n",
              "        \n",
              "  <svg xmlns=\"http://www.w3.org/2000/svg\" height=\"24px\"viewBox=\"0 0 24 24\"\n",
              "       width=\"24px\">\n",
              "    <path d=\"M0 0h24v24H0V0z\" fill=\"none\"/>\n",
              "    <path d=\"M18.56 5.44l.94 2.06.94-2.06 2.06-.94-2.06-.94-.94-2.06-.94 2.06-2.06.94zm-11 1L8.5 8.5l.94-2.06 2.06-.94-2.06-.94L8.5 2.5l-.94 2.06-2.06.94zm10 10l.94 2.06.94-2.06 2.06-.94-2.06-.94-.94-2.06-.94 2.06-2.06.94z\"/><path d=\"M17.41 7.96l-1.37-1.37c-.4-.4-.92-.59-1.43-.59-.52 0-1.04.2-1.43.59L10.3 9.45l-7.72 7.72c-.78.78-.78 2.05 0 2.83L4 21.41c.39.39.9.59 1.41.59.51 0 1.02-.2 1.41-.59l7.78-7.78 2.81-2.81c.8-.78.8-2.07 0-2.86zM5.41 20L4 18.59l7.72-7.72 1.47 1.35L5.41 20z\"/>\n",
              "  </svg>\n",
              "      </button>\n",
              "      \n",
              "  <style>\n",
              "    .colab-df-container {\n",
              "      display:flex;\n",
              "      flex-wrap:wrap;\n",
              "      gap: 12px;\n",
              "    }\n",
              "\n",
              "    .colab-df-convert {\n",
              "      background-color: #E8F0FE;\n",
              "      border: none;\n",
              "      border-radius: 50%;\n",
              "      cursor: pointer;\n",
              "      display: none;\n",
              "      fill: #1967D2;\n",
              "      height: 32px;\n",
              "      padding: 0 0 0 0;\n",
              "      width: 32px;\n",
              "    }\n",
              "\n",
              "    .colab-df-convert:hover {\n",
              "      background-color: #E2EBFA;\n",
              "      box-shadow: 0px 1px 2px rgba(60, 64, 67, 0.3), 0px 1px 3px 1px rgba(60, 64, 67, 0.15);\n",
              "      fill: #174EA6;\n",
              "    }\n",
              "\n",
              "    [theme=dark] .colab-df-convert {\n",
              "      background-color: #3B4455;\n",
              "      fill: #D2E3FC;\n",
              "    }\n",
              "\n",
              "    [theme=dark] .colab-df-convert:hover {\n",
              "      background-color: #434B5C;\n",
              "      box-shadow: 0px 1px 3px 1px rgba(0, 0, 0, 0.15);\n",
              "      filter: drop-shadow(0px 1px 2px rgba(0, 0, 0, 0.3));\n",
              "      fill: #FFFFFF;\n",
              "    }\n",
              "  </style>\n",
              "\n",
              "      <script>\n",
              "        const buttonEl =\n",
              "          document.querySelector('#df-ba916d87-484d-44e1-80d3-678fee675217 button.colab-df-convert');\n",
              "        buttonEl.style.display =\n",
              "          google.colab.kernel.accessAllowed ? 'block' : 'none';\n",
              "\n",
              "        async function convertToInteractive(key) {\n",
              "          const element = document.querySelector('#df-ba916d87-484d-44e1-80d3-678fee675217');\n",
              "          const dataTable =\n",
              "            await google.colab.kernel.invokeFunction('convertToInteractive',\n",
              "                                                     [key], {});\n",
              "          if (!dataTable) return;\n",
              "\n",
              "          const docLinkHtml = 'Like what you see? Visit the ' +\n",
              "            '<a target=\"_blank\" href=https://colab.research.google.com/notebooks/data_table.ipynb>data table notebook</a>'\n",
              "            + ' to learn more about interactive tables.';\n",
              "          element.innerHTML = '';\n",
              "          dataTable['output_type'] = 'display_data';\n",
              "          await google.colab.output.renderOutput(dataTable, element);\n",
              "          const docLink = document.createElement('div');\n",
              "          docLink.innerHTML = docLinkHtml;\n",
              "          element.appendChild(docLink);\n",
              "        }\n",
              "      </script>\n",
              "    </div>\n",
              "  </div>\n",
              "  "
            ],
            "text/plain": [
              "                                                                                                                                                                                                                                                                                                                                                                                                                                                                                                                                                                                                                                                                                                                                                                                        text_id  \\\n",
              "3604                                                                                                                                                                                                                                                                                                                                                                                                                                                                                                                                                                                                     Kesimpulan yang saya ambil ai seperti hanya belajar dan berkembang dari pengalaman. Apakah tidak memungkin kan ai berkembang dan menciptakan pola pikir sendiri dari perkembangan itu?   \n",
              "1544  Kalao saya sih percaya suatu saat nanti AI bisa berperilaku seperti manusia di saat otak sudah bisa di download atau di implan supaya semua yg otak manusia itu rasakan dan alami bisa tersimpan datanya di cloud secara real time... \\r\\nSeperti cita cita elon musk yg ingin mendownload semua memory otak... \\r\\n\\r\\nJika otak saya sudah bisa di implan dan di baca oleh komputer maka mulai hari ini apa yg saya rasakan dari badan saya apapun yg saya dengar apapun yg saya lihat apapun yg saya cium dan apapun yg saya lakukan akan tersimpan. \\r\\n\\r\\nDan saat itu terjadi... Ada sebuah mesin yg mampu mengakses legal atau tidak maka AI akan melampaui manusia... \\r\\nKarena kemampuan saya terbatas sementata AI meng akaes seluruh manusia yg punya implan seperti saya...   \n",
              "501                                                                                                                                                                                                                                                                                                                                                                                                                                                                                                                                                                                                                                                                                                                                                                                           1   \n",
              "2157                                                                                                                                                                                                                                                                                                                                                                                                                                                                                                                               Yang paling khawatir yaitu, pekerja akan beralih robot ai, jadi semakin banyak robot ai untuk tenaga kerja, semakin banyak pengangguran disana. Jadi seharusnya di Indonesia gak usah tenaga kerja bergantung dgn robot AI, karena pengangguran makin banyak   \n",
              "338                                                                                                                                                                                                                                                                                                                                                                                                                                                                                                                                                                                                                                                                                               Sering sering kasih hal keburukan mengenai AI guru\\r\\nBiar Republik ini tambah terbelakang ya   \n",
              "\n",
              "                                                                                                                                                                                                                                                                                                                                                                                                                                                                                                                                                                                                                                                                                        text_en  \n",
              "3604                                                                                                                                                                                                                                                                                                                                                                                                                                                                                                                              The conclusion that I draw is like just learning and developing from experience.Is it not possible to develop and create his own mindset of that development?  \n",
              "1544  When I believe that someday AI can behave like humans when the brain can be downloaded or implanted so that all that the human brain feels and naturally can be stored the data in the cloud in real time ...\\r\\nLike the ideals of Elon Musk who want to download all brain memory ...\\r\\n\\r\\nIf my brain can be implanted and read by a computer then from today what I feel from my body whatever I hear whatever I see whatever I kiss and whatever I do will be stored.\\r\\n\\r\\nAnd when that happens ... there is a machine that is able to access legal or not, then AI will surpass humans ...\\r\\nBecause my ability is limited as I can, all people who have implants like me ...  \n",
              "501                                                                                                                                                                                                                                                                                                                                                                                                                                                                                                                                                                                                                                                                                           1  \n",
              "2157                                                                                                                                                                                                                                                                                                                                                                                                                                                                    The most worried thing is, workers will switch robot AI, so the more robots AI for labor, the more unemployment there.So in Indonesia it should not have to be worked on a robot AI, because more and more unemployment  \n",
              "338                                                                                                                                                                                                                                                                                                                                                                                                                                                                                                                                                                                                             Often love bad things about the teacher's ai\\r\\nLet this republic more backward  "
            ]
          },
          "execution_count": 43,
          "metadata": {},
          "output_type": "execute_result"
        }
      ],
      "source": [
        "# Menghapus baris yang mengandung nilai None pada kolom 'text_en'\n",
        "raw_df = raw_df.dropna(subset=[col_after])\n",
        "print(f\"Banyaknya baris: {raw_df.index.size}\")\n",
        "raw_df.sample(5)"
      ]
    },
    {
      "cell_type": "code",
      "execution_count": null,
      "metadata": {
        "id": "vYJBitJeKvX7"
      },
      "outputs": [],
      "source": [
        "# Mengoutput df yang sudah diterjemahkan\n",
        "file_name = 'translated_df'\n",
        "raw_df.to_csv(file_name)"
      ]
    },
    {
      "cell_type": "markdown",
      "metadata": {
        "id": "6h3kXIM0k5uM"
      },
      "source": [
        "## Pembersihan sebelum pelabelan otomatis"
      ]
    },
    {
      "cell_type": "code",
      "execution_count": null,
      "metadata": {
        "colab": {
          "base_uri": "https://localhost:8080/",
          "height": 320
        },
        "id": "WqKM0pSzgQLx",
        "outputId": "03678e2c-c38f-4151-d386-44d4a92482f2"
      },
      "outputs": [
        {
          "name": "stdout",
          "output_type": "stream",
          "text": [
            "Banyaknya baris: 1466\n"
          ]
        },
        {
          "data": {
            "text/html": [
              "\n",
              "  <div id=\"df-bcfb5de4-8429-4ebc-be30-b15e6e4dfa42\">\n",
              "    <div class=\"colab-df-container\">\n",
              "      <div>\n",
              "<style scoped>\n",
              "    .dataframe tbody tr th:only-of-type {\n",
              "        vertical-align: middle;\n",
              "    }\n",
              "\n",
              "    .dataframe tbody tr th {\n",
              "        vertical-align: top;\n",
              "    }\n",
              "\n",
              "    .dataframe thead th {\n",
              "        text-align: right;\n",
              "    }\n",
              "</style>\n",
              "<table border=\"1\" class=\"dataframe\">\n",
              "  <thead>\n",
              "    <tr style=\"text-align: right;\">\n",
              "      <th></th>\n",
              "      <th>text_id</th>\n",
              "      <th>text_en</th>\n",
              "    </tr>\n",
              "  </thead>\n",
              "  <tbody>\n",
              "    <tr>\n",
              "      <th>75</th>\n",
              "      <td>Bahkan dia cuma komen doang, blm nonton sampai abis videonya</td>\n",
              "      <td>Even he just commented, not watching until after the video</td>\n",
              "    </tr>\n",
              "    <tr>\n",
              "      <th>1190</th>\n",
              "      <td>Manusia punya kreatifitas untuk mencari celah melihat peluang, mencari kelemahan, melanggar aturan untuk mencapai kemenangan. Itu tidak dimiliki oleh AI... Untuk sekarang sih, kedepannya gak tau saya 😄</td>\n",
              "      <td>Humans have creativity to find loopholes to see opportunities, find weaknesses, violate the rules to achieve victory.It wasn't owned by AI ... for now, in the future I don't know me 😄</td>\n",
              "    </tr>\n",
              "    <tr>\n",
              "      <th>1116</th>\n",
              "      <td>Teteh suka sama isi kontennya .</td>\n",
              "      <td>I like the contents of the content.</td>\n",
              "    </tr>\n",
              "    <tr>\n",
              "      <th>821</th>\n",
              "      <td>lumayan juga pengetahuan lo tong</td>\n",
              "      <td>pretty good knowledge of your knowledge</td>\n",
              "    </tr>\n",
              "    <tr>\n",
              "      <th>723</th>\n",
              "      <td>Bahas AI yang Sudan Ada dok. Selection chat GPT sampapi Aladdin nya blackrock</td>\n",
              "      <td>AI language that already exists in.Selection chatgpt to Aladdin Blackrock</td>\n",
              "    </tr>\n",
              "  </tbody>\n",
              "</table>\n",
              "</div>\n",
              "      <button class=\"colab-df-convert\" onclick=\"convertToInteractive('df-bcfb5de4-8429-4ebc-be30-b15e6e4dfa42')\"\n",
              "              title=\"Convert this dataframe to an interactive table.\"\n",
              "              style=\"display:none;\">\n",
              "        \n",
              "  <svg xmlns=\"http://www.w3.org/2000/svg\" height=\"24px\"viewBox=\"0 0 24 24\"\n",
              "       width=\"24px\">\n",
              "    <path d=\"M0 0h24v24H0V0z\" fill=\"none\"/>\n",
              "    <path d=\"M18.56 5.44l.94 2.06.94-2.06 2.06-.94-2.06-.94-.94-2.06-.94 2.06-2.06.94zm-11 1L8.5 8.5l.94-2.06 2.06-.94-2.06-.94L8.5 2.5l-.94 2.06-2.06.94zm10 10l.94 2.06.94-2.06 2.06-.94-2.06-.94-.94-2.06-.94 2.06-2.06.94z\"/><path d=\"M17.41 7.96l-1.37-1.37c-.4-.4-.92-.59-1.43-.59-.52 0-1.04.2-1.43.59L10.3 9.45l-7.72 7.72c-.78.78-.78 2.05 0 2.83L4 21.41c.39.39.9.59 1.41.59.51 0 1.02-.2 1.41-.59l7.78-7.78 2.81-2.81c.8-.78.8-2.07 0-2.86zM5.41 20L4 18.59l7.72-7.72 1.47 1.35L5.41 20z\"/>\n",
              "  </svg>\n",
              "      </button>\n",
              "      \n",
              "  <style>\n",
              "    .colab-df-container {\n",
              "      display:flex;\n",
              "      flex-wrap:wrap;\n",
              "      gap: 12px;\n",
              "    }\n",
              "\n",
              "    .colab-df-convert {\n",
              "      background-color: #E8F0FE;\n",
              "      border: none;\n",
              "      border-radius: 50%;\n",
              "      cursor: pointer;\n",
              "      display: none;\n",
              "      fill: #1967D2;\n",
              "      height: 32px;\n",
              "      padding: 0 0 0 0;\n",
              "      width: 32px;\n",
              "    }\n",
              "\n",
              "    .colab-df-convert:hover {\n",
              "      background-color: #E2EBFA;\n",
              "      box-shadow: 0px 1px 2px rgba(60, 64, 67, 0.3), 0px 1px 3px 1px rgba(60, 64, 67, 0.15);\n",
              "      fill: #174EA6;\n",
              "    }\n",
              "\n",
              "    [theme=dark] .colab-df-convert {\n",
              "      background-color: #3B4455;\n",
              "      fill: #D2E3FC;\n",
              "    }\n",
              "\n",
              "    [theme=dark] .colab-df-convert:hover {\n",
              "      background-color: #434B5C;\n",
              "      box-shadow: 0px 1px 3px 1px rgba(0, 0, 0, 0.15);\n",
              "      filter: drop-shadow(0px 1px 2px rgba(0, 0, 0, 0.3));\n",
              "      fill: #FFFFFF;\n",
              "    }\n",
              "  </style>\n",
              "\n",
              "      <script>\n",
              "        const buttonEl =\n",
              "          document.querySelector('#df-bcfb5de4-8429-4ebc-be30-b15e6e4dfa42 button.colab-df-convert');\n",
              "        buttonEl.style.display =\n",
              "          google.colab.kernel.accessAllowed ? 'block' : 'none';\n",
              "\n",
              "        async function convertToInteractive(key) {\n",
              "          const element = document.querySelector('#df-bcfb5de4-8429-4ebc-be30-b15e6e4dfa42');\n",
              "          const dataTable =\n",
              "            await google.colab.kernel.invokeFunction('convertToInteractive',\n",
              "                                                     [key], {});\n",
              "          if (!dataTable) return;\n",
              "\n",
              "          const docLinkHtml = 'Like what you see? Visit the ' +\n",
              "            '<a target=\"_blank\" href=https://colab.research.google.com/notebooks/data_table.ipynb>data table notebook</a>'\n",
              "            + ' to learn more about interactive tables.';\n",
              "          element.innerHTML = '';\n",
              "          dataTable['output_type'] = 'display_data';\n",
              "          await google.colab.output.renderOutput(dataTable, element);\n",
              "          const docLink = document.createElement('div');\n",
              "          docLink.innerHTML = docLinkHtml;\n",
              "          element.appendChild(docLink);\n",
              "        }\n",
              "      </script>\n",
              "    </div>\n",
              "  </div>\n",
              "  "
            ],
            "text/plain": [
              "                                                                                                                                                                                                        text_id  \\\n",
              "75                                                                                                                                                 Bahkan dia cuma komen doang, blm nonton sampai abis videonya   \n",
              "1190  Manusia punya kreatifitas untuk mencari celah melihat peluang, mencari kelemahan, melanggar aturan untuk mencapai kemenangan. Itu tidak dimiliki oleh AI... Untuk sekarang sih, kedepannya gak tau saya 😄   \n",
              "1116                                                                                                                                                                            Teteh suka sama isi kontennya .   \n",
              "821                                                                                                                                                                            lumayan juga pengetahuan lo tong   \n",
              "723                                                                                                                               Bahas AI yang Sudan Ada dok. Selection chat GPT sampapi Aladdin nya blackrock   \n",
              "\n",
              "                                                                                                                                                                                      text_en  \n",
              "75                                                                                                                                 Even he just commented, not watching until after the video  \n",
              "1190  Humans have creativity to find loopholes to see opportunities, find weaknesses, violate the rules to achieve victory.It wasn't owned by AI ... for now, in the future I don't know me 😄  \n",
              "1116                                                                                                                                                      I like the contents of the content.  \n",
              "821                                                                                                                                                   pretty good knowledge of your knowledge  \n",
              "723                                                                                                                 AI language that already exists in.Selection chatgpt to Aladdin Blackrock  "
            ]
          },
          "execution_count": 14,
          "metadata": {},
          "output_type": "execute_result"
        }
      ],
      "source": [
        "# Menginput file yang sudah diterjemahkan ke bahasa Inggris\n",
        "import pandas as pd\n",
        "translated_df = pd.read_csv(\"/content/drive/MyDrive/Gemastik Data Mining 2023 - We and Techa/Tempat pengolahan/translated_df.csv\", index_col=False)\n",
        "translated_df.reset_index()\n",
        "translated_df = translated_df.drop('Unnamed: 0', axis = 1)\n",
        "pd.set_option('display.max_colwidth', None)\n",
        "print(f\"Banyaknya baris: {translated_df.shape[0]}\")\n",
        "translated_df.sample(5)"
      ]
    },
    {
      "cell_type": "code",
      "execution_count": null,
      "metadata": {
        "colab": {
          "base_uri": "https://localhost:8080/",
          "height": 476
        },
        "id": "ipV19Abmk4s1",
        "outputId": "861da39f-3853-438f-b70f-a8f0b9302a88"
      },
      "outputs": [
        {
          "data": {
            "text/html": [
              "\n",
              "  <div id=\"df-2c40cfaa-a4cf-4962-95b2-4044485023ff\">\n",
              "    <div class=\"colab-df-container\">\n",
              "      <div>\n",
              "<style scoped>\n",
              "    .dataframe tbody tr th:only-of-type {\n",
              "        vertical-align: middle;\n",
              "    }\n",
              "\n",
              "    .dataframe tbody tr th {\n",
              "        vertical-align: top;\n",
              "    }\n",
              "\n",
              "    .dataframe thead th {\n",
              "        text-align: right;\n",
              "    }\n",
              "</style>\n",
              "<table border=\"1\" class=\"dataframe\">\n",
              "  <thead>\n",
              "    <tr style=\"text-align: right;\">\n",
              "      <th></th>\n",
              "      <th>text_id</th>\n",
              "      <th>text_en</th>\n",
              "      <th>text_labelling_clean</th>\n",
              "    </tr>\n",
              "  </thead>\n",
              "  <tbody>\n",
              "    <tr>\n",
              "      <th>838</th>\n",
              "      <td>TONTON SWORD ART ONLINE DEH.. TEKNOLOGI AI lengkap disity</td>\n",
              "      <td>Watch Sword Art Online .. Complete AI Technology Diste</td>\n",
              "      <td>Watch Sword Art Online .. Complete AI Technology Diste</td>\n",
              "    </tr>\n",
              "    <tr>\n",
              "      <th>558</th>\n",
              "      <td>bagi orang agnostik, akhir zaman mneurut agama  bisa berarti dua hal, kematian umat manusia atau kematian agama doang</td>\n",
              "      <td>For agnostic people, the end of time according to religion can mean two things, the death of mankind or the death of religion only</td>\n",
              "      <td>For agnostic people, the end of time according to religion can mean two things, the death of mankind or the death of religion only</td>\n",
              "    </tr>\n",
              "    <tr>\n",
              "      <th>1010</th>\n",
              "      <td>Suara musiknya trlalu besar</td>\n",
              "      <td>The sound of the music is too big</td>\n",
              "      <td>The sound of the music is too big</td>\n",
              "    </tr>\n",
              "    <tr>\n",
              "      <th>1057</th>\n",
              "      <td>Dajjal itu AI</td>\n",
              "      <td>The Antichrist is ai</td>\n",
              "      <td>The Antichrist is ai</td>\n",
              "    </tr>\n",
              "    <tr>\n",
              "      <th>1125</th>\n",
              "      <td>Sama seperti google,waktu jaman covid rata2 murid mencari jawaban di internet..toh buat apa mikir lama2 mending buka google browsing,nemu jawaban ,selesai...tapi  inilah kenyataannya dampak negatif nya...klo buat cari pengetahuan umum buat di teliti gk masalah.tapi klo di gunakan cuma karna malas mikir ketika di tanyakan pendapat dari suatu soal ya..</td>\n",
              "      <td>Just like Google, when the Covid era, the average student looked for answers on the internet ... why are you thinking for a long time to open google browsing, find answers, finished ... but this is the reality of the negative impact ... if you are looking for general knowledge to be examined or notproblem. But if used only because you are lazy to think when asked about the opinion of a problem yes ..</td>\n",
              "      <td>Just like Google, when the Covid era, the average student looked for answers on the internet ... why are you thinking for a long time to open google browsing, find answers, finished ... but this is the reality of the negative impact ... if you are looking for general knowledge to be examined or notproblem. But if used only because you are lazy to think when asked about the opinion of a problem yes ..</td>\n",
              "    </tr>\n",
              "  </tbody>\n",
              "</table>\n",
              "</div>\n",
              "      <button class=\"colab-df-convert\" onclick=\"convertToInteractive('df-2c40cfaa-a4cf-4962-95b2-4044485023ff')\"\n",
              "              title=\"Convert this dataframe to an interactive table.\"\n",
              "              style=\"display:none;\">\n",
              "        \n",
              "  <svg xmlns=\"http://www.w3.org/2000/svg\" height=\"24px\"viewBox=\"0 0 24 24\"\n",
              "       width=\"24px\">\n",
              "    <path d=\"M0 0h24v24H0V0z\" fill=\"none\"/>\n",
              "    <path d=\"M18.56 5.44l.94 2.06.94-2.06 2.06-.94-2.06-.94-.94-2.06-.94 2.06-2.06.94zm-11 1L8.5 8.5l.94-2.06 2.06-.94-2.06-.94L8.5 2.5l-.94 2.06-2.06.94zm10 10l.94 2.06.94-2.06 2.06-.94-2.06-.94-.94-2.06-.94 2.06-2.06.94z\"/><path d=\"M17.41 7.96l-1.37-1.37c-.4-.4-.92-.59-1.43-.59-.52 0-1.04.2-1.43.59L10.3 9.45l-7.72 7.72c-.78.78-.78 2.05 0 2.83L4 21.41c.39.39.9.59 1.41.59.51 0 1.02-.2 1.41-.59l7.78-7.78 2.81-2.81c.8-.78.8-2.07 0-2.86zM5.41 20L4 18.59l7.72-7.72 1.47 1.35L5.41 20z\"/>\n",
              "  </svg>\n",
              "      </button>\n",
              "      \n",
              "  <style>\n",
              "    .colab-df-container {\n",
              "      display:flex;\n",
              "      flex-wrap:wrap;\n",
              "      gap: 12px;\n",
              "    }\n",
              "\n",
              "    .colab-df-convert {\n",
              "      background-color: #E8F0FE;\n",
              "      border: none;\n",
              "      border-radius: 50%;\n",
              "      cursor: pointer;\n",
              "      display: none;\n",
              "      fill: #1967D2;\n",
              "      height: 32px;\n",
              "      padding: 0 0 0 0;\n",
              "      width: 32px;\n",
              "    }\n",
              "\n",
              "    .colab-df-convert:hover {\n",
              "      background-color: #E2EBFA;\n",
              "      box-shadow: 0px 1px 2px rgba(60, 64, 67, 0.3), 0px 1px 3px 1px rgba(60, 64, 67, 0.15);\n",
              "      fill: #174EA6;\n",
              "    }\n",
              "\n",
              "    [theme=dark] .colab-df-convert {\n",
              "      background-color: #3B4455;\n",
              "      fill: #D2E3FC;\n",
              "    }\n",
              "\n",
              "    [theme=dark] .colab-df-convert:hover {\n",
              "      background-color: #434B5C;\n",
              "      box-shadow: 0px 1px 3px 1px rgba(0, 0, 0, 0.15);\n",
              "      filter: drop-shadow(0px 1px 2px rgba(0, 0, 0, 0.3));\n",
              "      fill: #FFFFFF;\n",
              "    }\n",
              "  </style>\n",
              "\n",
              "      <script>\n",
              "        const buttonEl =\n",
              "          document.querySelector('#df-2c40cfaa-a4cf-4962-95b2-4044485023ff button.colab-df-convert');\n",
              "        buttonEl.style.display =\n",
              "          google.colab.kernel.accessAllowed ? 'block' : 'none';\n",
              "\n",
              "        async function convertToInteractive(key) {\n",
              "          const element = document.querySelector('#df-2c40cfaa-a4cf-4962-95b2-4044485023ff');\n",
              "          const dataTable =\n",
              "            await google.colab.kernel.invokeFunction('convertToInteractive',\n",
              "                                                     [key], {});\n",
              "          if (!dataTable) return;\n",
              "\n",
              "          const docLinkHtml = 'Like what you see? Visit the ' +\n",
              "            '<a target=\"_blank\" href=https://colab.research.google.com/notebooks/data_table.ipynb>data table notebook</a>'\n",
              "            + ' to learn more about interactive tables.';\n",
              "          element.innerHTML = '';\n",
              "          dataTable['output_type'] = 'display_data';\n",
              "          await google.colab.output.renderOutput(dataTable, element);\n",
              "          const docLink = document.createElement('div');\n",
              "          docLink.innerHTML = docLinkHtml;\n",
              "          element.appendChild(docLink);\n",
              "        }\n",
              "      </script>\n",
              "    </div>\n",
              "  </div>\n",
              "  "
            ],
            "text/plain": [
              "                                                                                                                                                                                                                                                                                                                                                               text_id  \\\n",
              "838   TONTON SWORD ART ONLINE DEH.. TEKNOLOGI AI lengkap disity                                                                                                                                                                                                                                                                                                          \n",
              "558   bagi orang agnostik, akhir zaman mneurut agama  bisa berarti dua hal, kematian umat manusia atau kematian agama doang                                                                                                                                                                                                                                              \n",
              "1010  Suara musiknya trlalu besar                                                                                                                                                                                                                                                                                                                                        \n",
              "1057  Dajjal itu AI                                                                                                                                                                                                                                                                                                                                                      \n",
              "1125  Sama seperti google,waktu jaman covid rata2 murid mencari jawaban di internet..toh buat apa mikir lama2 mending buka google browsing,nemu jawaban ,selesai...tapi  inilah kenyataannya dampak negatif nya...klo buat cari pengetahuan umum buat di teliti gk masalah.tapi klo di gunakan cuma karna malas mikir ketika di tanyakan pendapat dari suatu soal ya..   \n",
              "\n",
              "                                                                                                                                                                                                                                                                                                                                                                                                                  text_en  \\\n",
              "838   Watch Sword Art Online .. Complete AI Technology Diste                                                                                                                                                                                                                                                                                                                                                                \n",
              "558   For agnostic people, the end of time according to religion can mean two things, the death of mankind or the death of religion only                                                                                                                                                                                                                                                                                    \n",
              "1010  The sound of the music is too big                                                                                                                                                                                                                                                                                                                                                                                     \n",
              "1057  The Antichrist is ai                                                                                                                                                                                                                                                                                                                                                                                                  \n",
              "1125  Just like Google, when the Covid era, the average student looked for answers on the internet ... why are you thinking for a long time to open google browsing, find answers, finished ... but this is the reality of the negative impact ... if you are looking for general knowledge to be examined or notproblem. But if used only because you are lazy to think when asked about the opinion of a problem yes ..   \n",
              "\n",
              "                                                                                                                                                                                                                                                                                                                                                                                                     text_labelling_clean  \n",
              "838   Watch Sword Art Online .. Complete AI Technology Diste                                                                                                                                                                                                                                                                                                                                                               \n",
              "558   For agnostic people, the end of time according to religion can mean two things, the death of mankind or the death of religion only                                                                                                                                                                                                                                                                                   \n",
              "1010  The sound of the music is too big                                                                                                                                                                                                                                                                                                                                                                                    \n",
              "1057  The Antichrist is ai                                                                                                                                                                                                                                                                                                                                                                                                 \n",
              "1125  Just like Google, when the Covid era, the average student looked for answers on the internet ... why are you thinking for a long time to open google browsing, find answers, finished ... but this is the reality of the negative impact ... if you are looking for general knowledge to be examined or notproblem. But if used only because you are lazy to think when asked about the opinion of a problem yes ..  "
            ]
          },
          "execution_count": 15,
          "metadata": {},
          "output_type": "execute_result"
        }
      ],
      "source": [
        "import re\n",
        "\n",
        "col_before = \"text_en\"\n",
        "col_after = \"text_labelling_clean\"\n",
        "\n",
        "def delete_useless_word(text):\n",
        "    # remove wkwk\n",
        "    text = re.sub(r'\\b(?=\\w*wk)\\w+', '', text)\n",
        "    # remove DIGIT\n",
        "    text = re.sub(r'([0-9])+', '', text)\n",
        "    # Hapus newline\n",
        "    text = text.replace('\\n', '')\n",
        "    # Hapus r\n",
        "    text = text.replace('\\r', '')\n",
        "    return text\n",
        "translated_df[col_after] = translated_df[col_before].apply(lambda text: delete_useless_word(text))\n",
        "\n",
        "pd.set_option('display.max_colwidth', 0)\n",
        "translated_df.sample(5)"
      ]
    },
    {
      "cell_type": "markdown",
      "metadata": {
        "id": "9_5gu4IRnDkd"
      },
      "source": [
        "## Pelabelan otomatis"
      ]
    },
    {
      "cell_type": "code",
      "execution_count": null,
      "metadata": {
        "id": "9gK0GY2unN8_"
      },
      "outputs": [],
      "source": [
        "!pip install -q transformers\n",
        "!pip install xformers"
      ]
    },
    {
      "cell_type": "code",
      "execution_count": null,
      "metadata": {
        "colab": {
          "base_uri": "https://localhost:8080/"
        },
        "id": "oGpEcsBpnJm2",
        "outputId": "e121efcd-e7b0-4b25-d53e-8e8a9b689157"
      },
      "outputs": [
        {
          "name": "stdout",
          "output_type": "stream",
          "text": [
            "[{'label': 'positive', 'score': 0.8594695329666138}, {'label': 'negative', 'score': 0.7866933345794678}, {'label': 'neutral', 'score': 0.7179474830627441}]\n",
            "Sentimen: negative\n",
            "Skor: 0.5313873291015625\n",
            "           teks sentimen     score\n",
            "0  I love you    </s>     0.859470\n",
            "1  I hate you    <s>      0.786693\n",
            "2  I'm a Satpol  <pad>    0.717947\n"
          ]
        }
      ],
      "source": [
        "from transformers import pipeline\n",
        "import time\n",
        "sentiment_pipeline = pipeline(model = \"cardiffnlp/twitter-roberta-base-sentiment-latest\")\n",
        "data = {'teks': [\"I love you\", \"I hate you\", 'I\\'m a Satpol']}\n",
        "data_df = pd.DataFrame(data)\n",
        "text = \"I love and i hate myself\"\n",
        "print(sentiment_pipeline(data[\"teks\"]))\n",
        "\n",
        "def get_sentiment(text):\n",
        "  sentiment_pipeline = pipeline(model = \"cardiffnlp/twitter-roberta-base-sentiment-latest\")\n",
        "  result = sentiment_pipeline(text)\n",
        "  return result[0]['label']\n",
        "\n",
        "def get_score(text):\n",
        "  sentiment_pipeline = pipeline(model = \"cardiffnlp/twitter-roberta-base-sentiment-latest\")\n",
        "  result = sentiment_pipeline(text)\n",
        "  return result[0]['score']\n",
        "\n",
        "print(f\"Sentimen: {get_sentiment(text)}\")\n",
        "print(f\"Skor: {get_score(text)}\")\n",
        "\n",
        "data_df['sentimen'], data_df['score'] = zip(*data_df['teks'].apply(lambda text: get_sentiment_and_score(text)))\n",
        "print(data_df)"
      ]
    },
    {
      "cell_type": "code",
      "execution_count": null,
      "metadata": {
        "id": "0QNdn80u0w1_"
      },
      "outputs": [],
      "source": [
        "from transformers import pipeline, AutoConfig, AutoTokenizer, AutoModelForSequenceClassification\n",
        "import torch\n",
        "def get_sentiment_and_score(text):\n",
        "  config = AutoConfig.from_pretrained(\"cardiffnlp/twitter-roberta-base-sentiment-latest\")\n",
        "  tokenizer = AutoTokenizer.from_pretrained(\"cardiffnlp/twitter-roberta-base-sentiment-latest\")\n",
        "  model = AutoModelForSequenceClassification.from_pretrained(\"cardiffnlp/twitter-roberta-base-sentiment-latest\", config=config)\n",
        "  tokenizer.model_max_length = 512\n",
        "  max_length = tokenizer.model_max_length\n",
        "  inputs = tokenizer(text, truncation=True, padding=True, max_length=max_length, return_tensors=\"pt\")\n",
        "  with torch.no_grad():\n",
        "    outputs = model(**inputs)\n",
        "  sentiment_label = tokenizer.decode(outputs.logits.argmax(dim=1).squeeze().item())\n",
        "  sentiment_score = torch.softmax(outputs.logits, dim=1).squeeze()[outputs.logits.argmax(dim=1).squeeze().item()].item()\n",
        "  return sentiment_label, sentiment_score\n",
        "\n",
        "\n",
        "# Menghilangkan pesan error dari modul transformer\n",
        "import logging\n",
        "logging.getLogger(\"transformers\").setLevel(logging.ERROR)"
      ]
    },
    {
      "cell_type": "code",
      "execution_count": null,
      "metadata": {
        "colab": {
          "base_uri": "https://localhost:8080/",
          "height": 650
        },
        "id": "C8hL97mrtjok",
        "outputId": "c93de901-5e76-4ed2-df2c-ae007adbdbe3"
      },
      "outputs": [
        {
          "name": "stdout",
          "output_type": "stream",
          "text": [
            "Waktu eksekusi sel: 55.86149380207062 menit\n"
          ]
        },
        {
          "data": {
            "text/html": [
              "\n",
              "  <div id=\"df-44e20c5c-d1e4-4fe0-ae51-14a4215ca432\">\n",
              "    <div class=\"colab-df-container\">\n",
              "      <div>\n",
              "<style scoped>\n",
              "    .dataframe tbody tr th:only-of-type {\n",
              "        vertical-align: middle;\n",
              "    }\n",
              "\n",
              "    .dataframe tbody tr th {\n",
              "        vertical-align: top;\n",
              "    }\n",
              "\n",
              "    .dataframe thead th {\n",
              "        text-align: right;\n",
              "    }\n",
              "</style>\n",
              "<table border=\"1\" class=\"dataframe\">\n",
              "  <thead>\n",
              "    <tr style=\"text-align: right;\">\n",
              "      <th></th>\n",
              "      <th>text_id</th>\n",
              "      <th>text_en</th>\n",
              "      <th>text_labelling_clean</th>\n",
              "      <th>sentimen</th>\n",
              "      <th>score</th>\n",
              "    </tr>\n",
              "  </thead>\n",
              "  <tbody>\n",
              "    <tr>\n",
              "      <th>1089</th>\n",
              "      <td>Ditunggu lanjutannya</td>\n",
              "      <td>Waiting for the sequel</td>\n",
              "      <td>Waiting for the sequel</td>\n",
              "      <td>&lt;pad&gt;</td>\n",
              "      <td>0.580092</td>\n",
              "    </tr>\n",
              "    <tr>\n",
              "      <th>110</th>\n",
              "      <td>Kenapa laki laki yang berbicara dengan AI elisa bisa sampai segitunya? Karena sedari awal dia memiliki abstraksi dan hipotesa atau setidaknya sepintas berpikir tentang kekhawatirannya mengenai potensi AI yang akan melampaui manusia. Dengan mereka jejak datadata kecenderungan manusia memunculkan empati, itulah yang menjadi bahan AI untuk membuat kalimat persuasif yang mempengaruhi pembacanya. Lain hal jika AI ngobrol dengan orang lugu. Alhasil bukan Ai yang akan berkembang tapi orang lugu itu yang akan belajar. Coba deh</td>\n",
              "      <td>Why does the man talk to Ai Elisa can reach that much?Because from the beginning he had abstraction and hypothesis or at least a cursory thinking about his concern about the potential of AI that would surpass humans.With their traces of the human tendency to bring up empathy, that is the material for AI to make persuasive sentences that affect the reader.Another thing if Ai chatted with innocent people.As a result it is not AI who will develop but innocent people who will learn.Try it</td>\n",
              "      <td>Why does the man talk to Ai Elisa can reach that much?Because from the beginning he had abstraction and hypothesis or at least a cursory thinking about his concern about the potential of AI that would surpass humans.With their traces of the human tendency to bring up empathy, that is the material for AI to make persuasive sentences that affect the reader.Another thing if Ai chatted with innocent people.As a result it is not AI who will develop but innocent people who will learn.Try it</td>\n",
              "      <td>&lt;pad&gt;</td>\n",
              "      <td>0.747867</td>\n",
              "    </tr>\n",
              "    <tr>\n",
              "      <th>225</th>\n",
              "      <td>Saya percaya self esteem dan core values sangat penting bila ingin berinteraksi dengan AI (chatbot), rasionalitas dan logika bukan pilihan utama saat bertinteraksi dengan AI (chatbot)</td>\n",
              "      <td>I believe that Self Esteem and Core Values are very important if you want to interact with AI (chatbot), rationality and logic are not the first choice when interacting with AI (chatbot)</td>\n",
              "      <td>I believe that Self Esteem and Core Values are very important if you want to interact with AI (chatbot), rationality and logic are not the first choice when interacting with AI (chatbot)</td>\n",
              "      <td>&lt;pad&gt;</td>\n",
              "      <td>0.648875</td>\n",
              "    </tr>\n",
              "    <tr>\n",
              "      <th>408</th>\n",
              "      <td>ngaco gembul, Chat Gpt 4 pakai , jangan yg default</td>\n",
              "      <td>Ngaco Gembul, Chat Gpt 4 Use, Don't Default</td>\n",
              "      <td>Ngaco Gembul, Chat Gpt  Use, Don't Default</td>\n",
              "      <td>&lt;pad&gt;</td>\n",
              "      <td>0.870404</td>\n",
              "    </tr>\n",
              "    <tr>\n",
              "      <th>202</th>\n",
              "      <td>Terminator era</td>\n",
              "      <td>Terminator era</td>\n",
              "      <td>Terminator era</td>\n",
              "      <td>&lt;pad&gt;</td>\n",
              "      <td>0.583696</td>\n",
              "    </tr>\n",
              "  </tbody>\n",
              "</table>\n",
              "</div>\n",
              "      <button class=\"colab-df-convert\" onclick=\"convertToInteractive('df-44e20c5c-d1e4-4fe0-ae51-14a4215ca432')\"\n",
              "              title=\"Convert this dataframe to an interactive table.\"\n",
              "              style=\"display:none;\">\n",
              "        \n",
              "  <svg xmlns=\"http://www.w3.org/2000/svg\" height=\"24px\"viewBox=\"0 0 24 24\"\n",
              "       width=\"24px\">\n",
              "    <path d=\"M0 0h24v24H0V0z\" fill=\"none\"/>\n",
              "    <path d=\"M18.56 5.44l.94 2.06.94-2.06 2.06-.94-2.06-.94-.94-2.06-.94 2.06-2.06.94zm-11 1L8.5 8.5l.94-2.06 2.06-.94-2.06-.94L8.5 2.5l-.94 2.06-2.06.94zm10 10l.94 2.06.94-2.06 2.06-.94-2.06-.94-.94-2.06-.94 2.06-2.06.94z\"/><path d=\"M17.41 7.96l-1.37-1.37c-.4-.4-.92-.59-1.43-.59-.52 0-1.04.2-1.43.59L10.3 9.45l-7.72 7.72c-.78.78-.78 2.05 0 2.83L4 21.41c.39.39.9.59 1.41.59.51 0 1.02-.2 1.41-.59l7.78-7.78 2.81-2.81c.8-.78.8-2.07 0-2.86zM5.41 20L4 18.59l7.72-7.72 1.47 1.35L5.41 20z\"/>\n",
              "  </svg>\n",
              "      </button>\n",
              "      \n",
              "  <style>\n",
              "    .colab-df-container {\n",
              "      display:flex;\n",
              "      flex-wrap:wrap;\n",
              "      gap: 12px;\n",
              "    }\n",
              "\n",
              "    .colab-df-convert {\n",
              "      background-color: #E8F0FE;\n",
              "      border: none;\n",
              "      border-radius: 50%;\n",
              "      cursor: pointer;\n",
              "      display: none;\n",
              "      fill: #1967D2;\n",
              "      height: 32px;\n",
              "      padding: 0 0 0 0;\n",
              "      width: 32px;\n",
              "    }\n",
              "\n",
              "    .colab-df-convert:hover {\n",
              "      background-color: #E2EBFA;\n",
              "      box-shadow: 0px 1px 2px rgba(60, 64, 67, 0.3), 0px 1px 3px 1px rgba(60, 64, 67, 0.15);\n",
              "      fill: #174EA6;\n",
              "    }\n",
              "\n",
              "    [theme=dark] .colab-df-convert {\n",
              "      background-color: #3B4455;\n",
              "      fill: #D2E3FC;\n",
              "    }\n",
              "\n",
              "    [theme=dark] .colab-df-convert:hover {\n",
              "      background-color: #434B5C;\n",
              "      box-shadow: 0px 1px 3px 1px rgba(0, 0, 0, 0.15);\n",
              "      filter: drop-shadow(0px 1px 2px rgba(0, 0, 0, 0.3));\n",
              "      fill: #FFFFFF;\n",
              "    }\n",
              "  </style>\n",
              "\n",
              "      <script>\n",
              "        const buttonEl =\n",
              "          document.querySelector('#df-44e20c5c-d1e4-4fe0-ae51-14a4215ca432 button.colab-df-convert');\n",
              "        buttonEl.style.display =\n",
              "          google.colab.kernel.accessAllowed ? 'block' : 'none';\n",
              "\n",
              "        async function convertToInteractive(key) {\n",
              "          const element = document.querySelector('#df-44e20c5c-d1e4-4fe0-ae51-14a4215ca432');\n",
              "          const dataTable =\n",
              "            await google.colab.kernel.invokeFunction('convertToInteractive',\n",
              "                                                     [key], {});\n",
              "          if (!dataTable) return;\n",
              "\n",
              "          const docLinkHtml = 'Like what you see? Visit the ' +\n",
              "            '<a target=\"_blank\" href=https://colab.research.google.com/notebooks/data_table.ipynb>data table notebook</a>'\n",
              "            + ' to learn more about interactive tables.';\n",
              "          element.innerHTML = '';\n",
              "          dataTable['output_type'] = 'display_data';\n",
              "          await google.colab.output.renderOutput(dataTable, element);\n",
              "          const docLink = document.createElement('div');\n",
              "          docLink.innerHTML = docLinkHtml;\n",
              "          element.appendChild(docLink);\n",
              "        }\n",
              "      </script>\n",
              "    </div>\n",
              "  </div>\n",
              "  "
            ],
            "text/plain": [
              "                                                                                                                                                                                                                                                                                                                                                                                                                                                                                                                                           text_id  \\\n",
              "1089  Ditunggu lanjutannya                                                                                                                                                                                                                                                                                                                                                                                                                                                                                                                           \n",
              "110   Kenapa laki laki yang berbicara dengan AI elisa bisa sampai segitunya? Karena sedari awal dia memiliki abstraksi dan hipotesa atau setidaknya sepintas berpikir tentang kekhawatirannya mengenai potensi AI yang akan melampaui manusia. Dengan mereka jejak datadata kecenderungan manusia memunculkan empati, itulah yang menjadi bahan AI untuk membuat kalimat persuasif yang mempengaruhi pembacanya. Lain hal jika AI ngobrol dengan orang lugu. Alhasil bukan Ai yang akan berkembang tapi orang lugu itu yang akan belajar. Coba deh   \n",
              "225   Saya percaya self esteem dan core values sangat penting bila ingin berinteraksi dengan AI (chatbot), rasionalitas dan logika bukan pilihan utama saat bertinteraksi dengan AI (chatbot)                                                                                                                                                                                                                                                                                                                                                        \n",
              "408   ngaco gembul, Chat Gpt 4 pakai , jangan yg default                                                                                                                                                                                                                                                                                                                                                                                                                                                                                             \n",
              "202   Terminator era                                                                                                                                                                                                                                                                                                                                                                                                                                                                                                                                 \n",
              "\n",
              "                                                                                                                                                                                                                                                                                                                                                                                                                                                                                                        text_en  \\\n",
              "1089  Waiting for the sequel                                                                                                                                                                                                                                                                                                                                                                                                                                                                                      \n",
              "110   Why does the man talk to Ai Elisa can reach that much?Because from the beginning he had abstraction and hypothesis or at least a cursory thinking about his concern about the potential of AI that would surpass humans.With their traces of the human tendency to bring up empathy, that is the material for AI to make persuasive sentences that affect the reader.Another thing if Ai chatted with innocent people.As a result it is not AI who will develop but innocent people who will learn.Try it   \n",
              "225   I believe that Self Esteem and Core Values are very important if you want to interact with AI (chatbot), rationality and logic are not the first choice when interacting with AI (chatbot)                                                                                                                                                                                                                                                                                                                  \n",
              "408   Ngaco Gembul, Chat Gpt 4 Use, Don't Default                                                                                                                                                                                                                                                                                                                                                                                                                                                                 \n",
              "202   Terminator era                                                                                                                                                                                                                                                                                                                                                                                                                                                                                              \n",
              "\n",
              "                                                                                                                                                                                                                                                                                                                                                                                                                                                                                           text_labelling_clean  \\\n",
              "1089  Waiting for the sequel                                                                                                                                                                                                                                                                                                                                                                                                                                                                                      \n",
              "110   Why does the man talk to Ai Elisa can reach that much?Because from the beginning he had abstraction and hypothesis or at least a cursory thinking about his concern about the potential of AI that would surpass humans.With their traces of the human tendency to bring up empathy, that is the material for AI to make persuasive sentences that affect the reader.Another thing if Ai chatted with innocent people.As a result it is not AI who will develop but innocent people who will learn.Try it   \n",
              "225   I believe that Self Esteem and Core Values are very important if you want to interact with AI (chatbot), rationality and logic are not the first choice when interacting with AI (chatbot)                                                                                                                                                                                                                                                                                                                  \n",
              "408   Ngaco Gembul, Chat Gpt  Use, Don't Default                                                                                                                                                                                                                                                                                                                                                                                                                                                                  \n",
              "202   Terminator era                                                                                                                                                                                                                                                                                                                                                                                                                                                                                              \n",
              "\n",
              "     sentimen     score  \n",
              "1089  <pad>    0.580092  \n",
              "110   <pad>    0.747867  \n",
              "225   <pad>    0.648875  \n",
              "408   <pad>    0.870404  \n",
              "202   <pad>    0.583696  "
            ]
          },
          "execution_count": 21,
          "metadata": {},
          "output_type": "execute_result"
        }
      ],
      "source": [
        "# Jangan di run lagi, karena memakan waktu lama. (kecuali diperlukan)\n",
        "import time\n",
        "\n",
        "start_time = time.time()\n",
        "translated_df['sentimen'], translated_df['score'] = zip(*translated_df['text_labelling_clean'].apply(lambda text: get_sentiment_and_score(text)))\n",
        "\n",
        "end_time = time.time()\n",
        "print(f\"Waktu eksekusi sel: {(end_time - start_time)/60} menit\")\n",
        "translated_df.sample(5)"
      ]
    },
    {
      "cell_type": "code",
      "execution_count": null,
      "metadata": {
        "id": "X7zyp4AaOnkG"
      },
      "outputs": [],
      "source": [
        "# Mengoutput df yang sudah dilabeli\n",
        "file_name = 'labeled_df.csv'\n",
        "translated_df.to_csv(file_name)"
      ]
    },
    {
      "cell_type": "markdown",
      "metadata": {
        "id": "dkZcgFEgZYaf"
      },
      "source": [
        "# Pra-pemrosesan data"
      ]
    },
    {
      "cell_type": "markdown",
      "metadata": {
        "id": "ewnsJ7_7Zmb0"
      },
      "source": [
        "## Input data yang sudah dilabeli"
      ]
    },
    {
      "cell_type": "code",
      "execution_count": null,
      "metadata": {
        "colab": {
          "base_uri": "https://localhost:8080/",
          "height": 1000
        },
        "id": "BH_f_eGrQPUc",
        "outputId": "ce36cf2d-480d-45ac-97e0-afa742bebdbc"
      },
      "outputs": [
        {
          "output_type": "stream",
          "name": "stdout",
          "text": [
            "Nilai unik pada sentimen: ['<pad>' '<s>' '</s>']\n",
            "Banyaknya nilai unik pada sentimen: 3\n"
          ]
        },
        {
          "output_type": "execute_result",
          "data": {
            "text/plain": [
              "                                                                                                                                                                                                                                                                                                                                                                                                                                                                                                                                          text_id  \\\n",
              "967  Negara berkembang akan lebih terkena dampak negatif dari perkembangan Ai ini..                                                                                                                                                                                                                                                                                                                                                                                                                                                                 \n",
              "886  sungguh berat materi ini...                                                                                                                                                                                                                                                                                                                                                                                                                                                                                                                    \n",
              "938  Karena UANG\\r\\nAI bisa memperkecil pengeluaran produksi pada suatu perusahaan dibandingkan perusahaan membayar gaji setiap pekerja nya dalam jumlah besar, perusahaan bakal gunain AI buat ngegantiin para pekerja nya dengan biaya yang lebih murah                                                                                                                                                                                                                                                                                           \n",
              "391  Dari sekian filem yang menggambarkan dunia ketika di kuasai mesin/artificial intelegent  menurutku filem the matrix sih yang membuat saya lumayan merenung! Ceritanya ketika miliaran manusia dibiarkan hidup pikirannya dalam dunia virtual dunia simulasi yang di kendalikan oleh artificial intelegent sedangkan tubuh miliaran manusia itu sebenarnya dijadikan mesin2 itu sebagai baterai bionic belaka                                                                                                                                   \n",
              "198  Menurut sepengetahuan saya, \"tingkat kecerdasan\" Ai itu tergantung pada sumber data yang dimiliki (knowledge base). chatGPT bisa terlihat sangat pintar karena sumber data dari chatGPT berasal dari internet (yang hampir tidak terbatas). Mungkin salah satu cara untuk meminimalisir dampaknya adalah dengan membatasi sumber datanya (hanya difokuskan ke masalah-masalah yang spesifik saja). Btw, jauh sebelum chatGPT, IBM sudah lebih dulu membuat teknologi Ai semacam ini (IBM Watson) dan sudah pernah dilombakan melawan manusia   \n",
              "\n",
              "                                                                                                                                                                                                                                                                                                                                                                                                                                                              text_en  \\\n",
              "967  Developing countries will be more negatively affected by the development of this AI ..                                                                                                                                                                                                                                                                                                                                                                             \n",
              "886  really heavy this material ...                                                                                                                                                                                                                                                                                                                                                                                                                                     \n",
              "938  Because of money\\r\\nAI can reduce production expenses in a company compared to the company paying the salaries of each of its workers in large quantities, the company will use AI to replace its workers at a cheaper cost                                                                                                                                                                                                                                        \n",
              "391  Of all the films that describe the world when controlled by the machine/artificial intelligence in my opinion the film The Matrix is what makes me pretty much pondering!The story is when billions of humans are left to live their minds in the virtual world of the world of simulation which is controlled by artificial intelligence while the body of billions of humans is actually used as mere bionic batteries                                           \n",
              "198  In my knowledge, the \"intelligence level\" depends on the source of the data owned (knowledge base).ChatGPT can look very smart because the data source from chatgpt comes from the internet (which is almost unlimited).Maybe one way to minimize the impact is to limit the source of the data (only focused on specific problems).Btw, long before chatgpt, IBM had already made this kind of AI technology (IBM Watson) and had been contested against humans   \n",
              "\n",
              "                                                                                                                                                                                                                                                                                                                                                                                                                                                 text_labelling_clean  \\\n",
              "967  Developing countries will be more negatively affected by the development of this AI ..                                                                                                                                                                                                                                                                                                                                                                             \n",
              "886  really heavy this material ...                                                                                                                                                                                                                                                                                                                                                                                                                                     \n",
              "938  Because of moneyAI can reduce production expenses in a company compared to the company paying the salaries of each of its workers in large quantities, the company will use AI to replace its workers at a cheaper cost                                                                                                                                                                                                                                            \n",
              "391  Of all the films that describe the world when controlled by the machine/artificial intelligence in my opinion the film The Matrix is what makes me pretty much pondering!The story is when billions of humans are left to live their minds in the virtual world of the world of simulation which is controlled by artificial intelligence while the body of billions of humans is actually used as mere bionic batteries                                           \n",
              "198  In my knowledge, the \"intelligence level\" depends on the source of the data owned (knowledge base).ChatGPT can look very smart because the data source from chatgpt comes from the internet (which is almost unlimited).Maybe one way to minimize the impact is to limit the source of the data (only focused on specific problems).Btw, long before chatgpt, IBM had already made this kind of AI technology (IBM Watson) and had been contested against humans   \n",
              "\n",
              "    sentimen     score  \n",
              "967  <s>      0.719540  \n",
              "886  <s>      0.617735  \n",
              "938  <pad>    0.597179  \n",
              "391  <pad>    0.560538  \n",
              "198  <pad>    0.680766  "
            ],
            "text/html": [
              "\n",
              "  <div id=\"df-4c40cad0-6d0d-441c-a2ce-63dc226dd0c8\">\n",
              "    <div class=\"colab-df-container\">\n",
              "      <div>\n",
              "<style scoped>\n",
              "    .dataframe tbody tr th:only-of-type {\n",
              "        vertical-align: middle;\n",
              "    }\n",
              "\n",
              "    .dataframe tbody tr th {\n",
              "        vertical-align: top;\n",
              "    }\n",
              "\n",
              "    .dataframe thead th {\n",
              "        text-align: right;\n",
              "    }\n",
              "</style>\n",
              "<table border=\"1\" class=\"dataframe\">\n",
              "  <thead>\n",
              "    <tr style=\"text-align: right;\">\n",
              "      <th></th>\n",
              "      <th>text_id</th>\n",
              "      <th>text_en</th>\n",
              "      <th>text_labelling_clean</th>\n",
              "      <th>sentimen</th>\n",
              "      <th>score</th>\n",
              "    </tr>\n",
              "  </thead>\n",
              "  <tbody>\n",
              "    <tr>\n",
              "      <th>967</th>\n",
              "      <td>Negara berkembang akan lebih terkena dampak negatif dari perkembangan Ai ini..</td>\n",
              "      <td>Developing countries will be more negatively affected by the development of this AI ..</td>\n",
              "      <td>Developing countries will be more negatively affected by the development of this AI ..</td>\n",
              "      <td>&lt;s&gt;</td>\n",
              "      <td>0.719540</td>\n",
              "    </tr>\n",
              "    <tr>\n",
              "      <th>886</th>\n",
              "      <td>sungguh berat materi ini...</td>\n",
              "      <td>really heavy this material ...</td>\n",
              "      <td>really heavy this material ...</td>\n",
              "      <td>&lt;s&gt;</td>\n",
              "      <td>0.617735</td>\n",
              "    </tr>\n",
              "    <tr>\n",
              "      <th>938</th>\n",
              "      <td>Karena UANG\\r\\nAI bisa memperkecil pengeluaran produksi pada suatu perusahaan dibandingkan perusahaan membayar gaji setiap pekerja nya dalam jumlah besar, perusahaan bakal gunain AI buat ngegantiin para pekerja nya dengan biaya yang lebih murah</td>\n",
              "      <td>Because of money\\r\\nAI can reduce production expenses in a company compared to the company paying the salaries of each of its workers in large quantities, the company will use AI to replace its workers at a cheaper cost</td>\n",
              "      <td>Because of moneyAI can reduce production expenses in a company compared to the company paying the salaries of each of its workers in large quantities, the company will use AI to replace its workers at a cheaper cost</td>\n",
              "      <td>&lt;pad&gt;</td>\n",
              "      <td>0.597179</td>\n",
              "    </tr>\n",
              "    <tr>\n",
              "      <th>391</th>\n",
              "      <td>Dari sekian filem yang menggambarkan dunia ketika di kuasai mesin/artificial intelegent  menurutku filem the matrix sih yang membuat saya lumayan merenung! Ceritanya ketika miliaran manusia dibiarkan hidup pikirannya dalam dunia virtual dunia simulasi yang di kendalikan oleh artificial intelegent sedangkan tubuh miliaran manusia itu sebenarnya dijadikan mesin2 itu sebagai baterai bionic belaka</td>\n",
              "      <td>Of all the films that describe the world when controlled by the machine/artificial intelligence in my opinion the film The Matrix is what makes me pretty much pondering!The story is when billions of humans are left to live their minds in the virtual world of the world of simulation which is controlled by artificial intelligence while the body of billions of humans is actually used as mere bionic batteries</td>\n",
              "      <td>Of all the films that describe the world when controlled by the machine/artificial intelligence in my opinion the film The Matrix is what makes me pretty much pondering!The story is when billions of humans are left to live their minds in the virtual world of the world of simulation which is controlled by artificial intelligence while the body of billions of humans is actually used as mere bionic batteries</td>\n",
              "      <td>&lt;pad&gt;</td>\n",
              "      <td>0.560538</td>\n",
              "    </tr>\n",
              "    <tr>\n",
              "      <th>198</th>\n",
              "      <td>Menurut sepengetahuan saya, \"tingkat kecerdasan\" Ai itu tergantung pada sumber data yang dimiliki (knowledge base). chatGPT bisa terlihat sangat pintar karena sumber data dari chatGPT berasal dari internet (yang hampir tidak terbatas). Mungkin salah satu cara untuk meminimalisir dampaknya adalah dengan membatasi sumber datanya (hanya difokuskan ke masalah-masalah yang spesifik saja). Btw, jauh sebelum chatGPT, IBM sudah lebih dulu membuat teknologi Ai semacam ini (IBM Watson) dan sudah pernah dilombakan melawan manusia</td>\n",
              "      <td>In my knowledge, the \"intelligence level\" depends on the source of the data owned (knowledge base).ChatGPT can look very smart because the data source from chatgpt comes from the internet (which is almost unlimited).Maybe one way to minimize the impact is to limit the source of the data (only focused on specific problems).Btw, long before chatgpt, IBM had already made this kind of AI technology (IBM Watson) and had been contested against humans</td>\n",
              "      <td>In my knowledge, the \"intelligence level\" depends on the source of the data owned (knowledge base).ChatGPT can look very smart because the data source from chatgpt comes from the internet (which is almost unlimited).Maybe one way to minimize the impact is to limit the source of the data (only focused on specific problems).Btw, long before chatgpt, IBM had already made this kind of AI technology (IBM Watson) and had been contested against humans</td>\n",
              "      <td>&lt;pad&gt;</td>\n",
              "      <td>0.680766</td>\n",
              "    </tr>\n",
              "  </tbody>\n",
              "</table>\n",
              "</div>\n",
              "      <button class=\"colab-df-convert\" onclick=\"convertToInteractive('df-4c40cad0-6d0d-441c-a2ce-63dc226dd0c8')\"\n",
              "              title=\"Convert this dataframe to an interactive table.\"\n",
              "              style=\"display:none;\">\n",
              "        \n",
              "  <svg xmlns=\"http://www.w3.org/2000/svg\" height=\"24px\"viewBox=\"0 0 24 24\"\n",
              "       width=\"24px\">\n",
              "    <path d=\"M0 0h24v24H0V0z\" fill=\"none\"/>\n",
              "    <path d=\"M18.56 5.44l.94 2.06.94-2.06 2.06-.94-2.06-.94-.94-2.06-.94 2.06-2.06.94zm-11 1L8.5 8.5l.94-2.06 2.06-.94-2.06-.94L8.5 2.5l-.94 2.06-2.06.94zm10 10l.94 2.06.94-2.06 2.06-.94-2.06-.94-.94-2.06-.94 2.06-2.06.94z\"/><path d=\"M17.41 7.96l-1.37-1.37c-.4-.4-.92-.59-1.43-.59-.52 0-1.04.2-1.43.59L10.3 9.45l-7.72 7.72c-.78.78-.78 2.05 0 2.83L4 21.41c.39.39.9.59 1.41.59.51 0 1.02-.2 1.41-.59l7.78-7.78 2.81-2.81c.8-.78.8-2.07 0-2.86zM5.41 20L4 18.59l7.72-7.72 1.47 1.35L5.41 20z\"/>\n",
              "  </svg>\n",
              "      </button>\n",
              "      \n",
              "  <style>\n",
              "    .colab-df-container {\n",
              "      display:flex;\n",
              "      flex-wrap:wrap;\n",
              "      gap: 12px;\n",
              "    }\n",
              "\n",
              "    .colab-df-convert {\n",
              "      background-color: #E8F0FE;\n",
              "      border: none;\n",
              "      border-radius: 50%;\n",
              "      cursor: pointer;\n",
              "      display: none;\n",
              "      fill: #1967D2;\n",
              "      height: 32px;\n",
              "      padding: 0 0 0 0;\n",
              "      width: 32px;\n",
              "    }\n",
              "\n",
              "    .colab-df-convert:hover {\n",
              "      background-color: #E2EBFA;\n",
              "      box-shadow: 0px 1px 2px rgba(60, 64, 67, 0.3), 0px 1px 3px 1px rgba(60, 64, 67, 0.15);\n",
              "      fill: #174EA6;\n",
              "    }\n",
              "\n",
              "    [theme=dark] .colab-df-convert {\n",
              "      background-color: #3B4455;\n",
              "      fill: #D2E3FC;\n",
              "    }\n",
              "\n",
              "    [theme=dark] .colab-df-convert:hover {\n",
              "      background-color: #434B5C;\n",
              "      box-shadow: 0px 1px 3px 1px rgba(0, 0, 0, 0.15);\n",
              "      filter: drop-shadow(0px 1px 2px rgba(0, 0, 0, 0.3));\n",
              "      fill: #FFFFFF;\n",
              "    }\n",
              "  </style>\n",
              "\n",
              "      <script>\n",
              "        const buttonEl =\n",
              "          document.querySelector('#df-4c40cad0-6d0d-441c-a2ce-63dc226dd0c8 button.colab-df-convert');\n",
              "        buttonEl.style.display =\n",
              "          google.colab.kernel.accessAllowed ? 'block' : 'none';\n",
              "\n",
              "        async function convertToInteractive(key) {\n",
              "          const element = document.querySelector('#df-4c40cad0-6d0d-441c-a2ce-63dc226dd0c8');\n",
              "          const dataTable =\n",
              "            await google.colab.kernel.invokeFunction('convertToInteractive',\n",
              "                                                     [key], {});\n",
              "          if (!dataTable) return;\n",
              "\n",
              "          const docLinkHtml = 'Like what you see? Visit the ' +\n",
              "            '<a target=\"_blank\" href=https://colab.research.google.com/notebooks/data_table.ipynb>data table notebook</a>'\n",
              "            + ' to learn more about interactive tables.';\n",
              "          element.innerHTML = '';\n",
              "          dataTable['output_type'] = 'display_data';\n",
              "          await google.colab.output.renderOutput(dataTable, element);\n",
              "          const docLink = document.createElement('div');\n",
              "          docLink.innerHTML = docLinkHtml;\n",
              "          element.appendChild(docLink);\n",
              "        }\n",
              "      </script>\n",
              "    </div>\n",
              "  </div>\n",
              "  "
            ]
          },
          "metadata": {},
          "execution_count": 2
        }
      ],
      "source": [
        "import pandas as pd\n",
        "# Mengload df yg sudah di labeli\n",
        "labeled_df = pd.read_csv(\"/content/drive/MyDrive/Gemastik Data Mining 2023 - We and Techa/Tempat pengolahan/labeled_df.csv\")\n",
        "labeled_df.reset_index()\n",
        "labeled_df = labeled_df.drop('Unnamed: 0', axis = 1)\n",
        "pd.set_option('display.max_colwidth', 0)\n",
        "\n",
        "# Nilai unik pada sentimen (ngecek doang)\n",
        "uniq_sentimen = labeled_df['sentimen'].unique()\n",
        "print(f\"Nilai unik pada sentimen: {uniq_sentimen}\")\n",
        "print(f\"Banyaknya nilai unik pada sentimen: {len(uniq_sentimen)}\")\n",
        "pd.set_option('display.max_colwidth', 0)\n",
        "labeled_df.sample(5)\n",
        "# pad: netral, /s: positif, s: negatif"
      ]
    },
    {
      "cell_type": "code",
      "execution_count": null,
      "metadata": {
        "colab": {
          "base_uri": "https://localhost:8080/",
          "height": 1000
        },
        "id": "DXbJbjzFiPYH",
        "outputId": "445f6b75-99d1-457b-aa37-2513ac870887"
      },
      "outputs": [
        {
          "output_type": "stream",
          "name": "stdout",
          "text": [
            "Nilai unik pada sentimen: ['neutral' 'negative' 'positive']\n",
            "Banyaknya nilai unik pada sentimen: 3\n",
            "neutral     842\n",
            "negative    368\n",
            "positive    256\n",
            "Name: sentimen, dtype: int64\n",
            "Ukuran data: (1466, 5)\n"
          ]
        },
        {
          "output_type": "execute_result",
          "data": {
            "text/plain": [
              "                                                                                                                                                                                                                                                                                                                                                                                                                               text_id  \\\n",
              "911   Terminator.. SkyNet.. is Real.. .\\r\\nArmagedon.                                                                                                                                                                                                                                                                                                                                                                                    \n",
              "933   Kalo gg dibatasi belajarnya, ini bisa jadi \\r\\nThe Real Terminator!!!\\r\\n\\r\\nNntinya akan nggak mau diatur manusia,bahkan bisa jadi di masa depan malah manusia yg dibatasi kemampuannya...  Lebih serius lagi dapat menganggap manusia sebagai ancaman yang harus di musnahkan! 😅\\r\\n\\r\\n\\r\\nDi satu sisi sangat baik buat perkembangan teknologi, tapi disisi lain ada ngerinya juga kalo sampek gg ke kontrol kecerdasannya 😌   \n",
              "582   Kurang relevan menurut saya AI tetap tidak akan berkembang sendiri tanpa manusia                                                                                                                                                                                                                                                                                                                                                   \n",
              "1344  Kena Prank Karna Peradapan Teknologi Ancur Duluan Akibat Perang Nuklir                                                                                                                                                                                                                                                                                                                                                             \n",
              "1446  Bayangkan kalo nextgen AI gak cuma bisa berpikir.tapi juga mewujudkan yg dipikirkannya,dan punya kemampuan self defense jd gak bisa di shutdown?\\r\\nKurang serem apa coba?                                                                                                                                                                                                                                                         \n",
              "\n",
              "                                                                                                                                                                                                                                                                                                                                                                                                                                                                    text_en  \\\n",
              "911   Terminator.. SkyNet.. is Real.. .\\r\\nArmagedon.                                                                                                                                                                                                                                                                                                                                                                                                                         \n",
              "933   If the GG is limited to learning, this could be\\r\\nThe real terminator !!!\\r\\n\\r\\nNnas will not want to be regulated by humans, it could even be that in the future even humans who are limited to their abilities ... more seriously can consider humans as a threat to be destroyed!😅\\r\\n\\r\\n\\r\\nOn the one hand it is very good for technological developments, but on the other hand there is also a gross if it comes to GG to the control of his intelligence 😌   \n",
              "582   In my opinion, I still will not develop alone without humans                                                                                                                                                                                                                                                                                                                                                                                                            \n",
              "1344  Hit by prank because the technology of technology was destroyed first due to nuclear war                                                                                                                                                                                                                                                                                                                                                                                \n",
              "1446  Imagine if Nextgen AI can not only think. But also realize what he thinks, and has the ability to be self -defense so it can't be shutdown?\\r\\nWhat's not scary, try?                                                                                                                                                                                                                                                                                                   \n",
              "\n",
              "                                                                                                                                                                                                                                                                                                                                                                                                                               text_labelling_clean  \\\n",
              "911   Terminator.. SkyNet.. is Real.. .Armagedon.                                                                                                                                                                                                                                                                                                                                                                                                     \n",
              "933   If the GG is limited to learning, this could beThe real terminator !!!Nnas will not want to be regulated by humans, it could even be that in the future even humans who are limited to their abilities ... more seriously can consider humans as a threat to be destroyed!😅On the one hand it is very good for technological developments, but on the other hand there is also a gross if it comes to GG to the control of his intelligence 😌   \n",
              "582   In my opinion, I still will not develop alone without humans                                                                                                                                                                                                                                                                                                                                                                                    \n",
              "1344  Hit by prank because the technology of technology was destroyed first due to nuclear war                                                                                                                                                                                                                                                                                                                                                        \n",
              "1446  Imagine if Nextgen AI can not only think. But also realize what he thinks, and has the ability to be self -defense so it can't be shutdown?What's not scary, try?                                                                                                                                                                                                                                                                               \n",
              "\n",
              "      sentimen     score  \n",
              "911   neutral   0.765551  \n",
              "933   negative  0.564461  \n",
              "582   neutral   0.511510  \n",
              "1344  negative  0.835630  \n",
              "1446  neutral   0.622566  "
            ],
            "text/html": [
              "\n",
              "  <div id=\"df-d92b825e-eef8-41b2-a66e-eb8a437391c6\">\n",
              "    <div class=\"colab-df-container\">\n",
              "      <div>\n",
              "<style scoped>\n",
              "    .dataframe tbody tr th:only-of-type {\n",
              "        vertical-align: middle;\n",
              "    }\n",
              "\n",
              "    .dataframe tbody tr th {\n",
              "        vertical-align: top;\n",
              "    }\n",
              "\n",
              "    .dataframe thead th {\n",
              "        text-align: right;\n",
              "    }\n",
              "</style>\n",
              "<table border=\"1\" class=\"dataframe\">\n",
              "  <thead>\n",
              "    <tr style=\"text-align: right;\">\n",
              "      <th></th>\n",
              "      <th>text_id</th>\n",
              "      <th>text_en</th>\n",
              "      <th>text_labelling_clean</th>\n",
              "      <th>sentimen</th>\n",
              "      <th>score</th>\n",
              "    </tr>\n",
              "  </thead>\n",
              "  <tbody>\n",
              "    <tr>\n",
              "      <th>911</th>\n",
              "      <td>Terminator.. SkyNet.. is Real.. .\\r\\nArmagedon.</td>\n",
              "      <td>Terminator.. SkyNet.. is Real.. .\\r\\nArmagedon.</td>\n",
              "      <td>Terminator.. SkyNet.. is Real.. .Armagedon.</td>\n",
              "      <td>neutral</td>\n",
              "      <td>0.765551</td>\n",
              "    </tr>\n",
              "    <tr>\n",
              "      <th>933</th>\n",
              "      <td>Kalo gg dibatasi belajarnya, ini bisa jadi \\r\\nThe Real Terminator!!!\\r\\n\\r\\nNntinya akan nggak mau diatur manusia,bahkan bisa jadi di masa depan malah manusia yg dibatasi kemampuannya...  Lebih serius lagi dapat menganggap manusia sebagai ancaman yang harus di musnahkan! 😅\\r\\n\\r\\n\\r\\nDi satu sisi sangat baik buat perkembangan teknologi, tapi disisi lain ada ngerinya juga kalo sampek gg ke kontrol kecerdasannya 😌</td>\n",
              "      <td>If the GG is limited to learning, this could be\\r\\nThe real terminator !!!\\r\\n\\r\\nNnas will not want to be regulated by humans, it could even be that in the future even humans who are limited to their abilities ... more seriously can consider humans as a threat to be destroyed!😅\\r\\n\\r\\n\\r\\nOn the one hand it is very good for technological developments, but on the other hand there is also a gross if it comes to GG to the control of his intelligence 😌</td>\n",
              "      <td>If the GG is limited to learning, this could beThe real terminator !!!Nnas will not want to be regulated by humans, it could even be that in the future even humans who are limited to their abilities ... more seriously can consider humans as a threat to be destroyed!😅On the one hand it is very good for technological developments, but on the other hand there is also a gross if it comes to GG to the control of his intelligence 😌</td>\n",
              "      <td>negative</td>\n",
              "      <td>0.564461</td>\n",
              "    </tr>\n",
              "    <tr>\n",
              "      <th>582</th>\n",
              "      <td>Kurang relevan menurut saya AI tetap tidak akan berkembang sendiri tanpa manusia</td>\n",
              "      <td>In my opinion, I still will not develop alone without humans</td>\n",
              "      <td>In my opinion, I still will not develop alone without humans</td>\n",
              "      <td>neutral</td>\n",
              "      <td>0.511510</td>\n",
              "    </tr>\n",
              "    <tr>\n",
              "      <th>1344</th>\n",
              "      <td>Kena Prank Karna Peradapan Teknologi Ancur Duluan Akibat Perang Nuklir</td>\n",
              "      <td>Hit by prank because the technology of technology was destroyed first due to nuclear war</td>\n",
              "      <td>Hit by prank because the technology of technology was destroyed first due to nuclear war</td>\n",
              "      <td>negative</td>\n",
              "      <td>0.835630</td>\n",
              "    </tr>\n",
              "    <tr>\n",
              "      <th>1446</th>\n",
              "      <td>Bayangkan kalo nextgen AI gak cuma bisa berpikir.tapi juga mewujudkan yg dipikirkannya,dan punya kemampuan self defense jd gak bisa di shutdown?\\r\\nKurang serem apa coba?</td>\n",
              "      <td>Imagine if Nextgen AI can not only think. But also realize what he thinks, and has the ability to be self -defense so it can't be shutdown?\\r\\nWhat's not scary, try?</td>\n",
              "      <td>Imagine if Nextgen AI can not only think. But also realize what he thinks, and has the ability to be self -defense so it can't be shutdown?What's not scary, try?</td>\n",
              "      <td>neutral</td>\n",
              "      <td>0.622566</td>\n",
              "    </tr>\n",
              "  </tbody>\n",
              "</table>\n",
              "</div>\n",
              "      <button class=\"colab-df-convert\" onclick=\"convertToInteractive('df-d92b825e-eef8-41b2-a66e-eb8a437391c6')\"\n",
              "              title=\"Convert this dataframe to an interactive table.\"\n",
              "              style=\"display:none;\">\n",
              "        \n",
              "  <svg xmlns=\"http://www.w3.org/2000/svg\" height=\"24px\"viewBox=\"0 0 24 24\"\n",
              "       width=\"24px\">\n",
              "    <path d=\"M0 0h24v24H0V0z\" fill=\"none\"/>\n",
              "    <path d=\"M18.56 5.44l.94 2.06.94-2.06 2.06-.94-2.06-.94-.94-2.06-.94 2.06-2.06.94zm-11 1L8.5 8.5l.94-2.06 2.06-.94-2.06-.94L8.5 2.5l-.94 2.06-2.06.94zm10 10l.94 2.06.94-2.06 2.06-.94-2.06-.94-.94-2.06-.94 2.06-2.06.94z\"/><path d=\"M17.41 7.96l-1.37-1.37c-.4-.4-.92-.59-1.43-.59-.52 0-1.04.2-1.43.59L10.3 9.45l-7.72 7.72c-.78.78-.78 2.05 0 2.83L4 21.41c.39.39.9.59 1.41.59.51 0 1.02-.2 1.41-.59l7.78-7.78 2.81-2.81c.8-.78.8-2.07 0-2.86zM5.41 20L4 18.59l7.72-7.72 1.47 1.35L5.41 20z\"/>\n",
              "  </svg>\n",
              "      </button>\n",
              "      \n",
              "  <style>\n",
              "    .colab-df-container {\n",
              "      display:flex;\n",
              "      flex-wrap:wrap;\n",
              "      gap: 12px;\n",
              "    }\n",
              "\n",
              "    .colab-df-convert {\n",
              "      background-color: #E8F0FE;\n",
              "      border: none;\n",
              "      border-radius: 50%;\n",
              "      cursor: pointer;\n",
              "      display: none;\n",
              "      fill: #1967D2;\n",
              "      height: 32px;\n",
              "      padding: 0 0 0 0;\n",
              "      width: 32px;\n",
              "    }\n",
              "\n",
              "    .colab-df-convert:hover {\n",
              "      background-color: #E2EBFA;\n",
              "      box-shadow: 0px 1px 2px rgba(60, 64, 67, 0.3), 0px 1px 3px 1px rgba(60, 64, 67, 0.15);\n",
              "      fill: #174EA6;\n",
              "    }\n",
              "\n",
              "    [theme=dark] .colab-df-convert {\n",
              "      background-color: #3B4455;\n",
              "      fill: #D2E3FC;\n",
              "    }\n",
              "\n",
              "    [theme=dark] .colab-df-convert:hover {\n",
              "      background-color: #434B5C;\n",
              "      box-shadow: 0px 1px 3px 1px rgba(0, 0, 0, 0.15);\n",
              "      filter: drop-shadow(0px 1px 2px rgba(0, 0, 0, 0.3));\n",
              "      fill: #FFFFFF;\n",
              "    }\n",
              "  </style>\n",
              "\n",
              "      <script>\n",
              "        const buttonEl =\n",
              "          document.querySelector('#df-d92b825e-eef8-41b2-a66e-eb8a437391c6 button.colab-df-convert');\n",
              "        buttonEl.style.display =\n",
              "          google.colab.kernel.accessAllowed ? 'block' : 'none';\n",
              "\n",
              "        async function convertToInteractive(key) {\n",
              "          const element = document.querySelector('#df-d92b825e-eef8-41b2-a66e-eb8a437391c6');\n",
              "          const dataTable =\n",
              "            await google.colab.kernel.invokeFunction('convertToInteractive',\n",
              "                                                     [key], {});\n",
              "          if (!dataTable) return;\n",
              "\n",
              "          const docLinkHtml = 'Like what you see? Visit the ' +\n",
              "            '<a target=\"_blank\" href=https://colab.research.google.com/notebooks/data_table.ipynb>data table notebook</a>'\n",
              "            + ' to learn more about interactive tables.';\n",
              "          element.innerHTML = '';\n",
              "          dataTable['output_type'] = 'display_data';\n",
              "          await google.colab.output.renderOutput(dataTable, element);\n",
              "          const docLink = document.createElement('div');\n",
              "          docLink.innerHTML = docLinkHtml;\n",
              "          element.appendChild(docLink);\n",
              "        }\n",
              "      </script>\n",
              "    </div>\n",
              "  </div>\n",
              "  "
            ]
          },
          "metadata": {},
          "execution_count": 3
        }
      ],
      "source": [
        "# pad: netral, /s: positif, s: negatif\n",
        "def labelling_fix(text):\n",
        "  if text == '<pad>':\n",
        "    text = 'neutral'\n",
        "  elif text == '</s>':\n",
        "    text = 'positive'\n",
        "  elif text == '<s>':\n",
        "    text = 'negative'\n",
        "  return text\n",
        "\n",
        "labeled_df['sentimen'] = labeled_df['sentimen'].apply(lambda text: labelling_fix(text))\n",
        "uniq_sentimen = labeled_df['sentimen'].unique()\n",
        "print(f\"Nilai unik pada sentimen: {uniq_sentimen}\")\n",
        "print(f\"Banyaknya nilai unik pada sentimen: {len(uniq_sentimen)}\")\n",
        "print(labeled_df['sentimen'].value_counts())\n",
        "print(f\"Ukuran data: {labeled_df.shape}\")\n",
        "pd.set_option('display.max_colwidth', 0)\n",
        "labeled_df.sample(5)"
      ]
    },
    {
      "cell_type": "markdown",
      "metadata": {
        "id": "RDioRrDRFXUx"
      },
      "source": [
        "## Casefolding"
      ]
    },
    {
      "cell_type": "code",
      "execution_count": null,
      "metadata": {
        "colab": {
          "base_uri": "https://localhost:8080/",
          "height": 1000
        },
        "id": "EludztMMFWqh",
        "outputId": "e7e6cc6e-3069-4d96-a5b3-e3d1edf896c1"
      },
      "outputs": [
        {
          "output_type": "execute_result",
          "data": {
            "text/plain": [
              "                                                                                                                                                                    text_id  \\\n",
              "973  Semuanya kecerdasan logika,  bisakah AI menjalankan emosi nafsu, budi pekerti. Kalau bisa akan lebih baik jika AI bisa melakukan kecerdasan budi pekerti.                \n",
              "136  Udh dibaca panjang lebar sampe ngantuk”. Kesimpulannya malah terlalu normatif yg anak kecil pun tahu                                                                     \n",
              "434  Apakah tamagochi merupakan ternak enchu versi chat gpt ?                                                                                                                 \n",
              "397  Yang bikin  ngeri kalo AI ini berkembang secara otonom dan membuat bahasa mereka sendiri, jadi kebayang yg di film Terminator menjadi kenyataan dan sangat mengerikan.   \n",
              "32   Waduh, kalo fontnya belum berubah warna kurang seru nih.                                                                                                                 \n",
              "\n",
              "                                                                                                                                                                   text_en  \\\n",
              "973  Everything is logical intelligence, can AI run the emotions of lust, character.If possible it would be better if AI could do intelligence.                              \n",
              "136  Already read at length until sleepy \".The conclusion is even too normative that even small children know                                                                \n",
              "434  Is Tamagochi an Enchu Chat version of GPT?                                                                                                                              \n",
              "397  What makes it horrified that this AI develops autonomously and makes their own language, so imagine what in the film Terminator becomes reality and is very terrible.   \n",
              "32   Wow, if the font hasn't changed color less exciting.                                                                                                                    \n",
              "\n",
              "                                                                                                                                                      text_labelling_clean  \\\n",
              "973  everything is logical intelligence, can ai run the emotions of lust, character.if possible it would be better if ai could do intelligence.                              \n",
              "136  already read at length until sleepy \".the conclusion is even too normative that even small children know                                                                \n",
              "434  is tamagochi an enchu chat version of gpt?                                                                                                                              \n",
              "397  what makes it horrified that this ai develops autonomously and makes their own language, so imagine what in the film terminator becomes reality and is very terrible.   \n",
              "32   wow, if the font hasn't changed color less exciting.                                                                                                                    \n",
              "\n",
              "     sentimen     score  \\\n",
              "973  neutral   0.630099   \n",
              "136  negative  0.712891   \n",
              "434  neutral   0.941751   \n",
              "397  negative  0.920581   \n",
              "32   positive  0.722988   \n",
              "\n",
              "                                                                                                                                                       pra_processing_text  \n",
              "973  everything is logical intelligence  can ai run the emotions of lust  character if possible it would be better if ai could do intelligence                              \n",
              "136  already read at length until sleepy   the conclusion is even too normative that even small children know                                                               \n",
              "434  is tamagochi an enchu chat version of gpt                                                                                                                              \n",
              "397  what makes it horrified that this ai develops autonomously and makes their own language  so imagine what in the film terminator becomes reality and is very terrible   \n",
              "32   wow  if the font hasn t changed color less exciting                                                                                                                    "
            ],
            "text/html": [
              "\n",
              "  <div id=\"df-589fcefa-af72-463a-8dbb-6c7bdac419c2\">\n",
              "    <div class=\"colab-df-container\">\n",
              "      <div>\n",
              "<style scoped>\n",
              "    .dataframe tbody tr th:only-of-type {\n",
              "        vertical-align: middle;\n",
              "    }\n",
              "\n",
              "    .dataframe tbody tr th {\n",
              "        vertical-align: top;\n",
              "    }\n",
              "\n",
              "    .dataframe thead th {\n",
              "        text-align: right;\n",
              "    }\n",
              "</style>\n",
              "<table border=\"1\" class=\"dataframe\">\n",
              "  <thead>\n",
              "    <tr style=\"text-align: right;\">\n",
              "      <th></th>\n",
              "      <th>text_id</th>\n",
              "      <th>text_en</th>\n",
              "      <th>text_labelling_clean</th>\n",
              "      <th>sentimen</th>\n",
              "      <th>score</th>\n",
              "      <th>pra_processing_text</th>\n",
              "    </tr>\n",
              "  </thead>\n",
              "  <tbody>\n",
              "    <tr>\n",
              "      <th>973</th>\n",
              "      <td>Semuanya kecerdasan logika,  bisakah AI menjalankan emosi nafsu, budi pekerti. Kalau bisa akan lebih baik jika AI bisa melakukan kecerdasan budi pekerti.</td>\n",
              "      <td>Everything is logical intelligence, can AI run the emotions of lust, character.If possible it would be better if AI could do intelligence.</td>\n",
              "      <td>everything is logical intelligence, can ai run the emotions of lust, character.if possible it would be better if ai could do intelligence.</td>\n",
              "      <td>neutral</td>\n",
              "      <td>0.630099</td>\n",
              "      <td>everything is logical intelligence  can ai run the emotions of lust  character if possible it would be better if ai could do intelligence</td>\n",
              "    </tr>\n",
              "    <tr>\n",
              "      <th>136</th>\n",
              "      <td>Udh dibaca panjang lebar sampe ngantuk”. Kesimpulannya malah terlalu normatif yg anak kecil pun tahu</td>\n",
              "      <td>Already read at length until sleepy \".The conclusion is even too normative that even small children know</td>\n",
              "      <td>already read at length until sleepy \".the conclusion is even too normative that even small children know</td>\n",
              "      <td>negative</td>\n",
              "      <td>0.712891</td>\n",
              "      <td>already read at length until sleepy   the conclusion is even too normative that even small children know</td>\n",
              "    </tr>\n",
              "    <tr>\n",
              "      <th>434</th>\n",
              "      <td>Apakah tamagochi merupakan ternak enchu versi chat gpt ?</td>\n",
              "      <td>Is Tamagochi an Enchu Chat version of GPT?</td>\n",
              "      <td>is tamagochi an enchu chat version of gpt?</td>\n",
              "      <td>neutral</td>\n",
              "      <td>0.941751</td>\n",
              "      <td>is tamagochi an enchu chat version of gpt</td>\n",
              "    </tr>\n",
              "    <tr>\n",
              "      <th>397</th>\n",
              "      <td>Yang bikin  ngeri kalo AI ini berkembang secara otonom dan membuat bahasa mereka sendiri, jadi kebayang yg di film Terminator menjadi kenyataan dan sangat mengerikan.</td>\n",
              "      <td>What makes it horrified that this AI develops autonomously and makes their own language, so imagine what in the film Terminator becomes reality and is very terrible.</td>\n",
              "      <td>what makes it horrified that this ai develops autonomously and makes their own language, so imagine what in the film terminator becomes reality and is very terrible.</td>\n",
              "      <td>negative</td>\n",
              "      <td>0.920581</td>\n",
              "      <td>what makes it horrified that this ai develops autonomously and makes their own language  so imagine what in the film terminator becomes reality and is very terrible</td>\n",
              "    </tr>\n",
              "    <tr>\n",
              "      <th>32</th>\n",
              "      <td>Waduh, kalo fontnya belum berubah warna kurang seru nih.</td>\n",
              "      <td>Wow, if the font hasn't changed color less exciting.</td>\n",
              "      <td>wow, if the font hasn't changed color less exciting.</td>\n",
              "      <td>positive</td>\n",
              "      <td>0.722988</td>\n",
              "      <td>wow  if the font hasn t changed color less exciting</td>\n",
              "    </tr>\n",
              "  </tbody>\n",
              "</table>\n",
              "</div>\n",
              "      <button class=\"colab-df-convert\" onclick=\"convertToInteractive('df-589fcefa-af72-463a-8dbb-6c7bdac419c2')\"\n",
              "              title=\"Convert this dataframe to an interactive table.\"\n",
              "              style=\"display:none;\">\n",
              "        \n",
              "  <svg xmlns=\"http://www.w3.org/2000/svg\" height=\"24px\"viewBox=\"0 0 24 24\"\n",
              "       width=\"24px\">\n",
              "    <path d=\"M0 0h24v24H0V0z\" fill=\"none\"/>\n",
              "    <path d=\"M18.56 5.44l.94 2.06.94-2.06 2.06-.94-2.06-.94-.94-2.06-.94 2.06-2.06.94zm-11 1L8.5 8.5l.94-2.06 2.06-.94-2.06-.94L8.5 2.5l-.94 2.06-2.06.94zm10 10l.94 2.06.94-2.06 2.06-.94-2.06-.94-.94-2.06-.94 2.06-2.06.94z\"/><path d=\"M17.41 7.96l-1.37-1.37c-.4-.4-.92-.59-1.43-.59-.52 0-1.04.2-1.43.59L10.3 9.45l-7.72 7.72c-.78.78-.78 2.05 0 2.83L4 21.41c.39.39.9.59 1.41.59.51 0 1.02-.2 1.41-.59l7.78-7.78 2.81-2.81c.8-.78.8-2.07 0-2.86zM5.41 20L4 18.59l7.72-7.72 1.47 1.35L5.41 20z\"/>\n",
              "  </svg>\n",
              "      </button>\n",
              "      \n",
              "  <style>\n",
              "    .colab-df-container {\n",
              "      display:flex;\n",
              "      flex-wrap:wrap;\n",
              "      gap: 12px;\n",
              "    }\n",
              "\n",
              "    .colab-df-convert {\n",
              "      background-color: #E8F0FE;\n",
              "      border: none;\n",
              "      border-radius: 50%;\n",
              "      cursor: pointer;\n",
              "      display: none;\n",
              "      fill: #1967D2;\n",
              "      height: 32px;\n",
              "      padding: 0 0 0 0;\n",
              "      width: 32px;\n",
              "    }\n",
              "\n",
              "    .colab-df-convert:hover {\n",
              "      background-color: #E2EBFA;\n",
              "      box-shadow: 0px 1px 2px rgba(60, 64, 67, 0.3), 0px 1px 3px 1px rgba(60, 64, 67, 0.15);\n",
              "      fill: #174EA6;\n",
              "    }\n",
              "\n",
              "    [theme=dark] .colab-df-convert {\n",
              "      background-color: #3B4455;\n",
              "      fill: #D2E3FC;\n",
              "    }\n",
              "\n",
              "    [theme=dark] .colab-df-convert:hover {\n",
              "      background-color: #434B5C;\n",
              "      box-shadow: 0px 1px 3px 1px rgba(0, 0, 0, 0.15);\n",
              "      filter: drop-shadow(0px 1px 2px rgba(0, 0, 0, 0.3));\n",
              "      fill: #FFFFFF;\n",
              "    }\n",
              "  </style>\n",
              "\n",
              "      <script>\n",
              "        const buttonEl =\n",
              "          document.querySelector('#df-589fcefa-af72-463a-8dbb-6c7bdac419c2 button.colab-df-convert');\n",
              "        buttonEl.style.display =\n",
              "          google.colab.kernel.accessAllowed ? 'block' : 'none';\n",
              "\n",
              "        async function convertToInteractive(key) {\n",
              "          const element = document.querySelector('#df-589fcefa-af72-463a-8dbb-6c7bdac419c2');\n",
              "          const dataTable =\n",
              "            await google.colab.kernel.invokeFunction('convertToInteractive',\n",
              "                                                     [key], {});\n",
              "          if (!dataTable) return;\n",
              "\n",
              "          const docLinkHtml = 'Like what you see? Visit the ' +\n",
              "            '<a target=\"_blank\" href=https://colab.research.google.com/notebooks/data_table.ipynb>data table notebook</a>'\n",
              "            + ' to learn more about interactive tables.';\n",
              "          element.innerHTML = '';\n",
              "          dataTable['output_type'] = 'display_data';\n",
              "          await google.colab.output.renderOutput(dataTable, element);\n",
              "          const docLink = document.createElement('div');\n",
              "          docLink.innerHTML = docLinkHtml;\n",
              "          element.appendChild(docLink);\n",
              "        }\n",
              "      </script>\n",
              "    </div>\n",
              "  </div>\n",
              "  "
            ]
          },
          "metadata": {},
          "execution_count": 4
        }
      ],
      "source": [
        "import string\n",
        "\n",
        "col_before = \"text_labelling_clean\"\n",
        "col_after = \"pra_processing_text\"\n",
        "\n",
        "# Mengecilkan semua komentar\n",
        "labeled_df[\"text_labelling_clean\"] = labeled_df[\"text_labelling_clean\"] .str.lower()\n",
        "\n",
        "# Menghapus tanda baca\n",
        "def remove_punctuation(text):\n",
        "  if isinstance(text, str):  # Memeriksa apakah nilai adalah string\n",
        "    text = text.replace('\\n', ' ')\n",
        "    return text.translate(str.maketrans(string.punctuation, ' '*len(string.punctuation)))\n",
        "  else:\n",
        "    return ''  # Mengembalikan string kosong jika bukan string\n",
        "labeled_df[\"pra_processing_text\"] = labeled_df[\"text_labelling_clean\"].apply(lambda text: remove_punctuation(text))\n",
        "labeled_df = labeled_df[labeled_df['pra_processing_text'] != '']\n",
        "\n",
        "# Contoh sampel yang di 'col before' mengandung tanda baca\n",
        "labeled_df.loc[labeled_df[\"text_labelling_clean\"].str.contains('['+string.punctuation+']')].sample(5)"
      ]
    },
    {
      "cell_type": "markdown",
      "metadata": {
        "id": "8BdlN4LIW8E_"
      },
      "source": [
        "## Menghapus emoji\n"
      ]
    },
    {
      "cell_type": "code",
      "execution_count": null,
      "metadata": {
        "colab": {
          "base_uri": "https://localhost:8080/"
        },
        "id": "fGqN5PlvXCw_",
        "outputId": "577780bd-29cf-4853-f83f-8019bad1ce23"
      },
      "outputs": [
        {
          "output_type": "stream",
          "name": "stdout",
          "text": [
            "Collecting emoji\n",
            "  Downloading emoji-2.6.0.tar.gz (356 kB)\n",
            "\u001b[?25l     \u001b[90m━━━━━━━━━━━━━━━━━━━━━━━━━━━━━━━━━━━━━━━━\u001b[0m \u001b[32m0.0/356.6 kB\u001b[0m \u001b[31m?\u001b[0m eta \u001b[36m-:--:--\u001b[0m\r\u001b[2K     \u001b[91m━━━━━━━━━━━━━━━━━━━━━━━━━━━━━━━━━\u001b[0m\u001b[91m╸\u001b[0m\u001b[90m━━━━━\u001b[0m \u001b[32m307.2/356.6 kB\u001b[0m \u001b[31m9.0 MB/s\u001b[0m eta \u001b[36m0:00:01\u001b[0m\r\u001b[2K     \u001b[90m━━━━━━━━━━━━━━━━━━━━━━━━━━━━━━━━━━━━━━━\u001b[0m \u001b[32m356.6/356.6 kB\u001b[0m \u001b[31m7.9 MB/s\u001b[0m eta \u001b[36m0:00:00\u001b[0m\n",
            "\u001b[?25h  Preparing metadata (setup.py) ... \u001b[?25l\u001b[?25hdone\n",
            "Building wheels for collected packages: emoji\n",
            "  Building wheel for emoji (setup.py) ... \u001b[?25l\u001b[?25hdone\n",
            "  Created wheel for emoji: filename=emoji-2.6.0-py2.py3-none-any.whl size=351311 sha256=56c97946f960e827237c7ae080eeb8accaa798f3ac313cc7fd50442e0c11787a\n",
            "  Stored in directory: /root/.cache/pip/wheels/ea/0b/64/114bc939d0083621aa41521e21be246c888260b8aa21e6c1ad\n",
            "Successfully built emoji\n",
            "Installing collected packages: emoji\n",
            "Successfully installed emoji-2.6.0\n"
          ]
        }
      ],
      "source": [
        "!pip install emoji"
      ]
    },
    {
      "cell_type": "code",
      "execution_count": null,
      "metadata": {
        "colab": {
          "base_uri": "https://localhost:8080/",
          "height": 791
        },
        "id": "U1jC7LStXSB5",
        "outputId": "c7626261-1582-443d-91a7-63fb2e48a89e"
      },
      "outputs": [
        {
          "output_type": "execute_result",
          "data": {
            "text/plain": [
              "                                                                                                                                                             text_id  \\\n",
              "495   Era transformer dan terminator   makin dekat dan terjadi 😊😊😊😊😊😊siap² manusia perang dengan robot, yang terpenting muslim jangan sampai ganti Tuhan ( musyrik )   \n",
              "157   anjing 😂😂😂                                                                                                                                                       \n",
              "374   Tenang.. tenang..\\r\\nKehidupan selalu menemukan jalan..😅😅                                                                                                        \n",
              "1385  Smkn curiga, jgn\" kolom komentar ini isinya bot smua 😅                                                                                                           \n",
              "1191  2:50 🤣                                                                                                                                                           \n",
              "\n",
              "                                                                                                                                                                text_en  \\\n",
              "495   The era of transformers and terminators is getting closer and occurs 😊😊😊😊😊 Anapped human war with robots, most importantly Muslims do not change God (polytheism)   \n",
              "157   dog 😂😂😂                                                                                                                                                             \n",
              "374   Calm down .. calm down ..\\r\\nLife always finds a way..😅😅                                                                                                            \n",
              "1385  Vocational School is suspicious, don't \"this comments column contains all bots 😅                                                                                    \n",
              "1191  2:50 🤣                                                                                                                                                              \n",
              "\n",
              "                                                                                                                                                   text_labelling_clean  \\\n",
              "495   the era of transformers and terminators is getting closer and occurs 😊😊😊😊😊 anapped human war with robots, most importantly muslims do not change god (polytheism)   \n",
              "157   dog 😂😂😂                                                                                                                                                             \n",
              "374   calm down .. calm down ..life always finds a way..😅😅                                                                                                                \n",
              "1385  vocational school is suspicious, don't \"this comments column contains all bots 😅                                                                                    \n",
              "1191  : 🤣                                                                                                                                                                 \n",
              "\n",
              "      sentimen     score  \\\n",
              "495   positive  0.829650   \n",
              "157   neutral   0.661407   \n",
              "374   positive  0.477558   \n",
              "1385  negative  0.713727   \n",
              "1191  neutral   0.562028   \n",
              "\n",
              "                                                                                                                                               pra_processing_text  \n",
              "495   the era of transformers and terminators is getting closer and occurs  anapped human war with robots  most importantly muslims do not change god  polytheism   \n",
              "157   dog                                                                                                                                                           \n",
              "374   calm down    calm down   life always finds a way                                                                                                              \n",
              "1385  vocational school is suspicious  don t  this comments column contains all bots                                                                                \n",
              "1191                                                                                                                                                                "
            ],
            "text/html": [
              "\n",
              "  <div id=\"df-14632691-ffdd-4648-9116-c5bdfd072efa\">\n",
              "    <div class=\"colab-df-container\">\n",
              "      <div>\n",
              "<style scoped>\n",
              "    .dataframe tbody tr th:only-of-type {\n",
              "        vertical-align: middle;\n",
              "    }\n",
              "\n",
              "    .dataframe tbody tr th {\n",
              "        vertical-align: top;\n",
              "    }\n",
              "\n",
              "    .dataframe thead th {\n",
              "        text-align: right;\n",
              "    }\n",
              "</style>\n",
              "<table border=\"1\" class=\"dataframe\">\n",
              "  <thead>\n",
              "    <tr style=\"text-align: right;\">\n",
              "      <th></th>\n",
              "      <th>text_id</th>\n",
              "      <th>text_en</th>\n",
              "      <th>text_labelling_clean</th>\n",
              "      <th>sentimen</th>\n",
              "      <th>score</th>\n",
              "      <th>pra_processing_text</th>\n",
              "    </tr>\n",
              "  </thead>\n",
              "  <tbody>\n",
              "    <tr>\n",
              "      <th>495</th>\n",
              "      <td>Era transformer dan terminator   makin dekat dan terjadi 😊😊😊😊😊😊siap² manusia perang dengan robot, yang terpenting muslim jangan sampai ganti Tuhan ( musyrik )</td>\n",
              "      <td>The era of transformers and terminators is getting closer and occurs 😊😊😊😊😊 Anapped human war with robots, most importantly Muslims do not change God (polytheism)</td>\n",
              "      <td>the era of transformers and terminators is getting closer and occurs 😊😊😊😊😊 anapped human war with robots, most importantly muslims do not change god (polytheism)</td>\n",
              "      <td>positive</td>\n",
              "      <td>0.829650</td>\n",
              "      <td>the era of transformers and terminators is getting closer and occurs  anapped human war with robots  most importantly muslims do not change god  polytheism</td>\n",
              "    </tr>\n",
              "    <tr>\n",
              "      <th>157</th>\n",
              "      <td>anjing 😂😂😂</td>\n",
              "      <td>dog 😂😂😂</td>\n",
              "      <td>dog 😂😂😂</td>\n",
              "      <td>neutral</td>\n",
              "      <td>0.661407</td>\n",
              "      <td>dog</td>\n",
              "    </tr>\n",
              "    <tr>\n",
              "      <th>374</th>\n",
              "      <td>Tenang.. tenang..\\r\\nKehidupan selalu menemukan jalan..😅😅</td>\n",
              "      <td>Calm down .. calm down ..\\r\\nLife always finds a way..😅😅</td>\n",
              "      <td>calm down .. calm down ..life always finds a way..😅😅</td>\n",
              "      <td>positive</td>\n",
              "      <td>0.477558</td>\n",
              "      <td>calm down    calm down   life always finds a way</td>\n",
              "    </tr>\n",
              "    <tr>\n",
              "      <th>1385</th>\n",
              "      <td>Smkn curiga, jgn\" kolom komentar ini isinya bot smua 😅</td>\n",
              "      <td>Vocational School is suspicious, don't \"this comments column contains all bots 😅</td>\n",
              "      <td>vocational school is suspicious, don't \"this comments column contains all bots 😅</td>\n",
              "      <td>negative</td>\n",
              "      <td>0.713727</td>\n",
              "      <td>vocational school is suspicious  don t  this comments column contains all bots</td>\n",
              "    </tr>\n",
              "    <tr>\n",
              "      <th>1191</th>\n",
              "      <td>2:50 🤣</td>\n",
              "      <td>2:50 🤣</td>\n",
              "      <td>: 🤣</td>\n",
              "      <td>neutral</td>\n",
              "      <td>0.562028</td>\n",
              "      <td></td>\n",
              "    </tr>\n",
              "  </tbody>\n",
              "</table>\n",
              "</div>\n",
              "      <button class=\"colab-df-convert\" onclick=\"convertToInteractive('df-14632691-ffdd-4648-9116-c5bdfd072efa')\"\n",
              "              title=\"Convert this dataframe to an interactive table.\"\n",
              "              style=\"display:none;\">\n",
              "        \n",
              "  <svg xmlns=\"http://www.w3.org/2000/svg\" height=\"24px\"viewBox=\"0 0 24 24\"\n",
              "       width=\"24px\">\n",
              "    <path d=\"M0 0h24v24H0V0z\" fill=\"none\"/>\n",
              "    <path d=\"M18.56 5.44l.94 2.06.94-2.06 2.06-.94-2.06-.94-.94-2.06-.94 2.06-2.06.94zm-11 1L8.5 8.5l.94-2.06 2.06-.94-2.06-.94L8.5 2.5l-.94 2.06-2.06.94zm10 10l.94 2.06.94-2.06 2.06-.94-2.06-.94-.94-2.06-.94 2.06-2.06.94z\"/><path d=\"M17.41 7.96l-1.37-1.37c-.4-.4-.92-.59-1.43-.59-.52 0-1.04.2-1.43.59L10.3 9.45l-7.72 7.72c-.78.78-.78 2.05 0 2.83L4 21.41c.39.39.9.59 1.41.59.51 0 1.02-.2 1.41-.59l7.78-7.78 2.81-2.81c.8-.78.8-2.07 0-2.86zM5.41 20L4 18.59l7.72-7.72 1.47 1.35L5.41 20z\"/>\n",
              "  </svg>\n",
              "      </button>\n",
              "      \n",
              "  <style>\n",
              "    .colab-df-container {\n",
              "      display:flex;\n",
              "      flex-wrap:wrap;\n",
              "      gap: 12px;\n",
              "    }\n",
              "\n",
              "    .colab-df-convert {\n",
              "      background-color: #E8F0FE;\n",
              "      border: none;\n",
              "      border-radius: 50%;\n",
              "      cursor: pointer;\n",
              "      display: none;\n",
              "      fill: #1967D2;\n",
              "      height: 32px;\n",
              "      padding: 0 0 0 0;\n",
              "      width: 32px;\n",
              "    }\n",
              "\n",
              "    .colab-df-convert:hover {\n",
              "      background-color: #E2EBFA;\n",
              "      box-shadow: 0px 1px 2px rgba(60, 64, 67, 0.3), 0px 1px 3px 1px rgba(60, 64, 67, 0.15);\n",
              "      fill: #174EA6;\n",
              "    }\n",
              "\n",
              "    [theme=dark] .colab-df-convert {\n",
              "      background-color: #3B4455;\n",
              "      fill: #D2E3FC;\n",
              "    }\n",
              "\n",
              "    [theme=dark] .colab-df-convert:hover {\n",
              "      background-color: #434B5C;\n",
              "      box-shadow: 0px 1px 3px 1px rgba(0, 0, 0, 0.15);\n",
              "      filter: drop-shadow(0px 1px 2px rgba(0, 0, 0, 0.3));\n",
              "      fill: #FFFFFF;\n",
              "    }\n",
              "  </style>\n",
              "\n",
              "      <script>\n",
              "        const buttonEl =\n",
              "          document.querySelector('#df-14632691-ffdd-4648-9116-c5bdfd072efa button.colab-df-convert');\n",
              "        buttonEl.style.display =\n",
              "          google.colab.kernel.accessAllowed ? 'block' : 'none';\n",
              "\n",
              "        async function convertToInteractive(key) {\n",
              "          const element = document.querySelector('#df-14632691-ffdd-4648-9116-c5bdfd072efa');\n",
              "          const dataTable =\n",
              "            await google.colab.kernel.invokeFunction('convertToInteractive',\n",
              "                                                     [key], {});\n",
              "          if (!dataTable) return;\n",
              "\n",
              "          const docLinkHtml = 'Like what you see? Visit the ' +\n",
              "            '<a target=\"_blank\" href=https://colab.research.google.com/notebooks/data_table.ipynb>data table notebook</a>'\n",
              "            + ' to learn more about interactive tables.';\n",
              "          element.innerHTML = '';\n",
              "          dataTable['output_type'] = 'display_data';\n",
              "          await google.colab.output.renderOutput(dataTable, element);\n",
              "          const docLink = document.createElement('div');\n",
              "          docLink.innerHTML = docLinkHtml;\n",
              "          element.appendChild(docLink);\n",
              "        }\n",
              "      </script>\n",
              "    </div>\n",
              "  </div>\n",
              "  "
            ]
          },
          "metadata": {},
          "execution_count": 6
        }
      ],
      "source": [
        "import emoji\n",
        "import re\n",
        "\n",
        "def hapus_emoji(text):\n",
        "    emoji_pattern = re.compile(\"[\"\n",
        "                               u\"\\U0001F600-\\U0001F64F\"  # emoticons\n",
        "                               u\"\\U0001F300-\\U0001F5FF\"  # simbol & piktogram\n",
        "                               u\"\\U0001F680-\\U0001F6FF\"  # transportasi & simbol transportasi\n",
        "                               u\"\\U0001F1E0-\\U0001F1FF\"  # bendera negara\n",
        "                               u\"\\U00002600-\\U000027BF\"  # simbol cuaca\n",
        "                               u\"\\U0001F900-\\U0001F9FF\"  # simbol & piktogram tambahan\n",
        "                               u\"\\U0001F1F2-\\U0001F1F4\"  # bendera negara tambahan\n",
        "                               u\"\\U0001F1E6-\\U0001F1FF\"  # bendera negara tambahan\n",
        "                               u\"\\U0001F600-\\U0001F64F\"  # emotikon tambahan\n",
        "                               u\"\\U000024C2-\\U0001F251\"\n",
        "                               \"]+\", flags=re.UNICODE)\n",
        "    return emoji_pattern.sub(r'', text)\n",
        "labeled_df[\"pra_processing_text\"] = labeled_df[\"pra_processing_text\"].apply(lambda text: hapus_emoji(text))\n",
        "\n",
        "# Sampel\n",
        "def cari_emoji(text):\n",
        "  if emoji.emoji_count(text) > 0:\n",
        "    return True\n",
        "  else:\n",
        "    return False\n",
        "labeled_df.loc[labeled_df[\"text_labelling_clean\"].apply(cari_emoji)].sample(5)"
      ]
    },
    {
      "cell_type": "markdown",
      "metadata": {
        "id": "4VSW312iZaVR"
      },
      "source": [
        "## Penghapusan stopwords"
      ]
    },
    {
      "cell_type": "code",
      "execution_count": null,
      "metadata": {
        "colab": {
          "base_uri": "https://localhost:8080/"
        },
        "id": "OpNKE6e2ZeHc",
        "outputId": "09626c9a-7074-4437-b744-5f0c6a50f839"
      },
      "outputs": [
        {
          "output_type": "stream",
          "name": "stdout",
          "text": [
            "Requirement already satisfied: nltk in /usr/local/lib/python3.10/dist-packages (3.8.1)\n",
            "Requirement already satisfied: click in /usr/local/lib/python3.10/dist-packages (from nltk) (8.1.4)\n",
            "Requirement already satisfied: joblib in /usr/local/lib/python3.10/dist-packages (from nltk) (1.3.1)\n",
            "Requirement already satisfied: regex>=2021.8.3 in /usr/local/lib/python3.10/dist-packages (from nltk) (2022.10.31)\n",
            "Requirement already satisfied: tqdm in /usr/local/lib/python3.10/dist-packages (from nltk) (4.65.0)\n"
          ]
        }
      ],
      "source": [
        "!pip install nltk"
      ]
    },
    {
      "cell_type": "code",
      "execution_count": null,
      "metadata": {
        "id": "JT14al5vZ5u6",
        "colab": {
          "base_uri": "https://localhost:8080/"
        },
        "outputId": "4d82470c-c90d-4594-ad4c-5cb1459f96bc"
      },
      "outputs": [
        {
          "output_type": "stream",
          "name": "stderr",
          "text": [
            "[nltk_data] Downloading package stopwords to /root/nltk_data...\n",
            "[nltk_data]   Unzipping corpora/stopwords.zip.\n",
            "[nltk_data] Downloading package punkt to /root/nltk_data...\n",
            "[nltk_data]   Unzipping tokenizers/punkt.zip.\n"
          ]
        },
        {
          "output_type": "execute_result",
          "data": {
            "text/plain": [
              "True"
            ]
          },
          "metadata": {},
          "execution_count": 8
        }
      ],
      "source": [
        "import nltk\n",
        "from nltk.corpus import stopwords\n",
        "from nltk.tokenize import word_tokenize\n",
        "nltk.download('stopwords')\n",
        "nltk.download('punkt')"
      ]
    },
    {
      "cell_type": "code",
      "execution_count": null,
      "metadata": {
        "id": "PhqnD1U7cdib",
        "colab": {
          "base_uri": "https://localhost:8080/"
        },
        "outputId": "78466a67-6e38-4381-91ea-bc975155a517"
      },
      "outputs": [
        {
          "output_type": "stream",
          "name": "stdout",
          "text": [
            "example sentence stopwords want remove .\n"
          ]
        }
      ],
      "source": [
        "def remove_stopwords(text):\n",
        "  # Mengambil daftar stopwords dalam bahasa Inggris\n",
        "  stop_words = set(stopwords.words('english'))\n",
        "  # Memecah teks menjadi kata-kata\n",
        "  tokens = word_tokenize(text)\n",
        "  # Menghapus stopwords dari teks\n",
        "  filtered_text = [word for word in tokens if word.casefold() not in stop_words]\n",
        "  return (\" \".join(filtered_text))\n",
        "# Tes\n",
        "text = \"This is an example sentence with stopwords that we want to remove.\"\n",
        "print(remove_stopwords(text))"
      ]
    },
    {
      "cell_type": "code",
      "execution_count": null,
      "metadata": {
        "id": "_RUEwQusdE_E",
        "colab": {
          "base_uri": "https://localhost:8080/",
          "height": 1000
        },
        "outputId": "c70da089-03eb-4ca9-845e-8372d2bec091"
      },
      "outputs": [
        {
          "output_type": "execute_result",
          "data": {
            "text/plain": [
              "                                                                                                                                                                                                                                                                                                                                                                                                                                                              text_id  \\\n",
              "699   Peluang dari ai hanya kecil, ancaman dari dibuatnta ai hanyalah omong kosong, itu sangat berteknologi rendah, tidah berbeda dari mesin pencari yg lain, lebih rumit membuat mesin hemat energi berdaya besar                                                                                                                                                                                                                                                      \n",
              "57    Masalahnya indonesia siap ga? Dunia siap ga? Sebelum keluarnya ai aja seperti chatgpt masih banyak pengangguran, masih ada kelaparan, pendidikan aja ga merata di dunia.\\r\\n\\r\\nmau dijelaskan sisi positifnya juga pada akhirnya secara ga sadar ya orang tahu seperti teori darwin yang paling kuat, cerdik, pintar yang selamat, yang ga ya mampus. Nah masalahnya kita manusia homo sapiens punya kesadaran yang luar biasa, masak mau seperti teori darwin   \n",
              "1342  Mengancam? Ngerti konsep AI gak sih? Emang ChatGPT udah berbentuk General Purpose AI? Mending bahas yg bener2 dikuasai daripada jadinya ngelawak...                                                                                                                                                                                                                                                                                                               \n",
              "90    ketika AI merasa tersinggung                                                                                                                                                                                                                                                                                                                                                                                                                                      \n",
              "764   Gimana sekarang , kita bukan pilih presiden tapi pilih team AI buat memanejemen  negara???, team yah, ga ada presiden atau mentri , team AI di pilih setahun sekali                                                                                                                                                                                                                                                                                               \n",
              "\n",
              "                                                                                                                                                                                                                                                                                                                                                                                                                                                text_en  \\\n",
              "699   The opportunity from AI is only small, the threat from AI's made is only nonsense, it is very high -tech, not different from other search engines, more complicated to make a large energy -efficient machine.                                                                                                                                                                                                                                      \n",
              "57    The problem is Indonesia is ready?The world is ready?Before AI just like a chatgpt there is still a lot of unemployment, there is still hunger, education is not evenly distributed in the world.\\r\\n\\r\\nI want to explain the positive side in the end in the end, people know like Darwin's the most powerful, clever, smart, safe, who is not dead.Well the problem is we Homo sapiens have extraordinary awareness, cook like Darwin's theory   \n",
              "1342  Threaten?Do you understand the concept of AI?Is chatgpt already in the form of General Purpose AI?Better to discuss which is really mastered rather than being joking ...                                                                                                                                                                                                                                                                           \n",
              "90    When Ai was offended                                                                                                                                                                                                                                                                                                                                                                                                                                \n",
              "764   How now, we are not choosing the president but choose a team to manage the country ???, team well, there is no president or minister, team ai is chosen once a year                                                                                                                                                                                                                                                                                 \n",
              "\n",
              "                                                                                                                                                                                                                                                                                                                                                                                                                           text_labelling_clean  \\\n",
              "699   the opportunity from ai is only small, the threat from ai's made is only nonsense, it is very high -tech, not different from other search engines, more complicated to make a large energy -efficient machine.                                                                                                                                                                                                                              \n",
              "57    the problem is indonesia is ready?the world is ready?before ai just like a chatgpt there is still a lot of unemployment, there is still hunger, education is not evenly distributed in the world.i want to explain the positive side in the end in the end, people know like darwin's the most powerful, clever, smart, safe, who is not dead.well the problem is we homo sapiens have extraordinary awareness, cook like darwin's theory   \n",
              "1342  threaten?do you understand the concept of ai?is chatgpt already in the form of general purpose ai?better to discuss which is really mastered rather than being joking ...                                                                                                                                                                                                                                                                   \n",
              "90    when ai was offended                                                                                                                                                                                                                                                                                                                                                                                                                        \n",
              "764   how now, we are not choosing the president but choose a team to manage the country ???, team well, there is no president or minister, team ai is chosen once a year                                                                                                                                                                                                                                                                         \n",
              "\n",
              "      sentimen     score  \\\n",
              "699   negative  0.481560   \n",
              "57    negative  0.548964   \n",
              "1342  neutral   0.511394   \n",
              "90    negative  0.606957   \n",
              "764   neutral   0.614769   \n",
              "\n",
              "                                                                                                                                                                                                                                                                                  pra_processing_text  \n",
              "699   opportunity ai small threat ai made nonsense high tech different search engines complicated make large energy efficient machine                                                                                                                                                                  \n",
              "57    problem indonesia ready world ready ai like chatgpt still lot unemployment still hunger education evenly distributed world want explain positive side end end people know like darwin powerful clever smart safe dead well problem homo sapiens extraordinary awareness cook like darwin theory  \n",
              "1342  threaten understand concept ai chatgpt already form general purpose ai better discuss really mastered rather joking                                                                                                                                                                              \n",
              "90    ai offended                                                                                                                                                                                                                                                                                      \n",
              "764   choosing president choose team manage country team well president minister team ai chosen year                                                                                                                                                                                                   "
            ],
            "text/html": [
              "\n",
              "  <div id=\"df-60b80ab1-a8f1-4f4a-a0eb-0e43713ef442\">\n",
              "    <div class=\"colab-df-container\">\n",
              "      <div>\n",
              "<style scoped>\n",
              "    .dataframe tbody tr th:only-of-type {\n",
              "        vertical-align: middle;\n",
              "    }\n",
              "\n",
              "    .dataframe tbody tr th {\n",
              "        vertical-align: top;\n",
              "    }\n",
              "\n",
              "    .dataframe thead th {\n",
              "        text-align: right;\n",
              "    }\n",
              "</style>\n",
              "<table border=\"1\" class=\"dataframe\">\n",
              "  <thead>\n",
              "    <tr style=\"text-align: right;\">\n",
              "      <th></th>\n",
              "      <th>text_id</th>\n",
              "      <th>text_en</th>\n",
              "      <th>text_labelling_clean</th>\n",
              "      <th>sentimen</th>\n",
              "      <th>score</th>\n",
              "      <th>pra_processing_text</th>\n",
              "    </tr>\n",
              "  </thead>\n",
              "  <tbody>\n",
              "    <tr>\n",
              "      <th>699</th>\n",
              "      <td>Peluang dari ai hanya kecil, ancaman dari dibuatnta ai hanyalah omong kosong, itu sangat berteknologi rendah, tidah berbeda dari mesin pencari yg lain, lebih rumit membuat mesin hemat energi berdaya besar</td>\n",
              "      <td>The opportunity from AI is only small, the threat from AI's made is only nonsense, it is very high -tech, not different from other search engines, more complicated to make a large energy -efficient machine.</td>\n",
              "      <td>the opportunity from ai is only small, the threat from ai's made is only nonsense, it is very high -tech, not different from other search engines, more complicated to make a large energy -efficient machine.</td>\n",
              "      <td>negative</td>\n",
              "      <td>0.481560</td>\n",
              "      <td>opportunity ai small threat ai made nonsense high tech different search engines complicated make large energy efficient machine</td>\n",
              "    </tr>\n",
              "    <tr>\n",
              "      <th>57</th>\n",
              "      <td>Masalahnya indonesia siap ga? Dunia siap ga? Sebelum keluarnya ai aja seperti chatgpt masih banyak pengangguran, masih ada kelaparan, pendidikan aja ga merata di dunia.\\r\\n\\r\\nmau dijelaskan sisi positifnya juga pada akhirnya secara ga sadar ya orang tahu seperti teori darwin yang paling kuat, cerdik, pintar yang selamat, yang ga ya mampus. Nah masalahnya kita manusia homo sapiens punya kesadaran yang luar biasa, masak mau seperti teori darwin</td>\n",
              "      <td>The problem is Indonesia is ready?The world is ready?Before AI just like a chatgpt there is still a lot of unemployment, there is still hunger, education is not evenly distributed in the world.\\r\\n\\r\\nI want to explain the positive side in the end in the end, people know like Darwin's the most powerful, clever, smart, safe, who is not dead.Well the problem is we Homo sapiens have extraordinary awareness, cook like Darwin's theory</td>\n",
              "      <td>the problem is indonesia is ready?the world is ready?before ai just like a chatgpt there is still a lot of unemployment, there is still hunger, education is not evenly distributed in the world.i want to explain the positive side in the end in the end, people know like darwin's the most powerful, clever, smart, safe, who is not dead.well the problem is we homo sapiens have extraordinary awareness, cook like darwin's theory</td>\n",
              "      <td>negative</td>\n",
              "      <td>0.548964</td>\n",
              "      <td>problem indonesia ready world ready ai like chatgpt still lot unemployment still hunger education evenly distributed world want explain positive side end end people know like darwin powerful clever smart safe dead well problem homo sapiens extraordinary awareness cook like darwin theory</td>\n",
              "    </tr>\n",
              "    <tr>\n",
              "      <th>1342</th>\n",
              "      <td>Mengancam? Ngerti konsep AI gak sih? Emang ChatGPT udah berbentuk General Purpose AI? Mending bahas yg bener2 dikuasai daripada jadinya ngelawak...</td>\n",
              "      <td>Threaten?Do you understand the concept of AI?Is chatgpt already in the form of General Purpose AI?Better to discuss which is really mastered rather than being joking ...</td>\n",
              "      <td>threaten?do you understand the concept of ai?is chatgpt already in the form of general purpose ai?better to discuss which is really mastered rather than being joking ...</td>\n",
              "      <td>neutral</td>\n",
              "      <td>0.511394</td>\n",
              "      <td>threaten understand concept ai chatgpt already form general purpose ai better discuss really mastered rather joking</td>\n",
              "    </tr>\n",
              "    <tr>\n",
              "      <th>90</th>\n",
              "      <td>ketika AI merasa tersinggung</td>\n",
              "      <td>When Ai was offended</td>\n",
              "      <td>when ai was offended</td>\n",
              "      <td>negative</td>\n",
              "      <td>0.606957</td>\n",
              "      <td>ai offended</td>\n",
              "    </tr>\n",
              "    <tr>\n",
              "      <th>764</th>\n",
              "      <td>Gimana sekarang , kita bukan pilih presiden tapi pilih team AI buat memanejemen  negara???, team yah, ga ada presiden atau mentri , team AI di pilih setahun sekali</td>\n",
              "      <td>How now, we are not choosing the president but choose a team to manage the country ???, team well, there is no president or minister, team ai is chosen once a year</td>\n",
              "      <td>how now, we are not choosing the president but choose a team to manage the country ???, team well, there is no president or minister, team ai is chosen once a year</td>\n",
              "      <td>neutral</td>\n",
              "      <td>0.614769</td>\n",
              "      <td>choosing president choose team manage country team well president minister team ai chosen year</td>\n",
              "    </tr>\n",
              "  </tbody>\n",
              "</table>\n",
              "</div>\n",
              "      <button class=\"colab-df-convert\" onclick=\"convertToInteractive('df-60b80ab1-a8f1-4f4a-a0eb-0e43713ef442')\"\n",
              "              title=\"Convert this dataframe to an interactive table.\"\n",
              "              style=\"display:none;\">\n",
              "        \n",
              "  <svg xmlns=\"http://www.w3.org/2000/svg\" height=\"24px\"viewBox=\"0 0 24 24\"\n",
              "       width=\"24px\">\n",
              "    <path d=\"M0 0h24v24H0V0z\" fill=\"none\"/>\n",
              "    <path d=\"M18.56 5.44l.94 2.06.94-2.06 2.06-.94-2.06-.94-.94-2.06-.94 2.06-2.06.94zm-11 1L8.5 8.5l.94-2.06 2.06-.94-2.06-.94L8.5 2.5l-.94 2.06-2.06.94zm10 10l.94 2.06.94-2.06 2.06-.94-2.06-.94-.94-2.06-.94 2.06-2.06.94z\"/><path d=\"M17.41 7.96l-1.37-1.37c-.4-.4-.92-.59-1.43-.59-.52 0-1.04.2-1.43.59L10.3 9.45l-7.72 7.72c-.78.78-.78 2.05 0 2.83L4 21.41c.39.39.9.59 1.41.59.51 0 1.02-.2 1.41-.59l7.78-7.78 2.81-2.81c.8-.78.8-2.07 0-2.86zM5.41 20L4 18.59l7.72-7.72 1.47 1.35L5.41 20z\"/>\n",
              "  </svg>\n",
              "      </button>\n",
              "      \n",
              "  <style>\n",
              "    .colab-df-container {\n",
              "      display:flex;\n",
              "      flex-wrap:wrap;\n",
              "      gap: 12px;\n",
              "    }\n",
              "\n",
              "    .colab-df-convert {\n",
              "      background-color: #E8F0FE;\n",
              "      border: none;\n",
              "      border-radius: 50%;\n",
              "      cursor: pointer;\n",
              "      display: none;\n",
              "      fill: #1967D2;\n",
              "      height: 32px;\n",
              "      padding: 0 0 0 0;\n",
              "      width: 32px;\n",
              "    }\n",
              "\n",
              "    .colab-df-convert:hover {\n",
              "      background-color: #E2EBFA;\n",
              "      box-shadow: 0px 1px 2px rgba(60, 64, 67, 0.3), 0px 1px 3px 1px rgba(60, 64, 67, 0.15);\n",
              "      fill: #174EA6;\n",
              "    }\n",
              "\n",
              "    [theme=dark] .colab-df-convert {\n",
              "      background-color: #3B4455;\n",
              "      fill: #D2E3FC;\n",
              "    }\n",
              "\n",
              "    [theme=dark] .colab-df-convert:hover {\n",
              "      background-color: #434B5C;\n",
              "      box-shadow: 0px 1px 3px 1px rgba(0, 0, 0, 0.15);\n",
              "      filter: drop-shadow(0px 1px 2px rgba(0, 0, 0, 0.3));\n",
              "      fill: #FFFFFF;\n",
              "    }\n",
              "  </style>\n",
              "\n",
              "      <script>\n",
              "        const buttonEl =\n",
              "          document.querySelector('#df-60b80ab1-a8f1-4f4a-a0eb-0e43713ef442 button.colab-df-convert');\n",
              "        buttonEl.style.display =\n",
              "          google.colab.kernel.accessAllowed ? 'block' : 'none';\n",
              "\n",
              "        async function convertToInteractive(key) {\n",
              "          const element = document.querySelector('#df-60b80ab1-a8f1-4f4a-a0eb-0e43713ef442');\n",
              "          const dataTable =\n",
              "            await google.colab.kernel.invokeFunction('convertToInteractive',\n",
              "                                                     [key], {});\n",
              "          if (!dataTable) return;\n",
              "\n",
              "          const docLinkHtml = 'Like what you see? Visit the ' +\n",
              "            '<a target=\"_blank\" href=https://colab.research.google.com/notebooks/data_table.ipynb>data table notebook</a>'\n",
              "            + ' to learn more about interactive tables.';\n",
              "          element.innerHTML = '';\n",
              "          dataTable['output_type'] = 'display_data';\n",
              "          await google.colab.output.renderOutput(dataTable, element);\n",
              "          const docLink = document.createElement('div');\n",
              "          docLink.innerHTML = docLinkHtml;\n",
              "          element.appendChild(docLink);\n",
              "        }\n",
              "      </script>\n",
              "    </div>\n",
              "  </div>\n",
              "  "
            ]
          },
          "metadata": {},
          "execution_count": 10
        }
      ],
      "source": [
        "labeled_df[\"pra_processing_text\"] = labeled_df[\"pra_processing_text\"].apply(lambda text: remove_stopwords(text))\n",
        "labeled_df.sample(5)"
      ]
    },
    {
      "cell_type": "markdown",
      "metadata": {
        "id": "I_B91S9QjpJR"
      },
      "source": [
        "## lemmatization"
      ]
    },
    {
      "cell_type": "code",
      "execution_count": null,
      "metadata": {
        "id": "NfsLF7D1jstl",
        "colab": {
          "base_uri": "https://localhost:8080/"
        },
        "outputId": "b8ef121d-d0ff-4aaa-932d-0078cec8e632"
      },
      "outputs": [
        {
          "output_type": "stream",
          "name": "stdout",
          "text": [
            "Requirement already satisfied: nltk in /usr/local/lib/python3.10/dist-packages (3.8.1)\n",
            "Requirement already satisfied: click in /usr/local/lib/python3.10/dist-packages (from nltk) (8.1.4)\n",
            "Requirement already satisfied: joblib in /usr/local/lib/python3.10/dist-packages (from nltk) (1.3.1)\n",
            "Requirement already satisfied: regex>=2021.8.3 in /usr/local/lib/python3.10/dist-packages (from nltk) (2022.10.31)\n",
            "Requirement already satisfied: tqdm in /usr/local/lib/python3.10/dist-packages (from nltk) (4.65.0)\n"
          ]
        }
      ],
      "source": [
        "!pip install nltk"
      ]
    },
    {
      "cell_type": "code",
      "execution_count": null,
      "metadata": {
        "id": "djHMDcS0jy0R",
        "colab": {
          "base_uri": "https://localhost:8080/"
        },
        "outputId": "462c35e1-afef-4e81-9a64-6a1e5c4c7d77"
      },
      "outputs": [
        {
          "output_type": "stream",
          "name": "stderr",
          "text": [
            "[nltk_data] Downloading package punkt to /root/nltk_data...\n",
            "[nltk_data]   Package punkt is already up-to-date!\n",
            "[nltk_data] Downloading package wordnet to /root/nltk_data...\n"
          ]
        }
      ],
      "source": [
        "import nltk\n",
        "nltk.download('punkt')\n",
        "nltk.download('wordnet')\n",
        "from nltk.stem import WordNetLemmatizer\n",
        "from nltk.tokenize import word_tokenize"
      ]
    },
    {
      "cell_type": "code",
      "execution_count": null,
      "metadata": {
        "id": "hyOP81fZfdJ-",
        "colab": {
          "base_uri": "https://localhost:8080/"
        },
        "outputId": "6f83b38e-5950-4b25-82bb-761edda1de4b"
      },
      "outputs": [
        {
          "output_type": "stream",
          "name": "stdout",
          "text": [
            "I am running in the park and playing with player\n"
          ]
        }
      ],
      "source": [
        "# Fungsi stemming text berbahasa Inggris\n",
        "def lemmatisasi(text):\n",
        "  # Membuat objek WordNetLemmatizer\n",
        "  lemmatizer = WordNetLemmatizer()\n",
        "\n",
        "  # Tokenisasi kata-kata dalam teks\n",
        "  tokens = word_tokenize(text)\n",
        "\n",
        "  # Melakukan lematisasi pada setiap kata\n",
        "  lemmatized_words = [lemmatizer.lemmatize(word) for word in tokens]\n",
        "\n",
        "  # Menampilkan hasil lematisasi\n",
        "  return(\" \".join(lemmatized_words))\n",
        "\n",
        "text =  \"I am running in the park and playing with players\"\n",
        "print(lemmatisasi(text))"
      ]
    },
    {
      "cell_type": "code",
      "execution_count": null,
      "metadata": {
        "id": "2CV-gDKOf_6A",
        "colab": {
          "base_uri": "https://localhost:8080/",
          "height": 1000
        },
        "outputId": "fea72c5a-7046-4da7-f8d7-9d43a3fcb5d8"
      },
      "outputs": [
        {
          "output_type": "execute_result",
          "data": {
            "text/plain": [
              "                                                                                                                                                                                                                                                                                                                                                                                                              text_id  \\\n",
              "47   Damn..........                                                                                                                                                                                                                                                                                                                                                                                                     \n",
              "828  Basically, AI adalah algoritma yg dirancang untuk menyerupai cara saraf/ neuron bekerja. Saat ini AI masih terbatas/ narrow karena pemahaman kita mengenai cara kerja otak dan neuron masih sedikit sekali. Seorang profesor MIT patrick winston pernah mengatakan AI yg mempunyai kesadaran seperti manusia masih sangat jauh untuk direalisasikan.                                                               \n",
              "256  Skill apa yg kamu asah?                                                                                                                                                                                                                                                                                                                                                                                            \n",
              "768  Sip                                                                                                                                                                                                                                                                                                                                                                                                                \n",
              "971  Yang namanya AI itu butuh inputan data dan ga akan bisa menyamai cara berfikir manusia, se cangih apapun AI memproses permintaan ga akan pernah bisa sesempurna manusia, bedanya AI itu bisa mengingat data yang udah dia miliki , kalau manusia kadang lupa kalau ga mengulang data yang pernah di ingat contohnya mempelajari sesuatu, kadang butuh triger dulu baru bisa ingat , jd ga usah di lebih lebihkan   \n",
              "\n",
              "                                                                                                                                                                                                                                                                                                                                                                                                                                               text_en  \\\n",
              "47   Damn..........                                                                                                                                                                                                                                                                                                                                                                                                                                      \n",
              "828  Basically, AI is an algorithm that is designed to resemble the way nerves/ neurons work.At present AI is still limited/ narrow because our understanding of how the brain and neurons work are still very little.A professor of Mit Patrick Winston once said that AI who has awareness like humans is still very far to be realized.                                                                                                               \n",
              "256  What skills are you sharpening?                                                                                                                                                                                                                                                                                                                                                                                                                     \n",
              "768  Sip                                                                                                                                                                                                                                                                                                                                                                                                                                                 \n",
              "971  Whose name is AI requires data input and will not be able to match the way of human thinking, no matter how hard Ai processes the demand will never be as perfect as humans, the difference is that AI can remember the data he already has, if humans sometimes forget if they do not repeat the data that everin remembering the example of learning something, sometimes you need triger first and then remember, so you don't need to be more   \n",
              "\n",
              "                                                                                                                                                                                                                                                                                                                                                                                                                                  text_labelling_clean  \\\n",
              "47   damn..........                                                                                                                                                                                                                                                                                                                                                                                                                                      \n",
              "828  basically, ai is an algorithm that is designed to resemble the way nerves/ neurons work.at present ai is still limited/ narrow because our understanding of how the brain and neurons work are still very little.a professor of mit patrick winston once said that ai who has awareness like humans is still very far to be realized.                                                                                                               \n",
              "256  what skills are you sharpening?                                                                                                                                                                                                                                                                                                                                                                                                                     \n",
              "768  sip                                                                                                                                                                                                                                                                                                                                                                                                                                                 \n",
              "971  whose name is ai requires data input and will not be able to match the way of human thinking, no matter how hard ai processes the demand will never be as perfect as humans, the difference is that ai can remember the data he already has, if humans sometimes forget if they do not repeat the data that everin remembering the example of learning something, sometimes you need triger first and then remember, so you don't need to be more   \n",
              "\n",
              "     sentimen     score  \\\n",
              "47   negative  0.652257   \n",
              "828  neutral   0.763468   \n",
              "256  neutral   0.866328   \n",
              "768  neutral   0.580715   \n",
              "971  neutral   0.485962   \n",
              "\n",
              "                                                                                                                                                                                                                                                                  pra_processing_text  \n",
              "47   damn                                                                                                                                                                                                                                                                              \n",
              "828  basically ai algorithm designed resemble way nerve neuron work present ai still limited narrow understanding brain neuron work still little professor mit patrick winston said ai awareness like human still far realized                                                         \n",
              "256  skill sharpening                                                                                                                                                                                                                                                                  \n",
              "768  sip                                                                                                                                                                                                                                                                               \n",
              "971  whose name ai requires data input able match way human thinking matter hard ai process demand never perfect human difference ai remember data already human sometimes forget repeat data everin remembering example learning something sometimes need triger first remember need  "
            ],
            "text/html": [
              "\n",
              "  <div id=\"df-ce4b46db-1dce-4ddd-acb7-7ad99a85de51\">\n",
              "    <div class=\"colab-df-container\">\n",
              "      <div>\n",
              "<style scoped>\n",
              "    .dataframe tbody tr th:only-of-type {\n",
              "        vertical-align: middle;\n",
              "    }\n",
              "\n",
              "    .dataframe tbody tr th {\n",
              "        vertical-align: top;\n",
              "    }\n",
              "\n",
              "    .dataframe thead th {\n",
              "        text-align: right;\n",
              "    }\n",
              "</style>\n",
              "<table border=\"1\" class=\"dataframe\">\n",
              "  <thead>\n",
              "    <tr style=\"text-align: right;\">\n",
              "      <th></th>\n",
              "      <th>text_id</th>\n",
              "      <th>text_en</th>\n",
              "      <th>text_labelling_clean</th>\n",
              "      <th>sentimen</th>\n",
              "      <th>score</th>\n",
              "      <th>pra_processing_text</th>\n",
              "    </tr>\n",
              "  </thead>\n",
              "  <tbody>\n",
              "    <tr>\n",
              "      <th>47</th>\n",
              "      <td>Damn..........</td>\n",
              "      <td>Damn..........</td>\n",
              "      <td>damn..........</td>\n",
              "      <td>negative</td>\n",
              "      <td>0.652257</td>\n",
              "      <td>damn</td>\n",
              "    </tr>\n",
              "    <tr>\n",
              "      <th>828</th>\n",
              "      <td>Basically, AI adalah algoritma yg dirancang untuk menyerupai cara saraf/ neuron bekerja. Saat ini AI masih terbatas/ narrow karena pemahaman kita mengenai cara kerja otak dan neuron masih sedikit sekali. Seorang profesor MIT patrick winston pernah mengatakan AI yg mempunyai kesadaran seperti manusia masih sangat jauh untuk direalisasikan.</td>\n",
              "      <td>Basically, AI is an algorithm that is designed to resemble the way nerves/ neurons work.At present AI is still limited/ narrow because our understanding of how the brain and neurons work are still very little.A professor of Mit Patrick Winston once said that AI who has awareness like humans is still very far to be realized.</td>\n",
              "      <td>basically, ai is an algorithm that is designed to resemble the way nerves/ neurons work.at present ai is still limited/ narrow because our understanding of how the brain and neurons work are still very little.a professor of mit patrick winston once said that ai who has awareness like humans is still very far to be realized.</td>\n",
              "      <td>neutral</td>\n",
              "      <td>0.763468</td>\n",
              "      <td>basically ai algorithm designed resemble way nerve neuron work present ai still limited narrow understanding brain neuron work still little professor mit patrick winston said ai awareness like human still far realized</td>\n",
              "    </tr>\n",
              "    <tr>\n",
              "      <th>256</th>\n",
              "      <td>Skill apa yg kamu asah?</td>\n",
              "      <td>What skills are you sharpening?</td>\n",
              "      <td>what skills are you sharpening?</td>\n",
              "      <td>neutral</td>\n",
              "      <td>0.866328</td>\n",
              "      <td>skill sharpening</td>\n",
              "    </tr>\n",
              "    <tr>\n",
              "      <th>768</th>\n",
              "      <td>Sip</td>\n",
              "      <td>Sip</td>\n",
              "      <td>sip</td>\n",
              "      <td>neutral</td>\n",
              "      <td>0.580715</td>\n",
              "      <td>sip</td>\n",
              "    </tr>\n",
              "    <tr>\n",
              "      <th>971</th>\n",
              "      <td>Yang namanya AI itu butuh inputan data dan ga akan bisa menyamai cara berfikir manusia, se cangih apapun AI memproses permintaan ga akan pernah bisa sesempurna manusia, bedanya AI itu bisa mengingat data yang udah dia miliki , kalau manusia kadang lupa kalau ga mengulang data yang pernah di ingat contohnya mempelajari sesuatu, kadang butuh triger dulu baru bisa ingat , jd ga usah di lebih lebihkan</td>\n",
              "      <td>Whose name is AI requires data input and will not be able to match the way of human thinking, no matter how hard Ai processes the demand will never be as perfect as humans, the difference is that AI can remember the data he already has, if humans sometimes forget if they do not repeat the data that everin remembering the example of learning something, sometimes you need triger first and then remember, so you don't need to be more</td>\n",
              "      <td>whose name is ai requires data input and will not be able to match the way of human thinking, no matter how hard ai processes the demand will never be as perfect as humans, the difference is that ai can remember the data he already has, if humans sometimes forget if they do not repeat the data that everin remembering the example of learning something, sometimes you need triger first and then remember, so you don't need to be more</td>\n",
              "      <td>neutral</td>\n",
              "      <td>0.485962</td>\n",
              "      <td>whose name ai requires data input able match way human thinking matter hard ai process demand never perfect human difference ai remember data already human sometimes forget repeat data everin remembering example learning something sometimes need triger first remember need</td>\n",
              "    </tr>\n",
              "  </tbody>\n",
              "</table>\n",
              "</div>\n",
              "      <button class=\"colab-df-convert\" onclick=\"convertToInteractive('df-ce4b46db-1dce-4ddd-acb7-7ad99a85de51')\"\n",
              "              title=\"Convert this dataframe to an interactive table.\"\n",
              "              style=\"display:none;\">\n",
              "        \n",
              "  <svg xmlns=\"http://www.w3.org/2000/svg\" height=\"24px\"viewBox=\"0 0 24 24\"\n",
              "       width=\"24px\">\n",
              "    <path d=\"M0 0h24v24H0V0z\" fill=\"none\"/>\n",
              "    <path d=\"M18.56 5.44l.94 2.06.94-2.06 2.06-.94-2.06-.94-.94-2.06-.94 2.06-2.06.94zm-11 1L8.5 8.5l.94-2.06 2.06-.94-2.06-.94L8.5 2.5l-.94 2.06-2.06.94zm10 10l.94 2.06.94-2.06 2.06-.94-2.06-.94-.94-2.06-.94 2.06-2.06.94z\"/><path d=\"M17.41 7.96l-1.37-1.37c-.4-.4-.92-.59-1.43-.59-.52 0-1.04.2-1.43.59L10.3 9.45l-7.72 7.72c-.78.78-.78 2.05 0 2.83L4 21.41c.39.39.9.59 1.41.59.51 0 1.02-.2 1.41-.59l7.78-7.78 2.81-2.81c.8-.78.8-2.07 0-2.86zM5.41 20L4 18.59l7.72-7.72 1.47 1.35L5.41 20z\"/>\n",
              "  </svg>\n",
              "      </button>\n",
              "      \n",
              "  <style>\n",
              "    .colab-df-container {\n",
              "      display:flex;\n",
              "      flex-wrap:wrap;\n",
              "      gap: 12px;\n",
              "    }\n",
              "\n",
              "    .colab-df-convert {\n",
              "      background-color: #E8F0FE;\n",
              "      border: none;\n",
              "      border-radius: 50%;\n",
              "      cursor: pointer;\n",
              "      display: none;\n",
              "      fill: #1967D2;\n",
              "      height: 32px;\n",
              "      padding: 0 0 0 0;\n",
              "      width: 32px;\n",
              "    }\n",
              "\n",
              "    .colab-df-convert:hover {\n",
              "      background-color: #E2EBFA;\n",
              "      box-shadow: 0px 1px 2px rgba(60, 64, 67, 0.3), 0px 1px 3px 1px rgba(60, 64, 67, 0.15);\n",
              "      fill: #174EA6;\n",
              "    }\n",
              "\n",
              "    [theme=dark] .colab-df-convert {\n",
              "      background-color: #3B4455;\n",
              "      fill: #D2E3FC;\n",
              "    }\n",
              "\n",
              "    [theme=dark] .colab-df-convert:hover {\n",
              "      background-color: #434B5C;\n",
              "      box-shadow: 0px 1px 3px 1px rgba(0, 0, 0, 0.15);\n",
              "      filter: drop-shadow(0px 1px 2px rgba(0, 0, 0, 0.3));\n",
              "      fill: #FFFFFF;\n",
              "    }\n",
              "  </style>\n",
              "\n",
              "      <script>\n",
              "        const buttonEl =\n",
              "          document.querySelector('#df-ce4b46db-1dce-4ddd-acb7-7ad99a85de51 button.colab-df-convert');\n",
              "        buttonEl.style.display =\n",
              "          google.colab.kernel.accessAllowed ? 'block' : 'none';\n",
              "\n",
              "        async function convertToInteractive(key) {\n",
              "          const element = document.querySelector('#df-ce4b46db-1dce-4ddd-acb7-7ad99a85de51');\n",
              "          const dataTable =\n",
              "            await google.colab.kernel.invokeFunction('convertToInteractive',\n",
              "                                                     [key], {});\n",
              "          if (!dataTable) return;\n",
              "\n",
              "          const docLinkHtml = 'Like what you see? Visit the ' +\n",
              "            '<a target=\"_blank\" href=https://colab.research.google.com/notebooks/data_table.ipynb>data table notebook</a>'\n",
              "            + ' to learn more about interactive tables.';\n",
              "          element.innerHTML = '';\n",
              "          dataTable['output_type'] = 'display_data';\n",
              "          await google.colab.output.renderOutput(dataTable, element);\n",
              "          const docLink = document.createElement('div');\n",
              "          docLink.innerHTML = docLinkHtml;\n",
              "          element.appendChild(docLink);\n",
              "        }\n",
              "      </script>\n",
              "    </div>\n",
              "  </div>\n",
              "  "
            ]
          },
          "metadata": {},
          "execution_count": 14
        }
      ],
      "source": [
        "labeled_df[\"pra_processing_text\"] = labeled_df[\"pra_processing_text\"].apply(lambda text: lemmatisasi(text))\n",
        "labeled_df.sample(5)"
      ]
    },
    {
      "cell_type": "code",
      "execution_count": null,
      "metadata": {
        "id": "QL14q0TwhjRp",
        "colab": {
          "base_uri": "https://localhost:8080/"
        },
        "outputId": "b8528716-78f7-4e5f-f10a-1314f935585b"
      },
      "outputs": [
        {
          "output_type": "stream",
          "name": "stdout",
          "text": [
            "Banyaknya nilai string kosong: 0\n",
            "Sisa baris: 1450\n"
          ]
        }
      ],
      "source": [
        "# Membersihkan baris dengan nilai string kosong (\"\")\n",
        "labeled_df =  labeled_df[labeled_df['pra_processing_text'] != '']\n",
        "print(f\"Banyaknya nilai string kosong: {(labeled_df['pra_processing_text'] == '').sum()}\")\n",
        "print(f\"Sisa baris: {labeled_df.shape[0]}\")"
      ]
    },
    {
      "cell_type": "markdown",
      "metadata": {
        "id": "NeuuUVjKtiyG"
      },
      "source": [
        "## Penghapusan kata yg paling sering dan jarang muncul"
      ]
    },
    {
      "cell_type": "code",
      "execution_count": null,
      "metadata": {
        "id": "H7o5O11ythtE",
        "colab": {
          "base_uri": "https://localhost:8080/"
        },
        "outputId": "c08e0038-e2a5-4e26-eded-75121e8743ee"
      },
      "outputs": [
        {
          "output_type": "stream",
          "name": "stdout",
          "text": [
            "Jumlah kata: 22254\n",
            "Jumlah kata yang unik: 4541\n",
            "Kata-kata unik yang hanya muncul sekali: ['awokwokwok', 'preaching', 'becauselazy', 'delusion', 'brookman', 'greg', 'stupidmake', 'regulate', 'investor', 'fomo', 'extent', 'bye', 'hhhhhh', 'ngap', 'saitama', 'durable', 'panel', 'la', 'prefer', 'anger', 'narrated', 'hapsah', 'moon', 'agung', 'fanmade', 'deeply', 'existency', 'depp', 'westerner', 'truly', 'abstract', 'exceed', 'johnny', 'wong', 'resemble', 'inventor', 'installed', 'illustration', 'solar', 'quantity', 'regional', 'winston', 'gross', 'divorced', 'nnas', 'bethe', 'ridiculed', 'milk', 'spectator', 'mit', 'kaya', 'fitting', 'prank', 'semester', 'regression', 'hahahaaa', 'apply', 'obot', 'wing', 'refraining', 'alhamdulillah', 'gmn', 'joking', 'axis', 'retire', 'laid', 'manga', 'narrow', 'moneyai', 'andused', 'motor', 'objection', 'motorized', 'transcendence', 'meritocracy', 'nu', 'curve', 'barudit', 'divorce', 'brake', 'instruction', 'pole', 'beard', 'kiss', 'elderly', 'burned', 'prosper', 'institution', 'implant', 'mbludak', 'buka', 'strategic', 'ironically', 'reproduced', 'governor', 'terrorist', 'confined', 'flare', 'negatively', 'flow', 'bossdarling', 'diesel', 'accent', 'bukalapak', 'forbenefit', 'deadlocked', 'forever', 'mathematics', 'personworkers', 'diploma', 'pest', 'employing', 'weighted', 'enhanced', 'diliat', 'wibu', 'fantasy', 'sembung', 'encode', 'everin', 'waduhhhhcccc', 'tip', 'serve', 'constitution', 'freedom', 'racial', 'quiet', 'indicator', 'execution', 'terror', 'behave', 'sided', 'rat', 'purchased', 'trustworthy', 'millionaire', 'silenced', 'downloaded', 'endangered', 'eps', 'soulmachines', 'chewed', 'dn', 'troop', 'mama', 'mudeng', 'index', 'likesand', 'defending', 'discapes', 'metices', 'emitted', 'ojol', 'descendant', 'cli', 'madeonly', 'spirite', 'meritrocacy', 'countryside', 'western', 'rambo', 'june', 'greatness', 'ut', 'uas', 'nextgen', 'arrange', 'aka', 'ampe', 'neanderthal', 'fian', 'formulated', 'homisapiens', 'algebra', 'dear', 'sensing', 'isilove', 'friday', 'mysterious', 'dredging', 'analyzing', 'literally', 'congratulation', 'neuralink', 'disrupt', 'disbursement', 'ofc', 'nd', 'aslina', 'touching', 'bed', 'bathroom', 'automaticallyfollowing', 'lump', 'flesh', 'bone', 'nich', 'hanseng', 'stuttering', 'armagedon', 'max', 'machinist', 'bat', 'tax', 'mine', 'flafty', 'staff', 'snowball', 'bird', 'south', 'yourselfsuch', 'cry', 'pure', 'calculating', 'married', 'reluctant', 'youfinding', 'chatgp', 'laterthe', 'allowing', 'operating', 'diligent', 'realistically', 'fallasi', 'operate', 'infrastructure', 'utilizes', 'wth', 'airport', 'founder', 'vocational', 'trend', 'draft', 'worrying', 'thinker', 'distracted', 'bookkeeping', 'radioactive', 'densely', 'exploded', 'pull', 'peace', 'turning', 'rckefller', 'aiha', 'spill', 'dying', 'bible', 'fallacy', 'advertisement', 'farther', 'favor', 'gratitude', 'treated', 'overhauled', 'warned', 'destitute', 'intilegen', 'sticky', 'happening', 'agreeing', 'wyatt', 'cheng', 'undermine', 'admitted', 'judimonline', 'pretend', 'throne', 'dredge', 'wanting', 'blackberry', 'disruptive', 'ocean', 'tall', 'keukeuh', 'yural', 'whining', 'hellbecause', 'conservative', 'isit', 'progressive', 'suspicious', 'yang', 'obsolete', 'oops', 'knowledgeadding', 'yin', 'bubble', 'improved', 'barakallah', 'thx', 'indirect', 'journalism', 'poetry', 'becausebasically', 'cloning', 'killing', 'worksgod', 'campaign', 'contains', 'plea', 'nanometer', 'todaywill', 'framing', 'cursing', 'beimpact', 'boom', 'anies', 'expletive', 'witness', 'nanomachine', 'hatespeech', 'rebellion', 'classified', 'lulled', 'indoctrinated', 'unpopular', 'option', 'introduction', 'twin', 'cooker', 'prik', 'mucus', 'departed', 'humansjust', 'window', 'rd', 'trader', 'moonfall', 'phoenix', 'croge', 'welder', 'represent', 'administration', 'urban', 'censorship', 'diste', 'chatgtp', 'bar', 'arousing', 'cashier', 'joaquin', 'withai', 'wishing', 'toto', 'thresher', 'planting', 'bureaucracy', 'patent', 'yoi', 'debated', 'agrees', 'coin', 'bridge', 'bacog', 'lah', 'tau', 'anxiety', 'hoard', 'bimo', 'pulled', 'dont', 'faithfulness', 'doll', 'risen', 'consume', 'closedai', 'heartconscience', 'none', 'socializing', 'generalizing', 'driver', 'organization', 'nasa', 'guess', 'continuously', 'analysishumans', 'fantastic', 'direction', 'tegmark', 'voluntarily', 'humanjust', 'expression', 'builder', 'notlimited', 'ailike', 'seaall', 'air', 'shuttle', 'aia', 'sok', 'gausah', 'enlarged', 'reliable', 'distance', 'charged', 'riot', 'toh', 'interrupted', 'automotive', 'freelance', 'intervened', 'reviewer', 'automaton', 'patterful', 'laborer', 'assumption', 'repetitive', 'tortured', 'debugging', 'revelation', 'googling', 'minimizes', 'ni', 'anticris', 'naaaah', 'msmes', 'cheap', 'shopping', 'fulfillment', 'purchasing', 'retailer', 'legally', 'avoided', 'jal', 'tribe', 'unemployed', 'nya', 'forte', 'bukan', 'kalo', 'speaks', 'aa', 'ruin', 'withdraw', 'sensation', 'useveryone', 'optimally', 'offered', 'uploaded', 'restaurant', 'dani', 'yutuber', 'cessation', 'contributed', 'unwittingly', 'boring', 'warthe', 'intimidated', 'entry', 'innovative', 'pokemon', 'content\\u200d⌨', 'duuuuuu', 'pesticide', 'stuff', 'kasali', 'supervised', 'culprit', 'fullcopas', 'abscess', 'collecting', 'appreciated', 'cooperates', 'surgical', 'surgery', 'sending', 'vegetarian', 'mar', 'notdurable', 'movement', 'profit', 'tutorial', 'printing', 'cruel', 'renald', 'notproblem', 'collective', 'asleep', 'depended', 'individually', 'clay', 'alert', 'genos', 'paramets', 'mall', 'grave', 'hiden', 'ca', 'vacation', 'incidentally', 'blockchain', 'wallm', 'estimate', 'krab', 'inspiration', 'com', 'measured', 'adapting', 'talkative', 'bravo', 'senantia', 'mitigate', 'dst', 'agent', 'infiltrated', 'incorrectly', 'tighten', 'chrome', 'occasionally', 'brics', 'meth', 'lottery', 'dpr', 'garry', 'influencers', 'relying', 'activate', 'wifelike', 'spooky', 'posted', 'madness', 'sign', 'traffic', 'controversy', 'lotseeing', 'immoral', 'prngraphy', 'browsing', 'looked', 'covid', 'tull', 'kmputer', 'lab', 'banking', 'rvolution', 'atlantis', 'exploration', 'wuning', 'tease', 'editing', 'coordinate', 'provoked', 'european', 'tooexample', 'progressing', 'complacent', 'telephone', 'isafter', 'sensor', 'testing', 'cognition', 'psychomotor', 'ud', 'netscape', 'mosaic', 'stagnation', 'straightforward', 'available', 'day°', 'detrimental', '°judgement', 'tokforecasting', 'nggedabrusss', 'actuator', 'hallucinate', 'refused', 'unpredictable', 'hacked', 'hooked', 'flowing', 'ryu', 'asthma', 'epilepsy', 'tumor', 'bucket', 'matching', 'river', 'alexa', 'autocorrection', 'house', 'sentigent', 'note', 'gone', 'theneflik', 'introduced', 'cinema', 'gather', 'collect', 'tightened', 'dollar', 'dock', 'requset', 'unscientific', 'evidence', 'wfh', 'boomerang', 'upheld', 'positively', 'alita', 'releasing', 'kt', 'chromium', 'operational', 'distinguished', 'aga', 'mimic', 'antique', 'digested', 'intonation', 'handmade', 'peads', 'picked', 'dividing', 'iba', 'hood', 'turbo', 'pertamaxx', 'psychologist', 'ttt', 'differentiate', 'attractive', 'delivering', 'negligence', 'chanel', 'loudly', 'ahahahha', 'ruet', 'snagat', 'glad', 'goo', 'insightful', 'dialectic', 'layman', 'loophole', 'tv', 'victory', 'lay', 'coldfusion', 'king', 'blank', 'destructive', 'humanoid', 'pinned', 'filtering', 'yajus', 'receiving', 'm̤a̤n̤ṳs̤i̤a̤', 'majus', 'm̤e̤m̤ṳs̤n̤a̤h̤k̤̤ṳn̤', 'a̤k̤a̤n̤', 'glimpsed', 'a̤i̤', 'browse', 's̤a̤a̤t̤', 's̤ṳa̤t̤ṳ', 'booming', 'runwayapp', 'mantab', 'swallowing', 'sbner', 'round', 'java', 'dizzy', 'paint', 'kmren', 'mlm', 'niteni', 'titen', 'sama', 'shift', 'successful', 'blessing', 'aiac', 'displaced', 'broad', 'livery', 'laugh', 'fiery', 'combination', 'hypnosis', 'supporting', 'fiscal', 'disruption', 'traded', 'zelensky', 'leak', 'central', 'international', 'cult', 'popular', 'sizable', 'bringing', 'swinging', 'indicated', 'kepo', 'region', 'awesome', 'upside', 'hal', 'criticized', 'observed', 'thorough', 'blamed', 'private', 'leap', 'kulli', 'convincing', 'traids', 'ala', 'check', 'shown', 'inserted', 'weigh', 'narration', 'trusted', 'mastering', 'intensively', 'detecting', 'buddy', 'insecure', 'disability', 'fill', 'fe', 'epidemic', 'lahi', 'tipping', 'diving', 'designation', 'dosky', 'kadit', 'vian', 'asib', 'awaits', 'scarymastered', 'gas', 'purely', 'ki', 'lo', 'screen', 'poetic', 'blackboard', 'mbulet', 'prpfesor', 'mumet', 'koyo', 'near', 'puyer', 'star', 'toedjoe', 'gae', 'shock', 'affective', 'capability', 'uncommon', 'italy', 'pd', 'sad', 'epic', 'communicating', 'shortcut', 'kalimantan', 'candidate', 'city', 'inclined', 'surrogate', 'greed', 'teller', 'receptionist', 'broadcaster', 'questionswho', 'banned', 'backpropagation', 'yak', 'ayooo', 'november', 'datavery', 'disappeared', 'odd', 'mala', 'soo', 'adjusts', 'implies', 'harder', 'thisonly', 'requirement', 'variation', 'interfere', 'transmart', 'injustice', 'exploitation', 'music', 'shy', 'regulator', 'inthe', 'experienced', 'informatics', 'robotics', 'supervisor', 'lighter', 'fourth', 'phone', 'telegraph', 'transportation', 'export', 'repeatedly', 'standardization', 'pathway', 'logistics', 'yabang', 'rapak', 'disturbed', 'passion', 'scattered', 'sworn', 'hypnotized', 'hatred', 'enlivening', 'accompany', 'sycophant', 'beware', 'going', 'despite', 'adaptive', 'opportunist', 'enabling', 'bear', 'lupaukadinet', 'anjer', 'kk', 'starbuck', 'existed', 'excitement', 'office', 'reportedly', 'mermaid', 'halah', 'edgy', 'photocopy', 'ktp', 'newborn', 'remembers', 'predictive', 'colonialism', 'programing', 'pid', 'march', 'programable', 'admiring', 'sybil', 'darling', 'fooled', 'blossoming', 'fortify', 'foolish', 'heyday', 'abroad', 'mitigation', 'suspension', 'definite', 'onlythink', 'sane', 'plc', 'friendly', 'guilty', 'sophia', 'ya', 'april', 'deployed', 'deployment', 'architecture', 'building', 'attract', 'flexible', 'vaccine', 'themed', 'enlighten', 'thrashing', 'wearing', 'protein', 'livelihood', 'bioinformatics', 'cnbc', 'nuke', 'desktop', 'nvidia', 'semngat', 'forth', 'aamiin', 'spatial', 'shame', 'omnivers', 'getwhat', '—', 'generic', 'acknowledged', 'sekidar', 'html', 'equipped', 'hosting', 'assembly', 'marked', 'calliling', 'enlightenment', 'bodh', 'obesity', 'excessively', 'pushing', 'greatest', 'outi', 'capable', 'recipe', 'enslave', 'bakwan', 'breath', 'recipecatfish', 'yep', 'randomi', 'integrating', 'deceive', 'slam', 'awaited', 'illuminating', 'startup', 'weightnot', 'forming', 'evili', 'absolutely', 'verbal', 'emerged', 'verified', 'answersbut', 'neutralokay', 'usehe', 'double', 'grinding', 'schedulebut', 'blunder', 'nij', 'gap', 'governed', 'discovered', 'universal', 'wulullingggg', 'trail', 'armed', 'gooddddd', 'captcha', 'seller', 'yesthe', 'mql', 'fed', 'leeage', 'copaste', 'tasting', 'concentration', 'thrown', 'scholar', 'hadee', 'accomplice', 'exploring', 'erathis', 'intent', 'gem', 'bosdarling', 'arrest', 'sentenced', 'cctv', 'emergency', 'farming', 'assessor', 'superior', 'enforcement', 'monitoring', 'ceremony', 'workersin', 'skiling', 'continued', 'essay', 'combustion', 'kog', 'narrate', 'pleasing', 'inaccurate', 'outline', 'panic', 'fashion', 'wuling', 'generated', 'businessman', 'slack', 'banggg', 'supposing', 'fart', 'availability', 'hmmmm', 'ammo', 'increased', 'irony', 'loom', 'rare', 'notdestroy', 'ak', 'rope', 'sechewarmager', 'spinning', 'guarding', 'jenny', 'bekasi', 'pray', 'arnolot', 'ups', 'regulates', 'spend', 'masyaalloh', 'abi', 'qu', 'r', 'brass', 'wireless', 'diverse', 'grade', 'zoom', 'classroom', 'telegram', 'tutor', 'openi', 'uduk', 'dstrs', 'moneywhen', 'optimistic', 'falsity', 'talib', 'hyle', 'dul', 'illahi', 'haleluya', 'election', 'scale', 'burn', 'saber', 'authenticity', 'dividend', 'deaches', 'transfer', 'verify', 'evidenced', 'scripture', 'jaka', 'hurry', 'ver', 'philosophy', 'galaxy', 'tdi', 'risky', 'itthis', 'bound', 'entrepreneur', 'feminist', 'toxic', 'masculinitty', 'philosophically', 'sociologically', 'efficacy', 'leaf', 'midwife', 'hiv', 'meta', 'cured', 'cosmic', 'ranging', 'butto', 'rebuttal', 'questionwhy', 'endangering', 'convey', 'solely', 'plug', 'vigilant', 'omongkosong', 'plunge', 'commercial', 'orphan', 'astonished', 'uproar', 'accelerate', 'silicon', 'processor', 'trillion', 'unrest', 'sociological', 'becauseorg', 'add', 'rain', 'tmn', 'bachelor', 'pace', 'behaving', 'ringing', 'protest', 'primary', 'secondary', 'tertiary', 'motif', 'sovereignty', 'inversely', 'proportional', 'established', 'handling', 'worst', 'champion', 'soccer', 'statusor', 'lamp', 'psychology', 'sii', 'crucial', 'verge', 'footstep', 'aladin', 'grant', 'lampyman', 'extension', 'offending', 'idealist', 'farhave', 'regime', 'noted', 'pig', 'kaspersky', 'dmna', 'hide', 'humanai', 'sing', 'diplomatically', 'discipline', 'cinematic', 'gimmick', 'qibla', 'cinematography', 'pesinetron', 'highlighted', 'flavor', 'healing', 'fever', 'paradoxgpt', 'joker', 'appreciate', 'commentator', 'digest', 'commenting', 'marijuana', 'alkhamdulillah', 'putin', 'potentially', 'arising', 'integration', 'contemporary', 'driven', 'precaution', 'wonder', 'intelligenceartificial', 'suggested', 'megan', 'stupidchatgpt', 'conversely', 'solving', 'interaction', 'hatur', 'nuhun', 'siraru', 'mah', 'nteu', 'surround', 'aneyo', 'rejection', 'jusuf', 'hamka', 'willy', 'closed', 'committing', 'prioritize', 'diyoutube', 'dy', 'dna', 'affecting', 'brainwashing', 'educates', 'servant', 'flim', 'glowing', 'mobile', 'refresh', 'republic', 'ailet', 'koeli', 'anxious', 'harmonious', 'developmentage', 'produceruseful', 'skaligus', 'mandiri', 'brani', 'ygpaid', 'khan', 'employed', 'thoughyar', 'hampear', 'inri', 'mmbisu', 'chatg', 'conspiracy', 'cosmos', 'center', 'ousama', 'labirin', 'warming', 'studied', 'burdening', 'desired', 'ngoding', 'vers', 'ui', 'adjustment', 'disabled', 'stable', 'signthere', 'unstable', 'patch', 'medicine', '\\u200cvivy', 'fluorite', 'autonomously', 'climate', 'approximately', 'battery', 'dota', 'chimpanzee', 'kidding', 'broom', 'ny', 'minangkabau', 'animation', 'unexpected', 'california', 'mere', 'zaitun', 'boarding', 'kopongthe', 'relief', 'dark', 'slanderous', 'pondering', 'nobita', 'deviation', 'ranking', 'clarified', 'ۖ', 'وَإِنْ', 'يَسْلُبْهُمُ', 'الذُّبَابُ', 'شَيْئpers', 'َطْلُوبُ', 'parable', 'seize', 'reclaim', 'worshiped', 'surah', 'ḥajj', 'practically', 'avenger', 'shaykh', 'imran', 'nazar', 'اجْتَمَعُوا', 'وَلَوِ', 'ابًا', 'النَّاسُ', 'expanded', 'bleng', 'aibut', 'listenalthough', 'deadline', 'contestedيَا', 'أَيُّهَا', 'ضُرِبَ', 'دُونِ', 'مَثلٌ', 'فَاسْتَمِعُوا', 'ۚ', 'إِنَّ', 'الَّذِينَ', 'تَدْعُونَ', 'مِنْ', 'intellect', 'sampling', 'hoaks', 'qualitatitf', 'dam', 'gave', 'recognized', 'ruled', 'representative', 'paired', 'aligned', 'sale', 'client', 'cheapest', 'press', 'accountant', 'harsh', 'meaningless', 'eternal', 'blemish', 'slavery', 'holy', 'arrived', 'opposition', 'participated', 'season', 'failure', 'throw', 'rp', 'registration', 'nobody', 'camepoor', 'village', 'godany', 'advised', 'outthe', 'sick', 'forbidden', 'destroying', 'addressed', 'menejenju', 'liberated', 'reset', 'resetting', 'refusal', 'perimeter', 'intends', 'remaining', 'replying', 'combat', 'head', 'sepusing', 'atheis', 'paspokan', 'skyline', 'rebelled', 'hunted', 'ngadepin', 'bully', 'opposed', 'squad', 'ultimate', 'sheep', 'studio', 'wretched', 'tile', 'tree', 'futuristic', 'wkkk', 'concert', 'ancoookkk', 'letting', 'comply', 'pit', 'protection', 'openly', 'slop', 'nm', 'fabrication', 'cleaned', 'prohibit', 'adoption', 'widespread', 'withstand', 'reactive', 'responded', 'ngalah', 'netijen', 'gun', 'react', 'shocked', 'vital', 'muscle', 'cyber', 'clean', 'fellow', 'satpol', 'neatly', 'frightening', 'unchecked', 'spying', 'lampat', 'mamaaaa', 'geming', 'qoxxxxxxi', 'remove', 'monitored', 'strictly', 'helpand', 'brother', 'anticipated', 'antidote', 'pet', 'byk', 'okirx', 'unfamiliar', 'hi', 'kopi', 'pasta', 'yt', 'transcript', 'apa', 'surebarely', 'interested', 'yutub', 'bruh', 'admits', 'cutpaste', 'ngab', 'official', 'replied', 'sleepy', 'cupu', 'mapping', 'exclude', 'altogether', 'robbery', 'robber', 'nodongin', 'writes', 'vtuber', 'streamer', 'articulation', 'ignored', 'operator', 'blame', 'yha', 'persuasive', 'reader', 'copied', 'mecha', 'resistance', 'unification', 'rumored', 'troubling', 'nolep', 'kid', 'alex', 'bizer', 'dart', 'kotlin', 'ledger', 'thunder', 'exceeds', 'boyfriend', 'hode', 'fig', 'dg', 'masiv', 'productive', 'reneisanship', 'industrialization', 'concluding', 'concludes', 'shrink', 'span', 'otherwise', 'unity', 'gembulhow', 'devotion', 'worshiping', 'arrogant', 'graduated', 'whattttt', 'nutrition', 'significantly', 'exceeded', 'privacy', 'assisting', 'providing', 'phishing', 'scheme', 'involving', 'policy', 'relation', 'unfair', 'grand', 'inappropriately', 'minimizing', 'rely', 'surface', 'darkweb', 'interior', 'djajal', 'release', 'baper', 'frustrated', 'bgst', 'heeeelllll', 'ohh', 'maahhh', 'gawwdd', 'gpp', 'heiiii', 'anda', 'haliiiig', 'whaaaatt', 'siah', 'tuh', 'abbreviated', 'ounce', 'manipulative', 'hunger', '\\U0001fae3', 'thee', 'wuttdehelll', 'legalization', 'fearful', 'senpi', 'yakali', 'arnold', 'sanitizer', 'tof', 'wtf', 'aid', 'whaaaaattt', 'hegemony', 'thheeeeee', 'heeellllllllll', 'naaahhhhhh', 'lol', 'fairy', 'tale', 'promise', 'ivtuber', 'spoke', 'valid', 'shifted', 'sleeplast', 'permanent', 'watermark', 'mna', 'counterfeit', 'incomplete', 'jockey', 'acc', 'gptthe', 'shuddered', 'horror', 'shuddering', 'jdi', 'aidon', 'arrive', 'kurleb', 'harge', 'overflow', 'container', 'smh', 'esteem', 'swap', 'lg', 'resembles', 'terrifying', 'livestock', 'trailer', 'occult', 'interacting', 'justification', 'rolled', 'subsidized', 'unconsciously', 'introspection', 'gate', 'guard', 'blooming', 'sophisticationthe', 'hone', 'coheren', 'guideline', 'genesis', 'hahaha', 'pursue', 'fortunate', 'sharpening', 'mindblowing', 'hypocrite', 'ihhh', 'yah', 'jealousy', 'batu', 'jew', 'smartphone', 'raise', 'convinced', 'avoids', 'detection', 'spiritual', 'ei', 'machina', 'special', 'existbut', 'adulthood', 'justify', 'goalsmaybe', 'selfish', 'earthfrom', 'escape', 'moresafebut', 'ex', 'swordsmaybe', 'serverhumans', 'againand', 'yakjuj', 'makjuj', 'syllabus', 'worldtaken', 'winner', 'circumstance', 'contradiction', 'battle', 'surpasses', 'koplak', 'fanatical', 'afternoon', 'urine', 'formality', 'fairytale', 'observe', 'carrying', 'juggling', 'decode', 'convert', 'encrypted', 'fundamental', 'locked', 'faced', 'belpotan', 'massage', 'tingle', 'kebathilandepending', 'drink', 'three', 'successfully', 'buying', 'quota', 'coment', 'noteriii', 'gembul\\u200d', 'undeniable', 'camp', 'ink', 'cohh', 'di', 'adsense', 'wide', 'smiling', 'receives', 'salaus', 'isarat', 'arc', 'conventional', 'iam', 'pilem', 'illusion', 'proposes', 'calculate', 'restoring', 'exponential', 'absence', 'malvarenya', 'logicai', 'stealth', 'maxud', 'revolutionary', 'burayak', 'alogarithm', 'adrenaline', 'bsi', 'contested', 'datait', 'turkey', 'cetik', 'philosophical', 'trusting', 'assalamualaikumdiscuss', 'nursi', 'ust', 'fighter', 'ouy', 'watson', 'yeee', 'pr', 'gw', 'mau', 'nosy', 'bls', 'delicious', 'husein', 'penomenon', 'report', 'barn', 'fairyland', 'bangke', 'accumulate', 'albert', 'hanupis', 'emng', 'demit', 'admire', 'dlu', 'teleportation', 'visual', 'harp', 'devicesand', 'qolbu', 'eistein', 'achieved', 'supported', 'fabricated', 'exiled', 'disobey', 'asteroid', 'technologyal', 'outcome', 'talent', 'rdate', 'photo', 'buried', 'youtubers', 'nubruk', 'crony', 'animatrix', 'writer', 'irobot', 'sjw', 'inviting', 'quora', 'rebel', 'exemplification', 'haveachieve', 'invisible', 'sustainability', 'cultural', 'diversity', 'plenary', 'clue', 'intend', 'uniform', 'sara', 'passionate', 'eg', 'neighboring', 'neighbor', 'egg', 'chicken', 'spurred', 'rotting', 'planned', 'mjd', 'grateful', 'tq', 'psw', 'putih', 'saved', 'firm', 'footing', 'wandering', 'dislike', 'tihati', 'realmadrid', 'zetsu', 'esuatu', 'suga', 'gj', 'attend', 'bahas', 'ea', 'annoying', 'boat', 'navy', 'mastermind', 'jilboob', 'primate', 'compulsion', 'finishing', 'kamen', 'gugel', 'vine', 'animated', 'wunt', 'extensive', 'flynn', 'uatamnya', 'accumulative', 'collaborate', 'inefficient', 'waste', 'belgium', 'brainwritten', 'sake', 'smartphones', 'laptop', 'tastesfor', 'strengthened', 'crazier', 'dune', 'letsgoooo', 'unplug', 'shortage', 'kindness', 'threatas', 'aiwhich', 'educationenough', 'slowrespondrather', 'defeating', 'giant', 'companyso', 'sedative', 'professmeans', 'reputation', 'dating', 'evolved', 'curriculumas', 'cybork', 'simpler', 'hassle', 'intact', 'volcano', 'parallel', 'forgotten', 'k', 'flood', 'bury', 'wahhh', 'lgi', 'shine', 'brightly', 'massacre', 'agothat', 'aioh', 'mudany', 'package', 'deletes', 'plier', 'sekte', 'sibyl', 'gut', 'askedoral', 'doused', 'modar', 'file', 'follower', 'searched', 'sin', 'gatau', 'assistance', 'bigger', 'timeto', 'charles', 'rank', 'table', 'ci', 'viral', 'kitt', 'machinelearning', 'recording', 'yuan', 'dirt', 'asset', 'technologyhuman', 'beingridiculous', 'complaining', 'reduces', 'nightmare', 'baymax', 'xd', 'arethreat', 'decisive', 'illogical', 'pursuing', 'deeplearning', 'recommendersystem', 'negotiation', 'worldview', 'indrawa', 'avoiding', 'toddler', 'stressed', 'sambi', 'provides', 'relaxed', 'evaluation', 'theology', 'collision', 'authority', 'diagnosis', 'vitorsigns', 'ratio', 'filling', 'independence', 'metaphysic', 'glory', 'artificialintelligence', 'naturallanguageprocessing', 'knight', 'speechrecognition', 'smiled', 'cabin', 'unit', 'confident', 'successestablished', 'againstfellow', 'raditya', 'strengthen', 'female', 'nipotism', 'nuh', 'ri', 'volvo', 'violated', 'trouble', 'tel', 'annoyed', 'typed', 'searcing', 'saturday', 'growthmindset', 'texttospeech', 'computervision', 'expertsystem', 'nlg', 'skilling', 'imajinasi', 'kuadran', 'pekerjaan', 'idly', 'algoritmik', 'rutin', 'berpola', 'structured', 'izan', 'inģet', 'shering', 'syecalli', 'shopia', 'sip', 'bangeetttt', 'handful', 'suppose', 'nominal', 'quio', 'status', 'prying', 'gbt', 'competing', 'kun', 'spontaneously', 'ape', 'ate', 'comparison', 'ig', 'beautify', 'asis', 'brightest', 'army', 'blackrock', 'aladdin', 'transformated', 'disrucy', 'ada', 'iptep', 'jln', 'deeper', 'responds', 'hk', 'hospital', 'frequency', 'recover', 'autobot', 'decepticon', 'honest', 'briefly', 'nternet', 'audio', 'attitude', 'locker', 'bloon', 'stup', 'mungkiinkah', 'pop', 'judgement', 'riseofthemachinr', 'collide', 'bacot', 'marketplace', 'gusti', 'uselessthe', 'aloh', 'manage', 'chosen', 'dignity', 'maqam', 'dpn', 'waaaoooowww', 'substitute', 'accuse', 'conquer', 'lambda', 'euphoria', 'acquainted', 'carked', 'embses', 'vanlats', 'australia', 'fortunately', 'separate', 'protocol', 'connecting', 'sgala', 'ruler', 'tesla', 'exposed', 'arrival', 'planetary', 'drained', 'inject', 'ancestral', 'bostrom', 'vedit', 'koding', 'manhattan', 'realistic', 'america', 'rip', 'soviet', 'nazi', 'tension', 'hater', 'bejibun', 'jealous', 'brawl', 'aistarting', 'wozniak', 'partner', 'wolfram', 'gwa', 'explanatory', 'simplies', 'council', 'irrelevant', 'extract', 'mineral', 'older', 'oon', 'salamgembroot', 'member', 'dewa', 'ordered', 'closer', 'anapped', 'importantly', 'muslim', 'polytheism', 'troll', 'professional', 'nick', 'geoffrey', 'shindeiru', 'hinton', 'tampered', 'divided', 'glass', 'heretical', 'sect', 'dependency', 'leave', 'rang', 'karl', 'marx', 'forecast', 'holywood', 'bayangkan', 'berkata', 'kepada', 'manusia', 'omae', 'blarak', 'guruwhat', 'toy', 'promoted', 'nickname', 'literate', 'humaninity', 'harmful', 'nipplear', 'touring', 'fur', 'disadvantage', 'disseminated', 'multiply', 'refuse', 'abu', 'nawas', 'spacecraft', 'confusion', 'inputted', 'selelevan', 'hemmmmzz', 'place', 'strength', 'microorganism', 'alive', 'idiocrazy', 'tamagochi', 'enchu', 'meal', 'vegetable', 'ohiya', 'exercise', 'immune', 'bundr', 'keknya', 'eroded', 'determines', 'rahman', 'wal', 'rahim', 'heal', 'kane', 'controlledthe', 'tomato', 'youtuber', 'corruptor', 'store', 'held', 'cagrance', 'kitchen', 'chili', 'carrot', 'lest', 'record', 'wood', 'dharma', 'pongrekun', 'franchise', 'wiiih', 'drawing', 'yajuj', 'majuj', 'assumed', 'shiver', 'q', 'baqarah', 'purify', 'hallallah', 'pornography', 'jhon', 'cornor', 'stand', 'pfp', 'cakcak', 'nowthe', 'moses', 'transformerburoq', 'speedlater', 'jesus', 'ufoall', 'adopt', 'teased', 'prove', 'interference', 'misleading', 'reminding', 'pandemic', 'alhamdulilah', 'drastic', 'preventive', 'maintaining', 'ebay', 'warrior', 'solid', 'edged', 'integrate', 'singularity', 'humagear', 'banner', 'warhead', 'mo', 'competed', 'javanese', 'socialism', 'aibecause', 'badly', 'nonproliferation', 'tourist', 'detect', 'traditional', 'pack', 'breast', 'chai', 'mtk', 'psychologically', 'w', 'invalid', 'nerd', 'load', 'simulate', 'equally', 'solved', 'oncethen', 'processinstead', 'papper', 'storing', 'scalable', 'mathematical', 'qur', 'memorizer', 'smith', 'boruto', 'hrd', 'digitally', 'hassment', 'tricked', 'awarenessbut', 'refer', 'promt', 'vocabulary', 'databut', 'praised', 'communism', 'horizon', 'dreamed', 'praying', 'mushroom', 'violence', 'pornographic', 'jokingly', 'bond', 'aesthetic', 'waena', 'git', 'pilot', 'cooding', 'videothank', 'vide', 'dictionary', 'hypnotize', 'cyberpunk', 'okayso', 'hearing', 'declined', 'federation', 'connection', 'semi', 'clan', 'ourself', 'dynamic', 'physic', 'emergence', 'accumulatively', 'mka', 'svg', 'l', 'c', 'divinity', 'touched', 'espionage', 'cia', 'nsa', 'coherent', 'involve', 'representation', 'technique', 'spear', 'favorite', 'filmed', 'genetically', 'compose', 'jd', 'keget', 'hyred', 'dfilm', 'autogpt', 'demonced', 'click', 'postpone', 'fundamentalist', 'ketar', 'ktir', 'agnostic', 'yeyeyyeyye', 'embrace', 'banish', 'revised', 'venom', 'believed', 'adverse', 'kyk', 'organic', 'kopid', 'joe', 'umpteenth', 'simply', 'fatheraiaa', 'astroboy', 'cycle', 'temporarily', 'properly', 'bedestroy', 'blammming', 'samantha', 'multiplied', 'multiplication', 'palace', 'struggling', 'fairplay', 'ideally', 'oversees', 'noisy', 'knew', 'keinget', 'fulfilled', 'kkn', 'collapse', 'predator', 'strongest', 'scanner', 'microwave', 'include', 'extraction', 'incentive', 'occupy', 'nyai', 'eats', 'humansand', 'workso', 'moneyhumans', 'countrythe', 'squeeze', 'blow', 'likethey', 'cable', 'filtered', 'bored', 'fell', 'scientistthat', 'rave', 'upset', 'skipp', 'designate', 'pertamax']\n",
            "Total kata unik yang muncul sekali: 2355\n",
            "Kata-kata unik yang hanya muncul dua kali: ['meeting', 'compact', 'overpopulation', 'moving', 'foundation', 'spongebob', 'chain', 'stiff', 'released', 'gp', 'flash', 'alternative', 'experimental', 'dystopia', 'capacity', 'particular', 'shorten', 'middle', 'eliminates', 'russian', 'rise', 'لَهُ', 'translation', 'ae', 'oh', 'library', 'everyday', 'copyright', 'gurgem', 'frighten', 'spin', 'regardless', 'junior', 'gaming', 'sex', 'install', 'sanction', 'memorize', 'domain', 'weak', 'cursed', 'commit', 'running', 'probable', 'chaotic', 'song', 'copywriting', 'element', 'beneficial', 'app', 'mountain', 'westworld', 'weakness', 'enlightened', 'recorded', 'collected', 'update', 'english', 'leakage', 'analyst', 'bug', 'fixed', 'latest', 'connoisseur', 'neuron', 'disappear', 'riskthe', 'download', 'century', 'ignorant', 'combine', 'sudden', 'moore', 'chef', 'affected', 'men', 'aimed', 'break', 'map', 'becoming', 'otw', 'surprised', 'inferior', 'low', 'steam', 'tends', 'overacting', 'nugroho', 'overtaken', 'financial', 'dominance', 'daydreaming', 'violate', 'fee', 'primitive', 'american', 'chinese', 'informative', 'rider', 'politics', 'outdated', 'north', 'stall', 'family', 'payment', 'launched', 'reminded', 'ustadz', 'lgbt', 'premise', 'facebook', 'followed', 'educating', 'mandated', 'presented', 'allegedly', 'irzan', 'accessed', 'realm', 'identify', 'imitates', 'evolve', 'date', 'difficulty', 'penetrate', 'giving', 'active', 'optimal', 'bother', 'showing', 'background', 'sector', 'agreement', 'white', 'ass', 'homework', 'boost', 'adjust', 'judicial', 'poorer', 'decline', 'rejecting', 'area', 'apk', 'hacking', 'chaos', 'dynasty', 'simi', 'weaker', 'wealth', 'relate', 'kangaroo', 'declining', 'entire', 'repeated', 'authoritarian', 'facing', 'accuracy', 'canned', 'default', 'curriculum', 'islam', 'fictional', 'profession', 'approach', 'logo', 'triger', 'track', 'stick', 'maintenance', 'magic', 'local', 'simsimi', 'necessarily', 'educational', 'subscribe', 'crushed', 'lack', 'essentially', 'bought', 'maximum', 'letter', 'hold', 'examined', 'anti', 'citizen', 'cmiiw', 'blasphemy', 'humansif', 'gathering', 'television', 'recommendation', 'throughout', 'agency', 'defense', 'fighting', 'income', 'inevitable', 'appears', 'answering', 'nonsense', 'setback', 'burden', 'introduce', 'fund', 'ho', 'ingredient', 'compound', 'protecting', 'demonstration', 'chemical', 'specifically', 'usual', 'metal', 'inhabitant', 'extreme', 'steve', 'formula', 'weighing', 'bias', 'perfection', 'son', 'guarantee', 'whereas', 'balance', 'alarm', 'employment', 'cuan', 'trust', 'feature', 'stephen', 'distribution', 'dataset', 'marvel', 'amin', 'launch', 'island', 'petition', 'swearing', 'inappropriate', 'arises', 'merely', 'eager', 'asks', 'cave', 'structure', 'hmm', 'android', 'naturally', 'debate', 'rate', 'bibliography', 'dragging', 'acceleration', 'unstoppable', 'require', 'gk', 'correction', 'looping', 'mostly', 'fi', 'trapped', 'sci', 'dozen', 'receive', 'fb', 'equivalent', 'willing', 'ecosystem', 'halu', 'sharing', 'sequel', 'commonly', 'within', 'steal', 'losing', 'moved', 'involves', 'cameron', 'baraya', 'dimensional', 'either', 'invite', 'executed', 'christianity', 'modeling', 'idiot', 'monitor', 'insist', 'paradox', 'breakthrough', 'ethical', 'bin', 'considering', 'fate', 'adult', 'coming', 'covered', 'hahahaha', 'owner', 'sit', 'accessing', 'loose', 'reject', 'corruption', 'closely', 'sport', 'vehicle', 'explains', 'accident', 'planning', 'distrust', 'crypto', 'karna', 'mentality', 'uniqueness', 'blunt', 'profile', 'pre', 'expense', 'experiencing', 'website', 'ml', 'greatly', 'salfok', 'added', 'fried', 'except', 'woman', 'obtained', 'handle', 'cross', 'agricultural', 'erase', 'minister', 'serious', 'hunt', 'choosing', 'phase', 'rid', 'boomer', 'fruit', 'minded', 'hoping', 'peeled', 'integrated', 'loved', 'recognition', 'lamda', 'fatal', 'layoff', 'socialize', 'bahar', 'coach', 'equitable', 'emp', 'ehm', 'mouse', 'reversed', 'org', 'manipulation', 'traced', 'rising', 'weather', 'decade', 'unustecting', 'ease', 'percent', 'prosperous', 'assuming', 'mission', 'ar', 'doom', 'judge', 'deny', 'sugar', 'wild', 'satisfied', 'welcome', 'connectivity', 'hate', 'pile', 'knowing', 'abstraction', 'familiar', 'implied', 'ne', 'ngaco', 'incident', 'explored', 'jump', 'chatted', 'affect', 'trace', 'cursory', 'hypothesis', 'practitioner', 'normative', 'growth', 'touch', 'issued', 'ended', 'summary', 'summarize', 'analyze', 'expand', 'relationship', 'police', 'included', 'detected', 'gundam', 'embedded', 'characteristic', 'populated', 'pretentious', 'fought', 'zero', 'coyy', 'restless', 'blacksmith', 'exact', 'geeky', 'hello', 'rahayu', 'sample', 'si', 'switch', 'greater', 'wrote', 'dominate', 'h', 'educated', 'smell', 'personality', 'nerve', 'nervous', 'bionic', 'implementation', 'united', 'pyscho', 'appeared', 'anjir', 'helping', 'f', 'unwanted', 'strong', 'superintelligence', 'siri', 'distributed', 'idiocracy', 'evenly', 'lie', 'opening', 'bodong', 'fine', 'meant', 'kept', 'atomic', 'raw', 'broken', 'hey', 'loh', 'inequality', 'underestimate', 'damn', 'column', 'girlfriend', 'manipulating', 'reaching', 'cuk', 'suggest', 'revision', 'lesson', 'setting', 'weight', 'collection', 'opponent', 'india', 'korea', 'offended', 'front', 'beta', '’', 'drama', 'culture', 'oath', 'threatening', 'exchange', 'approaching', 'mamang', 'pressure', 'target', 'poison', 'cure', 'prestige', 'thankfully', 'guidance', 'division', 'dashboard', 'nano', 'severe', 'practical', 'km', 'hot', 'habit', 'gadget', 'sleep', 'adapted', 'supporter', 'porn', 'eradicating', 'automatically', 'shake', 'peaceful', 'reminds', 'tiktok', 'longyou', 'selling', 'fixated', 'lha', 'binary', 'blue', 'preparation', 'button', 'gpg', 'choice', 'radical', 'detained', 'prohibited', 'amen', 'ultra', 'iot', 'trap', 'stark', 'forum', 'tony', 'gorilla', 'islamic', 'plan', 'district', 'property', 'arm', 'loyal', 'compensate', 'somehow', 'shutdown', 'prof', 'deal', 'definition', 'disney', 'encryption', 'single', 'ibm', 'udh', 'caution', 'continuing', 'paranoid', 'observer', 'improvement', 'submit', 'rifle', 'heard', 'returned', 'finger', 'born', 'ntr', 'mechanism', 'third', 'fired', 'understands', 'includes', 'manual', 'defined', 'drinking', 'coffee', 'respective', 'length', 'cancel', 'eid', 'fitr', 'raised', 'transformation', 'implement', 'pleasure', 'regard', 'hilarious', 'chapter', 'script', 'broke', 'electric', 'julid', 'dog', 'se', 'ticket', 'confidence', 'sooner', 'assume', 'entirely', 'overwhelmed', 'tight', 'filter', 'autonomous', 'lacking', 'searching', 'in', 'out', 'companion', 'holder', 'compass', 'distinguish', 'reaction', 'safety', 'thread', 'invited', 'resolved', 'reactor', 'maximizing', 'termination', 'promote', 'sharp', 'aircraft', 'replaces', 'speech', 'went', 'cover', 'attention', 'throwing', 'host', 'instinct', 'decrease', 'instrument', 'card', 'sens', 'font', 'eventually', 'color', 'cooking', 'supervision', 'adequate', 'anticipate', 'path', 'shadow', 'effort', 'alright', 'gambling', 'bet', 'ad', 'paying', 'raising', 'equality', 'chess', 'bingchat', 'lost', 'sent', 'driving', 'mistaken', 'advice', 'researcher', 'recycle', 'intended', 'simplified', 'instantly', 'ani', 'overall', 'cheat', 'contrary', 'viewer', 'parameter', 'complexity', 'died', 'ga', 'normally', 'degree', 'thanos', 'forgot', 'genetic', 'effectively', 'generalized', 'graduate', 'guide', 'abuse', 'manusa', 'scope', 'duty', 'shed', 'intellectual', 'increasing', 'pc', 'hr', 'required', 'reached', 'quietly', 'phenomenon', 'disagree', 'hall', 'secret', 'link', 'portion', 'condemned', 'post', 'propose', 'planet', 'priority', 'formed', 'consumer', 'benefited', 'excited', 'treatment']\n",
            "Total kata unik yang muncul dua kali: 708\n",
            "Kata-kata unik yang hanya muncul tiga kali: ['eliza', 'originally', 'sensitive', 'joke', 'unknown', 'red', 'paid', 'addicted', 'half', 'excessive', 'yuval', 'correct', 'marketing', 'correctly', 'connor', 'false', 'success', 'deus', 'altman', 'land', 'net', 'anyway', 'accurately', 'slow', 'robotic', 'hmmm', 'gemul', 'buzzer', 'specie', 'prevent', 'led', 'recommended', 'detroit', 'arguably', 'yup', 'bit', 'claim', 'optimize', 'medical', 'admin', 'tail', 'came', 'share', 'creating', 'genocide', 'imitate', 'seemed', 'speaker', 'along', 'critically', 'politician', 'spread', 'antivirus', 'ali', 'hitler', 'listening', 'committed', 'review', 'beautiful', 'choose', 'criminal', 'guy', 'shortcoming', 'implemented', 'agreed', 'campus', 'theme', 'permission', 'wrongly', 'seem', 'light', 'follow', 'together', 'finish', 'github', 'forest', 'manner', 'gugem', 'elite', 'pretty', 'mystery', 'global', 'continuity', 'decide', 'gender', 'ego', 'o', 'implanted', 'design', 'facilitated', 'professor', 'fully', 'straight', 'suspect', 'suggestion', 'aim', 'balanced', 'prefers', 'passed', 'dependence', 'completely', 'message', 'mother', 'modern', 'legal', 'sulaiman', 'begin', 'eh', 'race', 'despa', 'silent', 'mixed', 'dilemma', 'began', 'boundary', 'directed', 'russia', 'challenge', 'mentally', 'transparently', 'eliminated', 'doski', 'maximize', 'taste', 'national', 'maintained', 'verse', 'om', 'performance', 'facility', 'resident', 'hadith', 'slave', 'backward', 'rapid', 'heavy', 'formulate', 'routine', 'got', 'yaumil', 'saah', 'comfortable', 'safe', 'flush', 'genius', 'faith', 'utopia', 'sword', 'lecture', 'draw', 'camera', 'korean', 'accompanied', 'worthy', 'fiction', 'cu', 'scene', 'opera', 'dall', 'gosh', 'rumor', 'japanese', 'navigation', 'everywhere', 'average', 'separated', 'hell', 'patrick', 'likewise', 'eating', 'wa', 'mastered', 'pulling', 'appear', 'detail', 'generator', 'clearly', 'currency', 'brought', 'doctoral', 'variable', 'james', 'volume', 'wish', 'fair', 'cell', 'wilder', 'brush', 'whole', 'kek', 'growing', 'shop', 'page', 'calculation', 'cartoon', 'twitter', 'force', 'president', 'boredom', 'denied', 'confide', 'supply', 'core', 'simulation', 'late', 'reply', 'activated', 'zuckerberg', 'majority', 'auto', 'fat', 'via', 'worshiper', 'proof', 'party', 'hacker', 'struggle', 'opposite', 'perpetrator', 'arranged', 'accustomed', 'suitable', 'total', 'apart', 'operated', 'objective', 'cm', 'hack', 'literacy', 'alias', 'hurt', 'walk', 'night', 'named', 'twist', 'decided', 'elementary', 'forex', 'seriously', 'electronic', 'reduced', 'controlling', 'leading', 'worked', 'interact', 'manually', 'toll', 'logically', 'overdo', 'connect', 'predict', 'grammar', 'drive', 'talked', 'iron', 'fuss', 'competition', 'branch', 'ethically', 'training', 'nlp', 'attacked', 'mining', 'depopulation', 'dare', 'dong', 'innocent', 'follows', 'cheaper', 'racist', 'imagined', 'lust', 'complicated', 'plagiarism', 'btw', 'focused', 'fan', 'upgrade', 'engineer', 'topic', 'konoha', 'ancient', 'major', 'earlier', 'disaster', 'build', 'elisa', 'compare', 'cheated', 'argument', 'permit', 'explore', 'edge', 'lgbtq', 'occurred', 'absolute', 'drone', 'taking', 'lu', 'reasoning', 'goosebump', 'closing', 'ensuring', 'assalamualaikum', 'avoid', 'counting', 'describe', 'unlike', 'prepared', 'doubt', 'indirectly', 'facilitate', 'step', 'brings', 'plus', 'chip', 'started', 'writing', 'spiderman', 'home', 'darwin', 'assistant', 'regret', 'aspect', 'powerful', 'sophistication', 'gradually', 'disease', 'pro', 'expertise', 'illustrator', 'communication', 'clever', 'seeing', 'dead', 'g', 'propaganda', 'subscriber', 'cook', 'run', 'planted', 'openai', 'possibly', 'conscience', 'september', 'breaking', 'inconsequential', 'selection', 'green', 'minimize', 'astono', 'transparent', 'co', 'road', 'deliberately', 'grows', 'received', 'caught', 'quality', 'netizens', 'fasting', 'strange', 'produced', 'hollywood', 'proven', 'standard', 'worse', 'expectation', 'eliminate', 'associated', 'described', 'textile', 'mentioned']\n",
            "Total kata unik yang muncul tiga kali: 373\n"
          ]
        }
      ],
      "source": [
        "# Jumlah kata dan kata yang unik pada kolom\n",
        "kolom = labeled_df['pra_processing_text']\n",
        "semua_kata = ' '.join(kolom)\n",
        "daftar_kata = semua_kata.split()\n",
        "jumlah_kata = len(daftar_kata)\n",
        "jumlah_kata_unik = len(set(daftar_kata))\n",
        "print(f\"Jumlah kata: {jumlah_kata}\")\n",
        "print(f\"Jumlah kata yang unik: {jumlah_kata_unik}\")\n",
        "\n",
        "kemunculan_kata = pd.Series(daftar_kata).value_counts()\n",
        "\n",
        "kata_unik_satu = kemunculan_kata[kemunculan_kata == 1].index.tolist()\n",
        "print(f\"Kata-kata unik yang hanya muncul sekali: {kata_unik_satu}\")\n",
        "print(f\"Total kata unik yang muncul sekali: {len(kata_unik_satu)}\")\n",
        "\n",
        "kata_unik_dua = kemunculan_kata[kemunculan_kata == 2].index.tolist()\n",
        "print(f\"Kata-kata unik yang hanya muncul dua kali: {kata_unik_dua}\")\n",
        "print(f\"Total kata unik yang muncul dua kali: {len(kata_unik_dua)}\")\n",
        "\n",
        "kata_unik_tiga = kemunculan_kata[kemunculan_kata == 3].index.tolist()\n",
        "print(f\"Kata-kata unik yang hanya muncul tiga kali: {kata_unik_tiga}\")\n",
        "print(f\"Total kata unik yang muncul tiga kali: {len(kata_unik_tiga)}\")\n",
        "\n",
        "# Oke, hapus yang muncul sekali dan dua kali"
      ]
    },
    {
      "cell_type": "code",
      "execution_count": null,
      "metadata": {
        "id": "tka6C-vDuKWv",
        "colab": {
          "base_uri": "https://localhost:8080/"
        },
        "outputId": "e3e42b9e-5d70-4c07-9b81-ff8d1574871f"
      },
      "outputs": [
        {
          "output_type": "execute_result",
          "data": {
            "text/plain": [
              "[('ai', 1039),\n",
              " ('human', 636),\n",
              " ('like', 189),\n",
              " ('technology', 176),\n",
              " ('make', 165),\n",
              " ('still', 150),\n",
              " ('even', 136),\n",
              " ('people', 127),\n",
              " ('want', 123),\n",
              " ('also', 122)]"
            ]
          },
          "metadata": {},
          "execution_count": 17
        }
      ],
      "source": [
        "# Kata yang paling banyak muncul\n",
        "from collections import Counter\n",
        "cnt = Counter()\n",
        "for text in labeled_df[\"pra_processing_text\"].values:\n",
        "    for word in text.split():\n",
        "        cnt[word] += 1\n",
        "cnt.most_common(10)"
      ]
    },
    {
      "cell_type": "code",
      "execution_count": null,
      "metadata": {
        "id": "Z9IuW79XvXyD",
        "colab": {
          "base_uri": "https://localhost:8080/",
          "height": 1000
        },
        "outputId": "2d488686-0df2-45e2-b233-beea8b68b00d"
      },
      "outputs": [
        {
          "output_type": "execute_result",
          "data": {
            "text/plain": [
              "                                                                                                                                                                                               text_id  \\\n",
              "988   Ada yg masih ingat Film Terminator ........? Prediktif Programing masa depan                                                                                                                       \n",
              "795   Tonton westworld dah tu robot bisa punya kesadaran                                                                                                                                                 \n",
              "1164  Sangat setuju dan senantia menunggu itu👍🏻                                                                                                                                                          \n",
              "870   Nah betul njenengan. Memang itulah bahaya berantai bagi AI. Kalau apa2 bisa AI, PHK dimana2 daya beli hancur sapa mau beli produk2? Kehidupan akan hancur. Cm org2 dungu cm mikir nyamannya aja.   \n",
              "1068  Berarti kalau datasetnya rasis, AI nya rasis juga                                                                                                                                                  \n",
              "\n",
              "                                                                                                                                                                                                                     text_en  \\\n",
              "988   Anyone still remembers the film Terminator ........?Predictive Future Programing                                                                                                                                         \n",
              "795   Watch Westworld and Robot can have awareness                                                                                                                                                                             \n",
              "1164  Strongly agree and Senantia is waiting for that.                                                                                                                                                                         \n",
              "870   Well, right.Indeed that is the danger of chain for AI.If anything can be ai, layoffs where the purchasing power is destroyed who want to buy products?Life will be destroyed.Cm org2 stupid cm just think comfortable.   \n",
              "1068  Means that if the dataset is racist, the ai is racist too                                                                                                                                                                \n",
              "\n",
              "                                                                                                                                                                                                       text_labelling_clean  \\\n",
              "988   anyone still remembers the film terminator ........?predictive future programing                                                                                                                                        \n",
              "795   watch westworld and robot can have awareness                                                                                                                                                                            \n",
              "1164  strongly agree and senantia is waiting for that.                                                                                                                                                                        \n",
              "870   well, right.indeed that is the danger of chain for ai.if anything can be ai, layoffs where the purchasing power is destroyed who want to buy products?life will be destroyed.cm org stupid cm just think comfortable.   \n",
              "1068  means that if the dataset is racist, the ai is racist too                                                                                                                                                               \n",
              "\n",
              "      sentimen     score  \\\n",
              "988   neutral   0.862471   \n",
              "795   neutral   0.698247   \n",
              "1164  positive  0.871010   \n",
              "870   negative  0.902809   \n",
              "1068  negative  0.667736   \n",
              "\n",
              "                                                                                                                          pra_processing_text  \n",
              "988   anyone still film terminator future                                                                                                      \n",
              "795   watch westworld robot awareness                                                                                                          \n",
              "1164  strongly agree waiting                                                                                                                   \n",
              "870   well right indeed danger chain ai anything ai layoff power destroyed want buy product life destroyed cm org stupid cm think comfortable  \n",
              "1068  mean dataset racist ai racist                                                                                                            "
            ],
            "text/html": [
              "\n",
              "  <div id=\"df-bf145727-ff4a-44ce-bb40-d58fe4dc06b5\">\n",
              "    <div class=\"colab-df-container\">\n",
              "      <div>\n",
              "<style scoped>\n",
              "    .dataframe tbody tr th:only-of-type {\n",
              "        vertical-align: middle;\n",
              "    }\n",
              "\n",
              "    .dataframe tbody tr th {\n",
              "        vertical-align: top;\n",
              "    }\n",
              "\n",
              "    .dataframe thead th {\n",
              "        text-align: right;\n",
              "    }\n",
              "</style>\n",
              "<table border=\"1\" class=\"dataframe\">\n",
              "  <thead>\n",
              "    <tr style=\"text-align: right;\">\n",
              "      <th></th>\n",
              "      <th>text_id</th>\n",
              "      <th>text_en</th>\n",
              "      <th>text_labelling_clean</th>\n",
              "      <th>sentimen</th>\n",
              "      <th>score</th>\n",
              "      <th>pra_processing_text</th>\n",
              "    </tr>\n",
              "  </thead>\n",
              "  <tbody>\n",
              "    <tr>\n",
              "      <th>988</th>\n",
              "      <td>Ada yg masih ingat Film Terminator ........? Prediktif Programing masa depan</td>\n",
              "      <td>Anyone still remembers the film Terminator ........?Predictive Future Programing</td>\n",
              "      <td>anyone still remembers the film terminator ........?predictive future programing</td>\n",
              "      <td>neutral</td>\n",
              "      <td>0.862471</td>\n",
              "      <td>anyone still film terminator future</td>\n",
              "    </tr>\n",
              "    <tr>\n",
              "      <th>795</th>\n",
              "      <td>Tonton westworld dah tu robot bisa punya kesadaran</td>\n",
              "      <td>Watch Westworld and Robot can have awareness</td>\n",
              "      <td>watch westworld and robot can have awareness</td>\n",
              "      <td>neutral</td>\n",
              "      <td>0.698247</td>\n",
              "      <td>watch westworld robot awareness</td>\n",
              "    </tr>\n",
              "    <tr>\n",
              "      <th>1164</th>\n",
              "      <td>Sangat setuju dan senantia menunggu itu👍🏻</td>\n",
              "      <td>Strongly agree and Senantia is waiting for that.</td>\n",
              "      <td>strongly agree and senantia is waiting for that.</td>\n",
              "      <td>positive</td>\n",
              "      <td>0.871010</td>\n",
              "      <td>strongly agree waiting</td>\n",
              "    </tr>\n",
              "    <tr>\n",
              "      <th>870</th>\n",
              "      <td>Nah betul njenengan. Memang itulah bahaya berantai bagi AI. Kalau apa2 bisa AI, PHK dimana2 daya beli hancur sapa mau beli produk2? Kehidupan akan hancur. Cm org2 dungu cm mikir nyamannya aja.</td>\n",
              "      <td>Well, right.Indeed that is the danger of chain for AI.If anything can be ai, layoffs where the purchasing power is destroyed who want to buy products?Life will be destroyed.Cm org2 stupid cm just think comfortable.</td>\n",
              "      <td>well, right.indeed that is the danger of chain for ai.if anything can be ai, layoffs where the purchasing power is destroyed who want to buy products?life will be destroyed.cm org stupid cm just think comfortable.</td>\n",
              "      <td>negative</td>\n",
              "      <td>0.902809</td>\n",
              "      <td>well right indeed danger chain ai anything ai layoff power destroyed want buy product life destroyed cm org stupid cm think comfortable</td>\n",
              "    </tr>\n",
              "    <tr>\n",
              "      <th>1068</th>\n",
              "      <td>Berarti kalau datasetnya rasis, AI nya rasis juga</td>\n",
              "      <td>Means that if the dataset is racist, the ai is racist too</td>\n",
              "      <td>means that if the dataset is racist, the ai is racist too</td>\n",
              "      <td>negative</td>\n",
              "      <td>0.667736</td>\n",
              "      <td>mean dataset racist ai racist</td>\n",
              "    </tr>\n",
              "  </tbody>\n",
              "</table>\n",
              "</div>\n",
              "      <button class=\"colab-df-convert\" onclick=\"convertToInteractive('df-bf145727-ff4a-44ce-bb40-d58fe4dc06b5')\"\n",
              "              title=\"Convert this dataframe to an interactive table.\"\n",
              "              style=\"display:none;\">\n",
              "        \n",
              "  <svg xmlns=\"http://www.w3.org/2000/svg\" height=\"24px\"viewBox=\"0 0 24 24\"\n",
              "       width=\"24px\">\n",
              "    <path d=\"M0 0h24v24H0V0z\" fill=\"none\"/>\n",
              "    <path d=\"M18.56 5.44l.94 2.06.94-2.06 2.06-.94-2.06-.94-.94-2.06-.94 2.06-2.06.94zm-11 1L8.5 8.5l.94-2.06 2.06-.94-2.06-.94L8.5 2.5l-.94 2.06-2.06.94zm10 10l.94 2.06.94-2.06 2.06-.94-2.06-.94-.94-2.06-.94 2.06-2.06.94z\"/><path d=\"M17.41 7.96l-1.37-1.37c-.4-.4-.92-.59-1.43-.59-.52 0-1.04.2-1.43.59L10.3 9.45l-7.72 7.72c-.78.78-.78 2.05 0 2.83L4 21.41c.39.39.9.59 1.41.59.51 0 1.02-.2 1.41-.59l7.78-7.78 2.81-2.81c.8-.78.8-2.07 0-2.86zM5.41 20L4 18.59l7.72-7.72 1.47 1.35L5.41 20z\"/>\n",
              "  </svg>\n",
              "      </button>\n",
              "      \n",
              "  <style>\n",
              "    .colab-df-container {\n",
              "      display:flex;\n",
              "      flex-wrap:wrap;\n",
              "      gap: 12px;\n",
              "    }\n",
              "\n",
              "    .colab-df-convert {\n",
              "      background-color: #E8F0FE;\n",
              "      border: none;\n",
              "      border-radius: 50%;\n",
              "      cursor: pointer;\n",
              "      display: none;\n",
              "      fill: #1967D2;\n",
              "      height: 32px;\n",
              "      padding: 0 0 0 0;\n",
              "      width: 32px;\n",
              "    }\n",
              "\n",
              "    .colab-df-convert:hover {\n",
              "      background-color: #E2EBFA;\n",
              "      box-shadow: 0px 1px 2px rgba(60, 64, 67, 0.3), 0px 1px 3px 1px rgba(60, 64, 67, 0.15);\n",
              "      fill: #174EA6;\n",
              "    }\n",
              "\n",
              "    [theme=dark] .colab-df-convert {\n",
              "      background-color: #3B4455;\n",
              "      fill: #D2E3FC;\n",
              "    }\n",
              "\n",
              "    [theme=dark] .colab-df-convert:hover {\n",
              "      background-color: #434B5C;\n",
              "      box-shadow: 0px 1px 3px 1px rgba(0, 0, 0, 0.15);\n",
              "      filter: drop-shadow(0px 1px 2px rgba(0, 0, 0, 0.3));\n",
              "      fill: #FFFFFF;\n",
              "    }\n",
              "  </style>\n",
              "\n",
              "      <script>\n",
              "        const buttonEl =\n",
              "          document.querySelector('#df-bf145727-ff4a-44ce-bb40-d58fe4dc06b5 button.colab-df-convert');\n",
              "        buttonEl.style.display =\n",
              "          google.colab.kernel.accessAllowed ? 'block' : 'none';\n",
              "\n",
              "        async function convertToInteractive(key) {\n",
              "          const element = document.querySelector('#df-bf145727-ff4a-44ce-bb40-d58fe4dc06b5');\n",
              "          const dataTable =\n",
              "            await google.colab.kernel.invokeFunction('convertToInteractive',\n",
              "                                                     [key], {});\n",
              "          if (!dataTable) return;\n",
              "\n",
              "          const docLinkHtml = 'Like what you see? Visit the ' +\n",
              "            '<a target=\"_blank\" href=https://colab.research.google.com/notebooks/data_table.ipynb>data table notebook</a>'\n",
              "            + ' to learn more about interactive tables.';\n",
              "          element.innerHTML = '';\n",
              "          dataTable['output_type'] = 'display_data';\n",
              "          await google.colab.output.renderOutput(dataTable, element);\n",
              "          const docLink = document.createElement('div');\n",
              "          docLink.innerHTML = docLinkHtml;\n",
              "          element.appendChild(docLink);\n",
              "        }\n",
              "      </script>\n",
              "    </div>\n",
              "  </div>\n",
              "  "
            ]
          },
          "metadata": {},
          "execution_count": 18
        }
      ],
      "source": [
        "def remove_rare_words(df, col_before, col_after):\n",
        "    # Menghitung frekuensi kemunculan setiap kata dalam kolom\n",
        "    word_counts = df[col_before].str.split(expand=True).stack().value_counts()\n",
        "    # Mengambil daftar kata yang hanya muncul sekali\n",
        "    rare_words = word_counts[(word_counts == 1)].index.tolist()\n",
        "    # Menghapus kata-kata yang hanya muncul sekali atau dua kali dalam kolom\n",
        "    df[col_after] = df[col_before].apply(lambda x: ' '.join([word for word in x.split() if word not in rare_words]))\n",
        "    return df\n",
        "labeled_df = remove_rare_words(labeled_df, \"pra_processing_text\", \"pra_processing_text\")\n",
        "labeled_df.sample(5)"
      ]
    },
    {
      "cell_type": "code",
      "execution_count": null,
      "metadata": {
        "id": "P0CpMuv0wAtr",
        "colab": {
          "base_uri": "https://localhost:8080/"
        },
        "outputId": "62847b38-f0fe-4f34-a0dd-1cc7ef267154"
      },
      "outputs": [
        {
          "output_type": "stream",
          "name": "stdout",
          "text": [
            "Banyaknya nilai string kosong: 0\n",
            "Sisa baris: 1400\n"
          ]
        }
      ],
      "source": [
        "# Membersihkan baris dengan nilai string kosong (\"\")\n",
        "labeled_df =  labeled_df[labeled_df['pra_processing_text'] != '']\n",
        "print(f\"Banyaknya nilai string kosong: {(labeled_df['pra_processing_text'] == '').sum()}\")\n",
        "print(f\"Sisa baris: {labeled_df.shape[0]}\")"
      ]
    },
    {
      "cell_type": "markdown",
      "metadata": {
        "id": "BxTuUM7Fwqb5"
      },
      "source": [
        "# Pembuatan model"
      ]
    },
    {
      "cell_type": "markdown",
      "metadata": {
        "id": "CUXlk4Nz67AC"
      },
      "source": [
        "## Membuat dataframe baru dari kolom \"pra_processing_text\", \"sentimen\", dan \"skor\"."
      ]
    },
    {
      "cell_type": "code",
      "execution_count": null,
      "metadata": {
        "id": "FZM6qZgt8I5d",
        "colab": {
          "base_uri": "https://localhost:8080/",
          "height": 285
        },
        "outputId": "8807e036-9fba-4679-8837-a344fdf73bd9"
      },
      "outputs": [
        {
          "output_type": "stream",
          "name": "stdout",
          "text": [
            "Ukuran labeled_df: (1400, 3)\n"
          ]
        },
        {
          "output_type": "execute_result",
          "data": {
            "text/plain": [
              "                                                                                                                                                                                text  \\\n",
              "1449  kind people era new application come                                                                                                                                             \n",
              "277   ma ai became worry                                                                                                                                                               \n",
              "541   human destroy civilization life                                                                                                                                                  \n",
              "1287  existence ai generative development cause human creativity                                                                                                                       \n",
              "393   fast compared natural factor change global well impact ai rapid natural factor still moving slowly also overpopulation sometimes also lazy think cause effect long chain think   \n",
              "\n",
              "         label      skor  \n",
              "1449  neutral   0.859309  \n",
              "277   negative  0.568877  \n",
              "541   negative  0.891997  \n",
              "1287  negative  0.559767  \n",
              "393   neutral   0.634789  "
            ],
            "text/html": [
              "\n",
              "  <div id=\"df-7522a28b-a1ac-495d-91ee-7ae0a97bfab5\">\n",
              "    <div class=\"colab-df-container\">\n",
              "      <div>\n",
              "<style scoped>\n",
              "    .dataframe tbody tr th:only-of-type {\n",
              "        vertical-align: middle;\n",
              "    }\n",
              "\n",
              "    .dataframe tbody tr th {\n",
              "        vertical-align: top;\n",
              "    }\n",
              "\n",
              "    .dataframe thead th {\n",
              "        text-align: right;\n",
              "    }\n",
              "</style>\n",
              "<table border=\"1\" class=\"dataframe\">\n",
              "  <thead>\n",
              "    <tr style=\"text-align: right;\">\n",
              "      <th></th>\n",
              "      <th>text</th>\n",
              "      <th>label</th>\n",
              "      <th>skor</th>\n",
              "    </tr>\n",
              "  </thead>\n",
              "  <tbody>\n",
              "    <tr>\n",
              "      <th>1449</th>\n",
              "      <td>kind people era new application come</td>\n",
              "      <td>neutral</td>\n",
              "      <td>0.859309</td>\n",
              "    </tr>\n",
              "    <tr>\n",
              "      <th>277</th>\n",
              "      <td>ma ai became worry</td>\n",
              "      <td>negative</td>\n",
              "      <td>0.568877</td>\n",
              "    </tr>\n",
              "    <tr>\n",
              "      <th>541</th>\n",
              "      <td>human destroy civilization life</td>\n",
              "      <td>negative</td>\n",
              "      <td>0.891997</td>\n",
              "    </tr>\n",
              "    <tr>\n",
              "      <th>1287</th>\n",
              "      <td>existence ai generative development cause human creativity</td>\n",
              "      <td>negative</td>\n",
              "      <td>0.559767</td>\n",
              "    </tr>\n",
              "    <tr>\n",
              "      <th>393</th>\n",
              "      <td>fast compared natural factor change global well impact ai rapid natural factor still moving slowly also overpopulation sometimes also lazy think cause effect long chain think</td>\n",
              "      <td>neutral</td>\n",
              "      <td>0.634789</td>\n",
              "    </tr>\n",
              "  </tbody>\n",
              "</table>\n",
              "</div>\n",
              "      <button class=\"colab-df-convert\" onclick=\"convertToInteractive('df-7522a28b-a1ac-495d-91ee-7ae0a97bfab5')\"\n",
              "              title=\"Convert this dataframe to an interactive table.\"\n",
              "              style=\"display:none;\">\n",
              "        \n",
              "  <svg xmlns=\"http://www.w3.org/2000/svg\" height=\"24px\"viewBox=\"0 0 24 24\"\n",
              "       width=\"24px\">\n",
              "    <path d=\"M0 0h24v24H0V0z\" fill=\"none\"/>\n",
              "    <path d=\"M18.56 5.44l.94 2.06.94-2.06 2.06-.94-2.06-.94-.94-2.06-.94 2.06-2.06.94zm-11 1L8.5 8.5l.94-2.06 2.06-.94-2.06-.94L8.5 2.5l-.94 2.06-2.06.94zm10 10l.94 2.06.94-2.06 2.06-.94-2.06-.94-.94-2.06-.94 2.06-2.06.94z\"/><path d=\"M17.41 7.96l-1.37-1.37c-.4-.4-.92-.59-1.43-.59-.52 0-1.04.2-1.43.59L10.3 9.45l-7.72 7.72c-.78.78-.78 2.05 0 2.83L4 21.41c.39.39.9.59 1.41.59.51 0 1.02-.2 1.41-.59l7.78-7.78 2.81-2.81c.8-.78.8-2.07 0-2.86zM5.41 20L4 18.59l7.72-7.72 1.47 1.35L5.41 20z\"/>\n",
              "  </svg>\n",
              "      </button>\n",
              "      \n",
              "  <style>\n",
              "    .colab-df-container {\n",
              "      display:flex;\n",
              "      flex-wrap:wrap;\n",
              "      gap: 12px;\n",
              "    }\n",
              "\n",
              "    .colab-df-convert {\n",
              "      background-color: #E8F0FE;\n",
              "      border: none;\n",
              "      border-radius: 50%;\n",
              "      cursor: pointer;\n",
              "      display: none;\n",
              "      fill: #1967D2;\n",
              "      height: 32px;\n",
              "      padding: 0 0 0 0;\n",
              "      width: 32px;\n",
              "    }\n",
              "\n",
              "    .colab-df-convert:hover {\n",
              "      background-color: #E2EBFA;\n",
              "      box-shadow: 0px 1px 2px rgba(60, 64, 67, 0.3), 0px 1px 3px 1px rgba(60, 64, 67, 0.15);\n",
              "      fill: #174EA6;\n",
              "    }\n",
              "\n",
              "    [theme=dark] .colab-df-convert {\n",
              "      background-color: #3B4455;\n",
              "      fill: #D2E3FC;\n",
              "    }\n",
              "\n",
              "    [theme=dark] .colab-df-convert:hover {\n",
              "      background-color: #434B5C;\n",
              "      box-shadow: 0px 1px 3px 1px rgba(0, 0, 0, 0.15);\n",
              "      filter: drop-shadow(0px 1px 2px rgba(0, 0, 0, 0.3));\n",
              "      fill: #FFFFFF;\n",
              "    }\n",
              "  </style>\n",
              "\n",
              "      <script>\n",
              "        const buttonEl =\n",
              "          document.querySelector('#df-7522a28b-a1ac-495d-91ee-7ae0a97bfab5 button.colab-df-convert');\n",
              "        buttonEl.style.display =\n",
              "          google.colab.kernel.accessAllowed ? 'block' : 'none';\n",
              "\n",
              "        async function convertToInteractive(key) {\n",
              "          const element = document.querySelector('#df-7522a28b-a1ac-495d-91ee-7ae0a97bfab5');\n",
              "          const dataTable =\n",
              "            await google.colab.kernel.invokeFunction('convertToInteractive',\n",
              "                                                     [key], {});\n",
              "          if (!dataTable) return;\n",
              "\n",
              "          const docLinkHtml = 'Like what you see? Visit the ' +\n",
              "            '<a target=\"_blank\" href=https://colab.research.google.com/notebooks/data_table.ipynb>data table notebook</a>'\n",
              "            + ' to learn more about interactive tables.';\n",
              "          element.innerHTML = '';\n",
              "          dataTable['output_type'] = 'display_data';\n",
              "          await google.colab.output.renderOutput(dataTable, element);\n",
              "          const docLink = document.createElement('div');\n",
              "          docLink.innerHTML = docLinkHtml;\n",
              "          element.appendChild(docLink);\n",
              "        }\n",
              "      </script>\n",
              "    </div>\n",
              "  </div>\n",
              "  "
            ]
          },
          "metadata": {},
          "execution_count": 20
        }
      ],
      "source": [
        "import pandas as pd\n",
        "modelling_data = {\n",
        "    \"text\": labeled_df['pra_processing_text'],\n",
        "    \"label\": labeled_df['sentimen'],\n",
        "    \"skor\": labeled_df['score']\n",
        "}\n",
        "modelling_df = pd.DataFrame(modelling_data)\n",
        "modelling_df_tfidf = pd.DataFrame(modelling_data)\n",
        "print(f\"Ukuran labeled_df: {modelling_df.shape}\")\n",
        "modelling_df.sample(5)"
      ]
    },
    {
      "cell_type": "code",
      "source": [
        "sentimen_counts = modelling_df['label'].value_counts()\n",
        "print(sentimen_counts)\n"
      ],
      "metadata": {
        "colab": {
          "base_uri": "https://localhost:8080/"
        },
        "id": "f_b8RwJPgHt5",
        "outputId": "eecd7efa-2187-4261-d275-dd29a6fdc0e4"
      },
      "execution_count": null,
      "outputs": [
        {
          "output_type": "stream",
          "name": "stdout",
          "text": [
            "neutral     796\n",
            "negative    361\n",
            "positive    243\n",
            "Name: label, dtype: int64\n"
          ]
        }
      ]
    },
    {
      "cell_type": "markdown",
      "metadata": {
        "id": "5467b_wYCZW8"
      },
      "source": [
        "## Word embedding"
      ]
    },
    {
      "cell_type": "code",
      "execution_count": null,
      "metadata": {
        "id": "Qzw0HfB5CcqW"
      },
      "outputs": [],
      "source": [
        "import pandas as pd\n",
        "from gensim.models import Word2Vec\n",
        "from nltk.tokenize import word_tokenize"
      ]
    },
    {
      "cell_type": "code",
      "execution_count": null,
      "metadata": {
        "id": "gj-MFY_nCemo",
        "colab": {
          "base_uri": "https://localhost:8080/",
          "height": 1000
        },
        "outputId": "c2cf914d-8671-49a2-b398-5edd94ef66ee"
      },
      "outputs": [
        {
          "output_type": "stream",
          "name": "stdout",
          "text": [
            "Word2Vec<vocab=2186, vector_size=100, alpha=0.025>\n"
          ]
        },
        {
          "output_type": "execute_result",
          "data": {
            "text/plain": [
              "                                                                                                                                                                                                                                                                                                                                     text  \\\n",
              "1239  ai also many error becomes parameter medical dangerous word game                                                                                                                                                                                                                                                                      \n",
              "1276  thank sharing mr indrawan                                                                                                                                                                                                                                                                                                             \n",
              "353   mr teacher discus history national team sea game wait drama card thank                                                                                                                                                                                                                                                                \n",
              "156   ai technology awareness motivation independent intention entirely true least future ai quite powerful often called artificial general intelligence agi potential trait precisely main concern agi created main problem ai like comment assume made ai sometimes like give fact half right provide false information confidence true   \n",
              "1374  paid using bing ai                                                                                                                                                                                                                                                                                                                    \n",
              "\n",
              "         label      skor  \\\n",
              "1239  negative  0.849677   \n",
              "1276  positive  0.956551   \n",
              "353   positive  0.504128   \n",
              "156   negative  0.542045   \n",
              "1374  neutral   0.880941   \n",
              "\n",
              "                                                                                                                                                                                                                                                                                                                                                                         tokenized_text  \n",
              "1239  [ai, also, many, error, becomes, parameter, medical, dangerous, word, game]                                                                                                                                                                                                                                                                                                        \n",
              "1276  [thank, sharing, mr, indrawan]                                                                                                                                                                                                                                                                                                                                                     \n",
              "353   [mr, teacher, discus, history, national, team, sea, game, wait, drama, card, thank]                                                                                                                                                                                                                                                                                                \n",
              "156   [ai, technology, awareness, motivation, independent, intention, entirely, true, least, future, ai, quite, powerful, often, called, artificial, general, intelligence, agi, potential, trait, precisely, main, concern, agi, created, main, problem, ai, like, comment, assume, made, ai, sometimes, like, give, fact, half, right, provide, false, information, confidence, true]  \n",
              "1374  [paid, using, bing, ai]                                                                                                                                                                                                                                                                                                                                                            "
            ],
            "text/html": [
              "\n",
              "  <div id=\"df-b86af130-b213-45dc-99e1-14bdde7712ef\">\n",
              "    <div class=\"colab-df-container\">\n",
              "      <div>\n",
              "<style scoped>\n",
              "    .dataframe tbody tr th:only-of-type {\n",
              "        vertical-align: middle;\n",
              "    }\n",
              "\n",
              "    .dataframe tbody tr th {\n",
              "        vertical-align: top;\n",
              "    }\n",
              "\n",
              "    .dataframe thead th {\n",
              "        text-align: right;\n",
              "    }\n",
              "</style>\n",
              "<table border=\"1\" class=\"dataframe\">\n",
              "  <thead>\n",
              "    <tr style=\"text-align: right;\">\n",
              "      <th></th>\n",
              "      <th>text</th>\n",
              "      <th>label</th>\n",
              "      <th>skor</th>\n",
              "      <th>tokenized_text</th>\n",
              "    </tr>\n",
              "  </thead>\n",
              "  <tbody>\n",
              "    <tr>\n",
              "      <th>1239</th>\n",
              "      <td>ai also many error becomes parameter medical dangerous word game</td>\n",
              "      <td>negative</td>\n",
              "      <td>0.849677</td>\n",
              "      <td>[ai, also, many, error, becomes, parameter, medical, dangerous, word, game]</td>\n",
              "    </tr>\n",
              "    <tr>\n",
              "      <th>1276</th>\n",
              "      <td>thank sharing mr indrawan</td>\n",
              "      <td>positive</td>\n",
              "      <td>0.956551</td>\n",
              "      <td>[thank, sharing, mr, indrawan]</td>\n",
              "    </tr>\n",
              "    <tr>\n",
              "      <th>353</th>\n",
              "      <td>mr teacher discus history national team sea game wait drama card thank</td>\n",
              "      <td>positive</td>\n",
              "      <td>0.504128</td>\n",
              "      <td>[mr, teacher, discus, history, national, team, sea, game, wait, drama, card, thank]</td>\n",
              "    </tr>\n",
              "    <tr>\n",
              "      <th>156</th>\n",
              "      <td>ai technology awareness motivation independent intention entirely true least future ai quite powerful often called artificial general intelligence agi potential trait precisely main concern agi created main problem ai like comment assume made ai sometimes like give fact half right provide false information confidence true</td>\n",
              "      <td>negative</td>\n",
              "      <td>0.542045</td>\n",
              "      <td>[ai, technology, awareness, motivation, independent, intention, entirely, true, least, future, ai, quite, powerful, often, called, artificial, general, intelligence, agi, potential, trait, precisely, main, concern, agi, created, main, problem, ai, like, comment, assume, made, ai, sometimes, like, give, fact, half, right, provide, false, information, confidence, true]</td>\n",
              "    </tr>\n",
              "    <tr>\n",
              "      <th>1374</th>\n",
              "      <td>paid using bing ai</td>\n",
              "      <td>neutral</td>\n",
              "      <td>0.880941</td>\n",
              "      <td>[paid, using, bing, ai]</td>\n",
              "    </tr>\n",
              "  </tbody>\n",
              "</table>\n",
              "</div>\n",
              "      <button class=\"colab-df-convert\" onclick=\"convertToInteractive('df-b86af130-b213-45dc-99e1-14bdde7712ef')\"\n",
              "              title=\"Convert this dataframe to an interactive table.\"\n",
              "              style=\"display:none;\">\n",
              "        \n",
              "  <svg xmlns=\"http://www.w3.org/2000/svg\" height=\"24px\"viewBox=\"0 0 24 24\"\n",
              "       width=\"24px\">\n",
              "    <path d=\"M0 0h24v24H0V0z\" fill=\"none\"/>\n",
              "    <path d=\"M18.56 5.44l.94 2.06.94-2.06 2.06-.94-2.06-.94-.94-2.06-.94 2.06-2.06.94zm-11 1L8.5 8.5l.94-2.06 2.06-.94-2.06-.94L8.5 2.5l-.94 2.06-2.06.94zm10 10l.94 2.06.94-2.06 2.06-.94-2.06-.94-.94-2.06-.94 2.06-2.06.94z\"/><path d=\"M17.41 7.96l-1.37-1.37c-.4-.4-.92-.59-1.43-.59-.52 0-1.04.2-1.43.59L10.3 9.45l-7.72 7.72c-.78.78-.78 2.05 0 2.83L4 21.41c.39.39.9.59 1.41.59.51 0 1.02-.2 1.41-.59l7.78-7.78 2.81-2.81c.8-.78.8-2.07 0-2.86zM5.41 20L4 18.59l7.72-7.72 1.47 1.35L5.41 20z\"/>\n",
              "  </svg>\n",
              "      </button>\n",
              "      \n",
              "  <style>\n",
              "    .colab-df-container {\n",
              "      display:flex;\n",
              "      flex-wrap:wrap;\n",
              "      gap: 12px;\n",
              "    }\n",
              "\n",
              "    .colab-df-convert {\n",
              "      background-color: #E8F0FE;\n",
              "      border: none;\n",
              "      border-radius: 50%;\n",
              "      cursor: pointer;\n",
              "      display: none;\n",
              "      fill: #1967D2;\n",
              "      height: 32px;\n",
              "      padding: 0 0 0 0;\n",
              "      width: 32px;\n",
              "    }\n",
              "\n",
              "    .colab-df-convert:hover {\n",
              "      background-color: #E2EBFA;\n",
              "      box-shadow: 0px 1px 2px rgba(60, 64, 67, 0.3), 0px 1px 3px 1px rgba(60, 64, 67, 0.15);\n",
              "      fill: #174EA6;\n",
              "    }\n",
              "\n",
              "    [theme=dark] .colab-df-convert {\n",
              "      background-color: #3B4455;\n",
              "      fill: #D2E3FC;\n",
              "    }\n",
              "\n",
              "    [theme=dark] .colab-df-convert:hover {\n",
              "      background-color: #434B5C;\n",
              "      box-shadow: 0px 1px 3px 1px rgba(0, 0, 0, 0.15);\n",
              "      filter: drop-shadow(0px 1px 2px rgba(0, 0, 0, 0.3));\n",
              "      fill: #FFFFFF;\n",
              "    }\n",
              "  </style>\n",
              "\n",
              "      <script>\n",
              "        const buttonEl =\n",
              "          document.querySelector('#df-b86af130-b213-45dc-99e1-14bdde7712ef button.colab-df-convert');\n",
              "        buttonEl.style.display =\n",
              "          google.colab.kernel.accessAllowed ? 'block' : 'none';\n",
              "\n",
              "        async function convertToInteractive(key) {\n",
              "          const element = document.querySelector('#df-b86af130-b213-45dc-99e1-14bdde7712ef');\n",
              "          const dataTable =\n",
              "            await google.colab.kernel.invokeFunction('convertToInteractive',\n",
              "                                                     [key], {});\n",
              "          if (!dataTable) return;\n",
              "\n",
              "          const docLinkHtml = 'Like what you see? Visit the ' +\n",
              "            '<a target=\"_blank\" href=https://colab.research.google.com/notebooks/data_table.ipynb>data table notebook</a>'\n",
              "            + ' to learn more about interactive tables.';\n",
              "          element.innerHTML = '';\n",
              "          dataTable['output_type'] = 'display_data';\n",
              "          await google.colab.output.renderOutput(dataTable, element);\n",
              "          const docLink = document.createElement('div');\n",
              "          docLink.innerHTML = docLinkHtml;\n",
              "          element.appendChild(docLink);\n",
              "        }\n",
              "      </script>\n",
              "    </div>\n",
              "  </div>\n",
              "  "
            ]
          },
          "metadata": {},
          "execution_count": 116
        }
      ],
      "source": [
        "# Tokenisasi kata dalam setiap teks\n",
        "modelling_df['tokenized_text'] = modelling_df['text'].apply(lambda x: word_tokenize(x.lower()))\n",
        "\n",
        "# Membangun model Word2Vec\n",
        "model = Word2Vec(modelling_df['tokenized_text'], vector_size=100, window=5, min_count=1, workers=4)\n",
        "print(model)\n",
        "modelling_df.sample(5)"
      ]
    },
    {
      "cell_type": "code",
      "execution_count": null,
      "metadata": {
        "id": "sRGPJRuJWp-4",
        "colab": {
          "base_uri": "https://localhost:8080/",
          "height": 1000
        },
        "outputId": "c14c503d-7103-4594-e0fa-b65051f5f5b1"
      },
      "outputs": [
        {
          "output_type": "stream",
          "name": "stdout",
          "text": [
            "Index(['text', 'label', 'skor', 'tokenized_text', 'text_vector'], dtype='object')\n"
          ]
        },
        {
          "output_type": "execute_result",
          "data": {
            "text/plain": [
              "                                                                    text  \\\n",
              "1400  must still law limit used wrongly like nuclear way get rid try set   \n",
              "\n",
              "         label      skor  \\\n",
              "1400  negative  0.569704   \n",
              "\n",
              "                                                                        tokenized_text  \\\n",
              "1400  [must, still, law, limit, used, wrongly, like, nuclear, way, get, rid, try, set]   \n",
              "\n",
              "                                                                                                                                                                                                                                                                                                                                                                                                                                                                                                                                                                                                                                                                                                                                                                                                                                                                                                                                                                                                                                                                                                                                                                                                                                                                                                                                                                                                                                                                                                                                                                                                                                                                                                                                                                                                                                                                                                                                                                                                                                                                                                                                                                                                                             text_vector  \n",
              "1400  [-0.12730595698723426, 0.1090599713094819, 0.013240878273231478, 0.08125803508580877, -0.016601321036712482, -0.29288989448776614, 0.10605940865710951, 0.4065289809726752, -0.18528763729577455, -0.08733565701494136, -0.10501321826058511, -0.2619544819283944, -0.05663196941336187, 0.16884909935582143, 0.013579433040621761, -0.026817642994081743, 0.03682318684430076, -0.06839861817962418, -0.03994222755472247, -0.36627423190153563, 0.15698355406773493, 0.07694057028633185, 0.11065760367693236, -0.03816872365916005, 0.041385925986105576, 0.013963141337556478, -0.1524222633944681, -0.10017409741591948, -0.20109586790204048, 0.0438779723794701, 0.20014169529223672, 0.02480493475181552, 0.1098721835654802, -0.1575481163409467, -0.023547474169530548, 0.24921211743584046, 0.05713128491949577, -0.11404031255425742, -0.03801500851001877, -0.293345100676211, 0.06167831340840516, -0.1499377340078354, -0.08987845629095458, -0.010757309841350295, 0.17553602513642266, -0.011891815811395645, -0.13169344838780278, 0.002368041439555012, 0.11471822291899186, 0.14104527869046882, 0.06135347966874878, -0.132081485447438, -0.09363227563265425, 0.02531391059836516, -0.11008489776689273, 0.1299244129600433, 0.12101761982418023, -0.05666958243371202, -0.2471555662341416, 0.09986934431183797, -0.032226436314746164, 0.08089812293362159, -0.05493980968514314, -0.02657095564959141, -0.2149473400070117, 0.15855320449918509, 0.010392184754332097, 0.13035359776292282, -0.15055516720391238, 0.20478709099384454, -0.1345534667086143, 0.08660739029829319, 0.15469499627271524, -0.09220697481829959, 0.19857083203700873, 0.06498442755009119, 0.012913175255772121, -0.060386569382479556, -0.1894677781070081, 0.07806886189008275, -0.10080555797769473, -0.03550856567632694, -0.07439087114583415, 0.22182565207521504, -0.021379866946237877, -0.007389861982888901, -0.044335770062529124, 0.17575634190311226, 0.15990096597502437, 0.0427279369189189, 0.21168447106790084, 0.038131047398425065, 0.05381233288118473, 0.03495880556651033, 0.29736971418158364, 0.22185451050217336, 0.14989074556013712, -0.1843469850718975, 0.04150667118553359, 0.02105720294443577]  "
            ],
            "text/html": [
              "\n",
              "  <div id=\"df-780d9393-341f-460a-b819-f9a3325d24c8\">\n",
              "    <div class=\"colab-df-container\">\n",
              "      <div>\n",
              "<style scoped>\n",
              "    .dataframe tbody tr th:only-of-type {\n",
              "        vertical-align: middle;\n",
              "    }\n",
              "\n",
              "    .dataframe tbody tr th {\n",
              "        vertical-align: top;\n",
              "    }\n",
              "\n",
              "    .dataframe thead th {\n",
              "        text-align: right;\n",
              "    }\n",
              "</style>\n",
              "<table border=\"1\" class=\"dataframe\">\n",
              "  <thead>\n",
              "    <tr style=\"text-align: right;\">\n",
              "      <th></th>\n",
              "      <th>text</th>\n",
              "      <th>label</th>\n",
              "      <th>skor</th>\n",
              "      <th>tokenized_text</th>\n",
              "      <th>text_vector</th>\n",
              "    </tr>\n",
              "  </thead>\n",
              "  <tbody>\n",
              "    <tr>\n",
              "      <th>1400</th>\n",
              "      <td>must still law limit used wrongly like nuclear way get rid try set</td>\n",
              "      <td>negative</td>\n",
              "      <td>0.569704</td>\n",
              "      <td>[must, still, law, limit, used, wrongly, like, nuclear, way, get, rid, try, set]</td>\n",
              "      <td>[-0.12730595698723426, 0.1090599713094819, 0.013240878273231478, 0.08125803508580877, -0.016601321036712482, -0.29288989448776614, 0.10605940865710951, 0.4065289809726752, -0.18528763729577455, -0.08733565701494136, -0.10501321826058511, -0.2619544819283944, -0.05663196941336187, 0.16884909935582143, 0.013579433040621761, -0.026817642994081743, 0.03682318684430076, -0.06839861817962418, -0.03994222755472247, -0.36627423190153563, 0.15698355406773493, 0.07694057028633185, 0.11065760367693236, -0.03816872365916005, 0.041385925986105576, 0.013963141337556478, -0.1524222633944681, -0.10017409741591948, -0.20109586790204048, 0.0438779723794701, 0.20014169529223672, 0.02480493475181552, 0.1098721835654802, -0.1575481163409467, -0.023547474169530548, 0.24921211743584046, 0.05713128491949577, -0.11404031255425742, -0.03801500851001877, -0.293345100676211, 0.06167831340840516, -0.1499377340078354, -0.08987845629095458, -0.010757309841350295, 0.17553602513642266, -0.011891815811395645, -0.13169344838780278, 0.002368041439555012, 0.11471822291899186, 0.14104527869046882, 0.06135347966874878, -0.132081485447438, -0.09363227563265425, 0.02531391059836516, -0.11008489776689273, 0.1299244129600433, 0.12101761982418023, -0.05666958243371202, -0.2471555662341416, 0.09986934431183797, -0.032226436314746164, 0.08089812293362159, -0.05493980968514314, -0.02657095564959141, -0.2149473400070117, 0.15855320449918509, 0.010392184754332097, 0.13035359776292282, -0.15055516720391238, 0.20478709099384454, -0.1345534667086143, 0.08660739029829319, 0.15469499627271524, -0.09220697481829959, 0.19857083203700873, 0.06498442755009119, 0.012913175255772121, -0.060386569382479556, -0.1894677781070081, 0.07806886189008275, -0.10080555797769473, -0.03550856567632694, -0.07439087114583415, 0.22182565207521504, -0.021379866946237877, -0.007389861982888901, -0.044335770062529124, 0.17575634190311226, 0.15990096597502437, 0.0427279369189189, 0.21168447106790084, 0.038131047398425065, 0.05381233288118473, 0.03495880556651033, 0.29736971418158364, 0.22185451050217336, 0.14989074556013712, -0.1843469850718975, 0.04150667118553359, 0.02105720294443577]</td>\n",
              "    </tr>\n",
              "  </tbody>\n",
              "</table>\n",
              "</div>\n",
              "      <button class=\"colab-df-convert\" onclick=\"convertToInteractive('df-780d9393-341f-460a-b819-f9a3325d24c8')\"\n",
              "              title=\"Convert this dataframe to an interactive table.\"\n",
              "              style=\"display:none;\">\n",
              "        \n",
              "  <svg xmlns=\"http://www.w3.org/2000/svg\" height=\"24px\"viewBox=\"0 0 24 24\"\n",
              "       width=\"24px\">\n",
              "    <path d=\"M0 0h24v24H0V0z\" fill=\"none\"/>\n",
              "    <path d=\"M18.56 5.44l.94 2.06.94-2.06 2.06-.94-2.06-.94-.94-2.06-.94 2.06-2.06.94zm-11 1L8.5 8.5l.94-2.06 2.06-.94-2.06-.94L8.5 2.5l-.94 2.06-2.06.94zm10 10l.94 2.06.94-2.06 2.06-.94-2.06-.94-.94-2.06-.94 2.06-2.06.94z\"/><path d=\"M17.41 7.96l-1.37-1.37c-.4-.4-.92-.59-1.43-.59-.52 0-1.04.2-1.43.59L10.3 9.45l-7.72 7.72c-.78.78-.78 2.05 0 2.83L4 21.41c.39.39.9.59 1.41.59.51 0 1.02-.2 1.41-.59l7.78-7.78 2.81-2.81c.8-.78.8-2.07 0-2.86zM5.41 20L4 18.59l7.72-7.72 1.47 1.35L5.41 20z\"/>\n",
              "  </svg>\n",
              "      </button>\n",
              "      \n",
              "  <style>\n",
              "    .colab-df-container {\n",
              "      display:flex;\n",
              "      flex-wrap:wrap;\n",
              "      gap: 12px;\n",
              "    }\n",
              "\n",
              "    .colab-df-convert {\n",
              "      background-color: #E8F0FE;\n",
              "      border: none;\n",
              "      border-radius: 50%;\n",
              "      cursor: pointer;\n",
              "      display: none;\n",
              "      fill: #1967D2;\n",
              "      height: 32px;\n",
              "      padding: 0 0 0 0;\n",
              "      width: 32px;\n",
              "    }\n",
              "\n",
              "    .colab-df-convert:hover {\n",
              "      background-color: #E2EBFA;\n",
              "      box-shadow: 0px 1px 2px rgba(60, 64, 67, 0.3), 0px 1px 3px 1px rgba(60, 64, 67, 0.15);\n",
              "      fill: #174EA6;\n",
              "    }\n",
              "\n",
              "    [theme=dark] .colab-df-convert {\n",
              "      background-color: #3B4455;\n",
              "      fill: #D2E3FC;\n",
              "    }\n",
              "\n",
              "    [theme=dark] .colab-df-convert:hover {\n",
              "      background-color: #434B5C;\n",
              "      box-shadow: 0px 1px 3px 1px rgba(0, 0, 0, 0.15);\n",
              "      filter: drop-shadow(0px 1px 2px rgba(0, 0, 0, 0.3));\n",
              "      fill: #FFFFFF;\n",
              "    }\n",
              "  </style>\n",
              "\n",
              "      <script>\n",
              "        const buttonEl =\n",
              "          document.querySelector('#df-780d9393-341f-460a-b819-f9a3325d24c8 button.colab-df-convert');\n",
              "        buttonEl.style.display =\n",
              "          google.colab.kernel.accessAllowed ? 'block' : 'none';\n",
              "\n",
              "        async function convertToInteractive(key) {\n",
              "          const element = document.querySelector('#df-780d9393-341f-460a-b819-f9a3325d24c8');\n",
              "          const dataTable =\n",
              "            await google.colab.kernel.invokeFunction('convertToInteractive',\n",
              "                                                     [key], {});\n",
              "          if (!dataTable) return;\n",
              "\n",
              "          const docLinkHtml = 'Like what you see? Visit the ' +\n",
              "            '<a target=\"_blank\" href=https://colab.research.google.com/notebooks/data_table.ipynb>data table notebook</a>'\n",
              "            + ' to learn more about interactive tables.';\n",
              "          element.innerHTML = '';\n",
              "          dataTable['output_type'] = 'display_data';\n",
              "          await google.colab.output.renderOutput(dataTable, element);\n",
              "          const docLink = document.createElement('div');\n",
              "          docLink.innerHTML = docLinkHtml;\n",
              "          element.appendChild(docLink);\n",
              "        }\n",
              "      </script>\n",
              "    </div>\n",
              "  </div>\n",
              "  "
            ]
          },
          "metadata": {},
          "execution_count": 117
        }
      ],
      "source": [
        "import numpy as np\n",
        "\n",
        "# Fungsi untuk mendapatkan vektor rata-rata dari vektor kata dalam satu ulasan\n",
        "def get_average_vector(words, model, vector_size):\n",
        "  # Menginisialisasi vektor rata-rata dengan nol\n",
        "  average_vector = np.zeros(vector_size)\n",
        "  count = 0\n",
        "  for word in words:\n",
        "    # Jika kata ada dalam model Word2Vec, tambahkan vektornya ke vektor rata-rata\n",
        "    if word in model.wv:\n",
        "      average_vector += model.wv[word]\n",
        "      count += 1\n",
        "\n",
        "  # Hitung vektor rata-rata dengan membagi dengan jumlah kata yang ada\n",
        "  if count != 0:\n",
        "    average_vector /= count\n",
        "\n",
        "  return average_vector\n",
        "\n",
        "# Mengubah setiap ulasan menjadi representasi vektor teks\n",
        "modelling_df['text_vector'] = modelling_df['tokenized_text'].apply(lambda x: get_average_vector(x, model, 100))\n",
        "print(modelling_df.columns)\n",
        "modelling_df.sample(1)"
      ]
    },
    {
      "cell_type": "markdown",
      "metadata": {
        "id": "4mPrufYFjHJB"
      },
      "source": [
        "### DF baru berdasarkan pengambilan tingkat kepercayaan label"
      ]
    },
    {
      "cell_type": "code",
      "execution_count": null,
      "metadata": {
        "id": "UCIXcelo7Xpn",
        "colab": {
          "base_uri": "https://localhost:8080/"
        },
        "outputId": "80648042-56a2-4a89-e1a6-d35d3034df50"
      },
      "outputs": [
        {
          "output_type": "stream",
          "name": "stdout",
          "text": [
            "Banyaknya nilai pada rentang tertentu\n",
            "0.1: 1400\n",
            "0.2: 1400\n",
            "0.3: 1400\n",
            "0.4: 1399\n",
            "0.5: 1318\n",
            "0.6: 1012\n",
            "0.7: 708\n",
            "0.8: 413\n",
            "0.9: 142\n",
            "1.0: 0\n"
          ]
        }
      ],
      "source": [
        "# Kode untuk menampilkan sebaran nilai tergantung besar skor kepercayaan pada label\n",
        "list_num = [i / 10 for i in range(1, 11)]\n",
        "print(\"Banyaknya nilai pada rentang tertentu\")\n",
        "for num in list_num:\n",
        "  score_check = [score for score in labeled_df['score'] if score > num]\n",
        "  print(f\"{num}: {len(score_check)}\")"
      ]
    },
    {
      "cell_type": "code",
      "execution_count": null,
      "metadata": {
        "id": "jx6lwrfKjGpd",
        "colab": {
          "base_uri": "https://localhost:8080/"
        },
        "outputId": "69fdd8ea-9c9b-40ba-fa94-7f64efbff1a9"
      },
      "outputs": [
        {
          "output_type": "stream",
          "name": "stdout",
          "text": [
            "Panjang df_low: 1399\n",
            "neutral     795\n",
            "negative    361\n",
            "positive    243\n",
            "Name: label, dtype: int64\n",
            "Panjang df_mid: 1012\n",
            "neutral     566\n",
            "negative    259\n",
            "positive    187\n",
            "Name: label, dtype: int64\n",
            "Panjang df_high: 413\n",
            "neutral     200\n",
            "positive    116\n",
            "negative    97 \n",
            "Name: label, dtype: int64\n",
            "Index(['text', 'label', 'skor', 'tokenized_text', 'text_vector'], dtype='object')\n"
          ]
        }
      ],
      "source": [
        "# Semakin sedikit tingkat kepercayaan, semakin banyak datanya\n",
        "df_low = modelling_df[modelling_df['skor'] > 0.4] # Kepercayaan rendah\n",
        "df_mid = modelling_df[modelling_df['skor'] > 0.6] # Kepercayaan sedang\n",
        "df_high = modelling_df[modelling_df['skor'] > 0.8] # Kepercayaan tinggi\n",
        "\n",
        "print(f\"Panjang df_low: {df_low.shape[0]}\")\n",
        "print(df_low['label'].value_counts())\n",
        "print(f\"Panjang df_mid: {df_mid.shape[0]}\")\n",
        "print(df_mid['label'].value_counts())\n",
        "print(f\"Panjang df_high: {df_high.shape[0]}\")\n",
        "print(df_high['label'].value_counts())\n",
        "\n",
        "print(df_low.columns)"
      ]
    },
    {
      "cell_type": "markdown",
      "metadata": {
        "id": "gsE7YNv6K98b"
      },
      "source": [
        "Pengujian dan pembuatan model dilakukan 3 kali untuk 3 tipe data yang dibagi sesuai tingkat kepercayaan"
      ]
    },
    {
      "cell_type": "markdown",
      "metadata": {
        "id": "6EA-IhbcHNVM"
      },
      "source": [
        "### 1) df_low (kepercayaan rendah, data banyak)"
      ]
    },
    {
      "cell_type": "code",
      "execution_count": null,
      "metadata": {
        "id": "onA8HnSAgIYR",
        "colab": {
          "base_uri": "https://localhost:8080/"
        },
        "outputId": "7fb573bb-34e6-4c5f-fdeb-9467b64faa8b"
      },
      "outputs": [
        {
          "output_type": "stream",
          "name": "stdout",
          "text": [
            "Panjang df_low: 1399\n",
            "neutral     795\n",
            "negative    361\n",
            "positive    243\n",
            "Name: label, dtype: int64\n"
          ]
        }
      ],
      "source": [
        "print(f\"Panjang df_low: {df_low.shape[0]}\")\n",
        "print(df_low['label'].value_counts())"
      ]
    },
    {
      "cell_type": "markdown",
      "metadata": {
        "id": "JG-53qGKHRds"
      },
      "source": [
        "#### Membagi data menjadi data latihan dan test"
      ]
    },
    {
      "cell_type": "code",
      "execution_count": null,
      "metadata": {
        "id": "yPJOMscD5kaa",
        "colab": {
          "base_uri": "https://localhost:8080/"
        },
        "outputId": "900b1d0b-5751-4412-92e1-8cb7cb5d6c2b"
      },
      "outputs": [
        {
          "output_type": "stream",
          "name": "stdout",
          "text": [
            "Train data percentage: 79.98570407433881%\n",
            "Test data percentage: 20.014295925661184%\n"
          ]
        }
      ],
      "source": [
        "from sklearn.model_selection import StratifiedShuffleSplit\n",
        "import numpy as np\n",
        "\n",
        "# Menggunakan kolom 'text_vector' sebagai fitur\n",
        "features = np.vstack(df_low['text_vector'].values)\n",
        "\n",
        "# Menggunakan kolom 'label' sebagai sentimen\n",
        "labels = df_low['label'].values\n",
        "\n",
        "# Membuat objek StratifiedShuffleSplit\n",
        "stratified_split = StratifiedShuffleSplit(n_splits=1, test_size=0.2, random_state=42)\n",
        "\n",
        "# Melakukan pembagian dataset menjadi data latihan dan data pengujian\n",
        "for train_index, test_index in stratified_split.split(features, labels):\n",
        "    train_features = features[train_index]\n",
        "    train_labels = labels[train_index]\n",
        "    test_features = features[test_index]\n",
        "    test_labels = labels[test_index]\n",
        "\n",
        "train_percentage = len(train_features) / len(features) * 100\n",
        "test_percentage = len(test_features) / len(features) * 100\n",
        "\n",
        "print(f\"Train data percentage: {train_percentage}%\")\n",
        "print(f\"Test data percentage: {test_percentage}%\")"
      ]
    },
    {
      "cell_type": "markdown",
      "metadata": {
        "id": "gSDHiz1iLiww"
      },
      "source": [
        "#### Pembuatan model"
      ]
    },
    {
      "cell_type": "markdown",
      "metadata": {
        "id": "dB1crvnZLluH"
      },
      "source": [
        "##### Naive Bayes"
      ]
    },
    {
      "cell_type": "code",
      "execution_count": null,
      "metadata": {
        "id": "CKC005hnbZiA",
        "colab": {
          "base_uri": "https://localhost:8080/"
        },
        "outputId": "1137c5a0-9ba3-4cd6-c65b-322bb346a8d2"
      },
      "outputs": [
        {
          "output_type": "stream",
          "name": "stdout",
          "text": [
            "Accuracy: 0.2571428571428571\n",
            "Precision: 0.40421075837742504\n",
            "F1-Score: 0.1720848377543335\n",
            "Classification Report:\n",
            "               precision    recall  f1-score   support\n",
            "\n",
            "    negative       0.33      0.53      0.41        72\n",
            "     neutral       0.50      0.01      0.02       159\n",
            "    positive       0.20      0.65      0.30        49\n",
            "\n",
            "    accuracy                           0.26       280\n",
            "   macro avg       0.34      0.40      0.25       280\n",
            "weighted avg       0.40      0.26      0.17       280\n",
            "\n"
          ]
        }
      ],
      "source": [
        "from sklearn.naive_bayes import GaussianNB\n",
        "naive_bayes_model = GaussianNB()\n",
        "naive_bayes_model.fit(train_features, train_labels)\n",
        "predictions = naive_bayes_model.predict(test_features)\n",
        "\n",
        "from sklearn.metrics import accuracy_score, classification_report, precision_score, f1_score\n",
        "accuracy = accuracy_score(test_labels, predictions)\n",
        "print(\"Accuracy:\", accuracy)\n",
        "precision = precision_score(test_labels, predictions, average='weighted')\n",
        "print(\"Precision:\", precision)\n",
        "f1 = f1_score(test_labels, predictions, average='weighted')\n",
        "print(\"F1-Score:\", f1)\n",
        "classification_report = classification_report(test_labels, predictions)\n",
        "print(\"Classification Report:\\n\", classification_report)\n",
        "\n",
        "nb_accuracy = round(accuracy, 2)\n",
        "nb_precision = round(precision, 2)\n",
        "nb_f1 = round(f1, 2)"
      ]
    },
    {
      "cell_type": "markdown",
      "metadata": {
        "id": "kYKwSvnTLyt7"
      },
      "source": [
        "##### Support Vector Machine"
      ]
    },
    {
      "cell_type": "code",
      "execution_count": null,
      "metadata": {
        "id": "G9IDZQgKeYds",
        "colab": {
          "base_uri": "https://localhost:8080/"
        },
        "outputId": "fc83ab01-206f-47e9-f626-1d8b0207eda7"
      },
      "outputs": [
        {
          "output_type": "stream",
          "name": "stdout",
          "text": [
            "Accuracy: 0.5678571428571428\n",
            "Precision: 0.32246173469387757\n",
            "F1-Score: 0.4113407094044907\n",
            "Classification Report:\n",
            "               precision    recall  f1-score   support\n",
            "\n",
            "    negative       0.00      0.00      0.00        72\n",
            "     neutral       0.57      1.00      0.72       159\n",
            "    positive       0.00      0.00      0.00        49\n",
            "\n",
            "    accuracy                           0.57       280\n",
            "   macro avg       0.19      0.33      0.24       280\n",
            "weighted avg       0.32      0.57      0.41       280\n",
            "\n"
          ]
        }
      ],
      "source": [
        "from sklearn import svm\n",
        "svm_model = svm.SVC()\n",
        "svm_model.fit(train_features, train_labels)\n",
        "predictions = svm_model.predict(test_features)\n",
        "\n",
        "from sklearn.metrics import accuracy_score, classification_report, precision_score\n",
        "accuracy = accuracy_score(test_labels, predictions)\n",
        "print(\"Accuracy:\", accuracy)\n",
        "precision = precision_score(test_labels, predictions, average='weighted')\n",
        "print(\"Precision:\", precision)\n",
        "f1 = f1_score(test_labels, predictions, average='weighted')\n",
        "print(\"F1-Score:\", f1)\n",
        "classification_report = classification_report(test_labels, predictions)\n",
        "print(\"Classification Report:\\n\", classification_report)\n",
        "\n",
        "svm_accuracy = round(accuracy, 2)\n",
        "svm_precision = round(precision, 2)\n",
        "svm_f1 = round(f1, 2)"
      ]
    },
    {
      "cell_type": "markdown",
      "metadata": {
        "id": "aDCChg1sNJDk"
      },
      "source": [
        "##### K-Nearest Neighbors (KN-N)"
      ]
    },
    {
      "cell_type": "code",
      "execution_count": null,
      "metadata": {
        "id": "XdfkRoWPe5uz",
        "colab": {
          "base_uri": "https://localhost:8080/"
        },
        "outputId": "e97513c5-054d-402f-a6a6-1402c6dfe339"
      },
      "outputs": [
        {
          "output_type": "stream",
          "name": "stdout",
          "text": [
            "Accuracy: 0.45714285714285713\n",
            "Precision: 0.40223886202525705\n",
            "F1-Score: 0.4278986814263639\n",
            "Classification Report:\n",
            "               precision    recall  f1-score   support\n",
            "\n",
            "    negative       0.31      0.36      0.33        72\n",
            "     neutral       0.57      0.64      0.60       159\n",
            "    positive       0.00      0.00      0.00        49\n",
            "\n",
            "    accuracy                           0.46       280\n",
            "   macro avg       0.29      0.33      0.31       280\n",
            "weighted avg       0.40      0.46      0.43       280\n",
            "\n"
          ]
        }
      ],
      "source": [
        "from sklearn.neighbors import KNeighborsClassifier\n",
        "knn = KNeighborsClassifier(n_neighbors=5)  # Misalnya, menggunakan 5 tetangga terdekat\n",
        "knn.fit(train_features, train_labels)\n",
        "predictions = knn.predict(test_features)\n",
        "\n",
        "from sklearn.metrics import accuracy_score, classification_report, precision_score\n",
        "accuracy = accuracy_score(test_labels, predictions)\n",
        "print(\"Accuracy:\", accuracy)\n",
        "precision = precision_score(test_labels, predictions, average='weighted')\n",
        "print(\"Precision:\", precision)\n",
        "f1 = f1_score(test_labels, predictions, average='weighted')\n",
        "print(\"F1-Score:\", f1)\n",
        "classification_report = classification_report(test_labels, predictions)\n",
        "print(\"Classification Report:\\n\", classification_report)\n",
        "\n",
        "knn_accuracy = round(accuracy, 2)\n",
        "knn_precision = round(precision, 2)\n",
        "knn_f1 = round(f1, 2)"
      ]
    },
    {
      "cell_type": "markdown",
      "metadata": {
        "id": "VvHoHZQVOGcl"
      },
      "source": [
        "##### Gradient Boosting"
      ]
    },
    {
      "cell_type": "code",
      "execution_count": null,
      "metadata": {
        "id": "MTwTbXsPLyJJ",
        "colab": {
          "base_uri": "https://localhost:8080/"
        },
        "outputId": "59345db0-478f-4f26-f280-91dd6a69ecf9"
      },
      "outputs": [
        {
          "output_type": "stream",
          "name": "stdout",
          "text": [
            "Accuracy: 0.5428571428571428\n",
            "Precision: 0.48274250157095344\n",
            "F1-Score: 0.4707587111028905\n",
            "Classification Report:\n",
            "               precision    recall  f1-score   support\n",
            "\n",
            "    negative       0.38      0.14      0.20        72\n",
            "     neutral       0.57      0.86      0.69       159\n",
            "    positive       0.33      0.10      0.16        49\n",
            "\n",
            "    accuracy                           0.54       280\n",
            "   macro avg       0.43      0.37      0.35       280\n",
            "weighted avg       0.48      0.54      0.47       280\n",
            "\n"
          ]
        }
      ],
      "source": [
        "from sklearn.ensemble import GradientBoostingClassifier\n",
        "model = GradientBoostingClassifier(random_state=42)\n",
        "model.fit(train_features, train_labels)\n",
        "predictions = model.predict(test_features)\n",
        "\n",
        "from sklearn.metrics import accuracy_score, classification_report, precision_score\n",
        "accuracy = accuracy_score(test_labels, predictions)\n",
        "print(\"Accuracy:\", accuracy)\n",
        "precision = precision_score(test_labels, predictions, average='weighted')\n",
        "print(\"Precision:\", precision)\n",
        "f1 = f1_score(test_labels, predictions, average='weighted')\n",
        "print(\"F1-Score:\", f1)\n",
        "classification_report = classification_report(test_labels, predictions)\n",
        "print(\"Classification Report:\\n\", classification_report)\n",
        "\n",
        "gb_accuracy = round(accuracy, 2)\n",
        "gb_precision = round(precision, 2)\n",
        "gb_f1 = round(f1, 2)"
      ]
    },
    {
      "cell_type": "markdown",
      "metadata": {
        "id": "_JlsxaSzhEsc"
      },
      "source": [
        "#### Tabel akurasi dan presisi dari keempat model"
      ]
    },
    {
      "cell_type": "code",
      "execution_count": null,
      "metadata": {
        "id": "Dp9miqEjhLon",
        "colab": {
          "base_uri": "https://localhost:8080/",
          "height": 207
        },
        "outputId": "d23d881b-00da-43da-b89c-c1ec7d461897"
      },
      "outputs": [
        {
          "output_type": "execute_result",
          "data": {
            "text/plain": [
              "        name    NB   SVM   KNN    GB\n",
              "0  accuracy   0.26  0.57  0.46  0.54\n",
              "1  precision  0.40  0.32  0.40  0.48\n",
              "2  f1-score   0.17  0.41  0.43  0.47"
            ],
            "text/html": [
              "\n",
              "  <div id=\"df-d4ef8595-9609-418f-ae4d-88600cacfff1\">\n",
              "    <div class=\"colab-df-container\">\n",
              "      <div>\n",
              "<style scoped>\n",
              "    .dataframe tbody tr th:only-of-type {\n",
              "        vertical-align: middle;\n",
              "    }\n",
              "\n",
              "    .dataframe tbody tr th {\n",
              "        vertical-align: top;\n",
              "    }\n",
              "\n",
              "    .dataframe thead th {\n",
              "        text-align: right;\n",
              "    }\n",
              "</style>\n",
              "<table border=\"1\" class=\"dataframe\">\n",
              "  <thead>\n",
              "    <tr style=\"text-align: right;\">\n",
              "      <th></th>\n",
              "      <th>name</th>\n",
              "      <th>NB</th>\n",
              "      <th>SVM</th>\n",
              "      <th>KNN</th>\n",
              "      <th>GB</th>\n",
              "    </tr>\n",
              "  </thead>\n",
              "  <tbody>\n",
              "    <tr>\n",
              "      <th>0</th>\n",
              "      <td>accuracy</td>\n",
              "      <td>0.26</td>\n",
              "      <td>0.57</td>\n",
              "      <td>0.46</td>\n",
              "      <td>0.54</td>\n",
              "    </tr>\n",
              "    <tr>\n",
              "      <th>1</th>\n",
              "      <td>precision</td>\n",
              "      <td>0.40</td>\n",
              "      <td>0.32</td>\n",
              "      <td>0.40</td>\n",
              "      <td>0.48</td>\n",
              "    </tr>\n",
              "    <tr>\n",
              "      <th>2</th>\n",
              "      <td>f1-score</td>\n",
              "      <td>0.17</td>\n",
              "      <td>0.41</td>\n",
              "      <td>0.43</td>\n",
              "      <td>0.47</td>\n",
              "    </tr>\n",
              "  </tbody>\n",
              "</table>\n",
              "</div>\n",
              "      <button class=\"colab-df-convert\" onclick=\"convertToInteractive('df-d4ef8595-9609-418f-ae4d-88600cacfff1')\"\n",
              "              title=\"Convert this dataframe to an interactive table.\"\n",
              "              style=\"display:none;\">\n",
              "        \n",
              "  <svg xmlns=\"http://www.w3.org/2000/svg\" height=\"24px\"viewBox=\"0 0 24 24\"\n",
              "       width=\"24px\">\n",
              "    <path d=\"M0 0h24v24H0V0z\" fill=\"none\"/>\n",
              "    <path d=\"M18.56 5.44l.94 2.06.94-2.06 2.06-.94-2.06-.94-.94-2.06-.94 2.06-2.06.94zm-11 1L8.5 8.5l.94-2.06 2.06-.94-2.06-.94L8.5 2.5l-.94 2.06-2.06.94zm10 10l.94 2.06.94-2.06 2.06-.94-2.06-.94-.94-2.06-.94 2.06-2.06.94z\"/><path d=\"M17.41 7.96l-1.37-1.37c-.4-.4-.92-.59-1.43-.59-.52 0-1.04.2-1.43.59L10.3 9.45l-7.72 7.72c-.78.78-.78 2.05 0 2.83L4 21.41c.39.39.9.59 1.41.59.51 0 1.02-.2 1.41-.59l7.78-7.78 2.81-2.81c.8-.78.8-2.07 0-2.86zM5.41 20L4 18.59l7.72-7.72 1.47 1.35L5.41 20z\"/>\n",
              "  </svg>\n",
              "      </button>\n",
              "      \n",
              "  <style>\n",
              "    .colab-df-container {\n",
              "      display:flex;\n",
              "      flex-wrap:wrap;\n",
              "      gap: 12px;\n",
              "    }\n",
              "\n",
              "    .colab-df-convert {\n",
              "      background-color: #E8F0FE;\n",
              "      border: none;\n",
              "      border-radius: 50%;\n",
              "      cursor: pointer;\n",
              "      display: none;\n",
              "      fill: #1967D2;\n",
              "      height: 32px;\n",
              "      padding: 0 0 0 0;\n",
              "      width: 32px;\n",
              "    }\n",
              "\n",
              "    .colab-df-convert:hover {\n",
              "      background-color: #E2EBFA;\n",
              "      box-shadow: 0px 1px 2px rgba(60, 64, 67, 0.3), 0px 1px 3px 1px rgba(60, 64, 67, 0.15);\n",
              "      fill: #174EA6;\n",
              "    }\n",
              "\n",
              "    [theme=dark] .colab-df-convert {\n",
              "      background-color: #3B4455;\n",
              "      fill: #D2E3FC;\n",
              "    }\n",
              "\n",
              "    [theme=dark] .colab-df-convert:hover {\n",
              "      background-color: #434B5C;\n",
              "      box-shadow: 0px 1px 3px 1px rgba(0, 0, 0, 0.15);\n",
              "      filter: drop-shadow(0px 1px 2px rgba(0, 0, 0, 0.3));\n",
              "      fill: #FFFFFF;\n",
              "    }\n",
              "  </style>\n",
              "\n",
              "      <script>\n",
              "        const buttonEl =\n",
              "          document.querySelector('#df-d4ef8595-9609-418f-ae4d-88600cacfff1 button.colab-df-convert');\n",
              "        buttonEl.style.display =\n",
              "          google.colab.kernel.accessAllowed ? 'block' : 'none';\n",
              "\n",
              "        async function convertToInteractive(key) {\n",
              "          const element = document.querySelector('#df-d4ef8595-9609-418f-ae4d-88600cacfff1');\n",
              "          const dataTable =\n",
              "            await google.colab.kernel.invokeFunction('convertToInteractive',\n",
              "                                                     [key], {});\n",
              "          if (!dataTable) return;\n",
              "\n",
              "          const docLinkHtml = 'Like what you see? Visit the ' +\n",
              "            '<a target=\"_blank\" href=https://colab.research.google.com/notebooks/data_table.ipynb>data table notebook</a>'\n",
              "            + ' to learn more about interactive tables.';\n",
              "          element.innerHTML = '';\n",
              "          dataTable['output_type'] = 'display_data';\n",
              "          await google.colab.output.renderOutput(dataTable, element);\n",
              "          const docLink = document.createElement('div');\n",
              "          docLink.innerHTML = docLinkHtml;\n",
              "          element.appendChild(docLink);\n",
              "        }\n",
              "      </script>\n",
              "    </div>\n",
              "  </div>\n",
              "  "
            ]
          },
          "metadata": {},
          "execution_count": 126
        }
      ],
      "source": [
        "tabel = {\n",
        "    'name': ['accuracy', 'precision', 'f1-score'],\n",
        "    'NB': [nb_accuracy, nb_precision, nb_f1],\n",
        "    'SVM': [svm_accuracy, svm_precision, svm_f1],\n",
        "    'KNN': [knn_accuracy, knn_precision, knn_f1],\n",
        "    'GB': [gb_accuracy, gb_precision, gb_f1]\n",
        "}\n",
        "df_tabel_low = pd.DataFrame(tabel, index=None)\n",
        "df_tabel_low"
      ]
    },
    {
      "cell_type": "markdown",
      "metadata": {
        "id": "4m79ykO1LSLI"
      },
      "source": [
        "### 2) df_mid (kepercayaan sedang, data sedang)"
      ]
    },
    {
      "cell_type": "code",
      "execution_count": null,
      "metadata": {
        "id": "LcwVxgfQgMFL",
        "colab": {
          "base_uri": "https://localhost:8080/"
        },
        "outputId": "659c78bc-84b1-4e12-8fbc-895456b6d57c"
      },
      "outputs": [
        {
          "output_type": "stream",
          "name": "stdout",
          "text": [
            "Panjang df_mid: 1012\n",
            "neutral     566\n",
            "negative    259\n",
            "positive    187\n",
            "Name: label, dtype: int64\n"
          ]
        }
      ],
      "source": [
        "print(f\"Panjang df_mid: {df_mid.shape[0]}\")\n",
        "print(df_mid['label'].value_counts())"
      ]
    },
    {
      "cell_type": "markdown",
      "metadata": {
        "id": "38NLMPI_l6zf"
      },
      "source": [
        "#### Membagi data menjadi data latihan dan test"
      ]
    },
    {
      "cell_type": "code",
      "execution_count": null,
      "metadata": {
        "id": "V7VPmlcyl6zi",
        "colab": {
          "base_uri": "https://localhost:8080/"
        },
        "outputId": "c884b95d-9249-4f2c-fe36-9b725f3ebe16"
      },
      "outputs": [
        {
          "output_type": "stream",
          "name": "stdout",
          "text": [
            "Train data percentage: 79.9407114624506%\n",
            "Test data percentage: 20.059288537549406%\n"
          ]
        }
      ],
      "source": [
        "from sklearn.model_selection import StratifiedShuffleSplit\n",
        "import numpy as np\n",
        "\n",
        "# Menggunakan kolom 'text_vector' sebagai fitur\n",
        "features = np.vstack(df_mid['text_vector'].values)\n",
        "\n",
        "# Menggunakan kolom 'label' sebagai sentimen\n",
        "labels = df_mid['label'].values\n",
        "\n",
        "# Membuat objek StratifiedShuffleSplit\n",
        "stratified_split = StratifiedShuffleSplit(n_splits=1, test_size=0.2, random_state=42)\n",
        "\n",
        "# Melakukan pembagian dataset menjadi data latihan dan data pengujian\n",
        "for train_index, test_index in stratified_split.split(features, labels):\n",
        "    train_features = features[train_index]\n",
        "    train_labels = labels[train_index]\n",
        "    test_features = features[test_index]\n",
        "    test_labels = labels[test_index]\n",
        "\n",
        "train_percentage = len(train_features) / len(features) * 100\n",
        "test_percentage = len(test_features) / len(features) * 100\n",
        "\n",
        "print(f\"Train data percentage: {train_percentage}%\")\n",
        "print(f\"Test data percentage: {test_percentage}%\")"
      ]
    },
    {
      "cell_type": "markdown",
      "metadata": {
        "id": "MSIgxtB5l6zn"
      },
      "source": [
        "#### Pembuatan model"
      ]
    },
    {
      "cell_type": "markdown",
      "metadata": {
        "id": "ePdzT5sjl6zs"
      },
      "source": [
        "##### Naive Bayes"
      ]
    },
    {
      "cell_type": "code",
      "execution_count": null,
      "metadata": {
        "id": "BIklDVp9l6zu",
        "colab": {
          "base_uri": "https://localhost:8080/"
        },
        "outputId": "de3b7799-1762-42fb-bca7-99316ea3d347"
      },
      "outputs": [
        {
          "output_type": "stream",
          "name": "stdout",
          "text": [
            "Accuracy: 0.2512315270935961\n",
            "Precision: 0.12291629572477103\n",
            "F1-Score: 0.1611338300114931\n",
            "Classification Report:\n",
            "               precision    recall  f1-score   support\n",
            "\n",
            "    negative       0.35      0.56      0.43        52\n",
            "     neutral       0.00      0.00      0.00       114\n",
            "    positive       0.18      0.59      0.28        37\n",
            "\n",
            "    accuracy                           0.25       203\n",
            "   macro avg       0.18      0.38      0.24       203\n",
            "weighted avg       0.12      0.25      0.16       203\n",
            "\n"
          ]
        }
      ],
      "source": [
        "from sklearn.naive_bayes import GaussianNB\n",
        "naive_bayes_model = GaussianNB()\n",
        "naive_bayes_model.fit(train_features, train_labels)\n",
        "predictions = naive_bayes_model.predict(test_features)\n",
        "\n",
        "from sklearn.metrics import accuracy_score, classification_report, precision_score\n",
        "accuracy = accuracy_score(test_labels, predictions)\n",
        "print(\"Accuracy:\", accuracy)\n",
        "precision = precision_score(test_labels, predictions, average='weighted')\n",
        "print(\"Precision:\", precision)\n",
        "f1 = f1_score(test_labels, predictions, average='weighted')\n",
        "print(\"F1-Score:\", f1)\n",
        "classification_report = classification_report(test_labels, predictions)\n",
        "print(\"Classification Report:\\n\", classification_report)\n",
        "\n",
        "nb_accuracy = round(accuracy, 2)\n",
        "nb_precision = round(precision, 2)\n",
        "nb_f1 = round(f1, 2)"
      ]
    },
    {
      "cell_type": "markdown",
      "metadata": {
        "id": "9LdLqu5ql6zy"
      },
      "source": [
        "##### Support Vector Machine"
      ]
    },
    {
      "cell_type": "code",
      "execution_count": null,
      "metadata": {
        "id": "26ZXRHSul6zz",
        "colab": {
          "base_uri": "https://localhost:8080/"
        },
        "outputId": "8199c1db-5572-43cf-e1de-d441fae69825"
      },
      "outputs": [
        {
          "output_type": "stream",
          "name": "stdout",
          "text": [
            "Accuracy: 0.5615763546798029\n",
            "Precision: 0.31536800213545585\n",
            "F1-Score: 0.403909807151404\n",
            "Classification Report:\n",
            "               precision    recall  f1-score   support\n",
            "\n",
            "    negative       0.00      0.00      0.00        52\n",
            "     neutral       0.56      1.00      0.72       114\n",
            "    positive       0.00      0.00      0.00        37\n",
            "\n",
            "    accuracy                           0.56       203\n",
            "   macro avg       0.19      0.33      0.24       203\n",
            "weighted avg       0.32      0.56      0.40       203\n",
            "\n"
          ]
        }
      ],
      "source": [
        "from sklearn import svm\n",
        "svm_model = svm.SVC()\n",
        "svm_model.fit(train_features, train_labels)\n",
        "predictions = svm_model.predict(test_features)\n",
        "\n",
        "from sklearn.metrics import accuracy_score, classification_report, precision_score\n",
        "accuracy = accuracy_score(test_labels, predictions)\n",
        "print(\"Accuracy:\", accuracy)\n",
        "precision = precision_score(test_labels, predictions, average='weighted')\n",
        "print(\"Precision:\", precision)\n",
        "f1 = f1_score(test_labels, predictions, average='weighted')\n",
        "print(\"F1-Score:\", f1)\n",
        "classification_report = classification_report(test_labels, predictions)\n",
        "print(\"Classification Report:\\n\", classification_report)\n",
        "\n",
        "svm_accuracy = round(accuracy, 2)\n",
        "svm_precision = round(precision, 2)\n",
        "svm_f1 = round(f1, 2)"
      ]
    },
    {
      "cell_type": "markdown",
      "metadata": {
        "id": "1M6cGFZPl6z3"
      },
      "source": [
        "##### K-Nearest Neighbors (KN-N)"
      ]
    },
    {
      "cell_type": "code",
      "execution_count": null,
      "metadata": {
        "id": "tWfBmtRVl6z5",
        "colab": {
          "base_uri": "https://localhost:8080/"
        },
        "outputId": "a648da8b-1bd1-4fe3-b2b9-ba317b751de7"
      },
      "outputs": [
        {
          "output_type": "stream",
          "name": "stdout",
          "text": [
            "Accuracy: 0.458128078817734\n",
            "Precision: 0.401841527474077\n",
            "F1-Score: 0.4272457511179409\n",
            "Classification Report:\n",
            "               precision    recall  f1-score   support\n",
            "\n",
            "    negative       0.30      0.40      0.34        52\n",
            "     neutral       0.58      0.63      0.61       114\n",
            "    positive       0.00      0.00      0.00        37\n",
            "\n",
            "    accuracy                           0.46       203\n",
            "   macro avg       0.29      0.35      0.32       203\n",
            "weighted avg       0.40      0.46      0.43       203\n",
            "\n"
          ]
        }
      ],
      "source": [
        "from sklearn.neighbors import KNeighborsClassifier\n",
        "knn = KNeighborsClassifier(n_neighbors=5)  # Misalnya, menggunakan 5 tetangga terdekat\n",
        "knn.fit(train_features, train_labels)\n",
        "predictions = knn.predict(test_features)\n",
        "\n",
        "from sklearn.metrics import accuracy_score, classification_report, precision_score\n",
        "accuracy = accuracy_score(test_labels, predictions)\n",
        "print(\"Accuracy:\", accuracy)\n",
        "precision = precision_score(test_labels, predictions, average='weighted')\n",
        "print(\"Precision:\", precision)\n",
        "f1 = f1_score(test_labels, predictions, average='weighted')\n",
        "print(\"F1-Score:\", f1)\n",
        "classification_report = classification_report(test_labels, predictions)\n",
        "print(\"Classification Report:\\n\", classification_report)\n",
        "\n",
        "knn_accuracy = round(accuracy, 2)\n",
        "knn_precision = round(precision, 2)\n",
        "knn_f1 = round(f1, 2)"
      ]
    },
    {
      "cell_type": "markdown",
      "metadata": {
        "id": "2wNSV1YLl6z8"
      },
      "source": [
        "##### Gradient Boosting"
      ]
    },
    {
      "cell_type": "code",
      "execution_count": null,
      "metadata": {
        "id": "7sgurrfnl6z9",
        "colab": {
          "base_uri": "https://localhost:8080/"
        },
        "outputId": "d0819d87-7706-47dc-82ff-82557ff66262"
      },
      "outputs": [
        {
          "output_type": "stream",
          "name": "stdout",
          "text": [
            "Accuracy: 0.5665024630541872\n",
            "Precision: 0.543698857575052\n",
            "F1-Score: 0.5142775658357718\n",
            "Classification Report:\n",
            "               precision    recall  f1-score   support\n",
            "\n",
            "    negative       0.46      0.21      0.29        52\n",
            "     neutral       0.58      0.85      0.69       114\n",
            "    positive       0.54      0.19      0.28        37\n",
            "\n",
            "    accuracy                           0.57       203\n",
            "   macro avg       0.53      0.42      0.42       203\n",
            "weighted avg       0.54      0.57      0.51       203\n",
            "\n"
          ]
        }
      ],
      "source": [
        "from sklearn.ensemble import GradientBoostingClassifier\n",
        "model = GradientBoostingClassifier(random_state=42)\n",
        "model.fit(train_features, train_labels)\n",
        "predictions = model.predict(test_features)\n",
        "\n",
        "from sklearn.metrics import accuracy_score, classification_report, precision_score\n",
        "accuracy = accuracy_score(test_labels, predictions)\n",
        "print(\"Accuracy:\", accuracy)\n",
        "precision = precision_score(test_labels, predictions, average='weighted')\n",
        "print(\"Precision:\", precision)\n",
        "f1 = f1_score(test_labels, predictions, average='weighted')\n",
        "print(\"F1-Score:\", f1)\n",
        "classification_report = classification_report(test_labels, predictions)\n",
        "print(\"Classification Report:\\n\", classification_report)\n",
        "\n",
        "gb_accuracy = round(accuracy, 2)\n",
        "gb_precision = round(precision, 2)\n",
        "gb_f1 = round(f1, 2)"
      ]
    },
    {
      "cell_type": "markdown",
      "metadata": {
        "id": "HnExDID1l60A"
      },
      "source": [
        "#### Tabel akurasi dan presisi dari keempat model"
      ]
    },
    {
      "cell_type": "code",
      "execution_count": null,
      "metadata": {
        "id": "Qj9cLwuhl60B",
        "colab": {
          "base_uri": "https://localhost:8080/",
          "height": 207
        },
        "outputId": "af009c1f-d3d6-4d61-e94d-a8877293d668"
      },
      "outputs": [
        {
          "output_type": "execute_result",
          "data": {
            "text/plain": [
              "        name    NB   SVM   KNN    GB\n",
              "0  accuracy   0.25  0.56  0.46  0.57\n",
              "1  precision  0.12  0.32  0.40  0.54\n",
              "2  f1-score   0.16  0.40  0.43  0.51"
            ],
            "text/html": [
              "\n",
              "  <div id=\"df-91796a58-e891-4991-9551-b12a2046b501\">\n",
              "    <div class=\"colab-df-container\">\n",
              "      <div>\n",
              "<style scoped>\n",
              "    .dataframe tbody tr th:only-of-type {\n",
              "        vertical-align: middle;\n",
              "    }\n",
              "\n",
              "    .dataframe tbody tr th {\n",
              "        vertical-align: top;\n",
              "    }\n",
              "\n",
              "    .dataframe thead th {\n",
              "        text-align: right;\n",
              "    }\n",
              "</style>\n",
              "<table border=\"1\" class=\"dataframe\">\n",
              "  <thead>\n",
              "    <tr style=\"text-align: right;\">\n",
              "      <th></th>\n",
              "      <th>name</th>\n",
              "      <th>NB</th>\n",
              "      <th>SVM</th>\n",
              "      <th>KNN</th>\n",
              "      <th>GB</th>\n",
              "    </tr>\n",
              "  </thead>\n",
              "  <tbody>\n",
              "    <tr>\n",
              "      <th>0</th>\n",
              "      <td>accuracy</td>\n",
              "      <td>0.25</td>\n",
              "      <td>0.56</td>\n",
              "      <td>0.46</td>\n",
              "      <td>0.57</td>\n",
              "    </tr>\n",
              "    <tr>\n",
              "      <th>1</th>\n",
              "      <td>precision</td>\n",
              "      <td>0.12</td>\n",
              "      <td>0.32</td>\n",
              "      <td>0.40</td>\n",
              "      <td>0.54</td>\n",
              "    </tr>\n",
              "    <tr>\n",
              "      <th>2</th>\n",
              "      <td>f1-score</td>\n",
              "      <td>0.16</td>\n",
              "      <td>0.40</td>\n",
              "      <td>0.43</td>\n",
              "      <td>0.51</td>\n",
              "    </tr>\n",
              "  </tbody>\n",
              "</table>\n",
              "</div>\n",
              "      <button class=\"colab-df-convert\" onclick=\"convertToInteractive('df-91796a58-e891-4991-9551-b12a2046b501')\"\n",
              "              title=\"Convert this dataframe to an interactive table.\"\n",
              "              style=\"display:none;\">\n",
              "        \n",
              "  <svg xmlns=\"http://www.w3.org/2000/svg\" height=\"24px\"viewBox=\"0 0 24 24\"\n",
              "       width=\"24px\">\n",
              "    <path d=\"M0 0h24v24H0V0z\" fill=\"none\"/>\n",
              "    <path d=\"M18.56 5.44l.94 2.06.94-2.06 2.06-.94-2.06-.94-.94-2.06-.94 2.06-2.06.94zm-11 1L8.5 8.5l.94-2.06 2.06-.94-2.06-.94L8.5 2.5l-.94 2.06-2.06.94zm10 10l.94 2.06.94-2.06 2.06-.94-2.06-.94-.94-2.06-.94 2.06-2.06.94z\"/><path d=\"M17.41 7.96l-1.37-1.37c-.4-.4-.92-.59-1.43-.59-.52 0-1.04.2-1.43.59L10.3 9.45l-7.72 7.72c-.78.78-.78 2.05 0 2.83L4 21.41c.39.39.9.59 1.41.59.51 0 1.02-.2 1.41-.59l7.78-7.78 2.81-2.81c.8-.78.8-2.07 0-2.86zM5.41 20L4 18.59l7.72-7.72 1.47 1.35L5.41 20z\"/>\n",
              "  </svg>\n",
              "      </button>\n",
              "      \n",
              "  <style>\n",
              "    .colab-df-container {\n",
              "      display:flex;\n",
              "      flex-wrap:wrap;\n",
              "      gap: 12px;\n",
              "    }\n",
              "\n",
              "    .colab-df-convert {\n",
              "      background-color: #E8F0FE;\n",
              "      border: none;\n",
              "      border-radius: 50%;\n",
              "      cursor: pointer;\n",
              "      display: none;\n",
              "      fill: #1967D2;\n",
              "      height: 32px;\n",
              "      padding: 0 0 0 0;\n",
              "      width: 32px;\n",
              "    }\n",
              "\n",
              "    .colab-df-convert:hover {\n",
              "      background-color: #E2EBFA;\n",
              "      box-shadow: 0px 1px 2px rgba(60, 64, 67, 0.3), 0px 1px 3px 1px rgba(60, 64, 67, 0.15);\n",
              "      fill: #174EA6;\n",
              "    }\n",
              "\n",
              "    [theme=dark] .colab-df-convert {\n",
              "      background-color: #3B4455;\n",
              "      fill: #D2E3FC;\n",
              "    }\n",
              "\n",
              "    [theme=dark] .colab-df-convert:hover {\n",
              "      background-color: #434B5C;\n",
              "      box-shadow: 0px 1px 3px 1px rgba(0, 0, 0, 0.15);\n",
              "      filter: drop-shadow(0px 1px 2px rgba(0, 0, 0, 0.3));\n",
              "      fill: #FFFFFF;\n",
              "    }\n",
              "  </style>\n",
              "\n",
              "      <script>\n",
              "        const buttonEl =\n",
              "          document.querySelector('#df-91796a58-e891-4991-9551-b12a2046b501 button.colab-df-convert');\n",
              "        buttonEl.style.display =\n",
              "          google.colab.kernel.accessAllowed ? 'block' : 'none';\n",
              "\n",
              "        async function convertToInteractive(key) {\n",
              "          const element = document.querySelector('#df-91796a58-e891-4991-9551-b12a2046b501');\n",
              "          const dataTable =\n",
              "            await google.colab.kernel.invokeFunction('convertToInteractive',\n",
              "                                                     [key], {});\n",
              "          if (!dataTable) return;\n",
              "\n",
              "          const docLinkHtml = 'Like what you see? Visit the ' +\n",
              "            '<a target=\"_blank\" href=https://colab.research.google.com/notebooks/data_table.ipynb>data table notebook</a>'\n",
              "            + ' to learn more about interactive tables.';\n",
              "          element.innerHTML = '';\n",
              "          dataTable['output_type'] = 'display_data';\n",
              "          await google.colab.output.renderOutput(dataTable, element);\n",
              "          const docLink = document.createElement('div');\n",
              "          docLink.innerHTML = docLinkHtml;\n",
              "          element.appendChild(docLink);\n",
              "        }\n",
              "      </script>\n",
              "    </div>\n",
              "  </div>\n",
              "  "
            ]
          },
          "metadata": {},
          "execution_count": 133
        }
      ],
      "source": [
        "tabel = {\n",
        "    'name': ['accuracy', 'precision', 'f1-score'],\n",
        "    'NB': [nb_accuracy, nb_precision, nb_f1],\n",
        "    'SVM': [svm_accuracy, svm_precision, svm_f1],\n",
        "    'KNN': [knn_accuracy, knn_precision, knn_f1],\n",
        "    'GB': [gb_accuracy, gb_precision, gb_f1]\n",
        "}\n",
        "df_tabel_mid = pd.DataFrame(tabel, index=None)\n",
        "df_tabel_mid"
      ]
    },
    {
      "cell_type": "markdown",
      "metadata": {
        "id": "IJ4nD7rFLbZ1"
      },
      "source": [
        "### 3) df_high (kepercayaan tinggi, data sedikit)"
      ]
    },
    {
      "cell_type": "code",
      "execution_count": null,
      "metadata": {
        "id": "EQE2RwAOgQ6Q",
        "colab": {
          "base_uri": "https://localhost:8080/"
        },
        "outputId": "4bdec736-5181-4f90-ef12-20d42a9938ca"
      },
      "outputs": [
        {
          "output_type": "stream",
          "name": "stdout",
          "text": [
            "Panjang df_high: 413\n",
            "neutral     200\n",
            "positive    116\n",
            "negative    97 \n",
            "Name: label, dtype: int64\n"
          ]
        }
      ],
      "source": [
        "print(f\"Panjang df_high: {df_high.shape[0]}\")\n",
        "print(df_high['label'].value_counts())"
      ]
    },
    {
      "cell_type": "markdown",
      "metadata": {
        "id": "Xlc2ToXhmP1C"
      },
      "source": [
        "#### Membagi data menjadi data latihan dan test"
      ]
    },
    {
      "cell_type": "code",
      "execution_count": null,
      "metadata": {
        "colab": {
          "base_uri": "https://localhost:8080/"
        },
        "id": "e8JRNwd_mP1M",
        "outputId": "9a3247fb-f1b2-48aa-ce0c-84fd627f0a37"
      },
      "outputs": [
        {
          "output_type": "stream",
          "name": "stdout",
          "text": [
            "Train data percentage: 79.90314769975787%\n",
            "Test data percentage: 20.09685230024213%\n"
          ]
        }
      ],
      "source": [
        "from sklearn.model_selection import StratifiedShuffleSplit\n",
        "import numpy as np\n",
        "\n",
        "# Menggunakan kolom 'text_vector' sebagai fitur\n",
        "features = np.vstack(df_high['text_vector'].values)\n",
        "\n",
        "# Menggunakan kolom 'label' sebagai sentimen\n",
        "labels = df_high['label'].values\n",
        "\n",
        "# Membuat objek StratifiedShuffleSplit\n",
        "stratified_split = StratifiedShuffleSplit(n_splits=1, test_size=0.2, random_state=42)\n",
        "\n",
        "# Melakukan pembagian dataset menjadi data latihan dan data pengujian\n",
        "for train_index, test_index in stratified_split.split(features, labels):\n",
        "    train_features = features[train_index]\n",
        "    train_labels = labels[train_index]\n",
        "    test_features = features[test_index]\n",
        "    test_labels = labels[test_index]\n",
        "\n",
        "train_percentage = len(train_features) / len(features) * 100\n",
        "test_percentage = len(test_features) / len(features) * 100\n",
        "\n",
        "print(f\"Train data percentage: {train_percentage}%\")\n",
        "print(f\"Test data percentage: {test_percentage}%\")"
      ]
    },
    {
      "cell_type": "markdown",
      "metadata": {
        "id": "pPaoj3H5mP1R"
      },
      "source": [
        "#### Pembuatan model"
      ]
    },
    {
      "cell_type": "markdown",
      "metadata": {
        "id": "tQ5s95zRmP1T"
      },
      "source": [
        "##### Naive Bayes"
      ]
    },
    {
      "cell_type": "code",
      "execution_count": null,
      "metadata": {
        "id": "oLP1fhotmP1V",
        "colab": {
          "base_uri": "https://localhost:8080/"
        },
        "outputId": "d15250e4-86f8-473a-a0af-4ff6c787cd07"
      },
      "outputs": [
        {
          "output_type": "stream",
          "name": "stdout",
          "text": [
            "Accuracy: 0.3855421686746988\n",
            "Precision: 0.4876936316695353\n",
            "F1-Score: 0.3374710965072411\n",
            "Classification Report:\n",
            "               precision    recall  f1-score   support\n",
            "\n",
            "    negative       0.37      0.65      0.47        20\n",
            "     neutral       0.62      0.12      0.21        40\n",
            "    positive       0.35      0.61      0.44        23\n",
            "\n",
            "    accuracy                           0.39        83\n",
            "   macro avg       0.45      0.46      0.38        83\n",
            "weighted avg       0.49      0.39      0.34        83\n",
            "\n"
          ]
        }
      ],
      "source": [
        "from sklearn.naive_bayes import GaussianNB\n",
        "naive_bayes_model = GaussianNB()\n",
        "naive_bayes_model.fit(train_features, train_labels)\n",
        "predictions = naive_bayes_model.predict(test_features)\n",
        "\n",
        "from sklearn.metrics import accuracy_score, classification_report, precision_score\n",
        "accuracy = accuracy_score(test_labels, predictions)\n",
        "print(\"Accuracy:\", accuracy)\n",
        "precision = precision_score(test_labels, predictions, average='weighted')\n",
        "print(\"Precision:\", precision)\n",
        "f1 = f1_score(test_labels, predictions, average='weighted')\n",
        "print(\"F1-Score:\", f1)\n",
        "classification_report = classification_report(test_labels, predictions)\n",
        "print(\"Classification Report:\\n\", classification_report)\n",
        "\n",
        "nb_accuracy = round(accuracy, 2)\n",
        "nb_precision = round(precision, 2)\n",
        "nb_f1 = round(f1, 2)"
      ]
    },
    {
      "cell_type": "markdown",
      "metadata": {
        "id": "Y1QyDzyDmP1X"
      },
      "source": [
        "##### Support Vector Machine"
      ]
    },
    {
      "cell_type": "code",
      "execution_count": null,
      "metadata": {
        "id": "_g8vrvqYmP1Z",
        "colab": {
          "base_uri": "https://localhost:8080/"
        },
        "outputId": "c42ad630-55d0-4736-a8d6-b546ba7803da"
      },
      "outputs": [
        {
          "output_type": "stream",
          "name": "stdout",
          "text": [
            "Accuracy: 0.4819277108433735\n",
            "Precision: 0.23225431847873418\n",
            "F1-Score: 0.31344891762170635\n",
            "Classification Report:\n",
            "               precision    recall  f1-score   support\n",
            "\n",
            "    negative       0.00      0.00      0.00        20\n",
            "     neutral       0.48      1.00      0.65        40\n",
            "    positive       0.00      0.00      0.00        23\n",
            "\n",
            "    accuracy                           0.48        83\n",
            "   macro avg       0.16      0.33      0.22        83\n",
            "weighted avg       0.23      0.48      0.31        83\n",
            "\n"
          ]
        }
      ],
      "source": [
        "from sklearn import svm\n",
        "svm_model = svm.SVC()\n",
        "svm_model.fit(train_features, train_labels)\n",
        "predictions = svm_model.predict(test_features)\n",
        "\n",
        "from sklearn.metrics import accuracy_score, classification_report, precision_score\n",
        "accuracy = accuracy_score(test_labels, predictions)\n",
        "print(\"Accuracy:\", accuracy)\n",
        "precision = precision_score(test_labels, predictions, average='weighted')\n",
        "print(\"Precision:\", precision)\n",
        "f1 = f1_score(test_labels, predictions, average='weighted')\n",
        "print(\"F1-Score:\", f1)\n",
        "classification_report = classification_report(test_labels, predictions)\n",
        "print(\"Classification Report:\\n\", classification_report)\n",
        "\n",
        "svm_accuracy = round(accuracy, 2)\n",
        "svm_precision = round(precision, 2)\n",
        "svm_f1 = round(f1, 2)"
      ]
    },
    {
      "cell_type": "markdown",
      "metadata": {
        "id": "zw_i_nzPmP1d"
      },
      "source": [
        "##### K-Nearest Neighbors (KN-N)"
      ]
    },
    {
      "cell_type": "code",
      "execution_count": null,
      "metadata": {
        "id": "-80AJSTMmP1f",
        "colab": {
          "base_uri": "https://localhost:8080/"
        },
        "outputId": "a0929ecf-e3e5-4084-ede8-75db8f71e238"
      },
      "outputs": [
        {
          "output_type": "stream",
          "name": "stdout",
          "text": [
            "Accuracy: 0.3493975903614458\n",
            "Precision: 0.35629640980456\n",
            "F1-Score: 0.34449370352984815\n",
            "Classification Report:\n",
            "               precision    recall  f1-score   support\n",
            "\n",
            "    negative       0.21      0.35      0.26        20\n",
            "     neutral       0.54      0.50      0.52        40\n",
            "    positive       0.17      0.09      0.11        23\n",
            "\n",
            "    accuracy                           0.35        83\n",
            "   macro avg       0.30      0.31      0.30        83\n",
            "weighted avg       0.36      0.35      0.34        83\n",
            "\n"
          ]
        }
      ],
      "source": [
        "from sklearn.neighbors import KNeighborsClassifier\n",
        "knn = KNeighborsClassifier(n_neighbors=5)  # Misalnya, menggunakan 5 tetangga terdekat\n",
        "knn.fit(train_features, train_labels)\n",
        "predictions = knn.predict(test_features)\n",
        "\n",
        "from sklearn.metrics import accuracy_score, classification_report, precision_score\n",
        "accuracy = accuracy_score(test_labels, predictions)\n",
        "print(\"Accuracy:\", accuracy)\n",
        "precision = precision_score(test_labels, predictions, average='weighted')\n",
        "print(\"Precision:\", precision)\n",
        "f1 = f1_score(test_labels, predictions, average='weighted')\n",
        "print(\"F1-Score:\", f1)\n",
        "classification_report = classification_report(test_labels, predictions)\n",
        "print(\"Classification Report:\\n\", classification_report)\n",
        "\n",
        "knn_accuracy = round(accuracy, 2)\n",
        "knn_precision = round(precision, 2)\n",
        "knn_f1 = round(f1, 2)"
      ]
    },
    {
      "cell_type": "markdown",
      "metadata": {
        "id": "6q-cAZo1mP1i"
      },
      "source": [
        "##### Gradient Boosting"
      ]
    },
    {
      "cell_type": "code",
      "execution_count": null,
      "metadata": {
        "id": "ZqmfA2q3mP1l",
        "colab": {
          "base_uri": "https://localhost:8080/"
        },
        "outputId": "beea983f-c6ac-4521-bee9-1732b0bf6a43"
      },
      "outputs": [
        {
          "output_type": "stream",
          "name": "stdout",
          "text": [
            "Accuracy: 0.4819277108433735\n",
            "Precision: 0.23225431847873418\n",
            "F1-Score: 0.31344891762170635\n",
            "Classification Report:\n",
            "               precision    recall  f1-score   support\n",
            "\n",
            "    negative       0.00      0.00      0.00        20\n",
            "     neutral       0.48      1.00      0.65        40\n",
            "    positive       0.00      0.00      0.00        23\n",
            "\n",
            "    accuracy                           0.48        83\n",
            "   macro avg       0.16      0.33      0.22        83\n",
            "weighted avg       0.23      0.48      0.31        83\n",
            "\n"
          ]
        }
      ],
      "source": [
        "from sklearn.linear_model import LogisticRegression\n",
        "model = LogisticRegression()\n",
        "model.fit(train_features, train_labels)\n",
        "predictions = model.predict(test_features)\n",
        "\n",
        "from sklearn.metrics import accuracy_score, classification_report, precision_score\n",
        "accuracy = accuracy_score(test_labels, predictions)\n",
        "print(\"Accuracy:\", accuracy)\n",
        "precision = precision_score(test_labels, predictions, average='weighted')\n",
        "print(\"Precision:\", precision)\n",
        "f1 = f1_score(test_labels, predictions, average='weighted')\n",
        "print(\"F1-Score:\", f1)\n",
        "classification_report = classification_report(test_labels, predictions)\n",
        "print(\"Classification Report:\\n\", classification_report)\n",
        "\n",
        "gb_accuracy = round(accuracy, 2)\n",
        "gb_precision = round(precision, 2)\n",
        "gb_f1 = round(f1, 2)"
      ]
    },
    {
      "cell_type": "markdown",
      "metadata": {
        "id": "0GjsEoDimP1o"
      },
      "source": [
        "#### Tabel akurasi dan presisi dari keempat model"
      ]
    },
    {
      "cell_type": "code",
      "execution_count": null,
      "metadata": {
        "id": "_ESWC9gwmP1p",
        "colab": {
          "base_uri": "https://localhost:8080/",
          "height": 143
        },
        "outputId": "45a82a98-40d3-4708-ab20-398fb94b08e2"
      },
      "outputs": [
        {
          "output_type": "execute_result",
          "data": {
            "text/plain": [
              "        name    NB   SVM   KNN    GB\n",
              "0  accuracy   0.39  0.48  0.35  0.48\n",
              "1  precision  0.49  0.23  0.36  0.23\n",
              "2  f1-score   0.34  0.31  0.34  0.31"
            ],
            "text/html": [
              "\n",
              "  <div id=\"df-7b5db6a7-dbfc-449e-bee3-bbb42ce86e48\">\n",
              "    <div class=\"colab-df-container\">\n",
              "      <div>\n",
              "<style scoped>\n",
              "    .dataframe tbody tr th:only-of-type {\n",
              "        vertical-align: middle;\n",
              "    }\n",
              "\n",
              "    .dataframe tbody tr th {\n",
              "        vertical-align: top;\n",
              "    }\n",
              "\n",
              "    .dataframe thead th {\n",
              "        text-align: right;\n",
              "    }\n",
              "</style>\n",
              "<table border=\"1\" class=\"dataframe\">\n",
              "  <thead>\n",
              "    <tr style=\"text-align: right;\">\n",
              "      <th></th>\n",
              "      <th>name</th>\n",
              "      <th>NB</th>\n",
              "      <th>SVM</th>\n",
              "      <th>KNN</th>\n",
              "      <th>GB</th>\n",
              "    </tr>\n",
              "  </thead>\n",
              "  <tbody>\n",
              "    <tr>\n",
              "      <th>0</th>\n",
              "      <td>accuracy</td>\n",
              "      <td>0.39</td>\n",
              "      <td>0.48</td>\n",
              "      <td>0.35</td>\n",
              "      <td>0.48</td>\n",
              "    </tr>\n",
              "    <tr>\n",
              "      <th>1</th>\n",
              "      <td>precision</td>\n",
              "      <td>0.49</td>\n",
              "      <td>0.23</td>\n",
              "      <td>0.36</td>\n",
              "      <td>0.23</td>\n",
              "    </tr>\n",
              "    <tr>\n",
              "      <th>2</th>\n",
              "      <td>f1-score</td>\n",
              "      <td>0.34</td>\n",
              "      <td>0.31</td>\n",
              "      <td>0.34</td>\n",
              "      <td>0.31</td>\n",
              "    </tr>\n",
              "  </tbody>\n",
              "</table>\n",
              "</div>\n",
              "      <button class=\"colab-df-convert\" onclick=\"convertToInteractive('df-7b5db6a7-dbfc-449e-bee3-bbb42ce86e48')\"\n",
              "              title=\"Convert this dataframe to an interactive table.\"\n",
              "              style=\"display:none;\">\n",
              "        \n",
              "  <svg xmlns=\"http://www.w3.org/2000/svg\" height=\"24px\"viewBox=\"0 0 24 24\"\n",
              "       width=\"24px\">\n",
              "    <path d=\"M0 0h24v24H0V0z\" fill=\"none\"/>\n",
              "    <path d=\"M18.56 5.44l.94 2.06.94-2.06 2.06-.94-2.06-.94-.94-2.06-.94 2.06-2.06.94zm-11 1L8.5 8.5l.94-2.06 2.06-.94-2.06-.94L8.5 2.5l-.94 2.06-2.06.94zm10 10l.94 2.06.94-2.06 2.06-.94-2.06-.94-.94-2.06-.94 2.06-2.06.94z\"/><path d=\"M17.41 7.96l-1.37-1.37c-.4-.4-.92-.59-1.43-.59-.52 0-1.04.2-1.43.59L10.3 9.45l-7.72 7.72c-.78.78-.78 2.05 0 2.83L4 21.41c.39.39.9.59 1.41.59.51 0 1.02-.2 1.41-.59l7.78-7.78 2.81-2.81c.8-.78.8-2.07 0-2.86zM5.41 20L4 18.59l7.72-7.72 1.47 1.35L5.41 20z\"/>\n",
              "  </svg>\n",
              "      </button>\n",
              "      \n",
              "  <style>\n",
              "    .colab-df-container {\n",
              "      display:flex;\n",
              "      flex-wrap:wrap;\n",
              "      gap: 12px;\n",
              "    }\n",
              "\n",
              "    .colab-df-convert {\n",
              "      background-color: #E8F0FE;\n",
              "      border: none;\n",
              "      border-radius: 50%;\n",
              "      cursor: pointer;\n",
              "      display: none;\n",
              "      fill: #1967D2;\n",
              "      height: 32px;\n",
              "      padding: 0 0 0 0;\n",
              "      width: 32px;\n",
              "    }\n",
              "\n",
              "    .colab-df-convert:hover {\n",
              "      background-color: #E2EBFA;\n",
              "      box-shadow: 0px 1px 2px rgba(60, 64, 67, 0.3), 0px 1px 3px 1px rgba(60, 64, 67, 0.15);\n",
              "      fill: #174EA6;\n",
              "    }\n",
              "\n",
              "    [theme=dark] .colab-df-convert {\n",
              "      background-color: #3B4455;\n",
              "      fill: #D2E3FC;\n",
              "    }\n",
              "\n",
              "    [theme=dark] .colab-df-convert:hover {\n",
              "      background-color: #434B5C;\n",
              "      box-shadow: 0px 1px 3px 1px rgba(0, 0, 0, 0.15);\n",
              "      filter: drop-shadow(0px 1px 2px rgba(0, 0, 0, 0.3));\n",
              "      fill: #FFFFFF;\n",
              "    }\n",
              "  </style>\n",
              "\n",
              "      <script>\n",
              "        const buttonEl =\n",
              "          document.querySelector('#df-7b5db6a7-dbfc-449e-bee3-bbb42ce86e48 button.colab-df-convert');\n",
              "        buttonEl.style.display =\n",
              "          google.colab.kernel.accessAllowed ? 'block' : 'none';\n",
              "\n",
              "        async function convertToInteractive(key) {\n",
              "          const element = document.querySelector('#df-7b5db6a7-dbfc-449e-bee3-bbb42ce86e48');\n",
              "          const dataTable =\n",
              "            await google.colab.kernel.invokeFunction('convertToInteractive',\n",
              "                                                     [key], {});\n",
              "          if (!dataTable) return;\n",
              "\n",
              "          const docLinkHtml = 'Like what you see? Visit the ' +\n",
              "            '<a target=\"_blank\" href=https://colab.research.google.com/notebooks/data_table.ipynb>data table notebook</a>'\n",
              "            + ' to learn more about interactive tables.';\n",
              "          element.innerHTML = '';\n",
              "          dataTable['output_type'] = 'display_data';\n",
              "          await google.colab.output.renderOutput(dataTable, element);\n",
              "          const docLink = document.createElement('div');\n",
              "          docLink.innerHTML = docLinkHtml;\n",
              "          element.appendChild(docLink);\n",
              "        }\n",
              "      </script>\n",
              "    </div>\n",
              "  </div>\n",
              "  "
            ]
          },
          "metadata": {},
          "execution_count": 140
        }
      ],
      "source": [
        "tabel = {\n",
        "    'name': ['accuracy', 'precision', 'f1-score'],\n",
        "    'NB': [nb_accuracy, nb_precision, nb_f1],\n",
        "    'SVM': [svm_accuracy, svm_precision, svm_f1],\n",
        "    'KNN': [knn_accuracy, knn_precision, knn_f1],\n",
        "    'GB': [gb_accuracy, gb_precision, gb_f1]\n",
        "}\n",
        "df_tabel_high = pd.DataFrame(tabel, index=None)\n",
        "df_tabel_high"
      ]
    },
    {
      "cell_type": "markdown",
      "metadata": {
        "id": "t8PVKBbUm2oy"
      },
      "source": [
        "### Ringkasan tabel uji akurasi dan presisi (word embedding)"
      ]
    },
    {
      "cell_type": "code",
      "execution_count": null,
      "metadata": {
        "id": "hQBQKbGSnBDz",
        "colab": {
          "base_uri": "https://localhost:8080/"
        },
        "outputId": "cf87c74a-3641-48be-b16b-18cb36876af7"
      },
      "outputs": [
        {
          "output_type": "stream",
          "name": "stdout",
          "text": [
            "Metode Word Embedding\n",
            "Data df_low, panjang baris: 1399\n",
            "        name    NB   SVM   KNN    GB\n",
            "0  accuracy   0.26  0.57  0.46  0.54\n",
            "1  precision  0.40  0.32  0.40  0.48\n",
            "2  f1-score   0.17  0.41  0.43  0.47\n",
            "\n",
            "Data df_mid, panjang baris: 1012\n",
            "        name    NB   SVM   KNN    GB\n",
            "0  accuracy   0.25  0.56  0.46  0.57\n",
            "1  precision  0.12  0.32  0.40  0.54\n",
            "2  f1-score   0.16  0.40  0.43  0.51\n",
            "\n",
            "Data df_high, panjang baris: 413\n",
            "        name    NB   SVM   KNN    GB\n",
            "0  accuracy   0.39  0.48  0.35  0.48\n",
            "1  precision  0.49  0.23  0.36  0.23\n",
            "2  f1-score   0.34  0.31  0.34  0.31\n"
          ]
        }
      ],
      "source": [
        "print(\"Metode Word Embedding\")\n",
        "print(f\"Data df_low, panjang baris: {df_low.shape[0]}\")\n",
        "print(df_tabel_low)\n",
        "print()\n",
        "print(f\"Data df_mid, panjang baris: {df_mid.shape[0]}\")\n",
        "print(df_tabel_mid)\n",
        "print()\n",
        "print(f\"Data df_high, panjang baris: {df_high.shape[0]}\")\n",
        "print(df_tabel_high)"
      ]
    },
    {
      "cell_type": "markdown",
      "metadata": {
        "id": "yL_XfWjorCif"
      },
      "source": [
        "## TF-IDF"
      ]
    },
    {
      "cell_type": "code",
      "execution_count": null,
      "metadata": {
        "id": "9fr6fkkvrFcq"
      },
      "outputs": [],
      "source": [
        "from sklearn.feature_extraction.text import TfidfVectorizer\n",
        "\n",
        "# Inisialisasi objek TfidfVectorizer\n",
        "vectorizer = TfidfVectorizer()\n",
        "\n",
        "# Ekstraksi fitur menggunakan TF-IDF\n",
        "features = vectorizer.fit_transform(modelling_df_tfidf['text'].values)"
      ]
    },
    {
      "cell_type": "code",
      "execution_count": null,
      "metadata": {
        "colab": {
          "base_uri": "https://localhost:8080/"
        },
        "id": "XnHNNvNPwntH",
        "outputId": "6af22989-9ce8-44e9-f19a-3b046b960619"
      },
      "outputs": [
        {
          "output_type": "stream",
          "name": "stdout",
          "text": [
            "Panjang df_low: (1399, 3)\n",
            "neutral     795\n",
            "negative    361\n",
            "positive    243\n",
            "Name: label, dtype: int64\n",
            "Panjang df_mid: 1012\n",
            "neutral     566\n",
            "negative    259\n",
            "positive    187\n",
            "Name: label, dtype: int64\n",
            "Panjang df_high: 413\n",
            "neutral     200\n",
            "positive    116\n",
            "negative    97 \n",
            "Name: label, dtype: int64\n",
            "Index(['text', 'label', 'skor'], dtype='object')\n"
          ]
        }
      ],
      "source": [
        "# Semakin sedikit tingkat kepercayaan, semakin banyak datanya\n",
        "df_low = modelling_df_tfidf[modelling_df_tfidf['skor'] > 0.4] # Kepercayaan rendah\n",
        "df_mid = modelling_df_tfidf[modelling_df_tfidf['skor'] > 0.6] # Kepercayaan sedang\n",
        "df_high = modelling_df_tfidf[modelling_df_tfidf['skor'] > 0.8] # Kepercayaan tinggi\n",
        "\n",
        "print(f\"Panjang df_low: {df_low.shape}\")\n",
        "print(df_low['label'].value_counts())\n",
        "print(f\"Panjang df_mid: {df_mid.shape[0]}\")\n",
        "print(df_mid['label'].value_counts())\n",
        "print(f\"Panjang df_high: {df_high.shape[0]}\")\n",
        "print(df_high['label'].value_counts())\n",
        "\n",
        "print(df_low.columns)"
      ]
    },
    {
      "cell_type": "markdown",
      "metadata": {
        "id": "E-fHzDkw92cL"
      },
      "source": [
        "### 1) df_low (kepercayaan rendah, data banyak)"
      ]
    },
    {
      "cell_type": "code",
      "execution_count": null,
      "metadata": {
        "colab": {
          "base_uri": "https://localhost:8080/"
        },
        "id": "q8pfOPug92cZ",
        "outputId": "7c18ab4d-1593-42e1-f1d0-2d10d2ecf429"
      },
      "outputs": [
        {
          "output_type": "stream",
          "name": "stdout",
          "text": [
            "Panjang df_low: 1399\n",
            "neutral     795\n",
            "negative    361\n",
            "positive    243\n",
            "Name: label, dtype: int64\n"
          ]
        }
      ],
      "source": [
        "print(f\"Panjang df_low: {df_low.shape[0]}\")\n",
        "print(df_low['label'].value_counts())"
      ]
    },
    {
      "cell_type": "markdown",
      "metadata": {
        "id": "A-fVSOci92cc"
      },
      "source": [
        "#### Membagi data menjadi data latihan dan test"
      ]
    },
    {
      "cell_type": "code",
      "execution_count": null,
      "metadata": {
        "colab": {
          "base_uri": "https://localhost:8080/"
        },
        "id": "wc1UZdnq92cd",
        "outputId": "f4917a0b-ad8e-4b7f-916c-d29a451a4d20"
      },
      "outputs": [
        {
          "output_type": "stream",
          "name": "stdout",
          "text": [
            "Train data ratio: 0.7998570407433881\n",
            "Test data ratio: 0.20014295925661185\n"
          ]
        }
      ],
      "source": [
        "from sklearn.model_selection import StratifiedShuffleSplit\n",
        "from sklearn.feature_extraction.text import TfidfVectorizer\n",
        "\n",
        "# Menggunakan kolom 'label' sebagai sentimen\n",
        "labels = df_low['label'].values\n",
        "\n",
        "# Inisialisasi objek TfidfVectorizer\n",
        "vectorizer = TfidfVectorizer()\n",
        "\n",
        "# Ekstraksi fitur menggunakan TF-IDF\n",
        "features = vectorizer.fit_transform(df_low['text'])\n",
        "\n",
        "# Membuat objek StratifiedShuffleSplit\n",
        "stratified_split = StratifiedShuffleSplit(n_splits=1, test_size=0.2, random_state=42)\n",
        "\n",
        "# Melakukan pembagian dataset menjadi data latihan dan data pengujian\n",
        "for train_index, test_index in stratified_split.split(features, labels):\n",
        "    train_features = features[train_index]\n",
        "    train_labels = labels[train_index]\n",
        "    test_features = features[test_index]\n",
        "    test_labels = labels[test_index]\n",
        "\n",
        "train_ratio = train_features.shape[0] / features.shape[0]\n",
        "test_ratio = test_features.shape[0] / features.shape[0]\n",
        "\n",
        "print(f\"Train data ratio: {train_ratio}\")\n",
        "print(f\"Test data ratio: {test_ratio}\")"
      ]
    },
    {
      "cell_type": "markdown",
      "metadata": {
        "id": "elG14oFc92cf"
      },
      "source": [
        "#### Pembuatan model"
      ]
    },
    {
      "cell_type": "markdown",
      "metadata": {
        "id": "nP_zg-zk92ch"
      },
      "source": [
        "##### Naive Bayes"
      ]
    },
    {
      "cell_type": "code",
      "execution_count": null,
      "metadata": {
        "colab": {
          "base_uri": "https://localhost:8080/"
        },
        "id": "GYXqoGsy92ci",
        "outputId": "60329e07-9bd5-4fdc-9cb2-cd5abf8b7348"
      },
      "outputs": [
        {
          "output_type": "stream",
          "name": "stdout",
          "text": [
            "Accuracy: 0.5892857142857143\n",
            "Precision: 0.6897488515701483\n",
            "F1-Score: 0.4635841890480067\n",
            "Classification Report:\n",
            "               precision    recall  f1-score   support\n",
            "\n",
            "    negative       0.71      0.07      0.13        72\n",
            "     neutral       0.58      0.99      0.73       159\n",
            "    positive       1.00      0.04      0.08        49\n",
            "\n",
            "    accuracy                           0.59       280\n",
            "   macro avg       0.77      0.37      0.31       280\n",
            "weighted avg       0.69      0.59      0.46       280\n",
            "\n"
          ]
        }
      ],
      "source": [
        "from sklearn.naive_bayes import MultinomialNB\n",
        "naive_bayes_model = MultinomialNB()\n",
        "naive_bayes_model.fit(train_features, train_labels)\n",
        "predictions = naive_bayes_model.predict(test_features)\n",
        "\n",
        "from sklearn.metrics import accuracy_score, classification_report, precision_score\n",
        "accuracy = accuracy_score(test_labels, predictions)\n",
        "print(\"Accuracy:\", accuracy)\n",
        "precision = precision_score(test_labels, predictions, average='weighted')\n",
        "print(\"Precision:\", precision)\n",
        "f1 = f1_score(test_labels, predictions, average='weighted')\n",
        "print(\"F1-Score:\", f1)\n",
        "classification_report = classification_report(test_labels, predictions)\n",
        "print(\"Classification Report:\\n\", classification_report)\n",
        "\n",
        "nb_accuracy = round(accuracy, 2)\n",
        "nb_precision = round(precision, 2)\n",
        "nb_f1 = round(f1, 2)"
      ]
    },
    {
      "cell_type": "markdown",
      "metadata": {
        "id": "mpMKQ9O792cl"
      },
      "source": [
        "##### Support Vector Machine"
      ]
    },
    {
      "cell_type": "code",
      "execution_count": null,
      "metadata": {
        "colab": {
          "base_uri": "https://localhost:8080/"
        },
        "id": "2bUfGCBW92cm",
        "outputId": "2f3c921c-76ee-463d-f502-3eb494f61726"
      },
      "outputs": [
        {
          "output_type": "stream",
          "name": "stdout",
          "text": [
            "Accuracy: 0.6107142857142858\n",
            "Precision: 0.6914015151515152\n",
            "F1-Score: 0.5062071901459549\n",
            "Classification Report:\n",
            "               precision    recall  f1-score   support\n",
            "\n",
            "    negative       0.80      0.11      0.20        72\n",
            "     neutral       0.60      0.99      0.75       159\n",
            "    positive       0.83      0.10      0.18        49\n",
            "\n",
            "    accuracy                           0.61       280\n",
            "   macro avg       0.74      0.40      0.37       280\n",
            "weighted avg       0.69      0.61      0.51       280\n",
            "\n"
          ]
        }
      ],
      "source": [
        "from sklearn import svm\n",
        "svm_model = svm.SVC()\n",
        "svm_model.fit(train_features, train_labels)\n",
        "predictions = svm_model.predict(test_features)\n",
        "\n",
        "from sklearn.metrics import accuracy_score, classification_report, precision_score\n",
        "accuracy = accuracy_score(test_labels, predictions)\n",
        "print(\"Accuracy:\", accuracy)\n",
        "precision = precision_score(test_labels, predictions, average='weighted')\n",
        "print(\"Precision:\", precision)\n",
        "f1 = f1_score(test_labels, predictions, average='weighted')\n",
        "print(\"F1-Score:\", f1)\n",
        "classification_report = classification_report(test_labels, predictions)\n",
        "print(\"Classification Report:\\n\", classification_report)\n",
        "\n",
        "svm_accuracy = round(accuracy, 2)\n",
        "svm_precision = round(precision, 2)\n",
        "svm_f1 = round(f1, 2)"
      ]
    },
    {
      "cell_type": "markdown",
      "metadata": {
        "id": "ol_rb8_o92ct"
      },
      "source": [
        "##### K-Nearest Neighbors (KN-N)"
      ]
    },
    {
      "cell_type": "code",
      "execution_count": null,
      "metadata": {
        "colab": {
          "base_uri": "https://localhost:8080/"
        },
        "id": "5biV7lQV92cu",
        "outputId": "92118d4c-d5c6-42f2-958e-c0927cce9932"
      },
      "outputs": [
        {
          "output_type": "stream",
          "name": "stdout",
          "text": [
            "Accuracy: 0.5928571428571429\n",
            "Precision: 0.6043714863743578\n",
            "F1-Score: 0.5622827092911286\n",
            "Classification Report:\n",
            "               precision    recall  f1-score   support\n",
            "\n",
            "    negative       0.46      0.44      0.45        72\n",
            "     neutral       0.63      0.79      0.70       159\n",
            "    positive       0.73      0.16      0.27        49\n",
            "\n",
            "    accuracy                           0.59       280\n",
            "   macro avg       0.61      0.47      0.47       280\n",
            "weighted avg       0.60      0.59      0.56       280\n",
            "\n"
          ]
        }
      ],
      "source": [
        "from sklearn.neighbors import KNeighborsClassifier\n",
        "knn = KNeighborsClassifier(n_neighbors=5)  # Misalnya, menggunakan 5 tetangga terdekat\n",
        "knn.fit(train_features, train_labels)\n",
        "predictions = knn.predict(test_features)\n",
        "\n",
        "from sklearn.metrics import accuracy_score, classification_report, precision_score\n",
        "accuracy = accuracy_score(test_labels, predictions)\n",
        "print(\"Accuracy:\", accuracy)\n",
        "precision = precision_score(test_labels, predictions, average='weighted')\n",
        "print(\"Precision:\", precision)\n",
        "f1 = f1_score(test_labels, predictions, average='weighted')\n",
        "print(\"F1-Score:\", f1)\n",
        "classification_report = classification_report(test_labels, predictions)\n",
        "print(\"Classification Report:\\n\", classification_report)\n",
        "\n",
        "knn_accuracy = round(accuracy, 2)\n",
        "knn_precision = round(precision, 2)\n",
        "knn_f1 = round(f1, 2)"
      ]
    },
    {
      "cell_type": "markdown",
      "metadata": {
        "id": "3BcuggL592cw"
      },
      "source": [
        "##### Gradient Boosting"
      ]
    },
    {
      "cell_type": "code",
      "execution_count": null,
      "metadata": {
        "colab": {
          "base_uri": "https://localhost:8080/"
        },
        "id": "oociAJkC92cy",
        "outputId": "29adac1d-da2d-41c0-f1fd-2edc04788c7b"
      },
      "outputs": [
        {
          "output_type": "stream",
          "name": "stdout",
          "text": [
            "Accuracy: 0.6392857142857142\n",
            "Precision: 0.6276938778848581\n",
            "F1-Score: 0.5835945591253118\n",
            "Classification Report:\n",
            "               precision    recall  f1-score   support\n",
            "\n",
            "    negative       0.61      0.26      0.37        72\n",
            "     neutral       0.65      0.94      0.77       159\n",
            "    positive       0.59      0.20      0.30        49\n",
            "\n",
            "    accuracy                           0.64       280\n",
            "   macro avg       0.62      0.47      0.48       280\n",
            "weighted avg       0.63      0.64      0.58       280\n",
            "\n"
          ]
        }
      ],
      "source": [
        "from sklearn.ensemble import GradientBoostingClassifier\n",
        "model = GradientBoostingClassifier(random_state=42)\n",
        "model.fit(train_features, train_labels)\n",
        "predictions = model.predict(test_features)\n",
        "\n",
        "from sklearn.metrics import accuracy_score, classification_report, precision_score\n",
        "accuracy = accuracy_score(test_labels, predictions)\n",
        "print(\"Accuracy:\", accuracy)\n",
        "precision = precision_score(test_labels, predictions, average='weighted')\n",
        "print(\"Precision:\", precision)\n",
        "f1 = f1_score(test_labels, predictions, average='weighted')\n",
        "print(\"F1-Score:\", f1)\n",
        "classification_report = classification_report(test_labels, predictions)\n",
        "print(\"Classification Report:\\n\", classification_report)\n",
        "\n",
        "gb_accuracy = round(accuracy, 2)\n",
        "gb_precision = round(precision, 2)\n",
        "gb_f1 = round(f1, 2)"
      ]
    },
    {
      "cell_type": "markdown",
      "metadata": {
        "id": "yWoSYAX292cz"
      },
      "source": [
        "#### Tabel akurasi dan presisi dari keempat model"
      ]
    },
    {
      "cell_type": "code",
      "execution_count": null,
      "metadata": {
        "colab": {
          "base_uri": "https://localhost:8080/",
          "height": 143
        },
        "id": "v_Jwhr-g92c0",
        "outputId": "0a0669c1-b06f-4a8c-ae10-11088cfe5a58"
      },
      "outputs": [
        {
          "output_type": "execute_result",
          "data": {
            "text/plain": [
              "        name    NB   SVM   KNN    GB\n",
              "0  accuracy   0.59  0.61  0.59  0.64\n",
              "1  precision  0.69  0.69  0.60  0.63\n",
              "2  f1-score   0.46  0.51  0.56  0.58"
            ],
            "text/html": [
              "\n",
              "  <div id=\"df-77a9929c-6f40-461b-a37b-5891dc011361\">\n",
              "    <div class=\"colab-df-container\">\n",
              "      <div>\n",
              "<style scoped>\n",
              "    .dataframe tbody tr th:only-of-type {\n",
              "        vertical-align: middle;\n",
              "    }\n",
              "\n",
              "    .dataframe tbody tr th {\n",
              "        vertical-align: top;\n",
              "    }\n",
              "\n",
              "    .dataframe thead th {\n",
              "        text-align: right;\n",
              "    }\n",
              "</style>\n",
              "<table border=\"1\" class=\"dataframe\">\n",
              "  <thead>\n",
              "    <tr style=\"text-align: right;\">\n",
              "      <th></th>\n",
              "      <th>name</th>\n",
              "      <th>NB</th>\n",
              "      <th>SVM</th>\n",
              "      <th>KNN</th>\n",
              "      <th>GB</th>\n",
              "    </tr>\n",
              "  </thead>\n",
              "  <tbody>\n",
              "    <tr>\n",
              "      <th>0</th>\n",
              "      <td>accuracy</td>\n",
              "      <td>0.59</td>\n",
              "      <td>0.61</td>\n",
              "      <td>0.59</td>\n",
              "      <td>0.64</td>\n",
              "    </tr>\n",
              "    <tr>\n",
              "      <th>1</th>\n",
              "      <td>precision</td>\n",
              "      <td>0.69</td>\n",
              "      <td>0.69</td>\n",
              "      <td>0.60</td>\n",
              "      <td>0.63</td>\n",
              "    </tr>\n",
              "    <tr>\n",
              "      <th>2</th>\n",
              "      <td>f1-score</td>\n",
              "      <td>0.46</td>\n",
              "      <td>0.51</td>\n",
              "      <td>0.56</td>\n",
              "      <td>0.58</td>\n",
              "    </tr>\n",
              "  </tbody>\n",
              "</table>\n",
              "</div>\n",
              "      <button class=\"colab-df-convert\" onclick=\"convertToInteractive('df-77a9929c-6f40-461b-a37b-5891dc011361')\"\n",
              "              title=\"Convert this dataframe to an interactive table.\"\n",
              "              style=\"display:none;\">\n",
              "        \n",
              "  <svg xmlns=\"http://www.w3.org/2000/svg\" height=\"24px\"viewBox=\"0 0 24 24\"\n",
              "       width=\"24px\">\n",
              "    <path d=\"M0 0h24v24H0V0z\" fill=\"none\"/>\n",
              "    <path d=\"M18.56 5.44l.94 2.06.94-2.06 2.06-.94-2.06-.94-.94-2.06-.94 2.06-2.06.94zm-11 1L8.5 8.5l.94-2.06 2.06-.94-2.06-.94L8.5 2.5l-.94 2.06-2.06.94zm10 10l.94 2.06.94-2.06 2.06-.94-2.06-.94-.94-2.06-.94 2.06-2.06.94z\"/><path d=\"M17.41 7.96l-1.37-1.37c-.4-.4-.92-.59-1.43-.59-.52 0-1.04.2-1.43.59L10.3 9.45l-7.72 7.72c-.78.78-.78 2.05 0 2.83L4 21.41c.39.39.9.59 1.41.59.51 0 1.02-.2 1.41-.59l7.78-7.78 2.81-2.81c.8-.78.8-2.07 0-2.86zM5.41 20L4 18.59l7.72-7.72 1.47 1.35L5.41 20z\"/>\n",
              "  </svg>\n",
              "      </button>\n",
              "      \n",
              "  <style>\n",
              "    .colab-df-container {\n",
              "      display:flex;\n",
              "      flex-wrap:wrap;\n",
              "      gap: 12px;\n",
              "    }\n",
              "\n",
              "    .colab-df-convert {\n",
              "      background-color: #E8F0FE;\n",
              "      border: none;\n",
              "      border-radius: 50%;\n",
              "      cursor: pointer;\n",
              "      display: none;\n",
              "      fill: #1967D2;\n",
              "      height: 32px;\n",
              "      padding: 0 0 0 0;\n",
              "      width: 32px;\n",
              "    }\n",
              "\n",
              "    .colab-df-convert:hover {\n",
              "      background-color: #E2EBFA;\n",
              "      box-shadow: 0px 1px 2px rgba(60, 64, 67, 0.3), 0px 1px 3px 1px rgba(60, 64, 67, 0.15);\n",
              "      fill: #174EA6;\n",
              "    }\n",
              "\n",
              "    [theme=dark] .colab-df-convert {\n",
              "      background-color: #3B4455;\n",
              "      fill: #D2E3FC;\n",
              "    }\n",
              "\n",
              "    [theme=dark] .colab-df-convert:hover {\n",
              "      background-color: #434B5C;\n",
              "      box-shadow: 0px 1px 3px 1px rgba(0, 0, 0, 0.15);\n",
              "      filter: drop-shadow(0px 1px 2px rgba(0, 0, 0, 0.3));\n",
              "      fill: #FFFFFF;\n",
              "    }\n",
              "  </style>\n",
              "\n",
              "      <script>\n",
              "        const buttonEl =\n",
              "          document.querySelector('#df-77a9929c-6f40-461b-a37b-5891dc011361 button.colab-df-convert');\n",
              "        buttonEl.style.display =\n",
              "          google.colab.kernel.accessAllowed ? 'block' : 'none';\n",
              "\n",
              "        async function convertToInteractive(key) {\n",
              "          const element = document.querySelector('#df-77a9929c-6f40-461b-a37b-5891dc011361');\n",
              "          const dataTable =\n",
              "            await google.colab.kernel.invokeFunction('convertToInteractive',\n",
              "                                                     [key], {});\n",
              "          if (!dataTable) return;\n",
              "\n",
              "          const docLinkHtml = 'Like what you see? Visit the ' +\n",
              "            '<a target=\"_blank\" href=https://colab.research.google.com/notebooks/data_table.ipynb>data table notebook</a>'\n",
              "            + ' to learn more about interactive tables.';\n",
              "          element.innerHTML = '';\n",
              "          dataTable['output_type'] = 'display_data';\n",
              "          await google.colab.output.renderOutput(dataTable, element);\n",
              "          const docLink = document.createElement('div');\n",
              "          docLink.innerHTML = docLinkHtml;\n",
              "          element.appendChild(docLink);\n",
              "        }\n",
              "      </script>\n",
              "    </div>\n",
              "  </div>\n",
              "  "
            ]
          },
          "metadata": {},
          "execution_count": 150
        }
      ],
      "source": [
        "tabel = {\n",
        "    'name': ['accuracy', 'precision', 'f1-score'],\n",
        "    'NB': [nb_accuracy, nb_precision, nb_f1],\n",
        "    'SVM': [svm_accuracy, svm_precision, svm_f1],\n",
        "    'KNN': [knn_accuracy, knn_precision, knn_f1],\n",
        "    'GB': [gb_accuracy, gb_precision, gb_f1]\n",
        "}\n",
        "df_tabel_low = pd.DataFrame(tabel, index=None)\n",
        "df_tabel_low"
      ]
    },
    {
      "cell_type": "markdown",
      "metadata": {
        "id": "34vFFxRh92c2"
      },
      "source": [
        "### 2) df_mid (kepercayaan sedang, data sedang)"
      ]
    },
    {
      "cell_type": "code",
      "execution_count": null,
      "metadata": {
        "colab": {
          "base_uri": "https://localhost:8080/"
        },
        "id": "dbSkdakL92c3",
        "outputId": "f2a11134-35ae-4119-be9f-4d7d3948a0a3"
      },
      "outputs": [
        {
          "output_type": "stream",
          "name": "stdout",
          "text": [
            "Panjang df_mid: 1012\n",
            "neutral     566\n",
            "negative    259\n",
            "positive    187\n",
            "Name: label, dtype: int64\n"
          ]
        }
      ],
      "source": [
        "print(f\"Panjang df_mid: {df_mid.shape[0]}\")\n",
        "print(df_mid['label'].value_counts())"
      ]
    },
    {
      "cell_type": "markdown",
      "metadata": {
        "id": "Bb16d4g692c5"
      },
      "source": [
        "#### Membagi data menjadi data latihan dan test"
      ]
    },
    {
      "cell_type": "code",
      "execution_count": null,
      "metadata": {
        "id": "S8iTjWEi92c6"
      },
      "outputs": [],
      "source": [
        "from sklearn.model_selection import StratifiedShuffleSplit\n",
        "from sklearn.feature_extraction.text import TfidfVectorizer\n",
        "\n",
        "# Menggunakan kolom 'label' sebagai sentimen\n",
        "labels = df_mid['label'].values\n",
        "\n",
        "# Inisialisasi objek TfidfVectorizer\n",
        "vectorizer = TfidfVectorizer()\n",
        "\n",
        "# Ekstraksi fitur menggunakan TF-IDF\n",
        "features = vectorizer.fit_transform(df_mid['text'])\n",
        "\n",
        "# Membuat objek StratifiedShuffleSplit\n",
        "stratified_split = StratifiedShuffleSplit(n_splits=1, test_size=0.2, random_state=42)\n",
        "\n",
        "# Melakukan pembagian dataset menjadi data latihan dan data pengujian\n",
        "for train_index, test_index in stratified_split.split(features, labels):\n",
        "    train_features = features[train_index]\n",
        "    train_labels = labels[train_index]\n",
        "    test_features = features[test_index]\n",
        "    test_labels = labels[test_index]\n"
      ]
    },
    {
      "cell_type": "markdown",
      "metadata": {
        "id": "CWUucvDc92c7"
      },
      "source": [
        "#### Pembuatan model"
      ]
    },
    {
      "cell_type": "markdown",
      "metadata": {
        "id": "uVROWaN392c8"
      },
      "source": [
        "##### Naive Bayes"
      ]
    },
    {
      "cell_type": "code",
      "execution_count": null,
      "metadata": {
        "colab": {
          "base_uri": "https://localhost:8080/"
        },
        "id": "Bmj3meAp92c-",
        "outputId": "1ef2047e-ac31-4825-97d7-d403616bfdec"
      },
      "outputs": [
        {
          "output_type": "stream",
          "name": "stdout",
          "text": [
            "Accuracy: 0.5960591133004927\n",
            "Precision: 0.6660098522167488\n",
            "F1-Score: 0.49604738447102986\n",
            "Classification Report:\n",
            "               precision    recall  f1-score   support\n",
            "\n",
            "    negative       0.75      0.12      0.20        52\n",
            "     neutral       0.58      0.97      0.73       114\n",
            "    positive       0.80      0.11      0.19        37\n",
            "\n",
            "    accuracy                           0.60       203\n",
            "   macro avg       0.71      0.40      0.37       203\n",
            "weighted avg       0.67      0.60      0.50       203\n",
            "\n"
          ]
        }
      ],
      "source": [
        "from sklearn.naive_bayes import MultinomialNB\n",
        "naive_bayes_model = MultinomialNB()\n",
        "naive_bayes_model.fit(train_features, train_labels)\n",
        "predictions = naive_bayes_model.predict(test_features)\n",
        "\n",
        "from sklearn.metrics import accuracy_score, classification_report, precision_score\n",
        "accuracy = accuracy_score(test_labels, predictions)\n",
        "print(\"Accuracy:\", accuracy)\n",
        "precision = precision_score(test_labels, predictions, average='weighted')\n",
        "print(\"Precision:\", precision)\n",
        "f1 = f1_score(test_labels, predictions, average='weighted')\n",
        "print(\"F1-Score:\", f1)\n",
        "classification_report = classification_report(test_labels, predictions)\n",
        "print(\"Classification Report:\\n\", classification_report)\n",
        "\n",
        "nb_accuracy = round(accuracy, 2)\n",
        "nb_precision = round(precision, 2)\n",
        "nb_f1 = round(f1, 2)"
      ]
    },
    {
      "cell_type": "markdown",
      "metadata": {
        "id": "ZNpZqJVx92dA"
      },
      "source": [
        "##### Support Vector Machine"
      ]
    },
    {
      "cell_type": "code",
      "execution_count": null,
      "metadata": {
        "colab": {
          "base_uri": "https://localhost:8080/"
        },
        "id": "etHQuoTa92dB",
        "outputId": "6abaec71-6d06-429c-f27c-b087215b6a1a"
      },
      "outputs": [
        {
          "output_type": "stream",
          "name": "stdout",
          "text": [
            "Accuracy: 0.5960591133004927\n",
            "Precision: 0.6795375073381148\n",
            "F1-Score: 0.48407728456102783\n",
            "Classification Report:\n",
            "               precision    recall  f1-score   support\n",
            "\n",
            "    negative       0.80      0.08      0.14        52\n",
            "     neutral       0.59      0.99      0.74       114\n",
            "    positive       0.80      0.11      0.19        37\n",
            "\n",
            "    accuracy                           0.60       203\n",
            "   macro avg       0.73      0.39      0.36       203\n",
            "weighted avg       0.68      0.60      0.48       203\n",
            "\n"
          ]
        }
      ],
      "source": [
        "from sklearn import svm\n",
        "svm_model = svm.SVC()\n",
        "svm_model.fit(train_features, train_labels)\n",
        "predictions = svm_model.predict(test_features)\n",
        "\n",
        "from sklearn.metrics import accuracy_score, classification_report, precision_score\n",
        "accuracy = accuracy_score(test_labels, predictions)\n",
        "print(\"Accuracy:\", accuracy)\n",
        "precision = precision_score(test_labels, predictions, average='weighted')\n",
        "print(\"Precision:\", precision)\n",
        "f1 = f1_score(test_labels, predictions, average='weighted')\n",
        "print(\"F1-Score:\", f1)\n",
        "classification_report = classification_report(test_labels, predictions)\n",
        "print(\"Classification Report:\\n\", classification_report)\n",
        "\n",
        "svm_accuracy = round(accuracy, 2)\n",
        "svm_precision = round(precision, 2)\n",
        "svm_f1 = round(f1, 2)"
      ]
    },
    {
      "cell_type": "markdown",
      "metadata": {
        "id": "B9MhbLtg92dD"
      },
      "source": [
        "##### K-Nearest Neighbors (KN-N)"
      ]
    },
    {
      "cell_type": "code",
      "execution_count": null,
      "metadata": {
        "colab": {
          "base_uri": "https://localhost:8080/"
        },
        "id": "cQuUeI2J92dF",
        "outputId": "442f48bb-437a-49e4-c75f-bd9a5c5d3c08"
      },
      "outputs": [
        {
          "output_type": "stream",
          "name": "stdout",
          "text": [
            "Accuracy: 0.6403940886699507\n",
            "Precision: 0.6357728481275965\n",
            "F1-Score: 0.6142208449369663\n",
            "Classification Report:\n",
            "               precision    recall  f1-score   support\n",
            "\n",
            "    negative       0.56      0.44      0.49        52\n",
            "     neutral       0.66      0.85      0.74       114\n",
            "    positive       0.67      0.27      0.38        37\n",
            "\n",
            "    accuracy                           0.64       203\n",
            "   macro avg       0.63      0.52      0.54       203\n",
            "weighted avg       0.64      0.64      0.61       203\n",
            "\n"
          ]
        }
      ],
      "source": [
        "from sklearn.neighbors import KNeighborsClassifier\n",
        "knn = KNeighborsClassifier(n_neighbors=5)  # Misalnya, menggunakan 5 tetangga terdekat\n",
        "knn.fit(train_features, train_labels)\n",
        "predictions = knn.predict(test_features)\n",
        "\n",
        "from sklearn.metrics import accuracy_score, classification_report, precision_score\n",
        "accuracy = accuracy_score(test_labels, predictions)\n",
        "print(\"Accuracy:\", accuracy)\n",
        "precision = precision_score(test_labels, predictions, average='weighted')\n",
        "print(\"Precision:\", precision)\n",
        "f1 = f1_score(test_labels, predictions, average='weighted')\n",
        "print(\"F1-Score:\", f1)\n",
        "classification_report = classification_report(test_labels, predictions)\n",
        "print(\"Classification Report:\\n\", classification_report)\n",
        "\n",
        "knn_accuracy = round(accuracy, 2)\n",
        "knn_precision = round(precision, 2)\n",
        "knn_f1 = round(f1, 2)"
      ]
    },
    {
      "cell_type": "markdown",
      "metadata": {
        "id": "spK25vaG92dH"
      },
      "source": [
        "##### Gradient Boosting"
      ]
    },
    {
      "cell_type": "code",
      "execution_count": null,
      "metadata": {
        "colab": {
          "base_uri": "https://localhost:8080/"
        },
        "id": "CIZZkWXj92dH",
        "outputId": "b1445136-00ab-427c-95f9-f5e5507c8d60"
      },
      "outputs": [
        {
          "output_type": "stream",
          "name": "stdout",
          "text": [
            "Accuracy: 0.6650246305418719\n",
            "Precision: 0.6853211322675384\n",
            "F1-Score: 0.6210994570600482\n",
            "Classification Report:\n",
            "               precision    recall  f1-score   support\n",
            "\n",
            "    negative       0.73      0.31      0.43        52\n",
            "     neutral       0.65      0.95      0.77       114\n",
            "    positive       0.73      0.30      0.42        37\n",
            "\n",
            "    accuracy                           0.67       203\n",
            "   macro avg       0.70      0.52      0.54       203\n",
            "weighted avg       0.69      0.67      0.62       203\n",
            "\n"
          ]
        }
      ],
      "source": [
        "from sklearn.ensemble import GradientBoostingClassifier\n",
        "model = GradientBoostingClassifier(random_state=42)\n",
        "model.fit(train_features, train_labels)\n",
        "predictions = model.predict(test_features)\n",
        "\n",
        "from sklearn.metrics import accuracy_score, classification_report, precision_score\n",
        "accuracy = accuracy_score(test_labels, predictions)\n",
        "print(\"Accuracy:\", accuracy)\n",
        "precision = precision_score(test_labels, predictions, average='weighted')\n",
        "print(\"Precision:\", precision)\n",
        "f1 = f1_score(test_labels, predictions, average='weighted')\n",
        "print(\"F1-Score:\", f1)\n",
        "classification_report = classification_report(test_labels, predictions)\n",
        "print(\"Classification Report:\\n\", classification_report)\n",
        "\n",
        "gb_accuracy = round(accuracy, 2)\n",
        "gb_precision = round(precision, 2)\n",
        "gb_f1 = round(f1, 2)"
      ]
    },
    {
      "cell_type": "markdown",
      "metadata": {
        "id": "bM-_5Y9O92dJ"
      },
      "source": [
        "#### Tabel akurasi dan presisi dari keempat model"
      ]
    },
    {
      "cell_type": "code",
      "execution_count": null,
      "metadata": {
        "colab": {
          "base_uri": "https://localhost:8080/",
          "height": 207
        },
        "id": "M33DQP9992dK",
        "outputId": "7f5315d8-90a5-4fb7-c991-9c5b4d73d520"
      },
      "outputs": [
        {
          "output_type": "execute_result",
          "data": {
            "text/plain": [
              "        name    NB   SVM   KNN    GB\n",
              "0  accuracy   0.60  0.60  0.64  0.67\n",
              "1  precision  0.67  0.68  0.64  0.69\n",
              "2  f1-score   0.50  0.48  0.61  0.62"
            ],
            "text/html": [
              "\n",
              "  <div id=\"df-38066523-d0d5-4ab3-86cd-6c654d3ad9fa\">\n",
              "    <div class=\"colab-df-container\">\n",
              "      <div>\n",
              "<style scoped>\n",
              "    .dataframe tbody tr th:only-of-type {\n",
              "        vertical-align: middle;\n",
              "    }\n",
              "\n",
              "    .dataframe tbody tr th {\n",
              "        vertical-align: top;\n",
              "    }\n",
              "\n",
              "    .dataframe thead th {\n",
              "        text-align: right;\n",
              "    }\n",
              "</style>\n",
              "<table border=\"1\" class=\"dataframe\">\n",
              "  <thead>\n",
              "    <tr style=\"text-align: right;\">\n",
              "      <th></th>\n",
              "      <th>name</th>\n",
              "      <th>NB</th>\n",
              "      <th>SVM</th>\n",
              "      <th>KNN</th>\n",
              "      <th>GB</th>\n",
              "    </tr>\n",
              "  </thead>\n",
              "  <tbody>\n",
              "    <tr>\n",
              "      <th>0</th>\n",
              "      <td>accuracy</td>\n",
              "      <td>0.60</td>\n",
              "      <td>0.60</td>\n",
              "      <td>0.64</td>\n",
              "      <td>0.67</td>\n",
              "    </tr>\n",
              "    <tr>\n",
              "      <th>1</th>\n",
              "      <td>precision</td>\n",
              "      <td>0.67</td>\n",
              "      <td>0.68</td>\n",
              "      <td>0.64</td>\n",
              "      <td>0.69</td>\n",
              "    </tr>\n",
              "    <tr>\n",
              "      <th>2</th>\n",
              "      <td>f1-score</td>\n",
              "      <td>0.50</td>\n",
              "      <td>0.48</td>\n",
              "      <td>0.61</td>\n",
              "      <td>0.62</td>\n",
              "    </tr>\n",
              "  </tbody>\n",
              "</table>\n",
              "</div>\n",
              "      <button class=\"colab-df-convert\" onclick=\"convertToInteractive('df-38066523-d0d5-4ab3-86cd-6c654d3ad9fa')\"\n",
              "              title=\"Convert this dataframe to an interactive table.\"\n",
              "              style=\"display:none;\">\n",
              "        \n",
              "  <svg xmlns=\"http://www.w3.org/2000/svg\" height=\"24px\"viewBox=\"0 0 24 24\"\n",
              "       width=\"24px\">\n",
              "    <path d=\"M0 0h24v24H0V0z\" fill=\"none\"/>\n",
              "    <path d=\"M18.56 5.44l.94 2.06.94-2.06 2.06-.94-2.06-.94-.94-2.06-.94 2.06-2.06.94zm-11 1L8.5 8.5l.94-2.06 2.06-.94-2.06-.94L8.5 2.5l-.94 2.06-2.06.94zm10 10l.94 2.06.94-2.06 2.06-.94-2.06-.94-.94-2.06-.94 2.06-2.06.94z\"/><path d=\"M17.41 7.96l-1.37-1.37c-.4-.4-.92-.59-1.43-.59-.52 0-1.04.2-1.43.59L10.3 9.45l-7.72 7.72c-.78.78-.78 2.05 0 2.83L4 21.41c.39.39.9.59 1.41.59.51 0 1.02-.2 1.41-.59l7.78-7.78 2.81-2.81c.8-.78.8-2.07 0-2.86zM5.41 20L4 18.59l7.72-7.72 1.47 1.35L5.41 20z\"/>\n",
              "  </svg>\n",
              "      </button>\n",
              "      \n",
              "  <style>\n",
              "    .colab-df-container {\n",
              "      display:flex;\n",
              "      flex-wrap:wrap;\n",
              "      gap: 12px;\n",
              "    }\n",
              "\n",
              "    .colab-df-convert {\n",
              "      background-color: #E8F0FE;\n",
              "      border: none;\n",
              "      border-radius: 50%;\n",
              "      cursor: pointer;\n",
              "      display: none;\n",
              "      fill: #1967D2;\n",
              "      height: 32px;\n",
              "      padding: 0 0 0 0;\n",
              "      width: 32px;\n",
              "    }\n",
              "\n",
              "    .colab-df-convert:hover {\n",
              "      background-color: #E2EBFA;\n",
              "      box-shadow: 0px 1px 2px rgba(60, 64, 67, 0.3), 0px 1px 3px 1px rgba(60, 64, 67, 0.15);\n",
              "      fill: #174EA6;\n",
              "    }\n",
              "\n",
              "    [theme=dark] .colab-df-convert {\n",
              "      background-color: #3B4455;\n",
              "      fill: #D2E3FC;\n",
              "    }\n",
              "\n",
              "    [theme=dark] .colab-df-convert:hover {\n",
              "      background-color: #434B5C;\n",
              "      box-shadow: 0px 1px 3px 1px rgba(0, 0, 0, 0.15);\n",
              "      filter: drop-shadow(0px 1px 2px rgba(0, 0, 0, 0.3));\n",
              "      fill: #FFFFFF;\n",
              "    }\n",
              "  </style>\n",
              "\n",
              "      <script>\n",
              "        const buttonEl =\n",
              "          document.querySelector('#df-38066523-d0d5-4ab3-86cd-6c654d3ad9fa button.colab-df-convert');\n",
              "        buttonEl.style.display =\n",
              "          google.colab.kernel.accessAllowed ? 'block' : 'none';\n",
              "\n",
              "        async function convertToInteractive(key) {\n",
              "          const element = document.querySelector('#df-38066523-d0d5-4ab3-86cd-6c654d3ad9fa');\n",
              "          const dataTable =\n",
              "            await google.colab.kernel.invokeFunction('convertToInteractive',\n",
              "                                                     [key], {});\n",
              "          if (!dataTable) return;\n",
              "\n",
              "          const docLinkHtml = 'Like what you see? Visit the ' +\n",
              "            '<a target=\"_blank\" href=https://colab.research.google.com/notebooks/data_table.ipynb>data table notebook</a>'\n",
              "            + ' to learn more about interactive tables.';\n",
              "          element.innerHTML = '';\n",
              "          dataTable['output_type'] = 'display_data';\n",
              "          await google.colab.output.renderOutput(dataTable, element);\n",
              "          const docLink = document.createElement('div');\n",
              "          docLink.innerHTML = docLinkHtml;\n",
              "          element.appendChild(docLink);\n",
              "        }\n",
              "      </script>\n",
              "    </div>\n",
              "  </div>\n",
              "  "
            ]
          },
          "metadata": {},
          "execution_count": 157
        }
      ],
      "source": [
        "tabel = {\n",
        "    'name': ['accuracy', 'precision', 'f1-score'],\n",
        "    'NB': [nb_accuracy, nb_precision, nb_f1],\n",
        "    'SVM': [svm_accuracy, svm_precision, svm_f1],\n",
        "    'KNN': [knn_accuracy, knn_precision, knn_f1],\n",
        "    'GB': [gb_accuracy, gb_precision, gb_f1]\n",
        "}\n",
        "df_tabel_mid = pd.DataFrame(tabel, index=None)\n",
        "df_tabel_mid"
      ]
    },
    {
      "cell_type": "markdown",
      "metadata": {
        "id": "k6u_u8NL92dM"
      },
      "source": [
        "### 3) df_high (kepercayaan tinggi, data sedikit)"
      ]
    },
    {
      "cell_type": "code",
      "execution_count": null,
      "metadata": {
        "colab": {
          "base_uri": "https://localhost:8080/"
        },
        "id": "1KVVd73S92dN",
        "outputId": "5d7cbe97-4a5c-4abb-cf93-3fa20132e6b7"
      },
      "outputs": [
        {
          "output_type": "stream",
          "name": "stdout",
          "text": [
            "Panjang df_high: 413\n",
            "neutral     200\n",
            "positive    116\n",
            "negative    97 \n",
            "Name: label, dtype: int64\n"
          ]
        }
      ],
      "source": [
        "print(f\"Panjang df_high: {df_high.shape[0]}\")\n",
        "print(df_high['label'].value_counts())"
      ]
    },
    {
      "cell_type": "markdown",
      "metadata": {
        "id": "E4BU99E492dP"
      },
      "source": [
        "#### Membagi data menjadi data latihan dan test"
      ]
    },
    {
      "cell_type": "code",
      "execution_count": null,
      "metadata": {
        "id": "8l6flh9J92dQ"
      },
      "outputs": [],
      "source": [
        "from sklearn.model_selection import StratifiedShuffleSplit\n",
        "from sklearn.feature_extraction.text import TfidfVectorizer\n",
        "\n",
        "# Menggunakan kolom 'label' sebagai sentimen\n",
        "labels = df_high['label'].values\n",
        "\n",
        "# Inisialisasi objek TfidfVectorizer\n",
        "vectorizer = TfidfVectorizer()\n",
        "\n",
        "# Ekstraksi fitur menggunakan TF-IDF\n",
        "features = vectorizer.fit_transform(df_high['text'])\n",
        "\n",
        "# Membuat objek StratifiedShuffleSplit\n",
        "stratified_split = StratifiedShuffleSplit(n_splits=1, test_size=0.2, random_state=42)\n",
        "\n",
        "# Melakukan pembagian dataset menjadi data latihan dan data pengujian\n",
        "for train_index, test_index in stratified_split.split(features, labels):\n",
        "    train_features = features[train_index]\n",
        "    train_labels = labels[train_index]\n",
        "    test_features = features[test_index]\n",
        "    test_labels = labels[test_index]\n"
      ]
    },
    {
      "cell_type": "markdown",
      "metadata": {
        "id": "sK1hLO7r92dR"
      },
      "source": [
        "#### Pembuatan model"
      ]
    },
    {
      "cell_type": "markdown",
      "metadata": {
        "id": "FYC6MqbK92dT"
      },
      "source": [
        "##### Naive Bayes"
      ]
    },
    {
      "cell_type": "code",
      "execution_count": null,
      "metadata": {
        "colab": {
          "base_uri": "https://localhost:8080/"
        },
        "id": "MtICz20N92dU",
        "outputId": "4acbbab8-daef-42d1-b4e2-ae3a34c06fa6"
      },
      "outputs": [
        {
          "output_type": "stream",
          "name": "stdout",
          "text": [
            "Accuracy: 0.6265060240963856\n",
            "Precision: 0.7588209982788295\n",
            "F1-Score: 0.5720241670494295\n",
            "Classification Report:\n",
            "               precision    recall  f1-score   support\n",
            "\n",
            "    negative       1.00      0.25      0.40        20\n",
            "     neutral       0.57      1.00      0.73        40\n",
            "    positive       0.88      0.30      0.45        23\n",
            "\n",
            "    accuracy                           0.63        83\n",
            "   macro avg       0.82      0.52      0.53        83\n",
            "weighted avg       0.76      0.63      0.57        83\n",
            "\n"
          ]
        }
      ],
      "source": [
        "from sklearn.naive_bayes import MultinomialNB\n",
        "naive_bayes_model = MultinomialNB()\n",
        "naive_bayes_model.fit(train_features, train_labels)\n",
        "predictions = naive_bayes_model.predict(test_features)\n",
        "\n",
        "from sklearn.metrics import accuracy_score, classification_report, precision_score\n",
        "accuracy = accuracy_score(test_labels, predictions)\n",
        "print(\"Accuracy:\", accuracy)\n",
        "precision = precision_score(test_labels, predictions, average='weighted')\n",
        "print(\"Precision:\", precision)\n",
        "f1 = f1_score(test_labels, predictions, average='weighted')\n",
        "print(\"F1-Score:\", f1)\n",
        "classification_report = classification_report(test_labels, predictions)\n",
        "print(\"Classification Report:\\n\", classification_report)\n",
        "\n",
        "nb_accuracy = round(accuracy, 2)\n",
        "nb_precision = round(precision, 2)\n",
        "nb_f1 = round(f1, 2)"
      ]
    },
    {
      "cell_type": "markdown",
      "metadata": {
        "id": "5rn6PuG492dV"
      },
      "source": [
        "##### Support Vector Machine"
      ]
    },
    {
      "cell_type": "code",
      "execution_count": null,
      "metadata": {
        "colab": {
          "base_uri": "https://localhost:8080/"
        },
        "id": "AwvmeWl892dW",
        "outputId": "5b416c29-fe81-4021-ed87-6fb80659f3ba"
      },
      "outputs": [
        {
          "output_type": "stream",
          "name": "stdout",
          "text": [
            "Accuracy: 0.5662650602409639\n",
            "Precision: 0.6556323139917791\n",
            "F1-Score: 0.48540819685050324\n",
            "Classification Report:\n",
            "               precision    recall  f1-score   support\n",
            "\n",
            "    negative       0.67      0.10      0.17        20\n",
            "     neutral       0.53      0.97      0.69        40\n",
            "    positive       0.86      0.26      0.40        23\n",
            "\n",
            "    accuracy                           0.57        83\n",
            "   macro avg       0.69      0.45      0.42        83\n",
            "weighted avg       0.66      0.57      0.49        83\n",
            "\n"
          ]
        }
      ],
      "source": [
        "from sklearn import svm\n",
        "svm_model = svm.SVC()\n",
        "svm_model.fit(train_features, train_labels)\n",
        "predictions = svm_model.predict(test_features)\n",
        "\n",
        "from sklearn.metrics import accuracy_score, classification_report, precision_score\n",
        "accuracy = accuracy_score(test_labels, predictions)\n",
        "print(\"Accuracy:\", accuracy)\n",
        "precision = precision_score(test_labels, predictions, average='weighted')\n",
        "print(\"Precision:\", precision)\n",
        "f1 = f1_score(test_labels, predictions, average='weighted')\n",
        "print(\"F1-Score:\", f1)\n",
        "classification_report = classification_report(test_labels, predictions)\n",
        "print(\"Classification Report:\\n\", classification_report)\n",
        "\n",
        "svm_accuracy = round(accuracy, 2)\n",
        "svm_precision = round(precision, 2)\n",
        "svm_f1 = round(f1, 2)"
      ]
    },
    {
      "cell_type": "markdown",
      "metadata": {
        "id": "1M4zw6X292dY"
      },
      "source": [
        "##### K-Nearest Neighbors (KN-N)"
      ]
    },
    {
      "cell_type": "code",
      "execution_count": null,
      "metadata": {
        "colab": {
          "base_uri": "https://localhost:8080/"
        },
        "id": "pdTQuFe692dZ",
        "outputId": "27a2a6d5-f2cc-4b21-f65b-de93627d161e"
      },
      "outputs": [
        {
          "output_type": "stream",
          "name": "stdout",
          "text": [
            "Accuracy: 0.6144578313253012\n",
            "Precision: 0.6687776748017712\n",
            "F1-Score: 0.6038144673555884\n",
            "Classification Report:\n",
            "               precision    recall  f1-score   support\n",
            "\n",
            "    negative       0.46      0.60      0.52        20\n",
            "     neutral       0.65      0.78      0.70        40\n",
            "    positive       0.89      0.35      0.50        23\n",
            "\n",
            "    accuracy                           0.61        83\n",
            "   macro avg       0.67      0.57      0.58        83\n",
            "weighted avg       0.67      0.61      0.60        83\n",
            "\n"
          ]
        }
      ],
      "source": [
        "from sklearn.neighbors import KNeighborsClassifier\n",
        "knn = KNeighborsClassifier(n_neighbors=5)  # Misalnya, menggunakan 5 tetangga terdekat\n",
        "knn.fit(train_features, train_labels)\n",
        "predictions = knn.predict(test_features)\n",
        "\n",
        "from sklearn.metrics import accuracy_score, classification_report, precision_score\n",
        "accuracy = accuracy_score(test_labels, predictions)\n",
        "print(\"Accuracy:\", accuracy)\n",
        "precision = precision_score(test_labels, predictions, average='weighted')\n",
        "print(\"Precision:\", precision)\n",
        "f1 = f1_score(test_labels, predictions, average='weighted')\n",
        "print(\"F1-Score:\", f1)\n",
        "classification_report = classification_report(test_labels, predictions)\n",
        "print(\"Classification Report:\\n\", classification_report)\n",
        "\n",
        "knn_accuracy = round(accuracy, 2)\n",
        "knn_precision = round(precision, 2)\n",
        "knn_f1 = round(f1, 2)"
      ]
    },
    {
      "cell_type": "markdown",
      "metadata": {
        "id": "HCUbgMqJ92da"
      },
      "source": [
        "##### Gradient Boosting"
      ]
    },
    {
      "cell_type": "code",
      "execution_count": null,
      "metadata": {
        "colab": {
          "base_uri": "https://localhost:8080/"
        },
        "id": "vBTBoH_M92db",
        "outputId": "2d794595-b248-439a-b659-7a3f1d20389c"
      },
      "outputs": [
        {
          "output_type": "stream",
          "name": "stdout",
          "text": [
            "Accuracy: 0.6506024096385542\n",
            "Precision: 0.7419374467567239\n",
            "F1-Score: 0.6136621959536258\n",
            "Classification Report:\n",
            "               precision    recall  f1-score   support\n",
            "\n",
            "    negative       0.88      0.35      0.50        20\n",
            "     neutral       0.59      0.97      0.74        40\n",
            "    positive       0.89      0.35      0.50        23\n",
            "\n",
            "    accuracy                           0.65        83\n",
            "   macro avg       0.78      0.56      0.58        83\n",
            "weighted avg       0.74      0.65      0.61        83\n",
            "\n"
          ]
        }
      ],
      "source": [
        "from sklearn.linear_model import LogisticRegression\n",
        "model = LogisticRegression()\n",
        "model.fit(train_features, train_labels)\n",
        "predictions = model.predict(test_features)\n",
        "\n",
        "from sklearn.metrics import accuracy_score, classification_report, precision_score\n",
        "accuracy = accuracy_score(test_labels, predictions)\n",
        "print(\"Accuracy:\", accuracy)\n",
        "precision = precision_score(test_labels, predictions, average='weighted')\n",
        "print(\"Precision:\", precision)\n",
        "f1 = f1_score(test_labels, predictions, average='weighted')\n",
        "print(\"F1-Score:\", f1)\n",
        "classification_report = classification_report(test_labels, predictions)\n",
        "print(\"Classification Report:\\n\", classification_report)\n",
        "\n",
        "gb_accuracy = round(accuracy, 2)\n",
        "gb_precision = round(precision, 2)\n",
        "gb_f1 = round(f1, 2)"
      ]
    },
    {
      "cell_type": "markdown",
      "metadata": {
        "id": "SFHvsIyS92dd"
      },
      "source": [
        "#### Tabel akurasi dan presisi dari keempat model"
      ]
    },
    {
      "cell_type": "code",
      "execution_count": null,
      "metadata": {
        "colab": {
          "base_uri": "https://localhost:8080/",
          "height": 207
        },
        "id": "7zZUjbij92de",
        "outputId": "ad335854-4c67-4420-a51b-103c77af0bc7"
      },
      "outputs": [
        {
          "output_type": "execute_result",
          "data": {
            "text/plain": [
              "        name    NB   SVM   KNN    GB\n",
              "0  accuracy   0.63  0.57  0.61  0.65\n",
              "1  precision  0.76  0.66  0.67  0.74\n",
              "2  f1-score   0.57  0.49  0.60  0.61"
            ],
            "text/html": [
              "\n",
              "  <div id=\"df-d4be9c4e-a47f-4848-a95c-24e18ad8cbd5\">\n",
              "    <div class=\"colab-df-container\">\n",
              "      <div>\n",
              "<style scoped>\n",
              "    .dataframe tbody tr th:only-of-type {\n",
              "        vertical-align: middle;\n",
              "    }\n",
              "\n",
              "    .dataframe tbody tr th {\n",
              "        vertical-align: top;\n",
              "    }\n",
              "\n",
              "    .dataframe thead th {\n",
              "        text-align: right;\n",
              "    }\n",
              "</style>\n",
              "<table border=\"1\" class=\"dataframe\">\n",
              "  <thead>\n",
              "    <tr style=\"text-align: right;\">\n",
              "      <th></th>\n",
              "      <th>name</th>\n",
              "      <th>NB</th>\n",
              "      <th>SVM</th>\n",
              "      <th>KNN</th>\n",
              "      <th>GB</th>\n",
              "    </tr>\n",
              "  </thead>\n",
              "  <tbody>\n",
              "    <tr>\n",
              "      <th>0</th>\n",
              "      <td>accuracy</td>\n",
              "      <td>0.63</td>\n",
              "      <td>0.57</td>\n",
              "      <td>0.61</td>\n",
              "      <td>0.65</td>\n",
              "    </tr>\n",
              "    <tr>\n",
              "      <th>1</th>\n",
              "      <td>precision</td>\n",
              "      <td>0.76</td>\n",
              "      <td>0.66</td>\n",
              "      <td>0.67</td>\n",
              "      <td>0.74</td>\n",
              "    </tr>\n",
              "    <tr>\n",
              "      <th>2</th>\n",
              "      <td>f1-score</td>\n",
              "      <td>0.57</td>\n",
              "      <td>0.49</td>\n",
              "      <td>0.60</td>\n",
              "      <td>0.61</td>\n",
              "    </tr>\n",
              "  </tbody>\n",
              "</table>\n",
              "</div>\n",
              "      <button class=\"colab-df-convert\" onclick=\"convertToInteractive('df-d4be9c4e-a47f-4848-a95c-24e18ad8cbd5')\"\n",
              "              title=\"Convert this dataframe to an interactive table.\"\n",
              "              style=\"display:none;\">\n",
              "        \n",
              "  <svg xmlns=\"http://www.w3.org/2000/svg\" height=\"24px\"viewBox=\"0 0 24 24\"\n",
              "       width=\"24px\">\n",
              "    <path d=\"M0 0h24v24H0V0z\" fill=\"none\"/>\n",
              "    <path d=\"M18.56 5.44l.94 2.06.94-2.06 2.06-.94-2.06-.94-.94-2.06-.94 2.06-2.06.94zm-11 1L8.5 8.5l.94-2.06 2.06-.94-2.06-.94L8.5 2.5l-.94 2.06-2.06.94zm10 10l.94 2.06.94-2.06 2.06-.94-2.06-.94-.94-2.06-.94 2.06-2.06.94z\"/><path d=\"M17.41 7.96l-1.37-1.37c-.4-.4-.92-.59-1.43-.59-.52 0-1.04.2-1.43.59L10.3 9.45l-7.72 7.72c-.78.78-.78 2.05 0 2.83L4 21.41c.39.39.9.59 1.41.59.51 0 1.02-.2 1.41-.59l7.78-7.78 2.81-2.81c.8-.78.8-2.07 0-2.86zM5.41 20L4 18.59l7.72-7.72 1.47 1.35L5.41 20z\"/>\n",
              "  </svg>\n",
              "      </button>\n",
              "      \n",
              "  <style>\n",
              "    .colab-df-container {\n",
              "      display:flex;\n",
              "      flex-wrap:wrap;\n",
              "      gap: 12px;\n",
              "    }\n",
              "\n",
              "    .colab-df-convert {\n",
              "      background-color: #E8F0FE;\n",
              "      border: none;\n",
              "      border-radius: 50%;\n",
              "      cursor: pointer;\n",
              "      display: none;\n",
              "      fill: #1967D2;\n",
              "      height: 32px;\n",
              "      padding: 0 0 0 0;\n",
              "      width: 32px;\n",
              "    }\n",
              "\n",
              "    .colab-df-convert:hover {\n",
              "      background-color: #E2EBFA;\n",
              "      box-shadow: 0px 1px 2px rgba(60, 64, 67, 0.3), 0px 1px 3px 1px rgba(60, 64, 67, 0.15);\n",
              "      fill: #174EA6;\n",
              "    }\n",
              "\n",
              "    [theme=dark] .colab-df-convert {\n",
              "      background-color: #3B4455;\n",
              "      fill: #D2E3FC;\n",
              "    }\n",
              "\n",
              "    [theme=dark] .colab-df-convert:hover {\n",
              "      background-color: #434B5C;\n",
              "      box-shadow: 0px 1px 3px 1px rgba(0, 0, 0, 0.15);\n",
              "      filter: drop-shadow(0px 1px 2px rgba(0, 0, 0, 0.3));\n",
              "      fill: #FFFFFF;\n",
              "    }\n",
              "  </style>\n",
              "\n",
              "      <script>\n",
              "        const buttonEl =\n",
              "          document.querySelector('#df-d4be9c4e-a47f-4848-a95c-24e18ad8cbd5 button.colab-df-convert');\n",
              "        buttonEl.style.display =\n",
              "          google.colab.kernel.accessAllowed ? 'block' : 'none';\n",
              "\n",
              "        async function convertToInteractive(key) {\n",
              "          const element = document.querySelector('#df-d4be9c4e-a47f-4848-a95c-24e18ad8cbd5');\n",
              "          const dataTable =\n",
              "            await google.colab.kernel.invokeFunction('convertToInteractive',\n",
              "                                                     [key], {});\n",
              "          if (!dataTable) return;\n",
              "\n",
              "          const docLinkHtml = 'Like what you see? Visit the ' +\n",
              "            '<a target=\"_blank\" href=https://colab.research.google.com/notebooks/data_table.ipynb>data table notebook</a>'\n",
              "            + ' to learn more about interactive tables.';\n",
              "          element.innerHTML = '';\n",
              "          dataTable['output_type'] = 'display_data';\n",
              "          await google.colab.output.renderOutput(dataTable, element);\n",
              "          const docLink = document.createElement('div');\n",
              "          docLink.innerHTML = docLinkHtml;\n",
              "          element.appendChild(docLink);\n",
              "        }\n",
              "      </script>\n",
              "    </div>\n",
              "  </div>\n",
              "  "
            ]
          },
          "metadata": {},
          "execution_count": 164
        }
      ],
      "source": [
        "tabel = {\n",
        "    'name': ['accuracy', 'precision', 'f1-score'],\n",
        "    'NB': [nb_accuracy, nb_precision, nb_f1],\n",
        "    'SVM': [svm_accuracy, svm_precision, svm_f1],\n",
        "    'KNN': [knn_accuracy, knn_precision, knn_f1],\n",
        "    'GB': [gb_accuracy, gb_precision, gb_f1]\n",
        "}\n",
        "df_tabel_high = pd.DataFrame(tabel, index=None)\n",
        "df_tabel_high"
      ]
    },
    {
      "cell_type": "markdown",
      "metadata": {
        "id": "L9YgQr5f92dg"
      },
      "source": [
        "### Ringkasan tabel uji akurasi dan presisi (tf-idf)"
      ]
    },
    {
      "cell_type": "code",
      "execution_count": null,
      "metadata": {
        "colab": {
          "base_uri": "https://localhost:8080/"
        },
        "id": "LF7H23Lo92dh",
        "outputId": "371c74a5-c0be-4f14-c70f-f5597a96e5f6"
      },
      "outputs": [
        {
          "output_type": "stream",
          "name": "stdout",
          "text": [
            "Metode TF-IDF\n",
            "Data df_low, panjang baris: 1399\n",
            "        name    NB   SVM   KNN    GB\n",
            "0  accuracy   0.59  0.61  0.59  0.64\n",
            "1  precision  0.69  0.69  0.60  0.63\n",
            "2  f1-score   0.46  0.51  0.56  0.58\n",
            "\n",
            "Data df_mid, panjang baris: 1012\n",
            "        name    NB   SVM   KNN    GB\n",
            "0  accuracy   0.60  0.60  0.64  0.67\n",
            "1  precision  0.67  0.68  0.64  0.69\n",
            "2  f1-score   0.50  0.48  0.61  0.62\n",
            "\n",
            "Data df_high, panjang baris: 413\n",
            "        name    NB   SVM   KNN    GB\n",
            "0  accuracy   0.63  0.57  0.61  0.65\n",
            "1  precision  0.76  0.66  0.67  0.74\n",
            "2  f1-score   0.57  0.49  0.60  0.61\n"
          ]
        }
      ],
      "source": [
        "print(\"Metode TF-IDF\")\n",
        "print(f\"Data df_low, panjang baris: {df_low.shape[0]}\")\n",
        "print(df_tabel_low)\n",
        "print()\n",
        "print(f\"Data df_mid, panjang baris: {df_mid.shape[0]}\")\n",
        "print(df_tabel_mid)\n",
        "print()\n",
        "print(f\"Data df_high, panjang baris: {df_high.shape[0]}\")\n",
        "print(df_tabel_high)"
      ]
    }
  ],
  "metadata": {
    "colab": {
      "toc_visible": true,
      "provenance": [],
      "collapsed_sections": [
        "dkZcgFEgZYaf"
      ],
      "include_colab_link": true
    },
    "kernelspec": {
      "display_name": "Python 3",
      "name": "python3"
    },
    "language_info": {
      "name": "python"
    }
  },
  "nbformat": 4,
  "nbformat_minor": 0
}